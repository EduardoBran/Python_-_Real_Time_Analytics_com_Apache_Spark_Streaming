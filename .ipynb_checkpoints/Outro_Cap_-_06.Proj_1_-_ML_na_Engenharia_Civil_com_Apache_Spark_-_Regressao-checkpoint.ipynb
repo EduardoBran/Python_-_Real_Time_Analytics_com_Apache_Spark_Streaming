{
 "cells": [
  {
   "cell_type": "markdown",
   "id": "dab04ab5",
   "metadata": {},
   "source": [
    "<span style=\"color: green; font-size: 40px; font-weight: bold;\">Projeto 1 (Regressão) </span>\n",
    "\n",
    "<br> <br>\n",
    "\n",
    "# Machine Learning na Engenharia Civil com Apache Spark\n",
    "\n",
    "<br>\n",
    "\n",
    "### Contexto\n",
    "\n",
    "Neste projeto, vamos explorar um cenário relevante na Engenharia Civil: a **previsão da resistência à compressão do concreto**. O concreto é o material mais utilizado na construção civil, e sua resistência é um dos principais fatores que determinam a qualidade e a durabilidade das estruturas. O objetivo é construir um modelo preditivo que, utilizando dados sobre os ingredientes do concreto e o tempo de cura, seja capaz de prever a força do concreto. Este projeto será desenvolvido utilizando técnicas de Machine Learning com o Spark MLlib no PySpark, abordando o processo completo desde a preparação dos dados até a otimização do modelo.\n",
    "\n",
    "<br>\n",
    "\n",
    "### Objetivo\n",
    "\n",
    "O objetivo deste projeto é **construir um modelo de Machine Learning capaz de prever a resistência à compressão do concreto** com base em uma série de características e ingredientes utilizados em sua fabricação. O modelo utilizará dados históricos de ensaios de concreto para fazer essa previsão.\n",
    "\n",
    "<br>\n",
    "\n",
    "### Pergunta de Negócio Principal\n",
    "\n",
    "> \"Como podemos prever a resistência à compressão do concreto utilizando dados sobre seus ingredientes e tempo de cura?\"\n",
    "\n",
    "<br>\n",
    "\n",
    "### Entregável\n",
    "\n",
    "O entregável deste projeto será um **modelo de Machine Learning treinado para prever a resistência à compressão do concreto**. O modelo será desenvolvido utilizando um conjunto de dados de ensaios de concreto, e será capaz de fazer previsões com base em novos dados de entrada. O processo incluirá a concepção do problema de negócio, preparação dos dados, desenvolvimento do modelo e otimização, e a entrega do modelo preditivo.\n",
    "\n",
    "<br>\n",
    "\n",
    "### Sobre o Conjunto de Dados\n",
    "\n",
    "Os dados utilizados neste projeto abrangem diversas características e ingredientes do concreto, como a quantidade de cimento, escória, cinza volante, água, aditivos químicos, agregados graúdos e miúdos, e o tempo de cura do concreto. **A variável \"Concrete compressive strength\" (csMPa) será a variável alvo (dependente)**, e as demais variáveis serão as features (variáveis preditoras ou independentes).\n",
    "\n",
    "Para este projeto, utilizaremos um conjunto de dados disponível publicamente que contém informações detalhadas sobre a composição do concreto e os resultados de ensaios de compressão.\n",
    "\n",
    "<br>\n",
    "<table border=\"2\">\n",
    "  <tr>\n",
    "    <th style=\"text-align: center; font-size: 16px;\">Nome da Coluna</th>\n",
    "    <th style=\"text-align: center; font-size: 16px;\">Tipo de Dado</th>\n",
    "    <th style=\"text-align: center; font-size: 16px;\">Descrição</th>\n",
    "  </tr>\n",
    "  <tr>\n",
    "    <td>cement</td>\n",
    "    <td>double</td>\n",
    "    <td>Quantidade de cimento (kg/m³).</td>\n",
    "  </tr>\n",
    "  <tr>\n",
    "    <td>slag</td>\n",
    "    <td>double</td>\n",
    "    <td>Quantidade de escória (kg/m³).</td>\n",
    "  </tr>\n",
    "  <tr>\n",
    "    <td>flyash</td>\n",
    "    <td>double</td>\n",
    "    <td>Quantidade de cinza volante (kg/m³).</td>\n",
    "  </tr>\n",
    "  <tr>\n",
    "    <td>water</td>\n",
    "    <td>double</td>\n",
    "    <td>Quantidade de água (kg/m³).</td>\n",
    "  </tr>\n",
    "  <tr>\n",
    "    <td>superplasticizer</td>\n",
    "    <td>double</td>\n",
    "    <td>Quantidade de aditivo superplastificante (kg/m³).</td>\n",
    "  </tr>\n",
    "  <tr>\n",
    "    <td>coarseaggregate</td>\n",
    "    <td>double</td>\n",
    "    <td>Quantidade de agregado graúdo (kg/m³).</td>\n",
    "  </tr>\n",
    "  <tr>\n",
    "    <td>fineaggregate</td>\n",
    "    <td>double</td>\n",
    "    <td>Quantidade de agregado miúdo (kg/m³).</td>\n",
    "  </tr>\n",
    "  <tr>\n",
    "    <td>age</td>\n",
    "    <td>integer</td>\n",
    "    <td>Idade do concreto em dias.</td>\n",
    "  </tr>\n",
    "  <tr>\n",
    "    <td>csMPa <b>(variável alvo)</b></td>\n",
    "    <td>double</td>\n",
    "    <td>Resistência à compressão do concreto (MPa).</td>\n",
    "  </tr>\n",
    "</table>\n",
    "\n",
    "<br><br><br>\n",
    "\n",
    "\n",
    "# Importando Pacotes"
   ]
  },
  {
   "cell_type": "code",
   "execution_count": 1,
   "id": "a6555b92",
   "metadata": {},
   "outputs": [
    {
     "ename": "RuntimeError",
     "evalue": "module was compiled against NumPy C-API version 0x10 (NumPy 1.23) but the running NumPy has C-API version 0xf. Check the section C-API incompatibility at the Troubleshooting ImportError section at https://numpy.org/devdocs/user/troubleshooting-importerror.html#c-api-incompatibility for indications on how to solve this problem.",
     "output_type": "error",
     "traceback": [
      "\u001b[0;31m---------------------------------------------------------------------------\u001b[0m",
      "\u001b[0;31mRuntimeError\u001b[0m                              Traceback (most recent call last)",
      "\u001b[0;31mRuntimeError\u001b[0m: module was compiled against NumPy C-API version 0x10 (NumPy 1.23) but the running NumPy has C-API version 0xf. Check the section C-API incompatibility at the Troubleshooting ImportError section at https://numpy.org/devdocs/user/troubleshooting-importerror.html#c-api-incompatibility for indications on how to solve this problem."
     ]
    }
   ],
   "source": [
    "# Importa o findspark e inicializa\n",
    "import findspark\n",
    "findspark.init()  # Configura automaticamente as variáveis de ambiente para PySpark\n",
    "\n",
    "## PySpark imports para processamento distribuído de dados\n",
    "import pyspark  # Biblioteca principal do Spark para processamento distribuído de dados\n",
    "from pyspark import SparkContext, SparkConf  # Conecta e configura o cluster do Spark\n",
    "from pyspark.sql import SparkSession, Row  # Entrada principal para DataFrames e manipulação de linhas\n",
    "from pyspark.sql.types import *  # Define tipos de dados para DataFrames\n",
    "from pyspark.sql.functions import *  # Funções para manipulação e transformação de dados\n",
    "\n",
    "## PySpark MLlib para Machine Learning\n",
    "from pyspark.ml.feature import VectorAssembler  # Combina várias colunas em uma coluna de vetores\n",
    "from pyspark.ml.feature import StringIndexer  # Converte categorias em índices numéricos\n",
    "from pyspark.ml.feature import MinMaxScaler  # Normaliza os dados em um intervalo específico\n",
    "from pyspark.ml.stat import Correlation  # Calcula correlações estatísticas entre variáveis\n",
    "from pyspark.ml.regression import *  # Modelos de regressão para previsões numéricas\n",
    "from pyspark.ml.evaluation import *  # Ferramentas para avaliar o desempenho de modelos\n",
    "from pyspark.ml.tuning import CrossValidator, ParamGridBuilder  # Validação cruzada e ajuste de hiperparâmetros\n",
    "\n",
    "## Bibliotecas adicionais para manipulação e visualização de dados\n",
    "import numpy as np  # Computação numérica e operações com arrays\n",
    "import pandas as pd  # Manipulação e análise de dados com DataFrames\n",
    "import seaborn as sns  # Visualização de dados estatísticos\n",
    "from matplotlib import pyplot as plt  # Criação de gráficos e visualizações"
   ]
  },
  {
   "cell_type": "markdown",
   "id": "c985b686",
   "metadata": {},
   "source": [
    "<br> <br>\n",
    "\n",
    "# <span style=\"color: green; font-size: 38px; font-weight: bold;\">Preparando o Ambiente Spark</span>"
   ]
  },
  {
   "cell_type": "code",
   "execution_count": 2,
   "id": "839eb69e",
   "metadata": {},
   "outputs": [
    {
     "name": "stderr",
     "output_type": "stream",
     "text": [
      "24/08/19 12:32:13 WARN Utils: Your hostname, eduardo-Inspiron-15-3520 resolves to a loopback address: 127.0.1.1; using 192.168.0.13 instead (on interface wlp0s20f3)\n",
      "24/08/19 12:32:13 WARN Utils: Set SPARK_LOCAL_IP if you need to bind to another address\n",
      "Setting default log level to \"WARN\".\n",
      "To adjust logging level use sc.setLogLevel(newLevel). For SparkR, use setLogLevel(newLevel).\n",
      "24/08/19 12:32:13 WARN NativeCodeLoader: Unable to load native-hadoop library for your platform... using builtin-java classes where applicable\n"
     ]
    },
    {
     "data": {
      "text/html": [
       "\n",
       "            <div>\n",
       "                <p><b>SparkSession - in-memory</b></p>\n",
       "                \n",
       "        <div>\n",
       "            <p><b>SparkContext</b></p>\n",
       "\n",
       "            <p><a href=\"http://192.168.0.13:4040\">Spark UI</a></p>\n",
       "\n",
       "            <dl>\n",
       "              <dt>Version</dt>\n",
       "                <dd><code>v3.5.1</code></dd>\n",
       "              <dt>Master</dt>\n",
       "                <dd><code>local[*]</code></dd>\n",
       "              <dt>AppName</dt>\n",
       "                <dd><code>Proj1</code></dd>\n",
       "            </dl>\n",
       "        </div>\n",
       "        \n",
       "            </div>\n",
       "        "
      ],
      "text/plain": [
       "<pyspark.sql.session.SparkSession at 0x7f02c1d46070>"
      ]
     },
     "execution_count": 2,
     "metadata": {},
     "output_type": "execute_result"
    }
   ],
   "source": [
    "# Definindo semente aleatória (seed) para reprodutibilidade do notebook\n",
    "rnd_seed = 23\n",
    "np.random.seed = rnd_seed\n",
    "np.random.set_state = rnd_seed\n",
    "\n",
    "# Se houver uma sessão Spark ativa, encerre-a\n",
    "if 'sc' in globals():\n",
    "    sc.stop()\n",
    "\n",
    "if 'spark' in globals():\n",
    "    spark.stop()\n",
    "\n",
    "\n",
    "# Criando o Spark Context\n",
    "conf = SparkConf().setAppName(\"Proj1\") \\\n",
    "                  .set(\"spark.ui.showConsoleProgress\", \"false\") \\\n",
    "                  .set(\"spark.executor.heartbeatInterval\", \"20s\") \\\n",
    "                  .set(\"spark.eventLog.enabled\", \"false\") \\\n",
    "                  .set(\"spark.sql.shuffle.partitions\", \"2\") \\\n",
    "                  .set(\"spark.sql.debug.maxToStringFields\", \"100\") \\\n",
    "                  .set(\"spark.executor.memory\", \"4g\") \\\n",
    "                  .set(\"spark.driver.memory\", \"4g\") \\\n",
    "                  .set(\"spark.driver.maxResultSize\", \"2g\")  # Configuração adicional para limitar o tamanho do resultado\n",
    "\n",
    "# Criar o Spark Context e a Spark Session\n",
    "sc = SparkContext(conf=conf)\n",
    "spark = SparkSession.builder.config(conf=conf).getOrCreate()\n",
    "\n",
    "# Ajustar o nível de log para ERROR\n",
    "sc.setLogLevel(\"ERROR\")\n",
    "\n",
    "# Configurar log4j para suprimir avisos (deixar como comentário e volta ao normal)\n",
    "log4j_logger = sc._jvm.org.apache.log4j\n",
    "log4j_logger.LogManager.getLogger(\"org\").setLevel(log4j_logger.Level.ERROR)\n",
    "log4j_logger.LogManager.getLogger(\"akka\").setLevel(log4j_logger.Level.ERROR)\n",
    "\n",
    "# Visualizar o objeto spark_session\n",
    "spark"
   ]
  },
  {
   "cell_type": "markdown",
   "id": "6bb531be",
   "metadata": {},
   "source": [
    "<br><br>\n",
    "\n",
    "# <span style=\"color: green; font-size: 38px; font-weight: bold;\">Carregando os Dados</span>\n",
    "\n",
    "- Os dados serão carregados a partir de um arquivo CSV e gerados como um DataFrame no Apache Spark. O DataFrame é uma estrutura de dados distribuída que permite o processamento paralelo em um cluster, otimizando a performance e facilitando operações avançadas como consultas SQL e manipulações de dados."
   ]
  },
  {
   "cell_type": "code",
   "execution_count": 3,
   "id": "74b266e7",
   "metadata": {},
   "outputs": [
    {
     "name": "stdout",
     "output_type": "stream",
     "text": [
      "\n",
      " <class 'pyspark.sql.dataframe.DataFrame'> \n",
      "\n",
      "1030 \n",
      "\n",
      "+------+-----+------+-----+----------------+---------------+-------------+---+-----+\n",
      "|cement| slag|flyash|water|superplasticizer|coarseaggregate|fineaggregate|age|csMPa|\n",
      "+------+-----+------+-----+----------------+---------------+-------------+---+-----+\n",
      "| 540.0|  0.0|   0.0|162.0|             2.5|         1040.0|        676.0| 28|79.99|\n",
      "| 540.0|  0.0|   0.0|162.0|             2.5|         1055.0|        676.0| 28|61.89|\n",
      "| 332.5|142.5|   0.0|228.0|             0.0|          932.0|        594.0|270|40.27|\n",
      "| 332.5|142.5|   0.0|228.0|             0.0|          932.0|        594.0|365|41.05|\n",
      "| 198.6|132.4|   0.0|192.0|             0.0|          978.4|        825.5|360| 44.3|\n",
      "| 266.0|114.0|   0.0|228.0|             0.0|          932.0|        670.0| 90|47.03|\n",
      "| 380.0| 95.0|   0.0|228.0|             0.0|          932.0|        594.0|365| 43.7|\n",
      "| 380.0| 95.0|   0.0|228.0|             0.0|          932.0|        594.0| 28|36.45|\n",
      "| 266.0|114.0|   0.0|228.0|             0.0|          932.0|        670.0| 28|45.85|\n",
      "| 475.0|  0.0|   0.0|228.0|             0.0|          932.0|        594.0| 28|39.29|\n",
      "+------+-----+------+-----+----------------+---------------+-------------+---+-----+\n",
      "only showing top 10 rows\n",
      "\n"
     ]
    }
   ],
   "source": [
    "# Carrega os dados\n",
    "dados = spark.read.csv('Projeto_1/dados/dataset.csv', inferSchema = True, header = True)\n",
    "\n",
    "print('\\n', type(dados), '\\n')\n",
    "\n",
    "# Número de registros\n",
    "print(dados.count(), '\\n')\n",
    "\n",
    "# Visualiza os dados no padrão do Spark DataFrame\n",
    "dados.show(10)"
   ]
  },
  {
   "cell_type": "code",
   "execution_count": 4,
   "id": "c24692bf",
   "metadata": {},
   "outputs": [
    {
     "data": {
      "text/html": [
       "<div>\n",
       "<style scoped>\n",
       "    .dataframe tbody tr th:only-of-type {\n",
       "        vertical-align: middle;\n",
       "    }\n",
       "\n",
       "    .dataframe tbody tr th {\n",
       "        vertical-align: top;\n",
       "    }\n",
       "\n",
       "    .dataframe thead th {\n",
       "        text-align: right;\n",
       "    }\n",
       "</style>\n",
       "<table border=\"1\" class=\"dataframe\">\n",
       "  <thead>\n",
       "    <tr style=\"text-align: right;\">\n",
       "      <th></th>\n",
       "      <th>cement</th>\n",
       "      <th>slag</th>\n",
       "      <th>flyash</th>\n",
       "      <th>water</th>\n",
       "      <th>superplasticizer</th>\n",
       "      <th>coarseaggregate</th>\n",
       "      <th>fineaggregate</th>\n",
       "      <th>age</th>\n",
       "      <th>csMPa</th>\n",
       "    </tr>\n",
       "  </thead>\n",
       "  <tbody>\n",
       "    <tr>\n",
       "      <th>0</th>\n",
       "      <td>540.0</td>\n",
       "      <td>0.0</td>\n",
       "      <td>0.0</td>\n",
       "      <td>162.0</td>\n",
       "      <td>2.5</td>\n",
       "      <td>1040.0</td>\n",
       "      <td>676.0</td>\n",
       "      <td>28</td>\n",
       "      <td>79.99</td>\n",
       "    </tr>\n",
       "    <tr>\n",
       "      <th>1</th>\n",
       "      <td>540.0</td>\n",
       "      <td>0.0</td>\n",
       "      <td>0.0</td>\n",
       "      <td>162.0</td>\n",
       "      <td>2.5</td>\n",
       "      <td>1055.0</td>\n",
       "      <td>676.0</td>\n",
       "      <td>28</td>\n",
       "      <td>61.89</td>\n",
       "    </tr>\n",
       "    <tr>\n",
       "      <th>2</th>\n",
       "      <td>332.5</td>\n",
       "      <td>142.5</td>\n",
       "      <td>0.0</td>\n",
       "      <td>228.0</td>\n",
       "      <td>0.0</td>\n",
       "      <td>932.0</td>\n",
       "      <td>594.0</td>\n",
       "      <td>270</td>\n",
       "      <td>40.27</td>\n",
       "    </tr>\n",
       "    <tr>\n",
       "      <th>3</th>\n",
       "      <td>332.5</td>\n",
       "      <td>142.5</td>\n",
       "      <td>0.0</td>\n",
       "      <td>228.0</td>\n",
       "      <td>0.0</td>\n",
       "      <td>932.0</td>\n",
       "      <td>594.0</td>\n",
       "      <td>365</td>\n",
       "      <td>41.05</td>\n",
       "    </tr>\n",
       "    <tr>\n",
       "      <th>4</th>\n",
       "      <td>198.6</td>\n",
       "      <td>132.4</td>\n",
       "      <td>0.0</td>\n",
       "      <td>192.0</td>\n",
       "      <td>0.0</td>\n",
       "      <td>978.4</td>\n",
       "      <td>825.5</td>\n",
       "      <td>360</td>\n",
       "      <td>44.30</td>\n",
       "    </tr>\n",
       "    <tr>\n",
       "      <th>5</th>\n",
       "      <td>266.0</td>\n",
       "      <td>114.0</td>\n",
       "      <td>0.0</td>\n",
       "      <td>228.0</td>\n",
       "      <td>0.0</td>\n",
       "      <td>932.0</td>\n",
       "      <td>670.0</td>\n",
       "      <td>90</td>\n",
       "      <td>47.03</td>\n",
       "    </tr>\n",
       "    <tr>\n",
       "      <th>6</th>\n",
       "      <td>380.0</td>\n",
       "      <td>95.0</td>\n",
       "      <td>0.0</td>\n",
       "      <td>228.0</td>\n",
       "      <td>0.0</td>\n",
       "      <td>932.0</td>\n",
       "      <td>594.0</td>\n",
       "      <td>365</td>\n",
       "      <td>43.70</td>\n",
       "    </tr>\n",
       "    <tr>\n",
       "      <th>7</th>\n",
       "      <td>380.0</td>\n",
       "      <td>95.0</td>\n",
       "      <td>0.0</td>\n",
       "      <td>228.0</td>\n",
       "      <td>0.0</td>\n",
       "      <td>932.0</td>\n",
       "      <td>594.0</td>\n",
       "      <td>28</td>\n",
       "      <td>36.45</td>\n",
       "    </tr>\n",
       "    <tr>\n",
       "      <th>8</th>\n",
       "      <td>266.0</td>\n",
       "      <td>114.0</td>\n",
       "      <td>0.0</td>\n",
       "      <td>228.0</td>\n",
       "      <td>0.0</td>\n",
       "      <td>932.0</td>\n",
       "      <td>670.0</td>\n",
       "      <td>28</td>\n",
       "      <td>45.85</td>\n",
       "    </tr>\n",
       "    <tr>\n",
       "      <th>9</th>\n",
       "      <td>475.0</td>\n",
       "      <td>0.0</td>\n",
       "      <td>0.0</td>\n",
       "      <td>228.0</td>\n",
       "      <td>0.0</td>\n",
       "      <td>932.0</td>\n",
       "      <td>594.0</td>\n",
       "      <td>28</td>\n",
       "      <td>39.29</td>\n",
       "    </tr>\n",
       "  </tbody>\n",
       "</table>\n",
       "</div>"
      ],
      "text/plain": [
       "   cement   slag  flyash  water  superplasticizer  coarseaggregate  \\\n",
       "0   540.0    0.0     0.0  162.0               2.5           1040.0   \n",
       "1   540.0    0.0     0.0  162.0               2.5           1055.0   \n",
       "2   332.5  142.5     0.0  228.0               0.0            932.0   \n",
       "3   332.5  142.5     0.0  228.0               0.0            932.0   \n",
       "4   198.6  132.4     0.0  192.0               0.0            978.4   \n",
       "5   266.0  114.0     0.0  228.0               0.0            932.0   \n",
       "6   380.0   95.0     0.0  228.0               0.0            932.0   \n",
       "7   380.0   95.0     0.0  228.0               0.0            932.0   \n",
       "8   266.0  114.0     0.0  228.0               0.0            932.0   \n",
       "9   475.0    0.0     0.0  228.0               0.0            932.0   \n",
       "\n",
       "   fineaggregate  age  csMPa  \n",
       "0          676.0   28  79.99  \n",
       "1          676.0   28  61.89  \n",
       "2          594.0  270  40.27  \n",
       "3          594.0  365  41.05  \n",
       "4          825.5  360  44.30  \n",
       "5          670.0   90  47.03  \n",
       "6          594.0  365  43.70  \n",
       "7          594.0   28  36.45  \n",
       "8          670.0   28  45.85  \n",
       "9          594.0   28  39.29  "
      ]
     },
     "execution_count": 4,
     "metadata": {},
     "output_type": "execute_result"
    }
   ],
   "source": [
    "# Visualiza as 10 primeiras linhas dos dados no formato do Pandas\n",
    "dados.limit(10).toPandas()"
   ]
  },
  {
   "cell_type": "code",
   "execution_count": 5,
   "id": "540a2853",
   "metadata": {},
   "outputs": [
    {
     "name": "stdout",
     "output_type": "stream",
     "text": [
      "root\n",
      " |-- cement: double (nullable = true)\n",
      " |-- slag: double (nullable = true)\n",
      " |-- flyash: double (nullable = true)\n",
      " |-- water: double (nullable = true)\n",
      " |-- superplasticizer: double (nullable = true)\n",
      " |-- coarseaggregate: double (nullable = true)\n",
      " |-- fineaggregate: double (nullable = true)\n",
      " |-- age: integer (nullable = true)\n",
      " |-- csMPa: double (nullable = true)\n",
      "\n"
     ]
    }
   ],
   "source": [
    "# Schema\n",
    "dados.printSchema()"
   ]
  },
  {
   "cell_type": "markdown",
   "id": "bc7328d1",
   "metadata": {},
   "source": [
    "<br><br><br>\n",
    "\n",
    "# <span style=\"color: green; font-size: 38px; font-weight: bold;\"> Análise Exploratória Inicial dos Dados </span>\n",
    "\n",
    "<br>\n",
    "\n",
    "### Criação de Função Para Análise Inicial"
   ]
  },
  {
   "cell_type": "code",
   "execution_count": 6,
   "id": "8ad17b08",
   "metadata": {},
   "outputs": [
    {
     "name": "stdout",
     "output_type": "stream",
     "text": [
      "A função foi criada com sucesso.\n"
     ]
    }
   ],
   "source": [
    "import pandas as pd\n",
    "import re\n",
    "\n",
    "def funcao_analise_inicial(df):\n",
    "    # Configurar Pandas para exibir todas as linhas\n",
    "    pd.set_option('display.max_rows', None)\n",
    "\n",
    "    # Informações do DataFrame\n",
    "    print('\\n\\n INFO \\n\\n')\n",
    "    df.info()\n",
    "    print('\\n\\n ------------------------------------------------------------------------------------------ \\n\\n')\n",
    "\n",
    "    # Verifica se há valores ausentes e duplicados\n",
    "    valores_ausentes = df.isna().sum().sum() > 0\n",
    "    valores_duplicados = df.duplicated().sum() > 0\n",
    "\n",
    "    # Nomes das variáveis com valores ausentes\n",
    "    variaveis_ausentes = df.columns[df.isna().any()].tolist()\n",
    "\n",
    "    # Número de linhas duplicadas\n",
    "    num_linhas_duplicadas = df.duplicated().sum()\n",
    "\n",
    "    # Porcentagem de linhas duplicadas\n",
    "    porcentagem_linhas_duplicadas = (num_linhas_duplicadas / len(df)) * 100\n",
    "\n",
    "    # Exibe o resultado sobre valores ausentes e duplicados\n",
    "    print(\"\\n\\nExistem valores ausentes:\", valores_ausentes)\n",
    "    if valores_ausentes:\n",
    "        print(\"\\nVariáveis com valores ausentes:\", variaveis_ausentes)\n",
    "    else:\n",
    "        print(\"\\nNenhuma variável possui valores ausentes.\")\n",
    "\n",
    "    print(\"\\n\\nExistem valores duplicados:\", valores_duplicados)\n",
    "    if valores_duplicados:\n",
    "        print(\"\\nNúmero de Linhas Duplicadas:\", num_linhas_duplicadas)\n",
    "        print(\"\\nPorcentagem de Linhas Duplicadas: {:.2f}%\".format(porcentagem_linhas_duplicadas))\n",
    "    else:\n",
    "        print(\"\\nNenhuma variável possui valores duplicados.\")\n",
    "    \n",
    "    # Verificação de caracteres especiais\n",
    "    caracteres_especiais = re.compile('[@_!#$%^&*<>()?/\\\\|}{~:]')   # nenhum caracter removido\n",
    "    colunas_com_caracteres_especiais = {}\n",
    "\n",
    "    for coluna in df.columns:\n",
    "        if df[coluna].dtype == 'object':  # Verifica apenas colunas de texto\n",
    "            contem_caracteres_especiais = df[coluna].apply(lambda x: bool(caracteres_especiais.search(x) if isinstance(x, str) else False)).any()\n",
    "            if contem_caracteres_especiais:\n",
    "                indices_com_caracteres_especiais = df[coluna][df[coluna].apply(lambda x: bool(caracteres_especiais.search(x) if isinstance(x, str) else False))].index.tolist()\n",
    "                colunas_com_caracteres_especiais[coluna] = indices_com_caracteres_especiais\n",
    "\n",
    "    # Exibe o resultado sobre caracteres especiais\n",
    "    print(\"\\n\\nExistem caracteres especiais nas colunas:\", bool(colunas_com_caracteres_especiais))\n",
    "    if colunas_com_caracteres_especiais:\n",
    "        print(\"\\nColunas com caracteres especiais e os índices:\")\n",
    "        for coluna, indices in colunas_com_caracteres_especiais.items():\n",
    "            print(f\"\\n Coluna [ {coluna} ]: Índices com caracteres especiais {indices}\")\n",
    "    else:\n",
    "        print(\"\\nNenhuma coluna possui caracteres especiais.\")\n",
    "\n",
    "print('A função foi criada com sucesso.')"
   ]
  },
  {
   "cell_type": "markdown",
   "id": "792be9a3",
   "metadata": {},
   "source": [
    "<br>\n",
    "\n",
    "### Transformando dados carregados Dataframe do Pandas (apenas para Análise Inicial)"
   ]
  },
  {
   "cell_type": "code",
   "execution_count": 7,
   "id": "6663acd7",
   "metadata": {},
   "outputs": [
    {
     "name": "stdout",
     "output_type": "stream",
     "text": [
      "\n",
      "\n",
      " INFO \n",
      "\n",
      "\n",
      "<class 'pandas.core.frame.DataFrame'>\n",
      "RangeIndex: 1030 entries, 0 to 1029\n",
      "Data columns (total 9 columns):\n",
      " #   Column            Non-Null Count  Dtype  \n",
      "---  ------            --------------  -----  \n",
      " 0   cement            1030 non-null   float64\n",
      " 1   slag              1030 non-null   float64\n",
      " 2   flyash            1030 non-null   float64\n",
      " 3   water             1030 non-null   float64\n",
      " 4   superplasticizer  1030 non-null   float64\n",
      " 5   coarseaggregate   1030 non-null   float64\n",
      " 6   fineaggregate     1030 non-null   float64\n",
      " 7   age               1030 non-null   int32  \n",
      " 8   csMPa             1030 non-null   float64\n",
      "dtypes: float64(8), int32(1)\n",
      "memory usage: 68.5 KB\n",
      "\n",
      "\n",
      " ------------------------------------------------------------------------------------------ \n",
      "\n",
      "\n",
      "\n",
      "\n",
      "Existem valores ausentes: False\n",
      "\n",
      "Nenhuma variável possui valores ausentes.\n",
      "\n",
      "\n",
      "Existem valores duplicados: True\n",
      "\n",
      "Número de Linhas Duplicadas: 25\n",
      "\n",
      "Porcentagem de Linhas Duplicadas: 2.43%\n",
      "\n",
      "\n",
      "Existem caracteres especiais nas colunas: False\n",
      "\n",
      "Nenhuma coluna possui caracteres especiais.\n"
     ]
    }
   ],
   "source": [
    "# Converte para Dataframe do Pandas\n",
    "df_pandas = dados.toPandas()\n",
    "\n",
    "# Chama a Função Analise inicial\n",
    "funcao_analise_inicial(df_pandas)"
   ]
  },
  {
   "cell_type": "markdown",
   "id": "7e7ce821",
   "metadata": {},
   "source": [
    "### Resumo\n",
    "\n",
    "- Não será necessário nenhum tratamento de **Limpeza de Dados**.\n",
    "\n",
    "<br> <br> <br>\n",
    "\n",
    "\n",
    "# <span style=\"color: green; font-size: 38px; font-weight: bold;\">Transformação dos Dados</span>\n",
    "\n",
    "<br>\n",
    "\n",
    "## Módulo de Automação da Preparação de Dados\n",
    "\n",
    "- O MLlib requer que todas as colunas de entrada do dataframe sejam vetorizadas.\n",
    "\n",
    "> Vamos criar uma função Python que irá **automatizar nosso trabalho de preparação dos dados**, incluindo a vetorização e todas as tarefas necessárias.\n",
    "\n",
    "<br>\n",
    "\n",
    "#### Criando Função"
   ]
  },
  {
   "cell_type": "code",
   "execution_count": 8,
   "id": "a0f58e4c",
   "metadata": {},
   "outputs": [
    {
     "name": "stdout",
     "output_type": "stream",
     "text": [
      "Função Criada com Sucesso\n"
     ]
    }
   ],
   "source": [
    "# Função de preparação dos dados\n",
    "def func_modulo_prep_dados(df,\n",
    "                           variaveis_entrada,\n",
    "                           variavel_saida,\n",
    "                           tratar_outliers = True,\n",
    "                           padronizar_dados = True):\n",
    "\n",
    "    # Vamos gerar um novo dataframe, renomeando o argumento que representa a variável de saída.\n",
    "    novo_df = df.withColumnRenamed(variavel_saida, 'label')\n",
    "    \n",
    "    # Convertemos a variável alvo para o tipo numérico como float (encoding)\n",
    "    if str(novo_df.schema['label'].dataType) != 'IntegerType':\n",
    "        novo_df = novo_df.withColumn(\"label\", novo_df[\"label\"].cast(FloatType()))\n",
    "    \n",
    "    # Listas de controle para as variáveis\n",
    "    variaveis_numericas = []\n",
    "    variaveis_categoricas = []\n",
    "    \n",
    "    # Se tiver variáveis de entrada do tipo string, convertemos para o tipo numérico\n",
    "    for coluna in variaveis_entrada:\n",
    "        \n",
    "        # Verifica se a variável é do tipo string\n",
    "        if str(novo_df.schema[coluna].dataType) == 'StringType':\n",
    "            \n",
    "            # Definimos a variável com um sufixo\n",
    "            novo_nome_coluna = coluna + \"_num\"\n",
    "            \n",
    "            # Adicionamos à lista de variáveis categóricas\n",
    "            variaveis_categoricas.append(novo_nome_coluna)\n",
    "            \n",
    "        else:\n",
    "            \n",
    "            # Se não for variável do tipo string, então é numérica e adicionamos na lista correspondente\n",
    "            variaveis_numericas.append(coluna)\n",
    "            \n",
    "            # Colocamos os dados no dataframe de variáveis indexadas\n",
    "            df_indexed = novo_df\n",
    "            \n",
    "    # Se o dataframe tiver dados do tipo string, aplicamos a indexação\n",
    "    # Verificamos se a lista de variáveis categóricas não está vazia\n",
    "    if len(variaveis_categoricas) != 0: \n",
    "        \n",
    "        # Loop pelas colunas\n",
    "        for coluna in novo_df:\n",
    "            \n",
    "            # Se a variável é do tipo string, criamos, treinamos e aplicamos o indexador\n",
    "            if str(novo_df.schema[coluna].dataType) == 'StringType':\n",
    "                \n",
    "                # Cria o indexador\n",
    "                indexer = StringIndexer(inputCol = coluna, outputCol = coluna + \"_num\") \n",
    "                \n",
    "                # Treina e aplica o indexador\n",
    "                df_indexed = indexer.fit(novo_df).transform(novo_df)\n",
    "    else:\n",
    "        \n",
    "        # Se não temos mais variáveis categóricas, então colocamos os dados no dataframe de variáveis indexadas\n",
    "        df_indexed = novo_df\n",
    "        \n",
    "    # Se for necessário tratar outliers, faremos isso agora\n",
    "    if tratar_outliers == True:\n",
    "        print(\"\\nAplicando o tratamento de outliers...\")\n",
    "        \n",
    "        # Dicionário\n",
    "        d = {}\n",
    "        \n",
    "        # Dicionário de quartis das variáveis do dataframe indexado (somente variáveis numéricas)\n",
    "        for col in variaveis_numericas: \n",
    "            d[col] = df_indexed.approxQuantile(col,[0.01, 0.99], 0.25) \n",
    "        \n",
    "        # Agora aplicamos transformação dependendo da distribuição de cada variável\n",
    "        for col in variaveis_numericas:\n",
    "            \n",
    "            # Extraímos a assimetria dos dados e usamos isso para tratar os outliers\n",
    "            skew = df_indexed.agg(skewness(df_indexed[col])).collect() \n",
    "            skew = skew[0][0]\n",
    "            \n",
    "            # Verificamos a assimetria e então aplicamos:\n",
    "            \n",
    "            # Transformação de log + 1 se a assimetria for positiva\n",
    "            if skew > 1:\n",
    "                indexed = df_indexed.withColumn(col, log(when(df[col] < d[col][0], d[col][0])\\\n",
    "                .when(df_indexed[col] > d[col][1], d[col][1])\\\n",
    "                .otherwise(df_indexed[col] ) + 1).alias(col))\n",
    "                print(\"\\nA variável \" + col + \" foi tratada para assimetria positiva (direita) com skew =\", skew)\n",
    "            \n",
    "            # Transformação exponencial se a assimetria for negativa\n",
    "            elif skew < -1:\n",
    "                indexed = df_indexed.withColumn(col, \\\n",
    "                exp(when(df[col] < d[col][0], d[col][0])\\\n",
    "                .when(df_indexed[col] > d[col][1], d[col][1])\\\n",
    "                .otherwise(df_indexed[col] )).alias(col))\n",
    "                print(\"\\nA variável \" + col + \" foi tratada para assimetria negativa (esquerda) com skew =\", skew)\n",
    "                \n",
    "            # Assimetria entre -1 e 1 não precisamos aplicar transformação aos dados\n",
    "\n",
    "    # Vetorização\n",
    "    \n",
    "    # Lista final de atributos\n",
    "    lista_atributos = variaveis_numericas + variaveis_categoricas\n",
    "    \n",
    "    # Cria o vetorizador para os atributos\n",
    "    vetorizador = VectorAssembler(inputCols = lista_atributos, outputCol = 'features')\n",
    "    \n",
    "    # Aplica o vetorizador ao conjunto de dados\n",
    "    dados_vetorizados = vetorizador.transform(df_indexed).select('features', 'label')\n",
    "    \n",
    "    # Se a flag padronizar_dados está como True, então padronizamos os dados colocando-os na mesma escala\n",
    "    if padronizar_dados == True:\n",
    "        print(\"\\nPadronizando o conjunto de dados para o intervalo de 0 a 1...\")\n",
    "        \n",
    "        # Cria o scaler\n",
    "        scaler = MinMaxScaler(inputCol = \"features\", outputCol = \"scaledFeatures\")\n",
    "\n",
    "        # Calcula o sumário de estatísticas e gera o padronizador\n",
    "        global scalerModel\n",
    "        scalerModel = scaler.fit(dados_vetorizados)\n",
    "\n",
    "        # Padroniza as variáveis para o intervalo [min, max]\n",
    "        dados_padronizados = scalerModel.transform(dados_vetorizados)\n",
    "        \n",
    "        # Gera os dados finais\n",
    "        dados_finais = dados_padronizados.select('label', 'scaledFeatures')\n",
    "        \n",
    "        # Renomeia as colunas (requerido pelo Spark)\n",
    "        dados_finais = dados_finais.withColumnRenamed('scaledFeatures', 'features')\n",
    "        \n",
    "        print(\"\\nProcesso Concluído!\")\n",
    "\n",
    "    # Se a flag está como False, então não padronizamos os dados\n",
    "    else:\n",
    "        print(\"\\nOs dados não serão padronizados pois a flag padronizar_dados está com o valor False.\")\n",
    "        dados_finais = dados_vetorizados\n",
    "    \n",
    "    return dados_finais\n",
    "\n",
    "print('Função Criada com Sucesso')"
   ]
  },
  {
   "cell_type": "markdown",
   "id": "bc134e44",
   "metadata": {},
   "source": [
    "<br>\n",
    "\n",
    "#### Preparando os Dados Antes de Aplicar a Função de Preparação dos Dados"
   ]
  },
  {
   "cell_type": "code",
   "execution_count": 9,
   "id": "48ed37ce",
   "metadata": {},
   "outputs": [],
   "source": [
    "# Seleciona todas as colunas, exceto a última, como variáveis de entrada\n",
    "variaveis_entrada = dados.columns[:-1]  \n",
    "\n",
    "# Define a última coluna como a variável alvo (label)\n",
    "variavel_saida = dados.columns[-1]"
   ]
  },
  {
   "cell_type": "markdown",
   "id": "a059a44b",
   "metadata": {},
   "source": [
    "<br> \n",
    "\n",
    "#### Aplica a Função"
   ]
  },
  {
   "cell_type": "code",
   "execution_count": 10,
   "id": "bb449ab4",
   "metadata": {},
   "outputs": [
    {
     "name": "stdout",
     "output_type": "stream",
     "text": [
      "\n",
      "Aplicando o tratamento de outliers...\n",
      "\n",
      "A variável age foi tratada para assimetria positiva (direita) com skew = 3.2644145354168086\n",
      "\n",
      "Padronizando o conjunto de dados para o intervalo de 0 a 1...\n",
      "\n",
      "Processo Concluído!\n",
      "\n",
      "\n",
      "\n"
     ]
    }
   ],
   "source": [
    "# Aplicando a Função\n",
    "dados_finais = func_modulo_prep_dados(dados, variaveis_entrada, variavel_saida)\n",
    "\n",
    "print('\\n\\n')"
   ]
  },
  {
   "cell_type": "code",
   "execution_count": 11,
   "id": "4d5eb17e",
   "metadata": {},
   "outputs": [
    {
     "name": "stdout",
     "output_type": "stream",
     "text": [
      "+-----+------------------------------------------------------------------------------------------------------------------------------+\n",
      "|label|features                                                                                                                      |\n",
      "+-----+------------------------------------------------------------------------------------------------------------------------------+\n",
      "|79.99|[1.0,0.0,0.0,0.3210862619808307,0.07763975155279502,0.6947674418604651,0.20572002007024587,0.07417582417582418]               |\n",
      "|61.89|[1.0,0.0,0.0,0.3210862619808307,0.07763975155279502,0.7383720930232558,0.20572002007024587,0.07417582417582418]               |\n",
      "|40.27|[0.526255707762557,0.3964941569282137,0.0,0.8482428115015974,0.0,0.3808139534883721,0.0,0.739010989010989]                    |\n",
      "|41.05|[0.526255707762557,0.3964941569282137,0.0,0.8482428115015974,0.0,0.3808139534883721,0.0,1.0]                                  |\n",
      "|44.3 |[0.22054794520547943,0.3683917640511965,0.0,0.560702875399361,0.0,0.5156976744186046,0.58078273958856,0.9862637362637363]     |\n",
      "|47.03|[0.3744292237442922,0.31719532554257096,0.0,0.8482428115015974,0.0,0.3808139534883721,0.19066733567486202,0.24450549450549453]|\n",
      "|43.7 |[0.634703196347032,0.2643294379521425,0.0,0.8482428115015974,0.0,0.3808139534883721,0.0,1.0]                                  |\n",
      "|36.45|[0.634703196347032,0.2643294379521425,0.0,0.8482428115015974,0.0,0.3808139534883721,0.0,0.07417582417582418]                  |\n",
      "|45.85|[0.3744292237442922,0.31719532554257096,0.0,0.8482428115015974,0.0,0.3808139534883721,0.19066733567486202,0.07417582417582418]|\n",
      "|39.29|(8,[0,3,5,7],[0.8515981735159817,0.8482428115015974,0.3808139534883721,0.07417582417582418])                                  |\n",
      "+-----+------------------------------------------------------------------------------------------------------------------------------+\n",
      "only showing top 10 rows\n",
      "\n"
     ]
    }
   ],
   "source": [
    "# Visualiza 10 primeiras linhas do dataset final\n",
    "dados_finais.show(10, truncate = False)"
   ]
  },
  {
   "cell_type": "markdown",
   "id": "3cd96d04",
   "metadata": {},
   "source": [
    "## Resumo do que foi feito:\n",
    "\n",
    "- **Remoção de valores ausentes**: Elimina linhas com dados ausentes, se houver.\n",
    "- **Renomeação da variável alvo**: A coluna alvo é renomeada para label para facilitar o uso em modelos de ML.\n",
    "- **Conversão de tipos**: A variável alvo é convertida para tipo float, se necessário.\n",
    "- **Classificação de variáveis**: As colunas de entrada são verificadas; se forem do tipo string, são categorizadas e tratadas.\n",
    "- **Indexação de variáveis categóricas**: Se houver variáveis do tipo string, elas são convertidas para índices numéricos.\n",
    "- **Tratamento de outliers**: Se a opção tratar_outliers=True for escolhida na chamada da função, outliers são ajustados usando transformações logarítmicas ou exponenciais, conforme a distribuição dos dados.\n",
    "- **Vetorização das variáveis**: As colunas de entrada são combinadas em uma única coluna de vetores chamada features.\n",
    "- **Padronização**: Se a opção padronizar_dados=True for escolhida na chamada da função, as features são escaladas para o intervalo de 0 a 1 e a **variável global scalerModel poderá ser usado fora do escopo da função**.\n",
    "<br>\n",
    "\n",
    "- **Retorno do DataFrame final**: O DataFrame final, com as colunas features e label, é preparado para modelagem."
   ]
  },
  {
   "cell_type": "markdown",
   "id": "957f1c66",
   "metadata": {},
   "source": [
    "<br><br><br>\n",
    "\n",
    "# Verificando Correlação\n",
    "\n",
    "Vamos nos certificar de que não temos multicolinearidade antes de prosseguirmos. Lembre-se das seguintes diretrizes para o Coeficiente de Correlação de Pearson:\n",
    "\n",
    "- .00-.19 (correlação muito fraca)\n",
    "- .20-.39 (correlação fraca)\n",
    "- .40-.59 (correlação moderada)\n",
    "- .60-.79 (correlação forte)\n",
    "- .80-1.0 (correlação muito forte)\n",
    "\n",
    "<br>\n",
    "\n",
    "#### Visualizando Através de Números"
   ]
  },
  {
   "cell_type": "code",
   "execution_count": 12,
   "id": "efbbffda",
   "metadata": {},
   "outputs": [
    {
     "name": "stdout",
     "output_type": "stream",
     "text": [
      "Correlação da variável label com feature_0: 0.08194602387182176\n",
      "Correlação da variável label com feature_1: -0.044246019304454175\n",
      "Correlação da variável label com feature_2: -0.15437051606792915\n",
      "Correlação da variável label com feature_3: 0.27761822152100296\n",
      "Correlação da variável label com feature_4: -0.19270002804347258\n",
      "Correlação da variável label com feature_5: -0.0030158803467436645\n",
      "Correlação da variável label com feature_6: -0.15609470264758615\n",
      "Correlação da variável label com feature_7: 1.0\n"
     ]
    }
   ],
   "source": [
    "# Extrai a correlação entre as features\n",
    "coeficientes_corr = Correlation.corr(dados_finais, 'features', 'pearson').collect()[0][0]\n",
    "\n",
    "# Converte o resultado em array\n",
    "array_corr = coeficientes_corr.toArray()\n",
    "\n",
    "# Lista a correlação entre cada atributo (feature) e a variável alvo (label)\n",
    "for i in range(len(array_corr)):\n",
    "    correlacao = array_corr[i][-1]  # Última coluna é a correlação com a variável alvo (label)\n",
    "    print(f'Correlação da variável label com feature_{i}: {correlacao}')"
   ]
  },
  {
   "cell_type": "markdown",
   "id": "aec1ae90",
   "metadata": {},
   "source": [
    "<br>\n",
    "\n",
    "#### Visualizando Através de Gráficos"
   ]
  },
  {
   "cell_type": "code",
   "execution_count": 13,
   "id": "a8f539f3",
   "metadata": {},
   "outputs": [
    {
     "data": {
      "image/png": "[encoded data removed]",
      "text/plain": [
       "<Figure size 864x576 with 1 Axes>"
      ]
     },
     "metadata": {
      "needs_background": "light"
     },
     "output_type": "display_data"
    },
    {
     "data": {
      "image/png": "[encoded data removed]",
      "text/plain": [
       "<Figure size 1152x864 with 2 Axes>"
      ]
     },
     "metadata": {
      "needs_background": "light"
     },
     "output_type": "display_data"
    }
   ],
   "source": [
    "# Extrai a correlação entre as features\n",
    "coeficientes_corr = Correlation.corr(dados_finais, 'features', 'pearson').collect()[0][0]\n",
    "\n",
    "# Converte o resultado em array\n",
    "array_corr = coeficientes_corr.toArray()\n",
    "\n",
    "# Dicionário para armazenar as correlações\n",
    "correlations = {}\n",
    "\n",
    "# Lista a correlação entre cada atributo (feature) e a variável alvo (label)\n",
    "for i in range(len(array_corr)):\n",
    "    correlations[f'feature_{i}'] = array_corr[i][-1]  # Última coluna é a correlação com a variável alvo (label)\n",
    "\n",
    "# Convertendo o dicionário de correlações para um DataFrame Pandas\n",
    "corr_df = pd.DataFrame(list(correlations.items()), columns=['Variável', 'Correlação'])\n",
    "\n",
    "# Ordenando o DataFrame por correlação absoluta para melhor visualização\n",
    "corr_df['Abs_Correlação'] = corr_df['Correlação'].abs()\n",
    "corr_df_barras = corr_df.sort_values(by='Abs_Correlação', ascending=False).drop(columns='Abs_Correlação')\n",
    "\n",
    "# Criando o gráfico de barras\n",
    "plt.figure(figsize=(12, 8))\n",
    "sns.barplot(x=corr_df_barras['Correlação'], y=corr_df_barras['Variável'], palette='coolwarm')\n",
    "plt.xlabel('Correlação')\n",
    "plt.ylabel('Variável')\n",
    "plt.title('Correlação entre Resultado e Variáveis Preditivas')\n",
    "plt.grid(True)\n",
    "plt.show()\n",
    "\n",
    "# Criação do heatmap da matriz de correlação\n",
    "corr_matrix = corr_df.set_index('Variável').T\n",
    "\n",
    "plt.figure(figsize=(16, 12))\n",
    "heatmap = sns.heatmap(corr_matrix, annot=True, fmt=\".2f\", cmap='coolwarm', vmin=-1, vmax=1, cbar=True, square=True, annot_kws={\"size\": 10})\n",
    "heatmap.set_xticklabels(heatmap.get_xticklabels(), rotation=45, horizontalalignment='right', fontsize=12)\n",
    "heatmap.set_yticklabels(heatmap.get_yticklabels(), rotation=0, fontsize=12)\n",
    "plt.title('Mapa de Calor das Correlações', fontsize=18)\n",
    "plt.tight_layout()\n",
    "plt.show()"
   ]
  },
  {
   "cell_type": "markdown",
   "id": "3afb56ad",
   "metadata": {},
   "source": [
    "<br><br><br><br>\n",
    "\n",
    "# Pré-Processamento de Dados Para Construção de Modelos de Machine Learning\n",
    "\n",
    "<br><br>\n",
    "\n",
    "## Dividindo os dados em Dados de Treino e Dados de Teste\n",
    "- Nós **treinamos** o modelo com **dados de treino** e **avaliamos** o modelo com **dados de teste**.\n",
    "\n",
    "<br>"
   ]
  },
  {
   "cell_type": "code",
   "execution_count": 14,
   "id": "aeaa6e17",
   "metadata": {},
   "outputs": [
    {
     "name": "stdout",
     "output_type": "stream",
     "text": [
      "711\n",
      "319\n"
     ]
    }
   ],
   "source": [
    "# Dados de Treino e de Teste\n",
    "(dados_treino, dados_teste) = dados_finais.randomSplit([0.7, 0.3])\n",
    "\n",
    "print(dados_treino.count())\n",
    "print(dados_teste.count())"
   ]
  },
  {
   "cell_type": "markdown",
   "id": "d75cb202",
   "metadata": {},
   "source": [
    "<br><br><br><br><br>\n",
    "\n",
    "<span style=\"color: green; font-size: 40px; font-weight: bold;\">Construindo Modelos de Machine Learning</span>\n",
    "\n",
    "<br>\n",
    "\n",
    "#### Importante\n",
    "\n",
    "- Vamos criar uma **função para automatizar o uso de diversos algoritmos**.\n",
    "\n",
    "> Nossa função irá criar, treinar e avaliar cada um deles com diferentes combinações de hiperparâmetros. E então escolheremos o modelo de melhor performance.\n",
    "\n",
    "<br><br><br>\n",
    "\n",
    "## Criando Dataframe para salvar métricas de cada Modelo"
   ]
  },
  {
   "cell_type": "code",
   "execution_count": 15,
   "id": "badd4e48",
   "metadata": {},
   "outputs": [],
   "source": [
    "# Cria um dataframe para receber as métricas de cada modelo\n",
    "df_modelos = pd.DataFrame()"
   ]
  },
  {
   "cell_type": "markdown",
   "id": "f517d06e",
   "metadata": {},
   "source": [
    "Não será usado nesse projeto.\n",
    "\n",
    "<br><br>\n",
    "\n",
    "# Módulo de AutoML (Automated Machine Learning)\n",
    "\n",
    "<br>\n",
    "\n",
    "#### Criando a Função"
   ]
  },
  {
   "cell_type": "code",
   "execution_count": 16,
   "id": "cef4280d",
   "metadata": {},
   "outputs": [
    {
     "name": "stdout",
     "output_type": "stream",
     "text": [
      "\n",
      "Função criada com sucesso.\n",
      "\n",
      "\n"
     ]
    }
   ],
   "source": [
    "# Módulo de Machine Learning\n",
    "def func_modulo_ml(algoritmo_regressao):\n",
    "    \n",
    "    # Função para obter o tipo do algoritmo de regressão e criar a instância do objeto\n",
    "    def func_tipo_algo(algo_regressao):\n",
    "        algoritmo = algo_regressao\n",
    "        tipo_algo = type(algoritmo).__name__\n",
    "        return tipo_algo\n",
    "    \n",
    "    # Aplica a função anterior para identificar o tipo do algoritmo\n",
    "    tipo_algo = func_tipo_algo(algoritmo_regressao)\n",
    "    \n",
    "    # Lista de colunas para o dataframe de resumo\n",
    "    columns = ['Nome_do_Algoritmo', 'Versão', 'Tipo_de_Dados', 'Tipo_de_Modelo', 'Resultado_RMSE', 'Resultado_R2']\n",
    "    \n",
    "    # Inicializa uma lista para armazenar os resultados\n",
    "    resultados = []\n",
    "    \n",
    "    # Se o algoritmo for Regressão Linear, entramos neste bloco if\n",
    "    if tipo_algo == \"LinearRegression\":\n",
    "        \n",
    "        # Treina a primeira versão do modelo sem validação cruzada\n",
    "        modelo = algoritmo_regressao.fit(dados_treino)\n",
    "        \n",
    "        # Avalia o modelo com dados de teste\n",
    "        resultado_teste = modelo.evaluate(dados_teste)\n",
    "        \n",
    "        # Imprime as métricas de erro do modelo com dados de teste\n",
    "        print('\\033[1m' + \"Modelo de Regressão Linear Sem Validação Cruzada:\" + '\\033[0m')\n",
    "        print(\"RMSE em Teste: {}\".format(resultado_teste.rootMeanSquaredError))\n",
    "        print(\"Coeficiente R2 em Teste: {}\".format(resultado_teste.r2))\n",
    "        print(\"\")\n",
    "        \n",
    "        # Salva os resultados da primeira versão (Sem Validação Cruzada)\n",
    "        resultados.append((tipo_algo, 1, 'Dados_Transformados', 'Sem_Validacao_Cruzada',\n",
    "                           float(resultado_teste.rootMeanSquaredError),\n",
    "                           float(resultado_teste.r2)))\n",
    "        \n",
    "        # Cria o grid de hiperparâmetros para a segunda versão do modelo com validação cruzada\n",
    "        paramGrid = (ParamGridBuilder().addGrid(algoritmo_regressao.regParam, [0.1, 0.01]).build())\n",
    "        \n",
    "        # Cria os avaliadores\n",
    "        eval_rmse = RegressionEvaluator(metricName=\"rmse\")\n",
    "        eval_r2 = RegressionEvaluator(metricName=\"r2\")\n",
    "        \n",
    "        # Cria o Cross Validator\n",
    "        crossval = CrossValidator(estimator=algoritmo_regressao,\n",
    "                                  estimatorParamMaps=paramGrid,\n",
    "                                  evaluator=eval_rmse,\n",
    "                                  numFolds=3)\n",
    "        \n",
    "        # Treina o modelo com validação cruzada\n",
    "        modelo = crossval.fit(dados_treino)\n",
    "        \n",
    "        # Salva o melhor modelo da versão 2\n",
    "        global LR_BestModel \n",
    "        LR_BestModel = modelo.bestModel\n",
    "        \n",
    "        # Previsões com dados de teste\n",
    "        previsoes = LR_BestModel.transform(dados_teste)\n",
    "        \n",
    "        # Avaliação do melhor modelo\n",
    "        resultado_teste_rmse = eval_rmse.evaluate(previsoes)\n",
    "        resultado_teste_r2 = eval_r2.evaluate(previsoes)\n",
    "        \n",
    "        print('\\033[1m' + \"Modelo de Regressão Linear Com Validação Cruzada:\" + '\\033[0m')\n",
    "        print(\"RMSE em Teste: {}\".format(resultado_teste_rmse))\n",
    "        print(\"Coeficiente R2 em Teste: {}\".format(resultado_teste_r2))\n",
    "        print(\"\")\n",
    "        \n",
    "        # Salva os resultados da segunda versão (Com Validação Cruzada)\n",
    "        resultados.append((tipo_algo, 2, 'Dados_Transformados', 'Com_Validacao_Cruzada',\n",
    "                           float(resultado_teste_rmse),\n",
    "                           float(resultado_teste_r2)))\n",
    "    \n",
    "    else:\n",
    "        # Prepara o grid de hiperparâmetros para os demais algoritmos\n",
    "        if tipo_algo == \"DecisionTreeRegressor\":\n",
    "            paramGrid = (ParamGridBuilder().addGrid(algoritmo_regressao.maxBins, [10, 20, 40]).build())\n",
    "            global DT_BestModel\n",
    "        elif tipo_algo == \"RandomForestRegressor\":\n",
    "            paramGrid = (ParamGridBuilder().addGrid(algoritmo_regressao.numTrees, [5, 20]).build())\n",
    "            global RF_BestModel\n",
    "        elif tipo_algo == \"GBTRegressor\":\n",
    "            paramGrid = (ParamGridBuilder().addGrid(algoritmo_regressao.maxBins, [10, 20])\n",
    "                                        .addGrid(algoritmo_regressao.maxIter, [10, 15]).build())\n",
    "            global GBT_BestModel\n",
    "        elif tipo_algo == \"IsotonicRegression\":\n",
    "            paramGrid = (ParamGridBuilder().addGrid(algoritmo_regressao.isotonic, [True, False]).build())\n",
    "            global IR_BestModel\n",
    "        \n",
    "        # Cria os avaliadores\n",
    "        eval_rmse = RegressionEvaluator(metricName=\"rmse\")\n",
    "        eval_r2 = RegressionEvaluator(metricName=\"r2\")\n",
    "        \n",
    "        # Prepara o Cross Validator\n",
    "        crossval = CrossValidator(estimator=algoritmo_regressao,\n",
    "                                  estimatorParamMaps=paramGrid,\n",
    "                                  evaluator=eval_rmse,\n",
    "                                  numFolds=3)\n",
    "        \n",
    "        # Treina o modelo usando validação cruzada\n",
    "        modelo = crossval.fit(dados_treino)\n",
    "        \n",
    "        # Salva o melhor modelo\n",
    "        if tipo_algo == \"DecisionTreeRegressor\":\n",
    "            DT_BestModel = modelo.bestModel\n",
    "        elif tipo_algo == \"RandomForestRegressor\":\n",
    "            RF_BestModel = modelo.bestModel\n",
    "        elif tipo_algo == \"GBTRegressor\":\n",
    "            GBT_BestModel = modelo.bestModel\n",
    "        elif tipo_algo == \"IsotonicRegression\":\n",
    "            IR_BestModel = modelo.bestModel\n",
    "        \n",
    "        # Previsões com dados de teste\n",
    "        previsoes = modelo.bestModel.transform(dados_teste)\n",
    "        \n",
    "        # Avaliação do modelo\n",
    "        resultado_teste_rmse = eval_rmse.evaluate(previsoes)\n",
    "        resultado_teste_r2 = eval_r2.evaluate(previsoes)\n",
    "        \n",
    "        print(f'\\033[1mModelo {tipo_algo} Com Validação Cruzada:\\033[0m')\n",
    "        print(f\"RMSE em Teste: {resultado_teste_rmse}\")\n",
    "        print(f\"Coeficiente R2 em Teste: {resultado_teste_r2}\")\n",
    "        print(\"\")\n",
    "        \n",
    "        # Salva os resultados (Versão 1 com Validação Cruzada)\n",
    "        resultados.append((tipo_algo, 1, 'Dados_Transformados', 'Com_Validacao_Cruzada',\n",
    "                           float(resultado_teste_rmse),\n",
    "                           float(resultado_teste_r2)))\n",
    "    \n",
    "    # Cria o DataFrame com os resultados\n",
    "    df_resultado = spark.createDataFrame(resultados, schema=columns)\n",
    "    \n",
    "    return df_resultado\n",
    "\n",
    "print('\\nFunção criada com sucesso.\\n\\n')"
   ]
  },
  {
   "cell_type": "markdown",
   "id": "a1389ffd",
   "metadata": {},
   "source": [
    "<br>\n",
    "\n",
    "#### Preparando os Dados Antes de Aplicar a Função `func_modulo_ml`"
   ]
  },
  {
   "cell_type": "code",
   "execution_count": 17,
   "id": "6b4abd84",
   "metadata": {},
   "outputs": [
    {
     "name": "stdout",
     "output_type": "stream",
     "text": [
      "Dados preparados com sucesso.\n"
     ]
    }
   ],
   "source": [
    "# Criando Lista de Algoritmos para usar na Função\n",
    "regressores = [LinearRegression(),\n",
    "               DecisionTreeRegressor(),\n",
    "               RandomForestRegressor(),\n",
    "               GBTRegressor(),\n",
    "               IsotonicRegression()]\n",
    "\n",
    "# Criando um DataFrame para exibir resultados das métricas de avaliação de cada algoritmo\n",
    "colunas = ['Nome_do_Algoritmo', 'Versão', 'Tipo_de_Dados', 'Tipo_de_Modelo', 'Resultado_RMSE', 'Resultado_R2']\n",
    "valores = [(\"N/A\", \"N/A\", \"N/A\", \"N/A\", \"N/A\", \"N/A\")]\n",
    "\n",
    "df_resultados_treinamento = spark.createDataFrame(valores, colunas)\n",
    "\n",
    "print('Dados preparados com sucesso.')"
   ]
  },
  {
   "cell_type": "markdown",
   "id": "e4c92f51",
   "metadata": {},
   "source": [
    "<br>\n",
    "\n",
    "#### Aplica a Função"
   ]
  },
  {
   "cell_type": "code",
   "execution_count": 18,
   "id": "385052ec",
   "metadata": {},
   "outputs": [
    {
     "name": "stdout",
     "output_type": "stream",
     "text": [
      "\u001b[1mModelo de Regressão Linear Sem Validação Cruzada:\u001b[0m\n",
      "RMSE em Teste: 10.301110585068551\n",
      "Coeficiente R2 em Teste: 0.5962989404241202\n",
      "\n",
      "\u001b[1mModelo de Regressão Linear Com Validação Cruzada:\u001b[0m\n",
      "RMSE em Teste: 10.302277056818989\n",
      "Coeficiente R2 em Teste: 0.5962075070704398\n",
      "\n",
      "\u001b[1mModelo DecisionTreeRegressor Com Validação Cruzada:\u001b[0m\n",
      "RMSE em Teste: 8.498838141593277\n",
      "Coeficiente R2 em Teste: 0.7252036835058289\n",
      "\n"
     ]
    },
    {
     "name": "stderr",
     "output_type": "stream",
     "text": [
      "WARNING: An illegal reflective access operation has occurred\n",
      "WARNING: Illegal reflective access by org.apache.spark.util.SizeEstimator$ (file:/home/eduardo/anaconda3/lib/python3.9/site-packages/pyspark/jars/spark-core_2.12-3.5.1.jar) to field java.nio.charset.Charset.name\n",
      "WARNING: Please consider reporting this to the maintainers of org.apache.spark.util.SizeEstimator$\n",
      "WARNING: Use --illegal-access=warn to enable warnings of further illegal reflective access operations\n",
      "WARNING: All illegal access operations will be denied in a future release\n"
     ]
    },
    {
     "name": "stdout",
     "output_type": "stream",
     "text": [
      "\u001b[1mModelo RandomForestRegressor Com Validação Cruzada:\u001b[0m\n",
      "RMSE em Teste: 7.5252520677396335\n",
      "Coeficiente R2 em Teste: 0.7845562529320793\n",
      "\n",
      "\u001b[1mModelo GBTRegressor Com Validação Cruzada:\u001b[0m\n",
      "RMSE em Teste: 6.229651207799186\n",
      "Coeficiente R2 em Teste: 0.8523548268144256\n",
      "\n",
      "\u001b[1mModelo IsotonicRegression Com Validação Cruzada:\u001b[0m\n",
      "RMSE em Teste: 14.32932104204734\n",
      "Coeficiente R2 em Teste: 0.21883456877154006\n",
      "\n",
      "\n",
      "\n",
      "--Resultados--\n",
      "\n",
      "+---------------------+------+-------------------+---------------------+------------------+-------------------+\n",
      "|Nome_do_Algoritmo    |Versão|Tipo_de_Dados      |Tipo_de_Modelo       |Resultado_RMSE    |Resultado_R2       |\n",
      "+---------------------+------+-------------------+---------------------+------------------+-------------------+\n",
      "|LinearRegression     |1     |Dados_Transformados|Sem_Validacao_Cruzada|10.301110585068551|0.5962989404241202 |\n",
      "|LinearRegression     |2     |Dados_Transformados|Com_Validacao_Cruzada|10.302277056818989|0.5962075070704398 |\n",
      "|DecisionTreeRegressor|1     |Dados_Transformados|Com_Validacao_Cruzada|8.498838141593277 |0.7252036835058289 |\n",
      "|RandomForestRegressor|1     |Dados_Transformados|Com_Validacao_Cruzada|7.5252520677396335|0.7845562529320793 |\n",
      "|GBTRegressor         |1     |Dados_Transformados|Com_Validacao_Cruzada|6.229651207799186 |0.8523548268144256 |\n",
      "|IsotonicRegression   |1     |Dados_Transformados|Com_Validacao_Cruzada|14.32932104204734 |0.21883456877154006|\n",
      "+---------------------+------+-------------------+---------------------+------------------+-------------------+\n",
      "\n",
      "\n",
      "A Função foi aplicada com sucesso.\n",
      "\n",
      "\n"
     ]
    }
   ],
   "source": [
    "# Aplicando a Função através de um Loop de Treinamento\n",
    "for regressor in regressores:\n",
    "    \n",
    "    # Chama a função de treinamento para cada regressor e obtém o resultado\n",
    "    resultado_modelo = func_modulo_ml(regressor)\n",
    "    \n",
    "    # Adiciona os resultados ao DataFrame de resumo\n",
    "    df_resultados_treinamento = df_resultados_treinamento.union(resultado_modelo)\n",
    "    \n",
    "print('\\n\\n--Resultados--\\n')\n",
    "\n",
    "# Retorna as linhas diferentes de N/A\n",
    "df_resultados_treinamento = df_resultados_treinamento.where(\"Nome_do_Algoritmo!='N/A'\")\n",
    "\n",
    "# Imprime\n",
    "df_resultados_treinamento.show(10, False)\n",
    "    \n",
    "print('\\nA Função foi aplicada com sucesso.\\n\\n')"
   ]
  },
  {
   "cell_type": "markdown",
   "id": "a2bf9410",
   "metadata": {},
   "source": [
    "> O modelo **GBTRegressor** apresentou a melhor performance geral e será usado em produção.\n",
    "\n",
    "<br><br><br>\n",
    "\n",
    "# Fazendo Previsões com o Modelo Treinado\n",
    "\n",
    "Para fazer as previsões com o modelo treinado, vamos preparar um registro com novos dados.\n",
    "\n",
    "- Cement: 540\n",
    "- Blast Furnace Slag: 0\n",
    "- Fly Ash: 0\n",
    "- Water: 162\n",
    "- Superplasticizer: 2.5\n",
    "- Coarse Aggregate: 1040\n",
    "- Fine Aggregate: 676\n",
    "- Age: 28"
   ]
  },
  {
   "cell_type": "code",
   "execution_count": 19,
   "id": "50ff2b5c",
   "metadata": {},
   "outputs": [
    {
     "data": {
      "text/plain": [
       "[Row(cement=540, slag=0.0, flyash=0.0, water=162, superplasticizer=2.5, coarseaggregate=1040, fineaggregate=676, age=28)]"
      ]
     },
     "execution_count": 19,
     "metadata": {},
     "output_type": "execute_result"
    }
   ],
   "source": [
    "# Criando Lista dos valores de entrada\n",
    "values = [(540,0.0,0.0,162,2.5,1040,676,28)]\n",
    "\n",
    "# Nomes das colunas\n",
    "column_names = dados.columns\n",
    "column_names = column_names[0:8]\n",
    "\n",
    "# Associa valores aos nomes de coluna\n",
    "novos_dados = spark.createDataFrame(values, column_names)\n",
    "novos_dados.take(1)"
   ]
  },
  {
   "cell_type": "markdown",
   "id": "44644ef1",
   "metadata": {},
   "source": [
    "<br>\n",
    "\n",
    "### Aplicando as Mesmas Transformações do Dado Original"
   ]
  },
  {
   "cell_type": "code",
   "execution_count": 20,
   "id": "d8f638e1",
   "metadata": {},
   "outputs": [],
   "source": [
    "# Aplicamos na coluna age a mesma transformação aplicada na preparação dos dados.\n",
    "novos_dados = novos_dados.withColumn(\"age\", log(\"age\") +1)"
   ]
  },
  {
   "cell_type": "code",
   "execution_count": 21,
   "id": "ecdc532b",
   "metadata": {},
   "outputs": [
    {
     "data": {
      "text/plain": [
       "[Row(features=DenseVector([540.0, 0.0, 0.0, 162.0, 2.5, 1040.0, 676.0, 4.3322]))]"
      ]
     },
     "execution_count": 21,
     "metadata": {},
     "output_type": "execute_result"
    }
   ],
   "source": [
    "## Vetorizando\n",
    "\n",
    "# Lista de atributos\n",
    "lista_atributos = [\"cement\",\n",
    "                   \"slag\",\n",
    "                   \"flyash\",\n",
    "                   \"water\",\n",
    "                   \"superplasticizer\",\n",
    "                   \"coarseaggregate\",\n",
    "                   \"fineaggregate\",\n",
    "                   \"age\"]\n",
    "\n",
    "# Cria o vetorizador\n",
    "assembler = VectorAssembler(inputCols = lista_atributos, outputCol = 'features')\n",
    "\n",
    "# Transforma os dados em vetor\n",
    "novos_dados = assembler.transform(novos_dados).select('features')\n",
    "\n",
    "novos_dados.take(1)"
   ]
  },
  {
   "cell_type": "code",
   "execution_count": 22,
   "id": "dd11321d",
   "metadata": {},
   "outputs": [
    {
     "data": {
      "text/plain": [
       "[Row(features=DenseVector([540.0, 0.0, 0.0, 162.0, 2.5, 1040.0, 676.0, 4.3322]), scaledFeatures=DenseVector([1.0, 0.0, 0.0, 0.3211, 0.0776, 0.6948, 0.2057, 0.0092]))]"
      ]
     },
     "execution_count": 22,
     "metadata": {},
     "output_type": "execute_result"
    }
   ],
   "source": [
    "# Padroniza os dados (mesma transformação aplicada aos dados de treino)\n",
    "novos_dados_scaled = scalerModel.transform(novos_dados)\n",
    "\n",
    "novos_dados_scaled.take(1)"
   ]
  },
  {
   "cell_type": "code",
   "execution_count": 23,
   "id": "903aee14",
   "metadata": {},
   "outputs": [
    {
     "data": {
      "text/plain": [
       "[Row(features=DenseVector([1.0, 0.0, 0.0, 0.3211, 0.0776, 0.6948, 0.2057, 0.0092]))]"
      ]
     },
     "execution_count": 23,
     "metadata": {},
     "output_type": "execute_result"
    }
   ],
   "source": [
    "# Seleciona a coluna resultante\n",
    "novos_dados_final = novos_dados_scaled.select('scaledFeatures')\n",
    "\n",
    "# Renomeia a coluna (requerimento do MLlib)\n",
    "novos_dados_final = novos_dados_final.withColumnRenamed('scaledFeatures','features')\n",
    "\n",
    "novos_dados_final.take(1)"
   ]
  },
  {
   "cell_type": "markdown",
   "id": "4ab53426",
   "metadata": {},
   "source": [
    "<br>\n",
    "\n",
    "#### Previsão\n",
    "\n",
    "Usando a variável global do melhor modelo."
   ]
  },
  {
   "cell_type": "code",
   "execution_count": 24,
   "id": "7cb38be1",
   "metadata": {},
   "outputs": [
    {
     "name": "stdout",
     "output_type": "stream",
     "text": [
      "+--------------------+-----------------+\n",
      "|            features|       prediction|\n",
      "+--------------------+-----------------+\n",
      "|[1.0,0.0,0.0,0.32...|39.80402105547347|\n",
      "+--------------------+-----------------+\n",
      "\n"
     ]
    }
   ],
   "source": [
    "# Previsões com novos dados usando o modelo de melhor performance\n",
    "previsoes_novos_dados = GBT_BestModel.transform(novos_dados_final)\n",
    "\n",
    "# Resultado\n",
    "previsoes_novos_dados.show()"
   ]
  },
  {
   "cell_type": "code",
   "execution_count": 25,
   "id": "48996828",
   "metadata": {},
   "outputs": [
    {
     "data": {
      "text/plain": [
       "GBTRegressionModel: uid=GBTRegressor_c3314d11f5e7, numTrees=15, numFeatures=8"
      ]
     },
     "execution_count": 25,
     "metadata": {},
     "output_type": "execute_result"
    }
   ],
   "source": [
    "GBT_BestModel"
   ]
  },
  {
   "cell_type": "markdown",
   "id": "5fcaa1fb",
   "metadata": {},
   "source": [
    "<br><br><br>\n",
    "\n",
    "# Fim!"
   ]
  }
 ],
 "metadata": {
  "kernelspec": {
   "display_name": "Python 3 (ipykernel)",
   "language": "python",
   "name": "python3"
  },
  "language_info": {
   "codemirror_mode": {
    "name": "ipython",
    "version": 3
   },
   "file_extension": ".py",
   "mimetype": "text/x-python",
   "name": "python",
   "nbconvert_exporter": "python",
   "pygments_lexer": "ipython3",
   "version": "3.9.7"
  }
 },
 "nbformat": 4,
 "nbformat_minor": 5
}
