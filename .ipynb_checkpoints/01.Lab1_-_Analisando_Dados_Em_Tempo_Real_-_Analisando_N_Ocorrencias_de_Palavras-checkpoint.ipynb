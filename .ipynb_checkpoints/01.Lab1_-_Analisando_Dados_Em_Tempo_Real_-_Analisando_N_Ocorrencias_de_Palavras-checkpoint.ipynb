{
 "cells": [
  {
   "cell_type": "markdown",
   "id": "58f5efe8",
   "metadata": {},
   "source": [
    "Real-Time Analytics com Apache Spark Streaming\n",
    "\n",
    "### Objetivo\n",
    "O objetivo deste Lab é trazer um exemplo de análise de dados em tempo real com o Spark Structured Streaming, demonstrando a arquitetura de funcionamento desse tipo de análise. O Lab também é uma introdução para os Mini-Projetos 6 e 7 do curso, quando, além de usar o Spark Streaming, trabalharemos com o Apache Kafka.\n",
    "\n",
    "### Instruções\n",
    "\n",
    "- Abra o Terminal e digite o seguinte comando: `nc -lk 9999`\n",
    "\n",
    "Desta forma, você poderá digitar no terminal os comandos posteriores para simular a entrada de dados em tempo real.\n",
    "\n",
    "- Agora, deixe essa janela do terminal aberta e abra outra janela do terminal.\n",
    "- Nesta nova janela, conecte-se ao pyspark para buscar esses dados em tempo real.\n",
    "> À medida que você digitar palavras no terminal que simula entradas de dados em tempo real, o processo de análise irá capturar e processar os dados, entregando o resultado em tempo real.\n",
    "\n",
    "<br>\n",
    "\n",
    "-  Neste exemplo vamos **analisar o número de ocorrências de palavras**. Queremos saber quantas vezes cada palavra aparece nesse streaming. Essa foi a lógica escolhida para este processo de análise.\n",
    "\n",
    "> Este trecho de código foi extraído da própria documentação da biblioteca.\n",
    "\n",
    "### Como Usar\n",
    "\n",
    "- Rodar o script abaixo e digitar palavras ou frases no terminal e aguardar pela analise abaixo."
   ]
  },
  {
   "cell_type": "code",
   "execution_count": null,
   "id": "b18c8750",
   "metadata": {},
   "outputs": [
    {
     "name": "stderr",
     "output_type": "stream",
     "text": [
      "24/08/19 18:29:48 WARN Utils: Your hostname, eduardo-Inspiron-15-3520 resolves to a loopback address: 127.0.1.1; using 192.168.0.13 instead (on interface wlp0s20f3)\n",
      "24/08/19 18:29:48 WARN Utils: Set SPARK_LOCAL_IP if you need to bind to another address\n",
      "Setting default log level to \"WARN\".\n",
      "To adjust logging level use sc.setLogLevel(newLevel). For SparkR, use setLogLevel(newLevel).\n",
      "24/08/19 18:29:49 WARN NativeCodeLoader: Unable to load native-hadoop library for your platform... using builtin-java classes where applicable\n",
      "24/08/19 18:29:50 WARN TextSocketSourceProvider: The socket source should not be used for production applications! It does not support recovery.\n",
      "24/08/19 18:29:50 WARN ResolveWriteToStream: Temporary checkpoint location created which is deleted normally when the query didn't fail: /tmp/temporary-664600f6-f15a-4524-9284-6757f930f647. If it's required to delete it under any circumstances, please set spark.sql.streaming.forceDeleteTempCheckpointLocation to true. Important to know deleting temp checkpoint folder is best effort.\n",
      "24/08/19 18:29:50 WARN ResolveWriteToStream: spark.sql.adaptive.enabled is not supported in streaming DataFrames/Datasets and will be disabled.\n",
      "                                                                                \r"
     ]
    },
    {
     "name": "stdout",
     "output_type": "stream",
     "text": [
      "-------------------------------------------\n",
      "Batch: 0\n",
      "-------------------------------------------\n",
      "+----+-----+\n",
      "|word|count|\n",
      "+----+-----+\n",
      "+----+-----+\n",
      "\n"
     ]
    },
    {
     "name": "stderr",
     "output_type": "stream",
     "text": [
      "                                                                                \r"
     ]
    },
    {
     "name": "stdout",
     "output_type": "stream",
     "text": [
      "-------------------------------------------\n",
      "Batch: 1\n",
      "-------------------------------------------\n",
      "+----+-----+\n",
      "|word|count|\n",
      "+----+-----+\n",
      "| Ola|    1|\n",
      "+----+-----+\n",
      "\n"
     ]
    },
    {
     "name": "stderr",
     "output_type": "stream",
     "text": [
      "                                                                                \r"
     ]
    },
    {
     "name": "stdout",
     "output_type": "stream",
     "text": [
      "-------------------------------------------\n",
      "Batch: 2\n",
      "-------------------------------------------\n",
      "+-----+-----+\n",
      "| word|count|\n",
      "+-----+-----+\n",
      "|  com|    1|\n",
      "|  Ola|    1|\n",
      "|  bem|    1|\n",
      "|vocês|    1|\n",
      "| Tudo|    1|\n",
      "|    ?|    1|\n",
      "+-----+-----+\n",
      "\n"
     ]
    },
    {
     "name": "stderr",
     "output_type": "stream",
     "text": [
      "                                                                                \r"
     ]
    },
    {
     "name": "stdout",
     "output_type": "stream",
     "text": [
      "-------------------------------------------\n",
      "Batch: 3\n",
      "-------------------------------------------\n",
      "+---------+-----+\n",
      "|     word|count|\n",
      "+---------+-----+\n",
      "|      com|    1|\n",
      "|      Ola|    2|\n",
      "|      bem|    1|\n",
      "|    vocês|    1|\n",
      "|     Tudo|    1|\n",
      "|        ?|    1|\n",
      "|NOvamente|    1|\n",
      "+---------+-----+\n",
      "\n"
     ]
    },
    {
     "name": "stderr",
     "output_type": "stream",
     "text": [
      "                                                                                \r"
     ]
    },
    {
     "name": "stdout",
     "output_type": "stream",
     "text": [
      "-------------------------------------------\n",
      "Batch: 4\n",
      "-------------------------------------------\n",
      "+---------+-----+\n",
      "|     word|count|\n",
      "+---------+-----+\n",
      "|   voltou|    1|\n",
      "| Flamengo|    1|\n",
      "|      com|    2|\n",
      "|      ali|    1|\n",
      "|      Ola|    3|\n",
      "|      bem|    1|\n",
      "|      foi|    1|\n",
      "|        e|    1|\n",
      "|    vocês|    1|\n",
      "|     Tudo|    1|\n",
      "|    certo|    1|\n",
      "|      ola|    1|\n",
      "|        ,|    1|\n",
      "|        ?|    1|\n",
      "|       um|    1|\n",
      "|NOvamente|    1|\n",
      "+---------+-----+\n",
      "\n"
     ]
    }
   ],
   "source": [
    "# Lab 6 - Análise de Dados em Tempo Real com Apache Spark Structured Streaming\n",
    "# https://spark.apache.org/docs/latest/structured-streaming-programming-guide.html\n",
    "\n",
    "# Funções\n",
    "from pyspark.sql import SparkSession\n",
    "from pyspark.sql.functions import explode, split\n",
    "\n",
    "# Sessão\n",
    "spark = SparkSession.builder.appName(\"StructuredNetworkWordCount\").getOrCreate()\n",
    "\n",
    "# Criamos um DataFrame para o Stream que vai extrair os dados em tempo real do gerador de dados em localhost:9999\n",
    "lines = spark.readStream.format(\"socket\").option(\"host\", \"localhost\").option(\"port\", 9999).load()\n",
    "\n",
    "# Divide cada linha de dados em palavras\n",
    "words = lines.select(explode(split(lines.value, \" \")).alias(\"word\"))\n",
    "\n",
    "# Contador de palavras\n",
    "wordCounts = words.groupBy(\"word\").count()\n",
    "\n",
    "# Executa a query em tempo real e imprime a contagem de palavras em tempo real\n",
    "query = wordCounts.writeStream.outputMode(\"complete\").format(\"console\").start()\n",
    "\n",
    "# Aguarda término da conexão\n",
    "query.awaitTermination()"
   ]
  },
  {
   "cell_type": "code",
   "execution_count": null,
   "id": "3be27f81",
   "metadata": {},
   "outputs": [],
   "source": []
  },
  {
   "cell_type": "code",
   "execution_count": null,
   "id": "e8780a2a",
   "metadata": {},
   "outputs": [],
   "source": []
  },
  {
   "cell_type": "markdown",
   "id": "a0184dea",
   "metadata": {},
   "source": [
    "### Executando o Código no Jupyter Notebook\n",
    "\n",
    "- Abra o Jupyter Notebook: Inicie o Jupyter Notebook e abra um novo notebook.\n",
    "\n",
    "- Cole o código acima: Em uma célula de código do notebook, cole o código fornecido.\n",
    "\n",
    "- Execute a célula: Clique em \"Run\" (ou pressione Shift + Enter) para executar a célula.\n",
    "\n",
    "- Simular dados de streaming: Em um terminal separado, execute o comando nc -lk 9999 para iniciar o gerador de dados. Você pode então começar a digitar palavras para ver a contagem de palavras sendo atualizada em tempo real no notebook."
   ]
  }
 ],
 "metadata": {
  "kernelspec": {
   "display_name": "Python 3 (ipykernel)",
   "language": "python",
   "name": "python3"
  },
  "language_info": {
   "codemirror_mode": {
    "name": "ipython",
    "version": 3
   },
   "file_extension": ".py",
   "mimetype": "text/x-python",
   "name": "python",
   "nbconvert_exporter": "python",
   "pygments_lexer": "ipython3",
   "version": "3.9.7"
  }
 },
 "nbformat": 4,
 "nbformat_minor": 5
}
