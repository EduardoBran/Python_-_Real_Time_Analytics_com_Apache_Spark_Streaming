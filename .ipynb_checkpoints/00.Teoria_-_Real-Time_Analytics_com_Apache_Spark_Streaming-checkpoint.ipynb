{
 "cells": [
  {
   "cell_type": "markdown",
   "id": "74b78e15",
   "metadata": {},
   "source": [
    "# <span style=\"color: green; font-size: 40px; font-weight: bold;\">Real-Time Analytics com Apache Spark Streaming</span>\n",
    "\n",
    "\n",
    "<br> <br>\n",
    "\n",
    "\n"
   ]
  },
  {
   "cell_type": "markdown",
   "id": "a510f9ec",
   "metadata": {},
   "source": [
    "# Batch vs Streaming\n",
    "\n",
    "Há dois tipos de dados quanto à forma como os dados são processados com Apache Spark: **Batch** e **Streaming**. O diagrama abaixo resume a diferença no processamento desses tipos de dados.\n",
    "\n",
    "### Batch\n",
    "\n",
    "- **Processamento de arquivos ou datasets finitos**: Você inicia o processamento de um arquivo ou dataset finito, o Spark processa as tarefas configuradas e conclui o trabalho.\n",
    "\n",
    "### Streaming\n",
    "\n",
    "- **Processamento de fluxos de dados contínuos (Stream)**: Você processa um fluxo de dados contínuo; a execução não para até que haja algum erro ou você termine a aplicação manualmente.\n",
    "\n",
    "<br>\n",
    "\n",
    "## Exemplos de Uso\n",
    "\n",
    "### Dados em Batch normalmente são usados para:\n",
    "- Análise exploratória de dados.\n",
    "- Processamento de dados para relatórios.\n",
    "- Treinar um modelo de aprendizado de máquina sobre grandes conjuntos de dados.\n",
    "- Análise de dados de Data Warehouses ou Data Lakes.\n",
    "- Outras tarefas analíticas que não precisam ser feitas em tempo real.\n",
    "\n",
    "### Dados em Streaming normalmente são usados para:\n",
    "- Monitoramento de serviços.\n",
    "- Processamento de eventos em tempo real para alimentar dashboards.\n",
    "- Processamento de dados de cliques e eventos em websites.\n",
    "- Processamento de dados de sensores da Internet das Coisas.\n",
    "- Processamento de dados vindos de serviços como Twitter, Kafka, Flume, AWS Kinesis.\n",
    "- Treinar um modelo de aprendizado de máquina sobre conjuntos de dados em tempo real.\n",
    "\n",
    "Portanto, a decisão de usarmos dados em Batch ou Streaming depende do caso de uso e do objetivo do projeto. Mas considere que qualquer tarefa que envolva dados em Streaming sempre terá um grau de complexidade um pouco maior, inerente às características desse tipo de dado e da velocidade de geração.\n"
   ]
  },
  {
   "cell_type": "markdown",
   "id": "b954b6f2",
   "metadata": {},
   "source": [
    "<br><br><br><br>\n",
    "\n",
    "# Conhecendo o Apache Spark Structured Streaming\n",
    "\n",
    "<br>\n",
    "\n",
    "\n",
    "### Structured Streaming (Streaming Estruturado)\n",
    "\n",
    "O **Structured Streaming** é um mecanismo de processamento de fluxo de dados (Streaming) escalável e tolerante a falhas, criado sobre o mecanismo **Spark SQL**.\n",
    "\n",
    "O Structured Streaming é uma versão atualizada do Spark Streaming, que foi otimizado nas versões mais recentes do Apache Spark. Daqui em diante, sempre que fizermos menção ao Spark Streaming, estaremos falando sobre o Spark Structured Streaming.\n",
    "\n",
    "Visite a documentação oficial: [Structured Streaming Programming Guide](https://spark.apache.org/docs/latest/structured-streaming-programming-guide.html)\n",
    "\n",
    "Com o Structured Streaming, você pode expressar a computação de streaming da mesma forma que expressaria uma computação em Batch com dados estáticos. O mecanismo Spark SQL cuidará de executá-lo de forma incremental e contínua, e atualizará o resultado final à medida que os dados de streaming continuam chegando.\n",
    "\n",
    "Você pode usar Scala, Java, Python ou R para expressar agregações de streaming, janelas de tempo de evento, junções de fluxo para lote, etc. A computação é executada no mesmo mecanismo Spark SQL otimizado.\n",
    "\n",
    "Por fim, o Structured Streaming oferece garantias de tolerância a falhas de ponta a ponta por meio de pontos de verificação e logs. Resumindo, o Structured Streaming fornece processamento de fluxo de dados de forma rápida, escalável, tolerante a falhas e de ponta a ponta, sem que o usuário precise raciocinar sobre o streaming."
   ]
  }
 ],
 "metadata": {
  "kernelspec": {
   "display_name": "Python 3 (ipykernel)",
   "language": "python",
   "name": "python3"
  },
  "language_info": {
   "codemirror_mode": {
    "name": "ipython",
    "version": 3
   },
   "file_extension": ".py",
   "mimetype": "text/x-python",
   "name": "python",
   "nbconvert_exporter": "python",
   "pygments_lexer": "ipython3",
   "version": "3.9.7"
  }
 },
 "nbformat": 4,
 "nbformat_minor": 5
}
