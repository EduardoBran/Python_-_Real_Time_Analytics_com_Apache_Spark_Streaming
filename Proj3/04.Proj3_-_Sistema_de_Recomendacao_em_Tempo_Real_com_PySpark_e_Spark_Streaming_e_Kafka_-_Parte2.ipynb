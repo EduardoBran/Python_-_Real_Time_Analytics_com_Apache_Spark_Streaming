{
 "cells": [
  {
   "cell_type": "markdown",
   "id": "6b9d5326",
   "metadata": {},
   "source": [
    "<span style=\"color: green; font-size: 40px; font-weight: bold;\">Projeto 3 (Parte 2)</span>\n",
    "\n",
    "<br>\n",
    "\n",
    "<span style=\"color: green; font-size: 40px; font-weight: bold;\">Sistema de Recomendação em Tempo Real</span>\n",
    "\n",
    "<br> <br>\n",
    "\n",
    "# Importante\n",
    "\n",
    "> É necessário que a célula da etapa `Criação do Kafka Producer e Envio de Dados para o Kafka` da **Parte 1** do projeto esteja rodando.\n",
    "\n",
    "<br><br><br>\n",
    "\n",
    "# Importando Pacotes\n",
    "\n",
    "<br>"
   ]
  },
  {
   "cell_type": "code",
   "execution_count": null,
   "id": "6e94de95",
   "metadata": {},
   "outputs": [],
   "source": [
    "# Imports\n",
    "import os\n",
    "import time\n",
    "import random\n",
    "import pyspark\n",
    "from pyspark.sql import SparkSession\n",
    "from pyspark.sql.functions import *\n",
    "from pyspark.ml.feature import Normalizer, StandardScaler"
   ]
  }
 ],
 "metadata": {
  "kernelspec": {
   "display_name": "Python 3 (ipykernel)",
   "language": "python",
   "name": "python3"
  },
  "language_info": {
   "codemirror_mode": {
    "name": "ipython",
    "version": 3
   },
   "file_extension": ".py",
   "mimetype": "text/x-python",
   "name": "python",
   "nbconvert_exporter": "python",
   "pygments_lexer": "ipython3",
   "version": "3.9.7"
  }
 },
 "nbformat": 4,
 "nbformat_minor": 5
}
