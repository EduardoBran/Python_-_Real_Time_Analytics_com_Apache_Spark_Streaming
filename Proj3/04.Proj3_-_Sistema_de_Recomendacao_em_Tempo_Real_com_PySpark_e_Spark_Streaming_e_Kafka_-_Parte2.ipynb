{
 "cells": [
  {
   "cell_type": "markdown",
   "id": "6b9d5326",
   "metadata": {},
   "source": [
    "<span style=\"color: green; font-size: 40px; font-weight: bold;\">Projeto 3 (Parte 2)</span>\n",
    "\n",
    "<br>\n",
    "\n",
    "<span style=\"color: green; font-size: 40px; font-weight: bold;\">Sistema de Recomendação em Tempo Real</span>\n",
    "\n",
    "<br> <br>\n",
    "\n",
    "# Importante\n",
    "\n",
    "> É necessário que a célula da etapa `Criação do Kafka Producer e Envio de Dados para o Kafka` da **Parte 1** do projeto esteja rodando.\n",
    "\n",
    "<br><br><br>\n",
    "\n",
    "# Importando Pacotes\n",
    "\n",
    "<br>"
   ]
  },
  {
   "cell_type": "code",
   "execution_count": 1,
   "id": "6e94de95",
   "metadata": {},
   "outputs": [
    {
     "ename": "RuntimeError",
     "evalue": "module was compiled against NumPy C-API version 0x10 (NumPy 1.23) but the running NumPy has C-API version 0xf. Check the section C-API incompatibility at the Troubleshooting ImportError section at https://numpy.org/devdocs/user/troubleshooting-importerror.html#c-api-incompatibility for indications on how to solve this problem.",
     "output_type": "error",
     "traceback": [
      "\u001b[0;31m---------------------------------------------------------------------------\u001b[0m",
      "\u001b[0;31mRuntimeError\u001b[0m                              Traceback (most recent call last)",
      "\u001b[0;31mRuntimeError\u001b[0m: module was compiled against NumPy C-API version 0x10 (NumPy 1.23) but the running NumPy has C-API version 0xf. Check the section C-API incompatibility at the Troubleshooting ImportError section at https://numpy.org/devdocs/user/troubleshooting-importerror.html#c-api-incompatibility for indications on how to solve this problem."
     ]
    }
   ],
   "source": [
    "# Imports\n",
    "import os\n",
    "import time\n",
    "import random\n",
    "import pyspark\n",
    "\n",
    "from pyspark.sql import SparkSession\n",
    "from pyspark.sql.functions import *\n",
    "from pyspark.ml.feature import Normalizer, StandardScaler\n",
    "\n",
    "# Imports\n",
    "import os\n",
    "import ujson\n",
    "import spotipy\n",
    "import spotipy.util\n",
    "from pyspark.ml.feature import VectorAssembler\n",
    "from pyspark.ml.feature import StandardScaler\n",
    "from pyspark.ml.clustering import KMeans\n",
    "from pyspark.ml.evaluation import ClusteringEvaluator\n",
    "import numpy as np\n",
    "import pandas as pd\n",
    "import matplotlib.pyplot as plt\n",
    "import seaborn as sns\n",
    "from tqdm import tqdm\n",
    "import warnings\n",
    "warnings.filterwarnings(\"ignore\")\n",
    "\n",
    "import re"
   ]
  },
  {
   "cell_type": "markdown",
   "id": "9c58de67",
   "metadata": {},
   "source": [
    "<br><br>\n",
    "\n",
    "# 1. Configuração do Kafka e Spark"
   ]
  },
  {
   "cell_type": "code",
   "execution_count": 2,
   "id": "005430f7",
   "metadata": {},
   "outputs": [
    {
     "name": "stdout",
     "output_type": "stream",
     "text": [
      "Etapa concluída.\n"
     ]
    }
   ],
   "source": [
    "# Endereço do servidor Kafka\n",
    "SERVER = 'localhost:9092'\n",
    "\n",
    "# Nome do tópico\n",
    "TOPIC = \"dsaminiprojeto7\"\n",
    "\n",
    "# Conectores do Spark para o Apache Kafka\n",
    "spark_jars =  (\"{},{},{},{},{}\".format(os.getcwd() + \"/jars/spark-sql-kafka-0-10_2.12-3.3.2.jar\",  \n",
    "                                       os.getcwd() + \"/jars/kafka-clients-2.8.0.jar\", \n",
    "                                       os.getcwd() + \"/jars/spark-streaming-kafka-0-10-assembly_2.12-3.3.2.jar\", \n",
    "                                       os.getcwd() + \"/jars/commons-pool2-2.8.0.jar\",  \n",
    "                                       os.getcwd() + \"/jars/spark-token-provider-kafka-0-10_2.12-3.1.2.jar\"))\n",
    "\n",
    "print('Etapa concluída.')"
   ]
  },
  {
   "cell_type": "code",
   "execution_count": 3,
   "id": "3f03486a",
   "metadata": {},
   "outputs": [
    {
     "name": "stdout",
     "output_type": "stream",
     "text": [
      "Etapa concluída.\n"
     ]
    }
   ],
   "source": [
    "# Endereço do servidor Kafka\n",
    "SERVER = 'localhost:9092'\n",
    "\n",
    "# Nome do tópico\n",
    "TOPIC = \"dsaminiprojeto7\"\n",
    "\n",
    "# Conectores do Spark para o Apache Kafka\n",
    "spark_jars =  (\"{},{},{},{},{}\".format(os.getcwd() + \"/jars/novas_versoes/spark-sql-kafka-0-10_2.12-3.5.1.jar\",  \n",
    "                                       os.getcwd() + \"/jars/novas_versoes/kafka-clients-3.5.1.jar\", \n",
    "                                       os.getcwd() + \"/jars/novas_versoes/spark-streaming-kafka-0-10-assembly_2.12-3.5.1.jar\", \n",
    "                                       os.getcwd() + \"/jars/novas_versoes/commons-pool2-2.11.0.jar\",  \n",
    "                                       os.getcwd() + \"/jars/novas_versoes/spark-token-provider-kafka-0-10_2.12-3.5.1.jar\"))\n",
    "\n",
    "print('Etapa concluída.')"
   ]
  },
  {
   "cell_type": "code",
   "execution_count": 4,
   "id": "5a688f1d",
   "metadata": {},
   "outputs": [
    {
     "name": "stdout",
     "output_type": "stream",
     "text": [
      "3.5.1\n"
     ]
    }
   ],
   "source": [
    "import pyspark\n",
    "print(pyspark.__version__)"
   ]
  },
  {
   "cell_type": "markdown",
   "id": "2548cc05",
   "metadata": {},
   "source": [
    "**Explicação**: Configura o endereço do servidor Kafka, o nome do tópico, e define os jars necessários para conectar o Spark ao Kafka. Para conectar o Spark Streaming no Apache Kafka precisamos de conectores (`jars`), que estão disponíveis através de arquivos .jar já incluso no projeto.\n",
    "\n",
    "<br><br>\n",
    "\n",
    "# 2. Inicialização da Sessão Spark"
   ]
  },
  {
   "cell_type": "code",
   "execution_count": 5,
   "id": "2d37b945",
   "metadata": {},
   "outputs": [
    {
     "name": "stderr",
     "output_type": "stream",
     "text": [
      "24/09/02 17:40:16 WARN Utils: Your hostname, eduardo-Inspiron-15-3520 resolves to a loopback address: 127.0.1.1; using 192.168.0.13 instead (on interface wlp0s20f3)\n",
      "24/09/02 17:40:16 WARN Utils: Set SPARK_LOCAL_IP if you need to bind to another address\n",
      "24/09/02 17:40:16 WARN NativeCodeLoader: Unable to load native-hadoop library for your platform... using builtin-java classes where applicable\n",
      "Setting default log level to \"WARN\".\n",
      "To adjust logging level use sc.setLogLevel(newLevel). For SparkR, use setLogLevel(newLevel).\n"
     ]
    },
    {
     "name": "stdout",
     "output_type": "stream",
     "text": [
      "Etapa concluída.\n"
     ]
    }
   ],
   "source": [
    "# Inicializa sessão Spark\n",
    "spark = SparkSession \\\n",
    "        .builder \\\n",
    "        .config(\"spark.jars\", spark_jars) \\\n",
    "        .appName(\"Mini-Projeto7\") \\\n",
    "        .getOrCreate()\n",
    "spark.sparkContext.setLogLevel(\"ERROR\")\n",
    "\n",
    "print('Etapa concluída.')"
   ]
  },
  {
   "cell_type": "markdown",
   "id": "e973e03f",
   "metadata": {},
   "source": [
    "**Explicação**: Inicializa uma sessão Spark com os jars configurados, definindo o nome da aplicação e ajustando o nível de log.\n",
    "\n",
    "<br><br>\n",
    "\n",
    "# 3. Leitura do Streaming de Dados do Kafka\n",
    "\n",
    "Esta etapa é para `dados em tempo real`."
   ]
  },
  {
   "cell_type": "code",
   "execution_count": 6,
   "id": "9db69408",
   "metadata": {},
   "outputs": [
    {
     "name": "stdout",
     "output_type": "stream",
     "text": [
      "DataFrame[key: binary, value: binary, topic: string, partition: int, offset: bigint, timestamp: timestamp, timestampType: int]\n",
      "\n",
      "Etapa concluída.\n"
     ]
    }
   ],
   "source": [
    "# Usamos o Spark Streaming para leitura do streaming de dados do Kafka e salvamos em um dataframe\n",
    "df = spark \\\n",
    "        .readStream \\\n",
    "        .format(\"kafka\") \\\n",
    "        .option(\"kafka.bootstrap.servers\", SERVER) \\\n",
    "        .option(\"subscribe\", TOPIC) \\\n",
    "        .option(\"startingOffsets\", \"latest\") \\\n",
    "        .load()\n",
    "\n",
    "print(df)\n",
    "\n",
    "print('\\nEtapa concluída.')"
   ]
  },
  {
   "cell_type": "markdown",
   "id": "16fbff6d",
   "metadata": {},
   "source": [
    "**Explicação**: Lê o streaming de dados do Kafka, utilizando o Spark Streaming, e armazena em um DataFrame.\n",
    "\n",
    "#### Explicação mais detalhada:\n",
    "\n",
    "- **Parte 1**: Na parte 1 do projeto, foi criado um `Kafka Producer que envia mensagens (dados de músicas) para um tópico Kafka (dsaminiprojeto7)`. Cada mensagem representa uma música e é enviada para o Kafka em formato de string.\n",
    "\n",
    "- **Parte 2**: O código na Parte 2, especificamente na seção de \"Leitura do Streaming de Dados do Kafka\", está utilizando o Spark Streaming para consumir essas mesmas mensagens que foram enviadas para o Kafka.\n",
    "\n",
    "<br>\n",
    "\n",
    "**Nota Importante**: Você pode seguir em frente com o projeto enquanto o Kafka Producer ainda está enviando as músicas na `Parte 1`. No entanto, se você prosseguir com o Spark Streaming antes que todas as músicas tenham sido enviadas, o sistema de recomendação funcionará apenas com as músicas que já foram enviadas até aquele momento, e não com o dataset completo. Além disso, não é necessário repetir esse processo de envio todas as vezes que rodar o projeto, a menos que deseje processar novos dados ou reiniciar todo o fluxo.\n",
    "\n",
    "<br><br>\n",
    "\n",
    "# 4. Processamento e Transformação de Dados"
   ]
  },
  {
   "cell_type": "code",
   "execution_count": 7,
   "id": "e6381f4c",
   "metadata": {},
   "outputs": [
    {
     "name": "stdout",
     "output_type": "stream",
     "text": [
      "<class 'pyspark.sql.dataframe.DataFrame'>\n"
     ]
    }
   ],
   "source": [
    "# Selecionamos a coluna timestamp como string e salvamos em um novo dataframe\n",
    "df1 = df.selectExpr(\"CAST(value AS STRING)\", \"timestamp\")\n",
    "\n",
    "print(type(df1))"
   ]
  },
  {
   "cell_type": "markdown",
   "id": "00f4dd34",
   "metadata": {},
   "source": [
    "**Explicação**:\n",
    "\n",
    "- **Função**: Esta célula seleciona a coluna `value` do DataFrame `df`, que contém as mensagens do Kafka, e a converte de bytes para string usando o comando `CAST`. Isso é necessário porque as mensagens do Kafka são recebidas como bytes e precisam ser decodificadas para serem manipuladas.\n",
    "- **Resultado**: O resultado é um novo DataFrame `df1` que contém duas colunas: `value` (convertido para string) e `timestamp` (que registra o momento em que a mensagem foi recebida).\n",
    "\n",
    "<br>"
   ]
  },
  {
   "cell_type": "code",
   "execution_count": 8,
   "id": "c1cf5b2e",
   "metadata": {},
   "outputs": [
    {
     "data": {
      "text/plain": [
       "DataFrame[song: struct<order_id:int,id:string,name:string,popularity:int,duration_ms:double,artists:string,id_artists:string,release_date:string,danceability:double,energy:double,key:int,loudness:double,mode:int,speechiness:double,acousticness:double,instrumentalness:double,liveness:double,valence:double,tempo:double,time_signature:double>, timestamp: timestamp]"
      ]
     },
     "execution_count": 8,
     "metadata": {},
     "output_type": "execute_result"
    }
   ],
   "source": [
    "# Definimos o schema com o nome de cada coluna e o tipo de dado\n",
    "def_schema = \"order_id INT, id STRING, name STRING, popularity INT, duration_ms DOUBLE, \" \\\n",
    "             + \"artists STRING, id_artists STRING, release_date STRING, \" \\\n",
    "             + \"danceability DOUBLE,energy DOUBLE, key INT, loudness DOUBLE, \" \\\n",
    "             + \"mode INT,speechiness DOUBLE,\" \\\n",
    "             + \"acousticness DOUBLE, instrumentalness DOUBLE, liveness DOUBLE, \" \\\n",
    "             + \"valence DOUBLE, tempo DOUBLE, time_signature DOUBLE\"\n",
    "\n",
    "# Selecionamos o streaming de dados de acordo com o schema e salvamos em um novo dataframe\n",
    "df2 = df1.select(from_csv(col(\"value\"), def_schema).alias(\"song\"), \"timestamp\")\n",
    "\n",
    "df2"
   ]
  },
  {
   "cell_type": "markdown",
   "id": "c59af8f8",
   "metadata": {},
   "source": [
    "**Explicação**:\n",
    "\n",
    "- **Função**: Primeiro, define o `def_schema`, que especifica o esquema (ou estrutura) dos dados dentro da coluna `value`. Isso inclui os nomes das colunas e seus respectivos tipos de dados.\n",
    "- **Conversão**: Em seguida, a célula aplica este esquema aos dados da coluna `value` do DataFrame `df1` usando a função `from_csv`. Esta função converte a string `value` em um conjunto de colunas estruturadas de acordo com o esquema definido.\n",
    "- **Resultado**: O novo DataFrame `df2` possui uma coluna `song`, que é uma estrutura (struct) contendo todas as colunas definidas no esquema, além da coluna `timestamp` que foi mantida. \n",
    "\n",
    "<br>"
   ]
  },
  {
   "cell_type": "code",
   "execution_count": 9,
   "id": "5e99c00f",
   "metadata": {},
   "outputs": [
    {
     "name": "stdout",
     "output_type": "stream",
     "text": [
      "root\n",
      " |-- order_id: integer (nullable = true)\n",
      " |-- id: string (nullable = true)\n",
      " |-- name: string (nullable = true)\n",
      " |-- popularity: integer (nullable = true)\n",
      " |-- duration_ms: double (nullable = true)\n",
      " |-- artists: string (nullable = true)\n",
      " |-- id_artists: string (nullable = true)\n",
      " |-- release_date: string (nullable = true)\n",
      " |-- danceability: double (nullable = true)\n",
      " |-- energy: double (nullable = true)\n",
      " |-- key: integer (nullable = true)\n",
      " |-- loudness: double (nullable = true)\n",
      " |-- mode: integer (nullable = true)\n",
      " |-- speechiness: double (nullable = true)\n",
      " |-- acousticness: double (nullable = true)\n",
      " |-- instrumentalness: double (nullable = true)\n",
      " |-- liveness: double (nullable = true)\n",
      " |-- valence: double (nullable = true)\n",
      " |-- tempo: double (nullable = true)\n",
      " |-- time_signature: double (nullable = true)\n",
      " |-- timestamp: timestamp (nullable = true)\n",
      "\n"
     ]
    }
   ],
   "source": [
    "# Criamos uma view na memória do Spark e visualizamos o schema\n",
    "df3 = df2.select(\"song.*\", \"timestamp\")  \n",
    "df3.createOrReplaceTempView(\"df3_View\")\n",
    "\n",
    "df3.printSchema()"
   ]
  },
  {
   "cell_type": "code",
   "execution_count": 10,
   "id": "d8b1cea1",
   "metadata": {},
   "outputs": [],
   "source": [
    "# Não podemos visualizar ainda, pois temos que gerar o stream do Spark Streaming\n",
    "# df3.show()"
   ]
  },
  {
   "cell_type": "markdown",
   "id": "ccfa2483",
   "metadata": {},
   "source": [
    "**Explicação**:\n",
    "\n",
    "- **Função**: Nesta célula, o código desestrutura a coluna song em colunas individuais usando `df2.select(\"song.*\", \"timestamp\")`, criando um novo DataFrame `df3` que contém todas as colunas da estrutura `song` mais a coluna ``timestamp`.\n",
    "- **View Temporária**: A célula então cria uma view temporária chamada `df3_View` na memória do Spark, permitindo que você faça consultas SQL diretamente sobre esses dados.\n",
    "- **Exibição do Schema**: Por fim, a função printSchema exibe a estrutura das colunas e seus tipos de dados no DataFrame `df3`, ajudando a confirmar que os dados foram corretamente transformados e estruturados.\n",
    "\n",
    "<br>\n",
    "\n",
    "**Resumo**: Transforma os dados do streaming em colunas estruturadas, define o schema, e cria uma view temporária para consultas SQL.\n",
    "\n",
    "<br><br>\n",
    "\n",
    "# 5. Consulta e Visualização dos Dados em Tempo Real\n",
    "\n",
    "<br>\n",
    "\n",
    "> Nesta seção, você configurará o Spark Streaming para consultar e visualizar os dados em `tempo real à medida que eles chegam do Kafka`.\n",
    "\n",
    "> Os dados só poderão ser `visualizados caso estejam sendo consumidos em tempo real no script da` **Parte 1** `deste projeto`.\n",
    "\n",
    "<br>\n",
    "\n",
    "### 5.1 Seleção dos Dados com as Músicas do Stream"
   ]
  },
  {
   "cell_type": "code",
   "execution_count": 11,
   "id": "78df912d",
   "metadata": {},
   "outputs": [
    {
     "name": "stdout",
     "output_type": "stream",
     "text": [
      "Dados selecionados.\n"
     ]
    }
   ],
   "source": [
    "# Selecionamos os dados com as músicas do stream\n",
    "musicas_stream = spark.sql(\"SELECT * FROM df3_View\")\n",
    "\n",
    "print('Dados selecionados.')"
   ]
  },
  {
   "cell_type": "markdown",
   "id": "eed3c561",
   "metadata": {},
   "source": [
    "**Explicação**:\n",
    "\n",
    "- **Função**: Esta linha executa uma consulta SQL no Spark para selecionar todos os dados da view temporária `df3_View` que foi criada anteriormente.\n",
    "- **Resultado**: O resultado é um DataFrame chamado `musicas_stream`, que contém todos os dados estruturados das músicas que foram processadas e armazenadas na view `df3_View`.\n",
    "\n",
    "<br>\n",
    "\n",
    "### 5.2 Criação e Configuração do Stream de Dados no Spark Streaming"
   ]
  },
  {
   "cell_type": "code",
   "execution_count": 12,
   "id": "a24c94ef",
   "metadata": {},
   "outputs": [
    {
     "name": "stdout",
     "output_type": "stream",
     "text": [
      "Processo concluído.\n"
     ]
    }
   ],
   "source": [
    "# Parar todas as consultas de streaming ativas\n",
    "for stream in spark.streams.active:\n",
    "    stream.stop()\n",
    "\n",
    "# Criar o stream de dados no Spark Streaming com modo 'append'\n",
    "musicas_stream_spark = musicas_stream \\\n",
    "    .writeStream \\\n",
    "    .trigger(processingTime='5 seconds') \\\n",
    "    .outputMode(\"append\") \\\n",
    "    .option(\"truncate\", \"false\") \\\n",
    "    .format(\"memory\") \\\n",
    "    .queryName(\"tabela_spark\") \\\n",
    "    .start()\n",
    "\n",
    "print('Processo concluído.')"
   ]
  },
  {
   "cell_type": "markdown",
   "id": "4a5f9f16",
   "metadata": {},
   "source": [
    "**Explicação**:\n",
    "\n",
    "- **Função Geral**: Este bloco de código configura e inicia um stream de dados usando Spark Streaming, que permite processar dados em tempo real.\n",
    "- **writeStream**: O método writeStream indica que você está criando um fluxo de saída (stream) a partir do DataFrame musicas_stream.\n",
    "- **trigger(processingTime = '5 seconds')**: Define o intervalo de tempo para processar novos dados. Neste caso, o Spark verificará novos dados a cada 5 segundos e os processará.\n",
    "- **outputMode(\"append\")**: Especifica que os novos dados serão adicionados ao stream existente sem substituir os dados anteriores. Ou seja, os dados novos são \"acrescentados\" ao final do stream.\n",
    "- **option(\"truncate\", \"false\")**: Esta opção evita que os dados sejam truncados quando exibidos no console ou armazenados na memória. Isso é útil para garantir que você veja todos os dados completos.\n",
    "- **format(\"memory\")**: Especifica que os dados do stream serão mantidos na memória, permitindo consultas rápidas. Esse é um formato útil para visualização e depuração de dados em tempo real.\n",
    "- **queryName(\"tabela_spark\")**: Define um nome para a consulta do stream. Isso cria uma tabela temporária chamada tabela_spark que pode ser consultada usando SQL enquanto o stream estiver ativo.\n",
    "- **start()**: Inicia o stream de dados. A partir deste ponto, o Spark começa a processar e armazenar os dados conforme eles chegam, de acordo com as configurações definidas.\n",
    "\n",
    "<br>\n",
    "\n",
    "### 5.3 Espera pela Terminação"
   ]
  },
  {
   "cell_type": "code",
   "execution_count": 13,
   "id": "d514e629",
   "metadata": {},
   "outputs": [
    {
     "data": {
      "text/plain": [
       "False"
      ]
     },
     "execution_count": 13,
     "metadata": {},
     "output_type": "execute_result"
    }
   ],
   "source": [
    "musicas_stream_spark.awaitTermination(2)"
   ]
  },
  {
   "cell_type": "markdown",
   "id": "e3032bbf",
   "metadata": {},
   "source": [
    "**Explicação**:\n",
    "\n",
    "- **Função**: Este comando faz com que o código aguarde por 2 segundos a execução do stream antes de prosseguir.\n",
    "- **Uso Prático**: Isso é útil para permitir que o stream processe alguns dados iniciais e, ao mesmo tempo, dar ao desenvolvedor a oportunidade de ver o comportamento do stream de forma controlada.\n",
    "\n",
    "<br>\n",
    "\n",
    "### 5.4 Visualizando os Dados"
   ]
  },
  {
   "cell_type": "code",
   "execution_count": 14,
   "id": "a0967dd0",
   "metadata": {},
   "outputs": [
    {
     "name": "stdout",
     "output_type": "stream",
     "text": [
      "+--------+---+----+----------+-----------+-------+----------+------------+------------+------+---+--------+----+-----------+------------+----------------+--------+-------+-----+--------------+---------+\n",
      "|order_id| id|name|popularity|duration_ms|artists|id_artists|release_date|danceability|energy|key|loudness|mode|speechiness|acousticness|instrumentalness|liveness|valence|tempo|time_signature|timestamp|\n",
      "+--------+---+----+----------+-----------+-------+----------+------------+------------+------+---+--------+----+-----------+------------+----------------+--------+-------+-----+--------------+---------+\n",
      "+--------+---+----+----------+-----------+-------+----------+------------+------------+------+---+--------+----+-----------+------------+----------------+--------+-------+-----+--------------+---------+\n",
      "\n"
     ]
    }
   ],
   "source": [
    "# Selecionamos e Visualizando as músicas da tabela de stream do Spark\n",
    "spark_songs = spark.sql(\"SELECT * FROM tabela_spark\")\n",
    "\n",
    "# Agora sim podemos visualizar o stream em tempo real como tabela do Spark\n",
    "spark_songs.show(5)"
   ]
  },
  {
   "cell_type": "code",
   "execution_count": 15,
   "id": "790046ff",
   "metadata": {},
   "outputs": [
    {
     "name": "stdout",
     "output_type": "stream",
     "text": [
      "+--------+---+----+----------+-----------+-------+\n",
      "|order_id| id|name|popularity|duration_ms|artists|\n",
      "+--------+---+----+----------+-----------+-------+\n",
      "+--------+---+----+----------+-----------+-------+\n",
      "\n"
     ]
    }
   ],
   "source": [
    "# Podemos visualizar apenas algumas colunas, por exemplo\n",
    "spark_songs.select('order_id', 'id', 'name', 'popularity', 'duration_ms', 'artists').show(5)"
   ]
  },
  {
   "cell_type": "code",
   "execution_count": 16,
   "id": "9de64ee5",
   "metadata": {},
   "outputs": [
    {
     "data": {
      "text/plain": [
       "0"
      ]
     },
     "execution_count": 16,
     "metadata": {},
     "output_type": "execute_result"
    }
   ],
   "source": [
    "# Contagem de músicas extraídas em tempo real\n",
    "spark_songs.count()"
   ]
  },
  {
   "cell_type": "markdown",
   "id": "1d8eeb14",
   "metadata": {},
   "source": [
    "**Explicação**: Se o valor acima for **zero** significa que não estamos consumindo dados em tempo real no momento.\n",
    "\n",
    "<br><br>\n",
    "\n",
    "# 6. Consulta e Visualização dos Dados em Modo Batch\n",
    "\n",
    "\n",
    "> **Importante**: A `etapa 6` realiza as `etapas 3 e 4 em uma única célula`, pois combina a leitura dos dados do Kafka em modo batch (semelhante ao que é feito na etapa 3, que usa o Spark Streaming para ler os dados em tempo real) com o processamento e transformação dos dados (que foi feito na etapa 4 para estruturar e aplicar um schema).\n",
    "\n",
    "> Nesta seção, você configurará a leitura dos dados do Kafka em `modo batch, o que significa que todos os dados desde o início até o último offset disponível no Kafka serão lidos de uma vez`.\n",
    "\n",
    "<br>"
   ]
  },
  {
   "cell_type": "code",
   "execution_count": 17,
   "id": "42d79ebc",
   "metadata": {},
   "outputs": [
    {
     "name": "stdout",
     "output_type": "stream",
     "text": [
      "\n",
      "O DataFrame `spark_songs` está vazio. Vamos carregar os dados em modo batch.\n",
      "\n"
     ]
    },
    {
     "name": "stderr",
     "output_type": "stream",
     "text": [
      "\r",
      "[Stage 5:>                                                          (0 + 1) / 1]\r"
     ]
    },
    {
     "name": "stdout",
     "output_type": "stream",
     "text": [
      "+--------+----------------------+-------------+----------+-----------+--------------------+--------------------------------------+------------+------------+------+---+--------+----+-----------+------------+----------------+--------+-------+-------+--------------+-----------------------+\n",
      "|order_id|id                    |name         |popularity|duration_ms|artists             |id_artists                            |release_date|danceability|energy|key|loudness|mode|speechiness|acousticness|instrumentalness|liveness|valence|tempo  |time_signature|timestamp              |\n",
      "+--------+----------------------+-------------+----------+-----------+--------------------+--------------------------------------+------------+------------+------+---+--------+----+-----------+------------+----------------+--------+-------+-------+--------------+-----------------------+\n",
      "|0       |22a0Ji6EQKkY0tBohlN4Od|There You Are|2         |231240.0   |KirstenLudwig       |qLyYYhSlsjwymwVKwW                    |2018-08-06  |0.487       |0.707 |9  |-5.596  |0   |0.0304     |0.334       |0.282           |0.105   |0.316  |129.856|4.0           |2024-08-28 11:43:33.959|\n",
      "|1       |4J39ZEbwqHwtWLImUKmrn9|88 Days      |8         |227961.0   |SaraKingIanOlney    |CRfAxYjJsDBHwvWFnjaRRRPXwFwQmoTNqNHBGU|2018-08-04  |0.335       |0.401 |3  |-10.749 |1   |0.0333     |0.134       |0.582           |0.134   |0.233  |155.062|4.0           |2024-08-28 11:43:34.961|\n",
      "|2       |0a12d4HUjOmQSqHqLopWYx|Castaway     |0         |230000.0   |ARZLEE              |hytHTGTflktWAhKcxQ                    |2018-08-10  |0.553       |0.422 |1  |-11.29  |1   |0.0314     |0.11        |3.25E-5         |0.119   |0.29   |83.988 |4.0           |2024-08-28 11:43:35.963|\n",
      "|3       |4u1DykFW1HjYAGNoDCiXfC|Arouse       |30        |213913.0   |Shagabondgoodboynoah|WjyoJHRHlTbUTZTwqpAgeqmtJlARXjon      |2018-08-03  |0.67        |0.751 |1  |-6.066  |1   |0.433      |0.0728      |0.0             |0.368   |0.533  |91.961 |4.0           |2024-08-28 11:43:36.966|\n",
      "|4       |0u7JZm9ORerlZnnxxSdMwl|Lonely       |21        |258738.0   |Hayleau             |AdKmjgFzpcTvmVfGwR                    |2018-08-10  |0.67        |0.709 |8  |-3.921  |0   |0.0406     |0.0169      |6.3E-4          |0.0542  |0.577  |98.954 |4.0           |2024-08-28 11:43:37.967|\n",
      "+--------+----------------------+-------------+----------+-----------+--------------------+--------------------------------------+------------+------------+------+---+--------+----+-----------+------------+----------------+--------+-------+-------+--------------+-----------------------+\n",
      "only showing top 5 rows\n",
      "\n"
     ]
    },
    {
     "name": "stderr",
     "output_type": "stream",
     "text": [
      "\r",
      "                                                                                \r"
     ]
    }
   ],
   "source": [
    "# Verificando\n",
    "if spark_songs.count() == 0:\n",
    "    print(\"\\nO DataFrame `spark_songs` está vazio. Vamos carregar os dados em modo batch.\\n\")\n",
    "    \n",
    "    # Configuração para leitura dos dados do Kafka em modo batch\n",
    "    df_batch = spark \\\n",
    "        .read \\\n",
    "        .format(\"kafka\") \\\n",
    "        .option(\"kafka.bootstrap.servers\", SERVER) \\\n",
    "        .option(\"subscribe\", TOPIC) \\\n",
    "        .option(\"startingOffsets\", \"earliest\") \\\n",
    "        .option(\"endingOffsets\", \"latest\") \\\n",
    "        .load()\n",
    "\n",
    "    # Converte os dados do Kafka (em bytes) para string e aplica o schema\n",
    "    df1_batch = df_batch.selectExpr(\"CAST(value AS STRING)\", \"timestamp\")\n",
    "\n",
    "    # Aplica o schema que você definiu anteriormente na etapa 4\n",
    "    df2_batch = df1_batch.select(from_csv(col(\"value\"), def_schema).alias(\"song\"), \"timestamp\")\n",
    "\n",
    "    # Seleciona as colunas estruturadas para visualizar\n",
    "    spark_songs = df2_batch.select(\"song.*\", \"timestamp\")\n",
    "\n",
    "    # Visualiza os dados\n",
    "    spark_songs.show(5, truncate=False)\n",
    "else:\n",
    "    print(\"\\nO DataFrame `spark_songs` tem dados.\\n\")"
   ]
  },
  {
   "cell_type": "code",
   "execution_count": 18,
   "id": "280b4912",
   "metadata": {},
   "outputs": [
    {
     "name": "stdout",
     "output_type": "stream",
     "text": [
      "Colunas de `spark_songs`:\n",
      "['order_id', 'id', 'name', 'popularity', 'duration_ms', 'artists', 'id_artists', 'release_date', 'danceability', 'energy', 'key', 'loudness', 'mode', 'speechiness', 'acousticness', 'instrumentalness', 'liveness', 'valence', 'tempo', 'time_signature', 'timestamp']\n"
     ]
    }
   ],
   "source": [
    "# Exibe o nome das colunas do DataFrame `spark_songs`\n",
    "print(\"Colunas de `spark_songs`:\")\n",
    "print(spark_songs.columns)"
   ]
  },
  {
   "cell_type": "code",
   "execution_count": 19,
   "id": "cd48dda7",
   "metadata": {},
   "outputs": [
    {
     "name": "stderr",
     "output_type": "stream",
     "text": [
      "\r",
      "[Stage 6:>                                                          (0 + 1) / 1]\r"
     ]
    },
    {
     "name": "stdout",
     "output_type": "stream",
     "text": [
      "O DataFrame `spark_songs` contém 174308 linhas.\n"
     ]
    },
    {
     "name": "stderr",
     "output_type": "stream",
     "text": [
      "\r",
      "                                                                                \r"
     ]
    }
   ],
   "source": [
    "# Conta o número de linhas no DataFrame `df_final`\n",
    "num_linhas = spark_songs.count()\n",
    "\n",
    "# Exibe a quantidade de linhas\n",
    "print(f\"O DataFrame `spark_songs` contém {num_linhas} linhas.\")"
   ]
  },
  {
   "cell_type": "markdown",
   "id": "937612f5",
   "metadata": {},
   "source": [
    "**Explicação**: Acima é visualizado os dados quando estão em **modo batch**.\n",
    "\n",
    "<br><br>\n",
    "\n",
    "# 7. Extração de Dados do Spotify"
   ]
  },
  {
   "cell_type": "code",
   "execution_count": 52,
   "id": "117e49c2",
   "metadata": {},
   "outputs": [
    {
     "name": "stdout",
     "output_type": "stream",
     "text": [
      "Total de Músicas na Lista de Favoritos: 163\n",
      "\n",
      "Número de Músicas Extraídas para o Sistema de Recomendação: 50\n",
      "\n",
      "Tipo do Objeto:  <class 'dict'>\n",
      "\n",
      "Etapa concluída.\n"
     ]
    }
   ],
   "source": [
    "## Aqui você coloca as suas chaves da API do Spotify\n",
    "os.environ[\"SPOTIPY_CLIENT_ID\"] = '7c12416f4d564bc38825057a508a49b1'\n",
    "os.environ[\"SPOTIPY_CLIENT_SECRET\"] = '93dfa86e2546437d980ed78d7951e128'\n",
    "os.environ[\"SPOTIPY_REDIRECT_URI\"] = 'http://localhost:7777/callback'\n",
    "\n",
    "# Escopo de extração das preferências do usuário\n",
    "scope = 'user-library-read'\n",
    "\n",
    "# Username no Spotify (inclua_aqui_seu_email_spotify)\n",
    "username = 'eduardonitcheroy@gmail.com'\n",
    "\n",
    "# Criação do tohen de acesso\n",
    "token = spotipy.util.prompt_for_user_token(username, scope)\n",
    "\n",
    "# Cria o objeto de autenticação\n",
    "spotipy_obj = spotipy.Spotify(auth = token)\n",
    "\n",
    "# Extrai até 50 músicas da lista de favoritos do usuário (limite máximo da api é 50)\n",
    "saved_tracks = spotipy_obj.current_user_saved_tracks(limit = 50)\n",
    "\n",
    "# Número total de músicas na lista de favoritos do usuário\n",
    "n_tracks = saved_tracks['total']\n",
    "print(f'Total de Músicas na Lista de Favoritos: {n_tracks}')\n",
    "\n",
    "# Número de músicas extraídas neste lote\n",
    "n_extracted = len(saved_tracks['items'])\n",
    "print(f'\\nNúmero de Músicas Extraídas para o Sistema de Recomendação: {n_extracted}')\n",
    "\n",
    "# Tipo do Objeto\n",
    "print('\\nTipo do Objeto: ', type(saved_tracks))\n",
    "\n",
    "print('\\nEtapa concluída.')"
   ]
  },
  {
   "cell_type": "markdown",
   "id": "35f2ff0c",
   "metadata": {},
   "source": [
    "### Explicação\n",
    "\n",
    "- Configura e autentica  a API do Spotify para na sequência extrair as músicas favoritas do usuário.\n",
    "\n",
    "<br><br>\n",
    "\n",
    "# 8. Processamento de Atributos das Músicas\n",
    "\n",
    "<br><br>\n",
    "\n",
    "### 8.1 Extração e Formatação dos Atributos das Músicas\n",
    "\n",
    "Transformar o objeto lista `saved_tracks` extraído na `etapa 7` e converter para `dataframe do pandas`."
   ]
  },
  {
   "cell_type": "code",
   "execution_count": 21,
   "id": "02328740",
   "metadata": {},
   "outputs": [
    {
     "name": "stdout",
     "output_type": "stream",
     "text": [
      "Atributos disponíveis em 'saved_tracks['items'][0]['track']':\n",
      "['album', 'artists', 'available_markets', 'disc_number', 'duration_ms', 'explicit', 'external_ids', 'external_urls', 'href', 'id', 'is_local', 'name', 'popularity', 'preview_url', 'track_number', 'type', 'uri']\n"
     ]
    }
   ],
   "source": [
    "## Visualiza Nome dos Atributos do objeto saved_tracks\n",
    "\n",
    "# Obter as chaves do primeiro item na lista de músicas salvas para visualizar os atributos disponíveis\n",
    "if 'items' in saved_tracks and len(saved_tracks['items']) > 0:\n",
    "    # O 'track' contém as informações da música\n",
    "    track_attributes = saved_tracks['items'][0]['track'].keys()\n",
    "    print(\"Atributos disponíveis em 'saved_tracks['items'][0]['track']':\")\n",
    "    print(list(track_attributes))\n",
    "else:\n",
    "    print(\"Nenhuma música foi encontrada em 'saved_tracks'.\")"
   ]
  },
  {
   "cell_type": "code",
   "execution_count": 22,
   "id": "8f700d9c",
   "metadata": {},
   "outputs": [
    {
     "data": {
      "text/html": [
       "<div>\n",
       "<style scoped>\n",
       "    .dataframe tbody tr th:only-of-type {\n",
       "        vertical-align: middle;\n",
       "    }\n",
       "\n",
       "    .dataframe tbody tr th {\n",
       "        vertical-align: top;\n",
       "    }\n",
       "\n",
       "    .dataframe thead th {\n",
       "        text-align: right;\n",
       "    }\n",
       "</style>\n",
       "<table border=\"1\" class=\"dataframe\">\n",
       "  <thead>\n",
       "    <tr style=\"text-align: right;\">\n",
       "      <th></th>\n",
       "      <th>id</th>\n",
       "      <th>name</th>\n",
       "      <th>artists</th>\n",
       "      <th>popularity</th>\n",
       "    </tr>\n",
       "  </thead>\n",
       "  <tbody>\n",
       "    <tr>\n",
       "      <th>0</th>\n",
       "      <td>6ZcNZYOqWfS2dYw7hLeQXK</td>\n",
       "      <td>Spending My Time</td>\n",
       "      <td>Roxette</td>\n",
       "      <td>46</td>\n",
       "    </tr>\n",
       "    <tr>\n",
       "      <th>1</th>\n",
       "      <td>1kvq7ksGQWSyRysYYNd6lu</td>\n",
       "      <td>Home Sweet Home</td>\n",
       "      <td>Mötley Crüe</td>\n",
       "      <td>68</td>\n",
       "    </tr>\n",
       "    <tr>\n",
       "      <th>2</th>\n",
       "      <td>4s686onxhVJEKyQ9gnx9IE</td>\n",
       "      <td>High Hopes - Live At Pompeii 2016</td>\n",
       "      <td>David Gilmour</td>\n",
       "      <td>45</td>\n",
       "    </tr>\n",
       "    <tr>\n",
       "      <th>3</th>\n",
       "      <td>6IYLjqSKQ4ma8FwlZd9LLI</td>\n",
       "      <td>Rattle That Lock</td>\n",
       "      <td>David Gilmour</td>\n",
       "      <td>46</td>\n",
       "    </tr>\n",
       "    <tr>\n",
       "      <th>4</th>\n",
       "      <td>0M8rrUcBYXa24y3AIKQ19z</td>\n",
       "      <td>Comfortably Numb - Live At Pompeii 2016</td>\n",
       "      <td>David Gilmour</td>\n",
       "      <td>53</td>\n",
       "    </tr>\n",
       "    <tr>\n",
       "      <th>5</th>\n",
       "      <td>3MrRksHupTVEQ7YbA0FsZK</td>\n",
       "      <td>The Final Countdown</td>\n",
       "      <td>Europe</td>\n",
       "      <td>76</td>\n",
       "    </tr>\n",
       "    <tr>\n",
       "      <th>6</th>\n",
       "      <td>6Zo58fraaPpTUUdYHwH0sf</td>\n",
       "      <td>Por Enquanto - Ao Vivo</td>\n",
       "      <td>Cássia Eller</td>\n",
       "      <td>69</td>\n",
       "    </tr>\n",
       "    <tr>\n",
       "      <th>7</th>\n",
       "      <td>4lwUIfJPyeKqGhG9KtHtIv</td>\n",
       "      <td>O Segundo Sol</td>\n",
       "      <td>Cássia Eller</td>\n",
       "      <td>61</td>\n",
       "    </tr>\n",
       "    <tr>\n",
       "      <th>8</th>\n",
       "      <td>1X95pCQG939KCbJL6yVQgw</td>\n",
       "      <td>Evidências</td>\n",
       "      <td>Chitãozinho &amp; Xororó</td>\n",
       "      <td>66</td>\n",
       "    </tr>\n",
       "    <tr>\n",
       "      <th>9</th>\n",
       "      <td>7h8fXKTOWxJ96FrTkcdcoo</td>\n",
       "      <td>Certas Coisas</td>\n",
       "      <td>Lulu Santos</td>\n",
       "      <td>51</td>\n",
       "    </tr>\n",
       "    <tr>\n",
       "      <th>10</th>\n",
       "      <td>1TIvODlICRKM5uhbKbNFGA</td>\n",
       "      <td>Tempos Modernos</td>\n",
       "      <td>Lulu Santos</td>\n",
       "      <td>64</td>\n",
       "    </tr>\n",
       "    <tr>\n",
       "      <th>11</th>\n",
       "      <td>5MjHgDtqDaHkttdqOxs4aj</td>\n",
       "      <td>Tão Bem</td>\n",
       "      <td>Lulu Santos</td>\n",
       "      <td>56</td>\n",
       "    </tr>\n",
       "    <tr>\n",
       "      <th>12</th>\n",
       "      <td>6YNCE5qtrTa7YcnAOAEsDQ</td>\n",
       "      <td>Apenas Mais uma de Amor</td>\n",
       "      <td>Lulu Santos</td>\n",
       "      <td>68</td>\n",
       "    </tr>\n",
       "    <tr>\n",
       "      <th>13</th>\n",
       "      <td>3QmesrvdbPjwf7i40nht1D</td>\n",
       "      <td>Everlong - Acoustic Version</td>\n",
       "      <td>Foo Fighters</td>\n",
       "      <td>67</td>\n",
       "    </tr>\n",
       "    <tr>\n",
       "      <th>14</th>\n",
       "      <td>67vYdAAM3oGsEImCRfbtsF</td>\n",
       "      <td>Times Like These</td>\n",
       "      <td>Foo Fighters</td>\n",
       "      <td>68</td>\n",
       "    </tr>\n",
       "    <tr>\n",
       "      <th>15</th>\n",
       "      <td>4dVbhS6OiYvFikshyaQaCN</td>\n",
       "      <td>My Hero</td>\n",
       "      <td>Foo Fighters</td>\n",
       "      <td>75</td>\n",
       "    </tr>\n",
       "    <tr>\n",
       "      <th>16</th>\n",
       "      <td>5FZxsHWIvUsmSK1IAvm2pp</td>\n",
       "      <td>Best of You</td>\n",
       "      <td>Foo Fighters</td>\n",
       "      <td>75</td>\n",
       "    </tr>\n",
       "    <tr>\n",
       "      <th>17</th>\n",
       "      <td>5OQsiBsky2k2kDKy2bX2eT</td>\n",
       "      <td>Learn to Fly</td>\n",
       "      <td>Foo Fighters</td>\n",
       "      <td>76</td>\n",
       "    </tr>\n",
       "    <tr>\n",
       "      <th>18</th>\n",
       "      <td>5UWwZ5lm5PKu6eKsHAGxOk</td>\n",
       "      <td>Everlong</td>\n",
       "      <td>Foo Fighters</td>\n",
       "      <td>83</td>\n",
       "    </tr>\n",
       "    <tr>\n",
       "      <th>19</th>\n",
       "      <td>2mvffzYUJ9Ld9xhsF5DUjU</td>\n",
       "      <td>In Bloom</td>\n",
       "      <td>Nirvana</td>\n",
       "      <td>68</td>\n",
       "    </tr>\n",
       "    <tr>\n",
       "      <th>20</th>\n",
       "      <td>5vHLwhxxlGzmClMcxRRFPr</td>\n",
       "      <td>Lithium</td>\n",
       "      <td>Nirvana</td>\n",
       "      <td>72</td>\n",
       "    </tr>\n",
       "    <tr>\n",
       "      <th>21</th>\n",
       "      <td>2SHTKB8YYlawTGIuJ2b2ok</td>\n",
       "      <td>About A Girl</td>\n",
       "      <td>Nirvana</td>\n",
       "      <td>80</td>\n",
       "    </tr>\n",
       "    <tr>\n",
       "      <th>22</th>\n",
       "      <td>11LmqTE2naFULdEP94AUBa</td>\n",
       "      <td>Heart-Shaped Box</td>\n",
       "      <td>Nirvana</td>\n",
       "      <td>81</td>\n",
       "    </tr>\n",
       "    <tr>\n",
       "      <th>23</th>\n",
       "      <td>2RsAajgo0g7bMCHxwH3Sk0</td>\n",
       "      <td>Come As You Are</td>\n",
       "      <td>Nirvana</td>\n",
       "      <td>79</td>\n",
       "    </tr>\n",
       "    <tr>\n",
       "      <th>24</th>\n",
       "      <td>4CeeEOM32jQcH3eN9Q2dGj</td>\n",
       "      <td>Smells Like Teen Spirit</td>\n",
       "      <td>Nirvana</td>\n",
       "      <td>82</td>\n",
       "    </tr>\n",
       "    <tr>\n",
       "      <th>25</th>\n",
       "      <td>6Qyc6fS4DsZjB2mRW9DsQs</td>\n",
       "      <td>Iris</td>\n",
       "      <td>The Goo Goo Dolls</td>\n",
       "      <td>88</td>\n",
       "    </tr>\n",
       "    <tr>\n",
       "      <th>26</th>\n",
       "      <td>2bVvjh7n3w1TGTHNHZ6aNE</td>\n",
       "      <td>Por Você</td>\n",
       "      <td>Frejat</td>\n",
       "      <td>50</td>\n",
       "    </tr>\n",
       "    <tr>\n",
       "      <th>27</th>\n",
       "      <td>0YtD2P3M3d56pv0OkNpsHl</td>\n",
       "      <td>Amor pra recomeçar</td>\n",
       "      <td>Frejat</td>\n",
       "      <td>65</td>\n",
       "    </tr>\n",
       "    <tr>\n",
       "      <th>28</th>\n",
       "      <td>2R0478PhcwKMYLTiJHAuTH</td>\n",
       "      <td>Segredos</td>\n",
       "      <td>Frejat</td>\n",
       "      <td>68</td>\n",
       "    </tr>\n",
       "    <tr>\n",
       "      <th>29</th>\n",
       "      <td>05rWggLwQ2weA4D2cRAt55</td>\n",
       "      <td>Far Away - 2020 Remaster</td>\n",
       "      <td>Nickelback</td>\n",
       "      <td>67</td>\n",
       "    </tr>\n",
       "    <tr>\n",
       "      <th>30</th>\n",
       "      <td>0gmbgwZ8iqyMPmXefof8Yf</td>\n",
       "      <td>How You Remind Me</td>\n",
       "      <td>Nickelback</td>\n",
       "      <td>85</td>\n",
       "    </tr>\n",
       "    <tr>\n",
       "      <th>31</th>\n",
       "      <td>1bKQ48M9onID2kbSpRy8kK</td>\n",
       "      <td>Send Me An Angel</td>\n",
       "      <td>Scorpions</td>\n",
       "      <td>69</td>\n",
       "    </tr>\n",
       "    <tr>\n",
       "      <th>32</th>\n",
       "      <td>3ovjw5HZZv43SxTwApooCM</td>\n",
       "      <td>Wind Of Change</td>\n",
       "      <td>Scorpions</td>\n",
       "      <td>79</td>\n",
       "    </tr>\n",
       "    <tr>\n",
       "      <th>33</th>\n",
       "      <td>7kjsCbksOZotNNHOvKsJJh</td>\n",
       "      <td>Still Loving You</td>\n",
       "      <td>Scorpions</td>\n",
       "      <td>65</td>\n",
       "    </tr>\n",
       "    <tr>\n",
       "      <th>34</th>\n",
       "      <td>3bP47tw8MOgtrwdO1iahVl</td>\n",
       "      <td>To Be With You</td>\n",
       "      <td>Mr. Big</td>\n",
       "      <td>56</td>\n",
       "    </tr>\n",
       "    <tr>\n",
       "      <th>35</th>\n",
       "      <td>0tgVpDi06FyKpA1z0VMD4v</td>\n",
       "      <td>Perfect</td>\n",
       "      <td>Ed Sheeran</td>\n",
       "      <td>85</td>\n",
       "    </tr>\n",
       "    <tr>\n",
       "      <th>36</th>\n",
       "      <td>72hpTHMLFrO4ErhSQl2FhZ</td>\n",
       "      <td>Can't Stop Lovin' You</td>\n",
       "      <td>Van Halen</td>\n",
       "      <td>60</td>\n",
       "    </tr>\n",
       "    <tr>\n",
       "      <th>37</th>\n",
       "      <td>0wokCRaKD0zPNhMRXAgVsr</td>\n",
       "      <td>Ordinary World</td>\n",
       "      <td>Duran Duran</td>\n",
       "      <td>76</td>\n",
       "    </tr>\n",
       "    <tr>\n",
       "      <th>38</th>\n",
       "      <td>0QnONzv3TvHAWk294h6DaQ</td>\n",
       "      <td>Last Kiss</td>\n",
       "      <td>Pearl Jam</td>\n",
       "      <td>71</td>\n",
       "    </tr>\n",
       "    <tr>\n",
       "      <th>39</th>\n",
       "      <td>1L94M3KIu7QluZe63g64rv</td>\n",
       "      <td>Alive</td>\n",
       "      <td>Pearl Jam</td>\n",
       "      <td>74</td>\n",
       "    </tr>\n",
       "    <tr>\n",
       "      <th>40</th>\n",
       "      <td>6QewNVIDKdSl8Y3ycuHIei</td>\n",
       "      <td>Even Flow</td>\n",
       "      <td>Pearl Jam</td>\n",
       "      <td>77</td>\n",
       "    </tr>\n",
       "    <tr>\n",
       "      <th>41</th>\n",
       "      <td>6wpGqhRvJGNNXwWlPmkMyO</td>\n",
       "      <td>I Still Haven't Found What I'm Looking For</td>\n",
       "      <td>U2</td>\n",
       "      <td>78</td>\n",
       "    </tr>\n",
       "    <tr>\n",
       "      <th>42</th>\n",
       "      <td>1Og8U5KRel9D51h4bmznlE</td>\n",
       "      <td>With Or Without You</td>\n",
       "      <td>U2</td>\n",
       "      <td>57</td>\n",
       "    </tr>\n",
       "    <tr>\n",
       "      <th>43</th>\n",
       "      <td>3G69vJMWsX6ZohTykad2AU</td>\n",
       "      <td>One</td>\n",
       "      <td>U2</td>\n",
       "      <td>75</td>\n",
       "    </tr>\n",
       "    <tr>\n",
       "      <th>44</th>\n",
       "      <td>3kfXUGIdBNpyr2gBvU3Guj</td>\n",
       "      <td>Angel</td>\n",
       "      <td>Aerosmith</td>\n",
       "      <td>62</td>\n",
       "    </tr>\n",
       "    <tr>\n",
       "      <th>45</th>\n",
       "      <td>4t1fWWJQs5V9YErfsrDslC</td>\n",
       "      <td>Cryin'</td>\n",
       "      <td>Aerosmith</td>\n",
       "      <td>70</td>\n",
       "    </tr>\n",
       "    <tr>\n",
       "      <th>46</th>\n",
       "      <td>3QxKpdTB8ZSFn8MGeCCpsQ</td>\n",
       "      <td>Crazy</td>\n",
       "      <td>Aerosmith</td>\n",
       "      <td>73</td>\n",
       "    </tr>\n",
       "    <tr>\n",
       "      <th>47</th>\n",
       "      <td>4JfuiOWlWCkjP6OKurHjSn</td>\n",
       "      <td>Walk This Way</td>\n",
       "      <td>Aerosmith</td>\n",
       "      <td>74</td>\n",
       "    </tr>\n",
       "    <tr>\n",
       "      <th>48</th>\n",
       "      <td>5qlJg0Wbj3sslxfwiaRNpq</td>\n",
       "      <td>I Don't Want To Miss A Thing - From \"Armageddo...</td>\n",
       "      <td>Aerosmith</td>\n",
       "      <td>76</td>\n",
       "    </tr>\n",
       "    <tr>\n",
       "      <th>49</th>\n",
       "      <td>1xsYj84j7hUDDnTTerGWlH</td>\n",
       "      <td>Dream On</td>\n",
       "      <td>Aerosmith</td>\n",
       "      <td>82</td>\n",
       "    </tr>\n",
       "  </tbody>\n",
       "</table>\n",
       "</div>"
      ],
      "text/plain": [
       "                        id                                               name  \\\n",
       "0   6ZcNZYOqWfS2dYw7hLeQXK                                   Spending My Time   \n",
       "1   1kvq7ksGQWSyRysYYNd6lu                                    Home Sweet Home   \n",
       "2   4s686onxhVJEKyQ9gnx9IE                  High Hopes - Live At Pompeii 2016   \n",
       "3   6IYLjqSKQ4ma8FwlZd9LLI                                   Rattle That Lock   \n",
       "4   0M8rrUcBYXa24y3AIKQ19z            Comfortably Numb - Live At Pompeii 2016   \n",
       "5   3MrRksHupTVEQ7YbA0FsZK                                The Final Countdown   \n",
       "6   6Zo58fraaPpTUUdYHwH0sf                             Por Enquanto - Ao Vivo   \n",
       "7   4lwUIfJPyeKqGhG9KtHtIv                                      O Segundo Sol   \n",
       "8   1X95pCQG939KCbJL6yVQgw                                         Evidências   \n",
       "9   7h8fXKTOWxJ96FrTkcdcoo                                      Certas Coisas   \n",
       "10  1TIvODlICRKM5uhbKbNFGA                                    Tempos Modernos   \n",
       "11  5MjHgDtqDaHkttdqOxs4aj                                            Tão Bem   \n",
       "12  6YNCE5qtrTa7YcnAOAEsDQ                            Apenas Mais uma de Amor   \n",
       "13  3QmesrvdbPjwf7i40nht1D                        Everlong - Acoustic Version   \n",
       "14  67vYdAAM3oGsEImCRfbtsF                                   Times Like These   \n",
       "15  4dVbhS6OiYvFikshyaQaCN                                            My Hero   \n",
       "16  5FZxsHWIvUsmSK1IAvm2pp                                        Best of You   \n",
       "17  5OQsiBsky2k2kDKy2bX2eT                                       Learn to Fly   \n",
       "18  5UWwZ5lm5PKu6eKsHAGxOk                                           Everlong   \n",
       "19  2mvffzYUJ9Ld9xhsF5DUjU                                           In Bloom   \n",
       "20  5vHLwhxxlGzmClMcxRRFPr                                            Lithium   \n",
       "21  2SHTKB8YYlawTGIuJ2b2ok                                       About A Girl   \n",
       "22  11LmqTE2naFULdEP94AUBa                                   Heart-Shaped Box   \n",
       "23  2RsAajgo0g7bMCHxwH3Sk0                                    Come As You Are   \n",
       "24  4CeeEOM32jQcH3eN9Q2dGj                            Smells Like Teen Spirit   \n",
       "25  6Qyc6fS4DsZjB2mRW9DsQs                                               Iris   \n",
       "26  2bVvjh7n3w1TGTHNHZ6aNE                                           Por Você   \n",
       "27  0YtD2P3M3d56pv0OkNpsHl                                 Amor pra recomeçar   \n",
       "28  2R0478PhcwKMYLTiJHAuTH                                           Segredos   \n",
       "29  05rWggLwQ2weA4D2cRAt55                           Far Away - 2020 Remaster   \n",
       "30  0gmbgwZ8iqyMPmXefof8Yf                                  How You Remind Me   \n",
       "31  1bKQ48M9onID2kbSpRy8kK                                   Send Me An Angel   \n",
       "32  3ovjw5HZZv43SxTwApooCM                                     Wind Of Change   \n",
       "33  7kjsCbksOZotNNHOvKsJJh                                   Still Loving You   \n",
       "34  3bP47tw8MOgtrwdO1iahVl                                     To Be With You   \n",
       "35  0tgVpDi06FyKpA1z0VMD4v                                            Perfect   \n",
       "36  72hpTHMLFrO4ErhSQl2FhZ                              Can't Stop Lovin' You   \n",
       "37  0wokCRaKD0zPNhMRXAgVsr                                     Ordinary World   \n",
       "38  0QnONzv3TvHAWk294h6DaQ                                          Last Kiss   \n",
       "39  1L94M3KIu7QluZe63g64rv                                              Alive   \n",
       "40  6QewNVIDKdSl8Y3ycuHIei                                          Even Flow   \n",
       "41  6wpGqhRvJGNNXwWlPmkMyO         I Still Haven't Found What I'm Looking For   \n",
       "42  1Og8U5KRel9D51h4bmznlE                                With Or Without You   \n",
       "43  3G69vJMWsX6ZohTykad2AU                                                One   \n",
       "44  3kfXUGIdBNpyr2gBvU3Guj                                              Angel   \n",
       "45  4t1fWWJQs5V9YErfsrDslC                                             Cryin'   \n",
       "46  3QxKpdTB8ZSFn8MGeCCpsQ                                              Crazy   \n",
       "47  4JfuiOWlWCkjP6OKurHjSn                                      Walk This Way   \n",
       "48  5qlJg0Wbj3sslxfwiaRNpq  I Don't Want To Miss A Thing - From \"Armageddo...   \n",
       "49  1xsYj84j7hUDDnTTerGWlH                                           Dream On   \n",
       "\n",
       "                 artists  popularity  \n",
       "0                Roxette          46  \n",
       "1            Mötley Crüe          68  \n",
       "2          David Gilmour          45  \n",
       "3          David Gilmour          46  \n",
       "4          David Gilmour          53  \n",
       "5                 Europe          76  \n",
       "6           Cássia Eller          69  \n",
       "7           Cássia Eller          61  \n",
       "8   Chitãozinho & Xororó          66  \n",
       "9            Lulu Santos          51  \n",
       "10           Lulu Santos          64  \n",
       "11           Lulu Santos          56  \n",
       "12           Lulu Santos          68  \n",
       "13          Foo Fighters          67  \n",
       "14          Foo Fighters          68  \n",
       "15          Foo Fighters          75  \n",
       "16          Foo Fighters          75  \n",
       "17          Foo Fighters          76  \n",
       "18          Foo Fighters          83  \n",
       "19               Nirvana          68  \n",
       "20               Nirvana          72  \n",
       "21               Nirvana          80  \n",
       "22               Nirvana          81  \n",
       "23               Nirvana          79  \n",
       "24               Nirvana          82  \n",
       "25     The Goo Goo Dolls          88  \n",
       "26                Frejat          50  \n",
       "27                Frejat          65  \n",
       "28                Frejat          68  \n",
       "29            Nickelback          67  \n",
       "30            Nickelback          85  \n",
       "31             Scorpions          69  \n",
       "32             Scorpions          79  \n",
       "33             Scorpions          65  \n",
       "34               Mr. Big          56  \n",
       "35            Ed Sheeran          85  \n",
       "36             Van Halen          60  \n",
       "37           Duran Duran          76  \n",
       "38             Pearl Jam          71  \n",
       "39             Pearl Jam          74  \n",
       "40             Pearl Jam          77  \n",
       "41                    U2          78  \n",
       "42                    U2          57  \n",
       "43                    U2          75  \n",
       "44             Aerosmith          62  \n",
       "45             Aerosmith          70  \n",
       "46             Aerosmith          73  \n",
       "47             Aerosmith          74  \n",
       "48             Aerosmith          76  \n",
       "49             Aerosmith          82  "
      ]
     },
     "execution_count": 22,
     "metadata": {},
     "output_type": "execute_result"
    }
   ],
   "source": [
    "# Cria Função para extrair os atributos selecionados do objeto saved_tracks da lista de músicas do usuário\n",
    "def select_features(track_response):\n",
    "    return {        \n",
    "        'id': str(track_response['track']['id']),\n",
    "        'name': str(track_response['track']['name']),\n",
    "        'artists': ', '.join([artist['name'] for artist in track_response['track']['artists']]),  # Remove colchetes e junta nomes com vírgula\n",
    "        'popularity': track_response['track']['popularity']\n",
    "    }\n",
    "\n",
    "# Aplica a função\n",
    "tracks = [select_features(track) for track in saved_tracks['items']]\n",
    "\n",
    "# Criamos o dataframe do pandas\n",
    "df_tracks = pd.DataFrame(tracks)\n",
    "\n",
    "# Visualiza linhas\n",
    "df_tracks"
   ]
  },
  {
   "cell_type": "markdown",
   "id": "9361169c",
   "metadata": {},
   "source": [
    "### Explicação:\n",
    "\n",
    "- **Nesta etapa**, o código extrai os principais atributos das músicas favoritas do usuário a partir da API do Spotify, como `id`, `name`, `artists`, e `popularity`. Os nomes dos artistas são formatados como uma string única, removendo os colchetes. Em seguida, os dados são organizados em um DataFrame do pandas para facilitar futuras análises.\n",
    "\n",
    "- **Resumo**: Os atributos das músicas são extraídos, formatados, e organizados em um `DataFrame do Pandas` para uso posterior.\n",
    "\n",
    "<br><br>\n",
    "\n",
    "### 8.2 Extração e Processamento de Atributos de Áudio"
   ]
  },
  {
   "cell_type": "code",
   "execution_count": 23,
   "id": "34b157c9",
   "metadata": {},
   "outputs": [
    {
     "data": {
      "text/html": [
       "<div>\n",
       "<style scoped>\n",
       "    .dataframe tbody tr th:only-of-type {\n",
       "        vertical-align: middle;\n",
       "    }\n",
       "\n",
       "    .dataframe tbody tr th {\n",
       "        vertical-align: top;\n",
       "    }\n",
       "\n",
       "    .dataframe thead th {\n",
       "        text-align: right;\n",
       "    }\n",
       "</style>\n",
       "<table border=\"1\" class=\"dataframe\">\n",
       "  <thead>\n",
       "    <tr style=\"text-align: right;\">\n",
       "      <th></th>\n",
       "      <th>id</th>\n",
       "      <th>name</th>\n",
       "      <th>artists</th>\n",
       "      <th>popularity</th>\n",
       "      <th>acousticness</th>\n",
       "      <th>speechiness</th>\n",
       "      <th>key</th>\n",
       "      <th>liveness</th>\n",
       "      <th>instrumentalness</th>\n",
       "      <th>energy</th>\n",
       "      <th>tempo</th>\n",
       "      <th>loudness</th>\n",
       "      <th>danceability</th>\n",
       "      <th>valence</th>\n",
       "    </tr>\n",
       "  </thead>\n",
       "  <tbody>\n",
       "    <tr>\n",
       "      <th>0</th>\n",
       "      <td>6ZcNZYOqWfS2dYw7hLeQXK</td>\n",
       "      <td>Spending My Time</td>\n",
       "      <td>Roxette</td>\n",
       "      <td>46</td>\n",
       "      <td>0.2380</td>\n",
       "      <td>0.0292</td>\n",
       "      <td>4</td>\n",
       "      <td>0.127</td>\n",
       "      <td>0.000115</td>\n",
       "      <td>0.574</td>\n",
       "      <td>170.549</td>\n",
       "      <td>-5.149</td>\n",
       "      <td>0.420</td>\n",
       "      <td>0.218</td>\n",
       "    </tr>\n",
       "    <tr>\n",
       "      <th>1</th>\n",
       "      <td>1kvq7ksGQWSyRysYYNd6lu</td>\n",
       "      <td>Home Sweet Home</td>\n",
       "      <td>Mötley Crüe</td>\n",
       "      <td>68</td>\n",
       "      <td>0.0983</td>\n",
       "      <td>0.0381</td>\n",
       "      <td>5</td>\n",
       "      <td>0.189</td>\n",
       "      <td>0.000004</td>\n",
       "      <td>0.776</td>\n",
       "      <td>76.301</td>\n",
       "      <td>-6.339</td>\n",
       "      <td>0.397</td>\n",
       "      <td>0.127</td>\n",
       "    </tr>\n",
       "    <tr>\n",
       "      <th>2</th>\n",
       "      <td>4s686onxhVJEKyQ9gnx9IE</td>\n",
       "      <td>High Hopes - Live At Pompeii 2016</td>\n",
       "      <td>David Gilmour</td>\n",
       "      <td>45</td>\n",
       "      <td>0.5330</td>\n",
       "      <td>0.0298</td>\n",
       "      <td>0</td>\n",
       "      <td>0.969</td>\n",
       "      <td>0.000401</td>\n",
       "      <td>0.395</td>\n",
       "      <td>73.958</td>\n",
       "      <td>-12.288</td>\n",
       "      <td>0.426</td>\n",
       "      <td>0.135</td>\n",
       "    </tr>\n",
       "    <tr>\n",
       "      <th>3</th>\n",
       "      <td>6IYLjqSKQ4ma8FwlZd9LLI</td>\n",
       "      <td>Rattle That Lock</td>\n",
       "      <td>David Gilmour</td>\n",
       "      <td>46</td>\n",
       "      <td>0.3250</td>\n",
       "      <td>0.0422</td>\n",
       "      <td>0</td>\n",
       "      <td>0.165</td>\n",
       "      <td>0.000000</td>\n",
       "      <td>0.620</td>\n",
       "      <td>120.069</td>\n",
       "      <td>-11.620</td>\n",
       "      <td>0.710</td>\n",
       "      <td>0.786</td>\n",
       "    </tr>\n",
       "    <tr>\n",
       "      <th>4</th>\n",
       "      <td>0M8rrUcBYXa24y3AIKQ19z</td>\n",
       "      <td>Comfortably Numb - Live At Pompeii 2016</td>\n",
       "      <td>David Gilmour</td>\n",
       "      <td>53</td>\n",
       "      <td>0.0260</td>\n",
       "      <td>0.0495</td>\n",
       "      <td>11</td>\n",
       "      <td>0.754</td>\n",
       "      <td>0.003820</td>\n",
       "      <td>0.641</td>\n",
       "      <td>127.142</td>\n",
       "      <td>-10.240</td>\n",
       "      <td>0.211</td>\n",
       "      <td>0.251</td>\n",
       "    </tr>\n",
       "  </tbody>\n",
       "</table>\n",
       "</div>"
      ],
      "text/plain": [
       "                       id                                     name  \\\n",
       "0  6ZcNZYOqWfS2dYw7hLeQXK                         Spending My Time   \n",
       "1  1kvq7ksGQWSyRysYYNd6lu                          Home Sweet Home   \n",
       "2  4s686onxhVJEKyQ9gnx9IE        High Hopes - Live At Pompeii 2016   \n",
       "3  6IYLjqSKQ4ma8FwlZd9LLI                         Rattle That Lock   \n",
       "4  0M8rrUcBYXa24y3AIKQ19z  Comfortably Numb - Live At Pompeii 2016   \n",
       "\n",
       "         artists  popularity  acousticness  speechiness key  liveness  \\\n",
       "0        Roxette          46        0.2380       0.0292   4     0.127   \n",
       "1    Mötley Crüe          68        0.0983       0.0381   5     0.189   \n",
       "2  David Gilmour          45        0.5330       0.0298   0     0.969   \n",
       "3  David Gilmour          46        0.3250       0.0422   0     0.165   \n",
       "4  David Gilmour          53        0.0260       0.0495  11     0.754   \n",
       "\n",
       "   instrumentalness  energy    tempo  loudness  danceability  valence  \n",
       "0          0.000115   0.574  170.549    -5.149         0.420    0.218  \n",
       "1          0.000004   0.776   76.301    -6.339         0.397    0.127  \n",
       "2          0.000401   0.395   73.958   -12.288         0.426    0.135  \n",
       "3          0.000000   0.620  120.069   -11.620         0.710    0.786  \n",
       "4          0.003820   0.641  127.142   -10.240         0.211    0.251  "
      ]
     },
     "execution_count": 23,
     "metadata": {},
     "output_type": "execute_result"
    }
   ],
   "source": [
    "# Cria Dicionário para os Atributos de Áudio\n",
    "audio_features = {}\n",
    "\n",
    "# Extrai os atributos de áudio para cada música no `df_tracks` usando o `spotipy_obj`\n",
    "for idd in df_tracks['id'].tolist():\n",
    "    audio_features[idd] = spotipy_obj.audio_features(idd)[0]\n",
    "\n",
    "# Adicionamos os atributos de áudio ao DataFrame `df_tracks`\n",
    "df_tracks['acousticness'] = df_tracks['id'].apply(lambda idd: audio_features[idd]['acousticness'])\n",
    "df_tracks['speechiness'] = df_tracks['id'].apply(lambda idd: audio_features[idd]['speechiness'])\n",
    "df_tracks['key'] = df_tracks['id'].apply(lambda idd: str(audio_features[idd]['key']))\n",
    "df_tracks['liveness'] = df_tracks['id'].apply(lambda idd: audio_features[idd]['liveness'])\n",
    "df_tracks['instrumentalness'] = df_tracks['id'].apply(lambda idd: audio_features[idd]['instrumentalness'])\n",
    "df_tracks['energy'] = df_tracks['id'].apply(lambda idd: audio_features[idd]['energy'])\n",
    "df_tracks['tempo'] = df_tracks['id'].apply(lambda idd: audio_features[idd]['tempo'])\n",
    "df_tracks['loudness'] = df_tracks['id'].apply(lambda idd: audio_features[idd]['loudness'])\n",
    "df_tracks['danceability'] = df_tracks['id'].apply(lambda idd: audio_features[idd]['danceability'])\n",
    "df_tracks['valence'] = df_tracks['id'].apply(lambda idd: audio_features[idd]['valence'])\n",
    "\n",
    "# Visualiza as primeiras linhas do DataFrame atualizado\n",
    "df_tracks.head()"
   ]
  },
  {
   "cell_type": "markdown",
   "id": "24b909e4",
   "metadata": {},
   "source": [
    "### Explicação:\n",
    "\n",
    "- **Extração de Atributos de Áudio**: O código percorre a lista de IDs das músicas extraídas e consulta a API do Spotify para obter os atributos de áudio de cada música (como `acousticness`, `speechiness`, `energy`, entre outros).\n",
    "- **Atualização do DataFrame**: Esses atributos de áudio são então adicionados ao DataFrame `df_tracks`, resultando em um conjunto de dados que inclui tanto os metadados das músicas (nome, artista, popularidade) quanto seus atributos de áudio.\n",
    "\n",
    "**Resumo**: Extrai atributos das músicas e armazena em um DataFrame Pandas.\n",
    "\n",
    "<br><br>\n",
    "\n",
    "### 8.3 Integração com os Dados do Spark Streaming\n",
    "\n",
    "Finalmente, integramos os dados de áudio extraídos do Spotify com os dados de músicas que podem estar `sendo processados em um fluxo de dados do Spark Streaming ou em Modo Batch`.\n",
    "\n",
    "**Lembrando que** `spark_songs` são as músicas para indicar enquanto `df_tracks` são as 50 músicas favoritas extraídas da lista do spotify do usuário.\n",
    "\n",
    "#### Verificando Nome das Colunas dos Dataframes `df_tracks` e `spark_songs`"
   ]
  },
  {
   "cell_type": "code",
   "execution_count": 24,
   "id": "449f77ba",
   "metadata": {},
   "outputs": [
    {
     "name": "stdout",
     "output_type": "stream",
     "text": [
      "Colunas de `df_tracks` após a integração:\n",
      "Index(['id', 'name', 'artists', 'popularity', 'acousticness', 'speechiness',\n",
      "       'key', 'liveness', 'instrumentalness', 'energy', 'tempo', 'loudness',\n",
      "       'danceability', 'valence'],\n",
      "      dtype='object')\n",
      "\n",
      "Colunas de `spark_songs`:\n",
      "['order_id', 'id', 'name', 'popularity', 'duration_ms', 'artists', 'id_artists', 'release_date', 'danceability', 'energy', 'key', 'loudness', 'mode', 'speechiness', 'acousticness', 'instrumentalness', 'liveness', 'valence', 'tempo', 'time_signature', 'timestamp']\n",
      "\n",
      "\n",
      "Não há colunas em `df_tracks` que sejam diferentes de `spark_songs`.\n",
      "\n",
      "Colunas em `spark_songs` que não estão em `df_tracks`:\n",
      "{'release_date', 'id_artists', 'duration_ms', 'mode', 'time_signature', 'timestamp', 'order_id'}\n"
     ]
    }
   ],
   "source": [
    "# Exibe o nome das colunas do DataFrame `df_tracks`\n",
    "print(\"Colunas de `df_tracks` após a integração:\")\n",
    "print(df_tracks.columns)\n",
    "\n",
    "# Exibe o nome das colunas do DataFrame `spark_songs`\n",
    "print(\"\\nColunas de `spark_songs`:\")\n",
    "print(spark_songs.columns)\n",
    "\n",
    "print('\\n')\n",
    "\n",
    "\n",
    "# Verifica as colunas presentes em df_tracks que não estão em spark_songs\n",
    "colunas_diferentes_df_tracks = set(df_tracks.columns) - set(spark_songs.columns)\n",
    "\n",
    "# Verifica as colunas presentes em spark_songs que não estão em df_tracks\n",
    "colunas_diferentes_spark_songs = set(spark_songs.columns) - set(df_tracks.columns)\n",
    "\n",
    "# Exibe as colunas diferentes, se existirem\n",
    "if colunas_diferentes_df_tracks:\n",
    "    print(\"Colunas em `df_tracks` que não estão em `spark_songs`:\")\n",
    "    print(colunas_diferentes_df_tracks)\n",
    "else:\n",
    "    print(\"Não há colunas em `df_tracks` que sejam diferentes de `spark_songs`.\")\n",
    "\n",
    "if colunas_diferentes_spark_songs:\n",
    "    print(\"\\nColunas em `spark_songs` que não estão em `df_tracks`:\")\n",
    "    print(colunas_diferentes_spark_songs)\n",
    "else:\n",
    "    print(\"\\nNão há colunas em `spark_songs` que sejam diferentes de `df_tracks`.\")"
   ]
  },
  {
   "cell_type": "markdown",
   "id": "c97c4cce",
   "metadata": {},
   "source": [
    "<br>**Explicação**: Essa célula verifica se as colunas dos dados extraídos do Spotify (`df_tracks)` e do Spark Streaming (`spark_songs`) estão alinhadas. \n",
    "\n",
    "**Isso é importante para garantir que as duas fontes de dados possam ser combinadas corretamente**, evitando problemas de incompatibilidade quando forem unidas em um único DataFrame para análise ou recomendações.\n",
    "\n",
    "<br>\n",
    "\n",
    "#### Prepara os dados do Spark Streaming para integração"
   ]
  },
  {
   "cell_type": "code",
   "execution_count": 25,
   "id": "3907eb17",
   "metadata": {},
   "outputs": [
    {
     "name": "stdout",
     "output_type": "stream",
     "text": [
      "+--------------------+-------------+----------+--------------------+------------+------+---+--------+-----------+------------+----------------+--------+-------+-------+\n",
      "|                  id|         name|popularity|             artists|danceability|energy|key|loudness|speechiness|acousticness|instrumentalness|liveness|valence|  tempo|\n",
      "+--------------------+-------------+----------+--------------------+------------+------+---+--------+-----------+------------+----------------+--------+-------+-------+\n",
      "|22a0Ji6EQKkY0tBoh...|There You Are|         2|       KirstenLudwig|       0.487| 0.707|  9|  -5.596|     0.0304|       0.334|           0.282|   0.105|  0.316|129.856|\n",
      "|4J39ZEbwqHwtWLImU...|      88 Days|         8|    SaraKingIanOlney|       0.335| 0.401|  3| -10.749|     0.0333|       0.134|           0.582|   0.134|  0.233|155.062|\n",
      "|0a12d4HUjOmQSqHqL...|     Castaway|         0|              ARZLEE|       0.553| 0.422|  1|  -11.29|     0.0314|        0.11|         3.25E-5|   0.119|   0.29| 83.988|\n",
      "|4u1DykFW1HjYAGNoD...|       Arouse|        30|Shagabondgoodboynoah|        0.67| 0.751|  1|  -6.066|      0.433|      0.0728|             0.0|   0.368|  0.533| 91.961|\n",
      "|0u7JZm9ORerlZnnxx...|       Lonely|        21|             Hayleau|        0.67| 0.709|  8|  -3.921|     0.0406|      0.0169|          6.3E-4|  0.0542|  0.577| 98.954|\n",
      "+--------------------+-------------+----------+--------------------+------------+------+---+--------+-----------+------------+----------------+--------+-------+-------+\n",
      "only showing top 5 rows\n",
      "\n"
     ]
    }
   ],
   "source": [
    "# Remove colunas desnecessárias do DataFrame `spark_songs` para que fique alinhado com `df_tracks`\n",
    "df_final = spark_songs.drop('order_id', \n",
    "                            'mode', \n",
    "                            'release_date', \n",
    "                            'id_artists',\n",
    "                            'time_signature', \n",
    "                            'duration_ms',\n",
    "                            'timestamp')\n",
    "\n",
    "# Exibe as primeiras linhas do DataFrame resultante da integração\n",
    "df_final.show(5)"
   ]
  },
  {
   "cell_type": "code",
   "execution_count": 26,
   "id": "4b73ced6",
   "metadata": {},
   "outputs": [
    {
     "name": "stderr",
     "output_type": "stream",
     "text": [
      "\r",
      "[Stage 10:>                                                         (0 + 1) / 1]\r"
     ]
    },
    {
     "name": "stdout",
     "output_type": "stream",
     "text": [
      "O DataFrame `df_final` contém 174308 linhas.\n"
     ]
    },
    {
     "name": "stderr",
     "output_type": "stream",
     "text": [
      "\r",
      "                                                                                \r"
     ]
    }
   ],
   "source": [
    "# Conta o número de linhas no DataFrame `df_final`\n",
    "num_linhas = df_final.count()\n",
    "\n",
    "# Exibe a quantidade de linhas\n",
    "print(f\"O DataFrame `df_final` contém {num_linhas} linhas.\")"
   ]
  },
  {
   "cell_type": "markdown",
   "id": "6396bc5e",
   "metadata": {},
   "source": [
    "### Explicação:\n",
    "\n",
    "- **Integração com Spark Streaming**: As colunas desnecessárias dos dados do Spark são removidas e, em seguida, os dados de músicas do Spotify (incluindo a música selecionada aleatoriamente) são concatenados com os dados do Spark, resultando em um DataFrame `df_final` que contém tanto as músicas do streaming quanto a música do Spotify.\n",
    "\n",
    "Essas etapas completam a integração e o processamento dos dados, preparando-os para análises mais avançadas ou para o uso em sistemas de recomendação.\n",
    "\n",
    "<br><br>\n",
    "\n",
    "# 9. Pré-Processamento de Dados para Machine Learning\n",
    "\n",
    "<br>\n",
    "\n",
    "#### Converte para para um Dataframe do Pandas para aplicar `Função Análise Inicial`"
   ]
  },
  {
   "cell_type": "code",
   "execution_count": 27,
   "id": "4d14ca68",
   "metadata": {},
   "outputs": [
    {
     "name": "stdout",
     "output_type": "stream",
     "text": [
      "<class 'pyspark.sql.dataframe.DataFrame'>\n"
     ]
    },
    {
     "name": "stderr",
     "output_type": "stream",
     "text": [
      "                                                                                \r"
     ]
    },
    {
     "name": "stdout",
     "output_type": "stream",
     "text": [
      "<class 'pandas.core.frame.DataFrame'>\n"
     ]
    }
   ],
   "source": [
    "# Verifica classe de df_final\n",
    "print(type(df_final))\n",
    "\n",
    "# Converte o DataFrame df_final para um DataFrame do Pandas\n",
    "df_final_pandas = df_final.toPandas()\n",
    "\n",
    "# Verifica Tipo do novo objeto\n",
    "print(type(df_final_pandas))"
   ]
  },
  {
   "cell_type": "markdown",
   "id": "33a25513",
   "metadata": {},
   "source": [
    "<br>\n",
    "\n",
    "#### Aplica Função Análise Inicial"
   ]
  },
  {
   "cell_type": "code",
   "execution_count": 28,
   "id": "eafd9886",
   "metadata": {},
   "outputs": [
    {
     "name": "stdout",
     "output_type": "stream",
     "text": [
      "A função foi criada com sucesso.\n",
      "\n",
      "\n",
      "\n",
      " INFO \n",
      "\n",
      "\n",
      "<class 'pandas.core.frame.DataFrame'>\n",
      "RangeIndex: 174308 entries, 0 to 174307\n",
      "Data columns (total 14 columns):\n",
      " #   Column            Non-Null Count   Dtype  \n",
      "---  ------            --------------   -----  \n",
      " 0   id                174308 non-null  object \n",
      " 1   name              174308 non-null  object \n",
      " 2   popularity        159096 non-null  float64\n",
      " 3   artists           171177 non-null  object \n",
      " 4   danceability      166240 non-null  float64\n",
      " 5   energy            171821 non-null  float64\n",
      " 6   key               159596 non-null  float64\n",
      " 7   loudness          174061 non-null  float64\n",
      " 8   speechiness       174267 non-null  float64\n",
      " 9   acousticness      174285 non-null  float64\n",
      " 10  instrumentalness  174293 non-null  float64\n",
      " 11  liveness          174302 non-null  float64\n",
      " 12  valence           174305 non-null  float64\n",
      " 13  tempo             174307 non-null  float64\n",
      "dtypes: float64(11), object(3)\n",
      "memory usage: 18.6+ MB\n",
      "\n",
      "\n",
      " ------------------------------------------------------------------------------------------ \n",
      "\n",
      "\n",
      "\n",
      "\n",
      "Existem valores ausentes: True\n",
      "\n",
      "Variáveis com valores ausentes: ['popularity', 'artists', 'danceability', 'energy', 'key', 'loudness', 'speechiness', 'acousticness', 'instrumentalness', 'liveness', 'valence', 'tempo']\n",
      "\n",
      "\n",
      "Existem valores duplicados: False\n",
      "\n",
      "Nenhuma variável possui valores duplicados.\n",
      "\n",
      "\n",
      "Existem caracteres especiais nas colunas: True\n",
      "\n",
      "Colunas com caracteres especiais e os índices:\n",
      "\n",
      " Coluna [ name ]: Índices com caracteres especiais [12, 43, 57, 62, 69, 86, 110, 124, 160, 162, 183, 219, 230, 253, 261, 282, 305, 328, 330, 347, 370, 384, 399, 401, 406, 479, 486, 488, 495, 501, 506, 531, 542, 543, 550, 553, 580, 589, 605, 618, 619, 628, 633, 669, 670, 677, 712, 757, 766, 809, 815, 819, 825, 842, 861, 873, 881, 910, 912, 975, 995, 996, 1015, 1020, 1038, 1041, 1051, 1057, 1063, 1066, 1072, 1076, 1078, 1118, 1141, 1147, 1188, 1192, 1203, 1208, 1216, 1228, 1230, 1258, 1269, 1275, 1277, 1291, 1311, 1313, 1315, 1323, 1324, 1329, 1345, 1349, 1359, 1370, 1372, 1378, 1381, 1421, 1433, 1453, 1467, 1473, 1478, 1491, 1494, 1501, 1514, 1522, 1531, 1537, 1558, 1569, 1571, 1592, 1601, 1619, 1625, 1632, 1633, 1636, 1652, 1668, 1674, 1676, 1681, 1701, 1704, 1725, 1726, 1727, 1729, 1744, 1745, 1750, 1794, 1807, 1811, 1812, 1824, 1827, 1849, 1854, 1856, 1861, 1893, 1908, 1916, 1924, 1938, 1950, 1961, 1962, 1990, 1991, 2005, 2006, 2015, 2016, 2029, 2033, 2042, 2046, 2063, 2066, 2069, 2077, 2083, 2087, 2104, 2116, 2122, 2137, 2138, 2140, 2163, 2171, 2187, 2244, 2247, 2258, 2272, 2279, 2310, 2312, 2317, 2328, 2337, 2338, 2341, 2343, 2364, 2372, 2387, 2391, 2405, 2419, 2422, 2424, 2426, 2428, 2429, 2450, 2455, 2467, 2482, 2483, 2487, 2494, 2498, 2500, 2501, 2502, 2511, 2512, 2516, 2519, 2522, 2532, 2533, 2539, 2545, 2549, 2574, 2580, 2611, 2612, 2615, 2642, 2644, 2678, 2683, 2693, 2708, 2712, 2756, 2757, 2807, 2836, 2845, 2846, 2849, 2850, 2853, 2856, 2864, 2872, 2883, 2932, 2938, 2940, 2964, 2981, 2990, 3000, 3003, 3039, 3069, 3075, 3084, 3095, 3097, 3115, 3118, 3121, 3129, 3157, 3159, 3169, 3197, 3206, 3219, 3222, 3230, 3236, 3254, 3264, 3266, 3268, 3275, 3276, 3291, 3312, 3321, 3322, 3332, 3341, 3344, 3345, 3348, 3350, 3353, 3355, 3376, 3381, 3384, 3386, 3393, 3395, 3410, 3416, 3417, 3418, 3429, 3430, 3443, 3453, 3465, 3474, 3491, 3505, 3513, 3540, 3547, 3548, 3549, 3572, 3574, 3577, 3602, 3651, 3675, 3682, 3689, 3696, 3718, 3720, 3732, 3741, 3761, 3778, 3783, 3790, 3807, 3816, 3819, 3822, 3823, 3837, 3844, 3854, 3867, 3884, 3885, 3907, 3916, 3926, 3952, 3964, 3975, 3984, 3990, 3996, 4002, 4011, 4018, 4019, 4056, 4057, 4062, 4064, 4068, 4069, 4093, 4094, 4110, 4111, 4137, 4160, 4161, 4162, 4184, 4212, 4214, 4216, 4222, 4229, 4242, 4245, 4253, 4255, 4260, 4264, 4271, 4283, 4295, 4313, 4327, 4364, 4402, 4404, 4414, 4418, 4420, 4422, 4432, 4436, 4442, 4445, 4461, 4462, 4466, 4467, 4470, 4480, 4484, 4487, 4493, 4497, 4501, 4525, 4535, 4538, 4542, 4551, 4562, 4567, 4569, 4589, 4600, 4603, 4605, 4610, 4611, 4613, 4614, 4616, 4617, 4621, 4624, 4629, 4632, 4635, 4641, 4644, 4646, 4657, 4661, 4667, 4668, 4669, 4670, 4675, 4681, 4684, 4685, 4688, 4690, 4692, 4697, 4698, 4730, 4777, 4780, 4797, 4806, 4811, 4834, 4841, 4866, 4872, 4881, 4886, 4887, 4893, 4904, 4919, 4936, 4955, 4958, 4964, 4969, 4974, 4979, 4981, 4984, 4985, 4996, 4998, 5000, 5001, 5005, 5007, 5010, 5014, 5020, 5021, 5027, 5030, 5031, 5035, 5042, 5046, 5048, 5053, 5062, 5063, 5074, 5083, 5087, 5090, 5091, 5092, 5095, 5096, 5099, 5103, 5112, 5122, 5125, 5128, 5131, 5133, 5137, 5138, 5145, 5148, 5149, 5157, 5160, 5165, 5189, 5202, 5203, 5210, 5236, 5254, 5256, 5257, 5264, 5266, 5269, 5271, 5272, 5277, 5288, 5290, 5300, 5302, 5304, 5305, 5306, 5309, 5310, 5312, 5314, 5317, 5320, 5321, 5325, 5326, 5328, 5329, 5330, 5331, 5337, 5338, 5339, 5342, 5343, 5347, 5348, 5349, 5355, 5356, 5360, 5361, 5364, 5365, 5372, 5375, 5376, 5377, 5378, 5380, 5387, 5388, 5390, 5392, 5408, 5410, 5420, 5426, 5431, 5435, 5450, 5453, 5458, 5461, 5464, 5473, 5478, 5486, 5490, 5496, 5499, 5514, 5521, 5523, 5530, 5533, 5538, 5543, 5544, 5547, 5551, 5553, 5559, 5561, 5562, 5563, 5569, 5571, 5576, 5577, 5578, 5581, 5583, 5585, 5586, 5590, 5592, 5593, 5594, 5596, 5597, 5598, 5602, 5603, 5604, 5607, 5609, 5614, 5616, 5618, 5621, 5623, 5626, 5632, 5633, 5634, 5637, 5645, 5647, 5651, 5652, 5653, 5659, 5661, 5663, 5667, 5668, 5679, 5681, 5702, 5703, 5712, 5713, 5722, 5724, 5725, 5727, 5736, 5742, 5745, 5746, 5748, 5752, 5760, 5761, 5767, 5768, 5770, 5778, 5779, 5781, 5783, 5791, 5802, 5804, 5805, 5808, 5815, 5818, 5821, 5822, 5824, 5827, 5834, 5837, 5839, 5842, 5846, 5849, 5850, 5851, 5854, 5861, 5882, 5885, 5886, 5889, 5890, 5892, 5894, 5896, 5903, 5905, 5908, 5919, 5922, 5924, 5931, 5937, 5938, 5940, 5944, 5948, 5954, 5956, 5957, 5962, 5967, 5972, 5978, 5981, 5986, 5987, 5988, 5997, 6000, 6009, 6014, 6035, 6036, 6038, 6045, 6050, 6053, 6076, 6090, 6110, 6120, 6123, 6130, 6131, 6136, 6142, 6150, 6153, 6154, 6160, 6165, 6172, 6173, 6177, 6180, 6181, 6185, 6190, 6198, 6200, 6202, 6204, 6208, 6213, 6214, 6217, 6222, 6228, 6232, 6244, 6247, 6250, 6251, 6255, 6263, 6264, 6269, 6277, 6278, 6283, 6291, 6293, 6295, 6298, 6299, 6301, 6306, 6318, 6329, 6334, 6345, 6346, 6358, 6360, 6369, 6376, 6386, 6403, 6408, 6410, 6411, 6417, 6422, 6427, 6430, 6447, 6461, 6464, 6468, 6481, 6503, 6514, 6525, 6536, 6537, 6542, 6546, 6547, 6555, 6558, 6562, 6576, 6591, 6595, 6596, 6598, 6600, 6602, 6611, 6628, 6631, 6640, 6673, 6675, 6680, 6687, 6715, 6718, 6727, 6732, 6736, 6753, 6765, 6767, 6770, 6771, 6773, 6777, 6779, 6788, 6791, 6793, 6798, 6803, 6812, 6819, 6842, 6858, 6860, 6862, 6870, 6892, 6893, 6903, 6908, 6912, 6926, 6933, 6935, 6937, 6941, 6943, 6956, 6958, 6959, 6975, 6978, 6979, 7055, 7060, 7066, 7084, 7098, 7120, 7131, 7154, 7158, 7163, 7170, 7202, 7210, 7232, 7233, 7259, 7267, 7269, 7270, 7286, 7298, 7311, 7318, 7323, 7330, 7345, 7356, 7366, 7371, 7378, 7386, 7398, 7402, 7407, 7409, 7416, 7417, 7462, 7468, 7469, 7478, 7481, 7488, 7494, 7505, 7521, 7529, 7552, 7559, 7563, 7584, 7591, 7593, 7595, 7607, 7614, 7628, 7644, 7652, 7656, 7664, 7667, 7668, 7678, 7699, 7704, 7705, 7714, 7724, 7728, 7729, 7743, 7746, 7752, 7755, 7804, 7805, 7815, 7822, 7825, 7827, 7828, 7834, 7836, 7844, 7863, 7878, 7892, 7897, 7900, 7924, 7925, 7955, 7959, 7963, 7967, 7971, 7982, 8009, 8023, 8026, 8054, 8057, 8073, 8078, 8094, 8106, 8113, 8127, 8128, 8143, 8162, 8182, 8189, 8196, 8211, 8232, 8241, 8250, 8261, 8262, 8278, 8279, 8298, 8301, 8315, 8318, 8326, 8337, 8340, 8373, 8401, 8417, 8431, 8468, 8499, 8501, 8509, 8510, 8516, 8519, 8531, 8537, 8540, 8566, 8592, 8593, 8626, 8635, 8650, 8654, 8658, 8662, 8664, 8668, 8675, 8678, 8680, 8696, 8726, 8727, 8753, 8757, 8767, 8771, 8778, 8780, 8784, 8803, 8804, 8821, 8823, 8824, 8825, 8826, 8836, 8845, 8859, 8860, 8861, 8877, 8886, 8894, 8911, 8937, 8962, 8966, 8974, 9000, 9002, 9032, 9038, 9087, 9107, 9108, 9129, 9133, 9151, 9154, 9162, 9164, 9165, 9170, 9193, 9194, 9197, 9199, 9201, 9208, 9209, 9211, 9212, 9219, 9222, 9234, 9236, 9249, 9253, 9255, 9260, 9263, 9278, 9300, 9305, 9311, 9319, 9335, 9339, 9341, 9343, 9404, 9417, 9422, 9428, 9442, 9479, 9491, 9512, 9520, 9529, 9539, 9543, 9565, 9586, 9593, 9603, 9615, 9622, 9625, 9633, 9648, 9659, 9663, 9665, 9667, 9672, 9674, 9693, 9702, 9728, 9789, 9794, 9807, 9827, 9844, 9847, 9859, 9863, 9894, 9929, 9943, 9954, 9959, 9965, 9969, 9979, 10018, 10020, 10028, 10032, 10038, 10041, 10048, 10068, 10075, 10084, 10089, 10096, 10106, 10109, 10128, 10133, 10143, 10153, 10155, 10158, 10186, 10191, 10198, 10199, 10200, 10202, 10212, 10216, 10217, 10218, 10228, 10246, 10247, 10273, 10275, 10276, 10277, 10285, 10289, 10309, 10315, 10330, 10334, 10343, 10344, 10355, 10369, 10373, 10378, 10380, 10383, 10386, 10396, 10408, 10414, 10420, 10424, 10426, 10437, 10443, 10445, 10452, 10456, 10480, 10507, 10518, 10529, 10539, 10542, 10547, 10549, 10550, 10553, 10568, 10570, 10571, 10597, 10601, 10606, 10611, 10629, 10631, 10632, 10648, 10660, 10667, 10689, 10690, 10706, 10710, 10742, 10748, 10755, 10758, 10762, 10763, 10764, 10778, 10782, 10785, 10807, 10830, 10834, 10854, 10857, 10867, 10881, 10884, 10893, 10894, 10907, 10915, 10923, 10930, 10946, 10957, 10965, 10966, 10985, 10997, 11006, 11020, 11026, 11028, 11031, 11053, 11059, 11076, 11089, 11090, 11093, 11122, 11123, 11128, 11131, 11135, 11137, 11140, 11150, 11179, 11187, 11205, 11212, 11216, 11225, 11231, 11232, 11236, 11268, 11269, 11273, 11275, 11276, 11320, 11344, 11345, 11356, 11361, 11363, 11364, 11369, 11383, 11386, 11394, 11397, 11412, 11424, 11435, 11438, 11465, 11476, 11478, 11480, 11485, 11494, 11496, 11506, 11533, 11535, 11538, 11539, 11544, 11556, 11571, 11576, 11588, 11598, 11613, 11615, 11618, 11627, 11628, 11658, 11659, 11660, 11671, 11675, 11682, 11689, 11697, 11712, 11729, 11734, 11735, 11737, 11742, 11754, 11755, 11759, 11763, 11780, 11793, 11812, 11813, 11815, 11817, 11819, 11822, 11823, 11824, 11829, 11830, 11840, 11847, 11850, 11857, 11865, 11886, 11896, 11901, 11902, 11914, 11916, 11919, 11924, 11928, 11931, 11939, 11945, 11957, 11972, 11979, 11984, 11991, 11996, 11999, 12013, 12017, 12022, 12023, 12030, 12051, 12056, 12069, 12072, 12077, 12078, 12081, 12093, 12094, 12098, 12099, 12102, 12104, 12110, 12114, 12117, 12121, 12123, 12126, 12134, 12139, 12150, 12151, 12152, 12154, 12158, 12159, 12162, 12165, 12167, 12170, 12171, 12176, 12177, 12206, 12210, 12218, 12219, 12221, 12238, 12259, 12261, 12262, 12267, 12270, 12276, 12279, 12280, 12281, 12286, 12288, 12294, 12297, 12298, 12312, 12319, 12320, 12321, 12329, 12334, 12340, 12344, 12347, 12358, 12367, 12373, 12379, 12383, 12394, 12401, 12405, 12410, 12413, 12423, 12433, 12444, 12445, 12450, 12453, 12458, 12460, 12461, 12463, 12464, 12472, 12475, 12488, 12496, 12500, 12506, 12508, 12510, 12512, 12515, 12517, 12520, 12525, 12529, 12532, 12533, 12534, 12535, 12539, 12540, 12549, 12553, 12557, 12562, 12572, 12578, 12580, 12596, 12600, 12611, 12622, 12633, 12643, 12657, 12659, 12667, 12673, 12685, 12686, 12697, 12717, 12737, 12738, 12740, 12742, 12745, 12746, 12751, 12752, 12756, 12757, 12761, 12762, 12763, 12767, 12768, 12770, 12771, 12780, 12783, 12784, 12789, 12791, 12793, 12801, 12804, 12805, 12806, 12807, 12810, 12811, 12814, 12817, 12819, 12821, 12832, 12833, 12834, 12838, 12839, 12840, 12844, 12852, 12855, 12856, 12860, 12867, 12874, 12878, 12896, 12904, 12905, 12910, 12924, 12927, 12940, 12943, 12967, 12973, 12982, 12992, 12998, 13014, 13018, 13032, 13038, 13040, 13044, 13045, 13054, 13056, 13062, 13066, 13073, 13077, 13086, 13087, 13091, 13099, 13107, 13115, 13117, 13118, 13121, 13122, 13127, 13130, 13131, 13139, 13149, 13153, 13155, 13156, 13165, 13167, 13172, 13179, 13198, 13204, 13212, 13217, 13218, 13226, 13229, 13231, 13233, 13249, 13274, 13280, 13284, 13286, 13290, 13293, 13305, 13308, 13311, 13319, 13332, 13335, 13338, 13347, 13350, 13352, 13353, 13356, 13357, 13360, 13365, 13366, 13367, 13368, 13371, 13373, 13375, 13377, 13378, 13381, 13383, 13384, 13385, 13386, 13390, 13393, 13397, 13400, 13401, 13403, 13406, 13411, 13417, 13418, 13419, 13420, 13422, 13423, 13424, 13427, 13429, 13441, 13443, 13444, 13447, 13451, 13452, 13453, 13454, 13458, 13459, 13468, 13469, 13470, 13472, 13482, 13484, 13493, 13504, 13509, 13510, 13514, 13516, 13518, 13529, 13535, 13552, 13554, 13565, 13576, 13578, 13581, 13584, 13588, 13593, 13597, 13601, 13611, 13613, 13625, 13628, 13637, 13644, 13645, 13647, 13650, 13655, 13657, 13661, 13664, 13667, 13670, 13672, 13673, 13675, 13677, 13679, 13680, 13684, 13686, 13688, 13689, 13691, 13694, 13697, 13702, 13704, 13706, 13708, 13709, 13712, 13715, 13717, 13720, 13722, 13723, 13727, 13729, 13730, 13733, 13735, 13737, 13739, 13740, 13741, 13747, 13748, 13752, 13756, 13762, 13765, 13773, 13776, 13781, 13782, 13788, 13799, 13802, 13805, 13808, 13812, 13815, 13823, 13826, 13836, 13837, 13838, 13840, 13841, 13842, 13845, 13848, 13852, 13855, 13858, 13861, 13862, 13863, 13864, 13865, 13869, 13871, 13872, 13879, 13882, 13887, 13889, 13890, 13892, 13900, 13901, 13903, 13905, 13906, 13907, 13908, 13911, 13917, 13919, 13921, 13924, 13925, 13929, 13930, 13931, 13934, 13943, 13947, 13952, 13955, 13956, 13961, 13967, 13970, 13973, 13977, 13981, 13984, 13990, 13998, 14000, 14004, 14014, 14023, 14024, 14031, 14035, 14040, 14059, 14067, 14071, 14082, 14087, 14095, 14098, 14101, 14117, 14125, 14167, 14195, 14212, 14237, 14238, 14247, 14252, 14253, 14257, 14262, 14267, 14270, 14272, 14273, 14279, 14292, 14294, 14298, 14302, 14311, 14312, 14316, 14336, 14347, 14352, 14353, 14360, 14363, 14364, 14377, 14382, 14385, 14408, 14410, 14412, 14415, 14420, 14427, 14436, 14437, 14438, 14444, 14461, 14478, 14482, 14484, 14487, 14502, 14513, 14520, 14523, 14533, 14534, 14545, 14550, 14553, 14559, 14560, 14565, 14570, 14575, 14578, 14586, 14613, 14614, 14615, 14620, 14623, 14624, 14630, 14639, 14644, 14646, 14659, 14666, 14674, 14675, 14698, 14701, 14730, 14735, 14744, 14755, 14765, 14767, 14769, 14770, 14785, 14788, 14792, 14809, 14814, 14822, 14844, 14871, 14875, 14894, 14899, 14904, 14911, 14913, 14922, 14930, 14942, 14979, 14985, 14986, 14991, 14992, 14993, 14996, 15017, 15021, 15022, 15031, 15032, 15036, 15044, 15050, 15060, 15087, 15088, 15106, 15134, 15135, 15150, 15166, 15187, 15199, 15210, 15213, 15219, 15231, 15235, 15239, 15251, 15273, 15290, 15293, 15350, 15354, 15369, 15370, 15390, 15409, 15424, 15425, 15431, 15446, 15450, 15485, 15491, 15502, 15510, 15511, 15518, 15531, 15537, 15540, 15555, 15567, 15570, 15579, 15583, 15590, 15597, 15599, 15604, 15605, 15613, 15616, 15629, 15665, 15669, 15678, 15694, 15709, 15733, 15737, 15746, 15760, 15768, 15782, 15786, 15789, 15791, 15799, 15802, 15803, 15808, 15810, 15812, 15824, 15854, 15893, 15894, 15895, 15907, 15913, 15921, 15931, 15934, 15940, 15954, 15959, 15984, 15989, 15995, 16018, 16023, 16044, 16056, 16067, 16071, 16080, 16090, 16098, 16099, 16108, 16112, 16113, 16124, 16136, 16142, 16143, 16145, 16169, 16171, 16172, 16187, 16188, 16197, 16198, 16200, 16202, 16205, 16207, 16213, 16216, 16224, 16232, 16243, 16261, 16265, 16282, 16286, 16301, 16310, 16319, 16346, 16353, 16402, 16404, 16406, 16431, 16479, 16493, 16505, 16508, 16514, 16528, 16541, 16548, 16561, 16578, 16587, 16590, 16611, 16618, 16638, 16640, 16642, 16667, 16685, 16725, 16742, 16748, 16750, 16778, 16783, 16801, 16809, 16818, 16828, 16846, 16851, 16858, 16871, 16881, 16888, 16899, 16912, 16927, 16939, 16948, 16957, 16988, 16989, 16990, 17004, 17015, 17027, 17029, 17034, 17046, 17054, 17057, 17075, 17076, 17084, 17095, 17105, 17108, 17119, 17129, 17169, 17172, 17176, 17189, 17197, 17226, 17232, 17235, 17239, 17249, 17259, 17274, 17277, 17293, 17304, 17308, 17310, 17316, 17320, 17321, 17342, 17346, 17347, 17352, 17360, 17369, 17374, 17376, 17382, 17393, 17410, 17413, 17416, 17422, 17424, 17446, 17473, 17488, 17499, 17532, 17537, 17542, 17543, 17579, 17601, 17610, 17616, 17640, 17649, 17653, 17664, 17672, 17673, 17676, 17684, 17735, 17741, 17788, 17795, 17813, 17818, 17839, 17841, 17844, 17865, 17871, 17887, 17888, 17899, 17900, 17901, 17930, 17936, 17941, 17946, 17951, 17973, 17974, 17980, 17994, 18008, 18020, 18021, 18037, 18057, 18060, 18065, 18074, 18080, 18100, 18111, 18118, 18121, 18140, 18142, 18151, 18154, 18171, 18172, 18189, 18197, 18209, 18210, 18217, 18227, 18228, 18232, 18240, 18242, 18244, 18254, 18272, 18295, 18317, 18338, 18339, 18343, 18361, 18386, 18388, 18391, 18392, 18402, 18417, 18427, 18440, 18458, 18468, 18472, 18474, 18480, 18481, 18490, 18491, 18495, 18498, 18519, 18521, 18530, 18536, 18539, 18542, 18545, 18565, 18575, 18622, 18633, 18637, 18642, 18664, 18665, 18681, 18686, 18696, 18708, 18711, 18713, 18716, 18717, 18720, 18725, 18757, 18789, 18791, 18814, 18821, 18824, 18827, 18830, 18842, 18843, 18858, 18862, 18877, 18882, 18902, 18922, 18929, 18938, 18950, 18953, 18963, 18977, 18981, 18987, 18988, 18999, 19005, 19022, 19035, 19042, 19046, 19053, 19055, 19065, 19077, 19084, 19085, 19087, 19089, 19093, 19097, 19100, 19108, 19116, 19120, 19138, 19142, 19143, 19147, 19148, 19150, 19151, 19157, 19160, 19188, 19190, 19194, 19215, 19216, 19223, 19230, 19240, 19242, 19249, 19254, 19255, 19257, 19265, 19280, 19290, 19292, 19299, 19303, 19319, 19324, 19325, 19342, 19343, 19352, 19356, 19358, 19380, 19383, 19387, 19388, 19390, 19391, 19392, 19399, 19417, 19420, 19422, 19431, 19438, 19443, 19467, 19473, 19481, 19494, 19495, 19499, 19513, 19529, 19547, 19548, 19552, 19565, 19568, 19576, 19586, 19591, 19592, 19594, 19610, 19628, 19631, 19642, 19656, 19670, 19673, 19682, 19690, 19691, 19696, 19698, 19725, 19730, 19732, 19738, 19742, 19750, 19751, 19760, 19769, 19781, 19790, 19794, 19800, 19802, 19818, 19826, 19841, 19842, 19844, 19849, 19853, 19872, 19892, 19898, 19899, 19901, 19909, 19915, 19917, 19921, 19928, 19938, 19945, 19960, 19963, 19966, 19967, 19970, 19981, 19983, 19986, 19991, 19992, 19993, 20012, 20016, 20018, 20021, 20051, 20060, 20071, 20073, 20075, 20081, 20082, 20083, 20088, 20089, 20091, 20102, 20105, 20116, 20119, 20123, 20127, 20128, 20136, 20138, 20140, 20144, 20151, 20159, 20163, 20168, 20169, 20171, 20175, 20189, 20195, 20197, 20210, 20216, 20218, 20221, 20228, 20232, 20236, 20241, 20249, 20250, 20252, 20262, 20263, 20277, 20287, 20290, 20296, 20300, 20303, 20312, 20329, 20332, 20342, 20343, 20350, 20351, 20361, 20364, 20376, 20386, 20404, 20415, 20416, 20418, 20420, 20424, 20425, 20428, 20434, 20437, 20439, 20441, 20443, 20445, 20448, 20455, 20471, 20472, 20475, 20482, 20486, 20497, 20500, 20510, 20514, 20525, 20528, 20530, 20533, 20540, 20544, 20552, 20555, 20562, 20567, 20569, 20570, 20572, 20573, 20574, 20576, 20581, 20584, 20588, 20589, 20590, 20592, 20600, 20604, 20612, 20613, 20615, 20616, 20620, 20621, 20636, 20647, 20673, 20674, 20679, 20680, 20685, 20699, 20707, 20736, 20739, 20744, 20745, 20747, 20749, 20751, 20756, 20757, 20759, 20760, 20762, 20763, 20766, 20772, 20778, 20780, 20784, 20785, 20787, 20788, 20796, 20803, 20804, 20806, 20807, 20813, 20814, 20815, 20816, 20819, 20820, 20821, 20825, 20826, 20832, 20834, 20835, 20838, 20844, 20846, 20852, 20853, 20854, 20857, 20860, 20863, 20881, 20883, 20887, 20889, 20891, 20892, 20894, 20901, 20908, 20920, 20922, 20939, 20977, 20990, 21008, 21014, 21016, 21036, 21039, 21041, 21054, 21071, 21073, 21076, 21086, 21089, 21090, 21095, 21098, 21105, 21107, 21111, 21112, 21122, 21127, 21128, 21131, 21141, 21143, 21144, 21145, 21147, 21150, 21161, 21167, 21174, 21178, 21179, 21186, 21194, 21196, 21200, 21201, 21204, 21212, 21216, 21217, 21241, 21243, 21258, 21263, 21270, 21282, 21285, 21288, 21292, 21297, 21319, 21326, 21337, 21341, 21342, 21343, 21348, 21349, 21353, 21357, 21360, 21363, 21374, 21376, 21380, 21387, 21394, 21395, 21396, 21397, 21400, 21404, 21405, 21409, 21412, 21413, 21417, 21421, 21422, 21425, 21429, 21430, 21431, 21432, 21436, 21443, 21451, 21462, 21465, 21470, 21477, 21478, 21482, 21483, 21484, 21487, 21491, 21493, 21499, 21504, 21506, 21508, 21510, 21526, 21541, 21543, 21547, 21562, 21567, 21568, 21569, 21570, 21579, 21591, 21592, 21596, 21599, 21604, 21608, 21609, 21610, 21612, 21628, 21637, 21642, 21647, 21648, 21653, 21655, 21658, 21659, 21661, 21668, 21669, 21671, 21672, 21677, 21681, 21684, 21686, 21687, 21688, 21693, 21695, 21698, 21699, 21700, 21702, 21705, 21708, 21709, 21710, 21713, 21716, 21719, 21732, 21733, 21734, 21737, 21738, 21742, 21745, 21768, 21771, 21773, 21777, 21778, 21780, 21783, 21784, 21799, 21805, 21806, 21811, 21813, 21824, 21826, 21830, 21837, 21838, 21841, 21843, 21844, 21852, 21853, 21856, 21857, 21859, 21862, 21865, 21868, 21875, 21877, 21879, 21891, 21892, 21894, 21895, 21897, 21898, 21899, 21903, 21908, 21910, 21912, 21913, 21914, 21915, 21917, 21919, 21920, 21927, 21929, 21931, 21933, 21934, 21935, 21936, 21941, 21943, 21947, 21949, 21950, 21957, 21958, 21959, 21962, 21971, 21974, 21975, 21979, 21981, 21985, 21986, 21987, 21988, 21992, 21995, 22004, 22012, 22014, 22015, 22018, 22021, 22023, 22024, 22026, 22027, 22028, 22030, 22035, 22049, 22057, 22058, 22059, 22061, 22063, 22067, 22069, 22084, 22097, 22100, 22133, 22137, 22155, 22186, 22194, 22198, 22204, 22213, 22224, 22227, 22237, 22250, 22265, 22275, 22282, 22283, 22287, 22291, 22324, 22335, 22347, 22353, 22362, 22370, 22373, 22374, 22391, 22398, 22405, 22412, 22414, 22417, 22424, 22440, 22449, 22460, 22475, 22476, 22479, 22480, 22488, 22495, 22500, 22515, 22516, 22530, 22533, 22539, 22545, 22549, 22561, 22566, 22568, 22588, 22594, 22605, 22611, 22623, 22635, 22636, 22640, 22648, 22654, 22658, 22674, 22679, 22682, 22697, 22709, 22713, 22714, 22721, 22723, 22724, 22731, 22735, 22742, 22747, 22770, 22786, 22814, 22822, 22824, 22835, 22851, 22861, 22864, 22873, 22874, 22875, 22876, 22887, 22890, 22907, 22927, 22934, 22940, 22945, 22948, 22952, 22987, 22988, 22998, 23001, 23003, 23010, 23024, 23046, 23047, 23055, 23060, 23062, 23066, 23071, 23073, 23087, 23090, 23096, 23104, 23109, 23121, 23128, 23132, 23143, 23157, 23170, 23177, 23187, 23192, 23205, 23206, 23209, 23218, 23221, 23240, 23247, 23255, 23268, 23273, 23302, 23303, 23311, 23312, 23321, 23331, 23334, 23344, 23353, 23369, 23397, 23400, 23405, 23417, 23427, 23442, 23444, 23457, 23464, 23482, 23499, 23502, 23510, 23512, 23517, 23525, 23532, 23540, 23542, 23565, 23572, 23579, 23588, 23592, 23602, 23612, 23613, 23621, 23625, 23627, 23646, 23653, 23656, 23662, 23678, 23690, 23701, 23737, 23740, 23744, 23755, 23783, 23784, 23792, 23795, 23799, 23800, 23807, 23819, 23840, 23847, 23857, 23860, 23882, 23895, 23898, 23904, 23905, 23921, 23930, 23943, 23945, 23963, 23979, 23987, 24000, 24015, 24022, 24024, 24034, 24049, 24062, 24088, 24104, 24116, 24118, 24122, 24125, 24128, 24131, 24133, 24143, 24152, 24159, 24169, 24170, 24182, 24183, 24185, 24214, 24215, 24216, 24218, 24224, 24230, 24279, 24282, 24285, 24330, 24337, 24340, 24342, 24344, 24368, 24373, 24388, 24394, 24424, 24425, 24429, 24433, 24436, 24437, 24451, 24458, 24483, 24484, 24487, 24494, 24498, 24503, 24521, 24539, 24556, 24571, 24578, 24587, 24618, 24619, 24627, 24634, 24651, 24655, 24663, 24665, 24675, 24677, 24681, 24685, 24690, 24720, 24759, 24769, 24775, 24786, 24796, 24810, 24813, 24825, 24844, 24845, 24861, 24864, 24869, 24877, 24886, 24888, 24903, 24935, 24976, 24977, 24991, 25000, 25003, 25004, 25014, 25024, 25027, 25030, 25046, 25049, 25061, 25063, 25073, 25105, 25108, 25113, 25132, 25140, 25150, 25160, 25178, 25179, 25206, 25223, 25235, 25236, 25238, 25242, 25270, 25276, 25284, 25285, 25297, 25314, 25315, 25316, 25338, 25339, 25342, 25345, 25348, 25377, 25388, 25390, 25395, 25396, 25402, 25405, 25427, 25454, 25456, 25461, 25463, 25465, 25502, 25519, 25529, 25547, 25560, 25562, 25586, 25595, 25605, 25609, 25616, 25619, 25632, 25650, 25657, 25668, 25680, 25707, 25715, 25730, 25783, 25784, 25796, 25798, 25802, 25805, 25817, 25818, 25832, 25838, 25851, 25854, 25881, 25882, 25907, 25908, 25909, 25913, 25917, 25937, 25942, 25946, 25970, 25996, 26002, 26003, 26007, 26009, 26011, 26028, 26032, 26099, 26111, 26127, 26129, 26144, 26148, 26157, 26168, 26175, 26180, 26183, 26189, 26197, 26199, 26256, 26257, 26259, 26262, 26272, 26275, 26287, 26288, 26289, 26303, 26314, 26315, 26318, 26321, 26329, 26330, 26342, 26348, 26350, 26363, 26367, 26368, 26369, 26373, 26385, 26395, 26406, 26422, 26448, 26449, 26460, 26471, 26472, 26485, 26498, 26502, 26507, 26510, 26515, 26517, 26520, 26521, 26539, 26566, 26569, 26585, 26587, 26593, 26600, 26602, 26611, 26622, 26623, 26631, 26635, 26642, 26656, 26658, 26661, 26686, 26694, 26697, 26710, 26725, 26739, 26757, 26768, 26784, 26801, 26816, 26826, 26830, 26831, 26833, 26834, 26859, 26879, 26881, 26882, 26888, 26891, 26899, 26909, 26911, 26918, 26956, 26959, 26966, 26982, 26983, 26993, 26996, 27002, 27007, 27022, 27028, 27053, 27073, 27074, 27077, 27087, 27127, 27142, 27144, 27151, 27163, 27177, 27180, 27185, 27188, 27190, 27205, 27216, 27219, 27220, 27231, 27232, 27237, 27247, 27248, 27252, 27255, 27295, 27306, 27312, 27313, 27319, 27329, 27365, 27366, 27374, 27393, 27398, 27402, 27407, 27414, 27427, 27434, 27436, 27445, 27456, 27485, 27487, 27490, 27501, 27507, 27515, 27524, 27528, 27543, 27545, 27550, 27551, 27568, 27596, 27602, 27608, 27610, 27613, 27631, 27632, 27633, 27639, 27674, 27697, 27705, 27710, 27748, 27753, 27765, 27782, 27805, 27809, 27823, 27828, 27831, 27838, 27839, 27841, 27847, 27850, 27859, 27861, 27878, 27889, 27894, 27896, 27900, 27907, 27914, 27923, 27926, 27941, 27949, 27952, 27960, 27963, 27968, 27973, 27974, 27976, 27988, 27992, 28011, 28020, 28030, 28037, 28051, 28057, 28067, 28068, 28072, 28103, 28104, 28105, 28134, 28148, 28149, 28172, 28175, 28177, 28199, 28222, 28225, 28230, 28234, 28240, 28242, 28247, 28253, 28266, 28277, 28282, 28283, 28288, 28290, 28291, 28296, 28309, 28315, 28322, 28328, 28332, 28334, 28335, 28340, 28347, 28352, 28355, 28359, 28366, 28368, 28372, 28373, 28377, 28382, 28383, 28386, 28389, 28393, 28399, 28400, 28415, 28416, 28420, 28422, 28426, 28429, 28452, 28455, 28461, 28462, 28468, 28482, 28491, 28495, 28508, 28511, 28512, 28514, 28527, 28528, 28531, 28534, 28540, 28548, 28550, 28553, 28554, 28555, 28557, 28562, 28564, 28568, 28572, 28575, 28577, 28583, 28584, 28588, 28592, 28594, 28599, 28601, 28603, 28606, 28623, 28626, 28629, 28631, 28632, 28633, 28641, 28647, 28688, 28698, 28702, 28718, 28737, 28744, 28746, 28748, 28750, 28751, 28754, 28756, 28757, 28759, 28760, 28767, 28769, 28770, 28772, 28776, 28777, 28780, 28782, 28784, 28785, 28786, 28794, 28799, 28803, 28805, 28809, 28810, 28813, 28818, 28825, 28826, 28829, 28830, 28834, 28837, 28838, 28848, 28862, 28863, 28865, 28870, 28871, 28880, 28891, 28892, 28896, 28907, 28929, 28942, 28948, 28955, 28964, 28970, 28975, 28988, 29010, 29011, 29014, 29038, 29039, 29048, 29051, 29054, 29057, 29062, 29069, 29071, 29073, 29074, 29083, 29089, 29091, 29095, 29106, 29107, 29109, 29110, 29112, 29119, 29124, 29139, 29148, 29149, 29150, 29152, 29160, 29161, 29163, 29166, 29167, 29173, 29176, 29181, 29197, 29203, 29209, 29214, 29216, 29217, 29219, 29220, 29221, 29227, 29229, 29232, 29277, 29285, 29286, 29292, 29295, 29299, 29311, 29314, 29316, 29323, 29339, 29342, 29344, 29347, 29352, 29353, 29354, 29356, 29357, 29358, 29359, 29361, 29364, 29367, 29369, 29374, 29381, 29383, 29388, 29392, 29395, 29396, 29399, 29400, 29411, 29413, 29414, 29415, 29416, 29422, 29425, 29426, 29430, 29434, 29435, 29436, 29441, 29442, 29443, 29448, 29449, 29450, 29451, 29453, 29456, 29458, 29460, 29469, 29472, 29474, 29492, 29495, 29499, 29501, 29512, 29517, 29528, 29529, 29535, 29538, 29541, 29550, 29556, 29559, 29561, 29562, 29566, 29578, 29585, 29588, 29589, 29591, 29599, 29602, 29604, 29616, 29619, 29621, 29629, 29633, 29637, 29638, 29640, 29642, 29644, 29647, 29649, 29650, 29652, 29654, 29657, 29658, 29660, 29661, 29662, 29663, 29664, 29669, 29672, 29674, 29675, 29677, 29683, 29684, 29687, 29693, 29695, 29699, 29704, 29708, 29712, 29713, 29714, 29717, 29719, 29724, 29729, 29733, 29734, 29739, 29740, 29744, 29747, 29748, 29753, 29755, 29758, 29768, 29774, 29775, 29776, 29785, 29790, 29794, 29795, 29797, 29813, 29829, 29830, 29847, 29852, 29857, 29859, 29860, 29861, 29863, 29864, 29865, 29868, 29870, 29871, 29872, 29873, 29874, 29876, 29880, 29882, 29887, 29888, 29897, 29899, 29905, 29906, 29912, 29913, 29917, 29919, 29921, 29932, 29933, 29934, 29941, 29949, 29952, 29955, 29957, 29959, 29964, 29969, 29971, 29972, 29977, 29981, 29984, 29989, 29992, 29994, 30000, 30017, 30023, 30031, 30035, 30050, 30069, 30083, 30090, 30099, 30100, 30102, 30112, 30119, 30120, 30130, 30143, 30151, 30158, 30170, 30171, 30187, 30193, 30194, 30196, 30215, 30223, 30230, 30232, 30236, 30241, 30255, 30260, 30264, 30266, 30268, 30269, 30277, 30286, 30294, 30298, 30301, 30303, 30310, 30312, 30329, 30333, 30334, 30345, 30348, 30360, 30369, 30377, 30385, 30388, 30393, 30394, 30395, 30397, 30408, 30414, 30415, 30417, 30426, 30433, 30434, 30443, 30449, 30450, 30451, 30468, 30480, 30483, 30499, 30502, 30515, 30520, 30524, 30536, 30539, 30544, 30566, 30570, 30575, 30589, 30591, 30603, 30605, 30637, 30646, 30650, 30652, 30653, 30658, 30662, 30678, 30709, 30717, 30720, 30725, 30728, 30737, 30740, 30741, 30744, 30772, 30776, 30781, 30790, 30793, 30814, 30833, 30844, 30847, 30864, 30866, 30873, 30878, 30881, 30887, 30895, 30906, 30908, 30910, 30915, 30916, 30917, 30935, 30943, 30953, 30974, 30975, 30980, 30988, 30989, 30996, 31007, 31009, 31024, 31025, 31040, 31041, 31046, 31072, 31096, 31098, 31104, 31112, 31138, 31143, 31155, 31158, 31169, 31176, 31186, 31189, 31199, 31201, 31204, 31213, 31223, 31232, 31240, 31245, 31264, 31278, 31297, 31302, 31303, 31307, 31332, 31336, 31348, 31356, 31359, 31362, 31365, 31390, 31408, 31418, 31437, 31440, 31445, 31450, 31451, 31455, 31458, 31463, 31467, 31491, 31497, 31500, 31503, 31506, 31517, 31531, 31534, 31540, 31546, 31564, 31591, 31595, 31619, 31632, 31634, 31636, 31662, 31701, 31702, 31704, 31713, 31741, 31752, 31766, 31769, 31770, 31771, 31773, 31783, 31790, 31798, 31805, 31807, 31814, 31827, 31834, 31838, 31841, 31846, 31851, 31858, 31875, 31905, 31907, 31909, 31920, 31926, 31937, 31950, 31955, 31982, 31986, 31997, 31998, 32025, 32030, 32033, 32047, 32058, 32064, 32080, 32085, 32098, 32104, 32106, 32113, 32118, 32147, 32153, 32155, 32156, 32160, 32184, 32185, 32207, 32214, 32215, 32220, 32222, 32226, 32228, 32230, 32266, 32275, 32281, 32283, 32290, 32294, 32295, 32296, 32299, 32324, 32349, 32366, 32372, 32404, 32414, 32427, 32431, 32436, 32440, 32443, 32447, 32448, 32458, 32468, 32471, 32479, 32482, 32488, 32495, 32520, 32536, 32537, 32544, 32550, 32553, 32554, 32565, 32569, 32570, 32574, 32581, 32590, 32600, 32607, 32622, 32640, 32648, 32665, 32670, 32674, 32681, 32690, 32691, 32695, 32698, 32709, 32732, 32757, 32758, 32761, 32762, 32763, 32846, 32857, 32863, 32868, 32873, 32906, 32929, 32931, 32935, 32945, 32946, 32953, 32955, 32972, 32973, 32980, 32997, 33004, 33008, 33026, 33029, 33030, 33032, 33037, 33040, 33042, 33044, 33045, 33053, 33059, 33060, 33077, 33080, 33089, 33100, 33126, 33165, 33169, 33207, 33222, 33227, 33233, 33238, 33265, 33269, 33278, 33292, 33296, 33301, 33309, 33333, 33339, 33347, 33361, 33369, 33373, 33375, 33377, 33385, 33386, 33398, 33410, 33411, 33420, 33425, 33429, 33442, 33448, 33455, 33471, 33482, 33496, 33498, 33503, 33508, 33515, 33518, 33525, 33527, 33528, 33530, 33539, 33544, 33590, 33613, 33615, 33625, 33646, 33661, 33677, 33693, 33727, 33731, 33743, 33770, 33778, 33791, 33792, 33797, 33816, 33822, 33828, 33830, 33845, 33863, 33866, 33897, 33902, 33906, 33918, 33927, 33987, 33995, 33997, 34006, 34012, 34014, 34022, 34024, 34027, 34032, 34040, 34047, 34051, 34052, 34053, 34054, 34087, 34091, 34103, 34127, 34144, 34145, 34188, 34200, 34201, 34206, 34210, 34228, 34259, 34264, 34266, 34270, 34275, 34276, 34281, 34282, 34286, 34298, 34300, 34313, 34316, 34325, 34326, 34335, 34343, 34355, 34359, 34361, 34379, 34393, 34402, 34412, 34416, 34417, 34422, 34423, 34425, 34430, 34447, 34465, 34467, 34472, 34473, 34487, 34499, 34500, 34502, 34508, 34528, 34550, 34551, 34552, 34564, 34571, 34573, 34574, 34575, 34618, 34624, 34642, 34656, 34663, 34667, 34668, 34670, 34683, 34695, 34699, 34700, 34701, 34712, 34718, 34731, 34735, 34743, 34773, 34778, 34781, 34794, 34796, 34799, 34801, 34810, 34818, 34832, 34833, 34847, 34857, 34894, 34905, 34912, 34928, 34929, 34956, 34968, 34970, 34984, 34989, 34991, 35019, 35028, 35029, 35030, 35032, 35038, 35044, 35051, 35073, 35076, 35077, 35078, 35122, 35128, 35228, 35234, 35235, 35240, 35244, 35304, 35315, 35325, 35330, 35345, 35354, 35360, 35378, 35390, 35391, 35395, 35407, 35412, 35414, 35425, 35437, 35453, 35458, 35462, 35472, 35473, 35479, 35487, 35492, 35525, 35548, 35552, 35557, 35562, 35565, 35568, 35571, 35585, 35589, 35593, 35598, 35599, 35603, 35608, 35626, 35633, 35637, 35650, 35658, 35660, 35666, 35672, 35683, 35690, 35695, 35696, 35704, 35707, 35720, 35725, 35735, 35767, 35772, 35774, 35781, 35788, 35799, 35824, 35825, 35834, 35840, 35843, 35856, 35894, 35895, 35903, 35918, 35922, 35923, 35941, 35951, 35969, 35972, 35985, 35988, 36019, 36020, 36021, 36042, 36043, 36055, 36059, 36068, 36075, 36076, 36085, 36090, 36091, 36098, 36100, 36102, 36118, 36126, 36130, 36133, 36137, 36138, 36141, 36148, 36152, 36172, 36194, 36195, 36196, 36201, 36218, 36224, 36230, 36232, 36233, 36248, 36254, 36272, 36275, 36276, 36278, 36282, 36287, 36301, 36304, 36306, 36308, 36313, 36318, 36334, 36335, 36338, 36342, 36350, 36356, 36359, 36361, 36363, 36369, 36376, 36383, 36384, 36391, 36397, 36399, 36401, 36403, 36405, 36407, 36423, 36431, 36440, 36444, 36453, 36457, 36472, 36473, 36480, 36495, 36497, 36498, 36506, 36521, 36545, 36550, 36553, 36566, 36573, 36579, 36580, 36584, 36589, 36591, 36597, 36599, 36600, 36601, 36606, 36610, 36613, 36616, 36617, 36619, 36624, 36627, 36637, 36641, 36647, 36664, 36684, 36687, 36694, 36716, 36740, 36741, 36746, 36747, 36748, 36750, 36752, 36754, 36756, 36758, 36759, 36767, 36768, 36771, 36773, 36784, 36785, 36787, 36792, 36799, 36802, 36804, 36814, 36815, 36818, 36821, 36823, 36824, 36827, 36830, 36831, 36835, 36851, 36860, 36874, 36875, 36878, 36909, 36910, 36914, 36929, 36932, 36941, 36944, 36945, 36987, 36988, 37001, 37019, 37026, 37029, 37042, 37044, 37049, 37055, 37060, 37061, 37070, 37071, 37082, 37092, 37093, 37095, 37103, 37105, 37113, 37124, 37126, 37129, 37130, 37137, 37138, 37142, 37144, 37145, 37158, 37167, 37168, 37169, 37171, 37178, 37180, 37192, 37194, 37197, 37205, 37210, 37212, 37214, 37221, 37223, 37228, 37229, 37235, 37244, 37255, 37309, 37311, 37313, 37323, 37326, 37330, 37331, 37341, 37342, 37343, 37344, 37346, 37348, 37350, 37353, 37355, 37356, 37359, 37360, 37362, 37363, 37364, 37365, 37369, 37373, 37375, 37379, 37381, 37387, 37388, 37392, 37393, 37395, 37397, 37398, 37400, 37401, 37403, 37407, 37411, 37413, 37415, 37428, 37434, 37436, 37437, 37440, 37443, 37447, 37452, 37455, 37457, 37470, 37473, 37475, 37476, 37482, 37484, 37487, 37492, 37494, 37499, 37503, 37509, 37510, 37515, 37520, 37521, 37526, 37531, 37537, 37539, 37545, 37549, 37554, 37557, 37559, 37564, 37571, 37572, 37580, 37581, 37599, 37603, 37616, 37619, 37620, 37627, 37636, 37637, 37638, 37640, 37643, 37644, 37645, 37647, 37650, 37652, 37659, 37663, 37665, 37667, 37669, 37670, 37671, 37674, 37684, 37686, 37688, 37689, 37690, 37692, 37699, 37700, 37701, 37702, 37710, 37722, 37724, 37725, 37729, 37731, 37741, 37742, 37745, 37748, 37750, 37751, 37753, 37755, 37761, 37763, 37764, 37776, 37777, 37781, 37784, 37787, 37791, 37797, 37800, 37812, 37818, 37819, 37820, 37822, 37835, 37836, 37838, 37842, 37843, 37847, 37850, 37851, 37854, 37860, 37864, 37865, 37873, 37874, 37877, 37881, 37883, 37890, 37892, 37898, 37901, 37904, 37908, 37912, 37915, 37916, 37917, 37923, 37928, 37931, 37933, 37935, 37936, 37939, 37950, 37953, 37954, 37956, 37961, 37964, 37969, 37971, 37977, 37978, 37984, 37990, 37991, 38002, 38005, 38007, 38008, 38011, 38012, 38021, 38022, 38029, 38030, 38035, 38037, 38044, 38056, 38064, 38083, 38088, 38092, 38097, 38104, 38106, 38107, 38109, 38116, 38128, 38132, 38134, 38136, 38142, 38159, 38163, 38170, 38175, 38193, 38211, 38212, 38227, 38236, 38242, 38245, 38250, 38263, 38268, 38275, 38277, 38291, 38306, 38308, 38313, 38320, 38322, 38329, 38334, 38342, 38344, 38347, 38348, 38357, 38364, 38366, 38369, 38380, 38382, 38398, 38400, 38403, 38405, 38408, 38453, 38456, 38465, 38476, 38480, 38485, 38490, 38501, 38518, 38523, 38532, 38539, 38543, 38565, 38580, 38581, 38583, 38600, 38608, 38613, 38616, 38630, 38645, 38650, 38658, 38661, 38670, 38682, 38688, 38698, 38700, 38730, 38734, 38742, 38750, 38752, 38754, 38757, 38782, 38786, 38793, 38797, 38810, 38811, 38817, 38821, 38828, 38842, 38849, 38856, 38865, 38868, 38878, 38882, 38894, 38909, 38929, 38971, 38975, 38980, 38983, 38988, 38989, 38990, 39001, 39004, 39005, 39009, 39010, 39050, 39060, 39061, 39062, 39063, 39073, 39076, 39080, 39086, 39094, 39105, 39114, 39127, 39134, 39150, 39167, 39170, 39192, 39197, 39202, 39206, 39211, 39212, 39247, 39262, 39270, 39272, 39288, 39290, 39292, 39296, 39299, 39301, 39329, 39333, 39345, 39400, 39405, 39422, 39423, 39438, 39449, 39458, 39460, 39464, 39470, 39477, 39493, 39511, 39512, 39527, 39532, 39544, 39550, 39553, 39596, 39603, 39615, 39618, 39626, 39628, 39631, 39651, 39660, 39684, 39697, 39706, 39711, 39713, 39721, 39724, 39727, 39733, 39742, 39758, 39761, 39781, 39788, 39793, 39795, 39799, 39812, 39822, 39833, 39839, 39860, 39895, 39917, 39943, 39963, 39968, 39976, 39978, 39992, 40005, 40009, 40025, 40029, 40049, 40055, 40066, 40079, 40085, 40096, 40101, 40106, 40108, 40122, 40128, 40144, 40146, 40150, 40153, 40157, 40161, 40176, 40179, 40192, 40197, 40213, 40223, 40226, 40227, 40239, 40252, 40256, 40266, 40270, 40276, 40304, 40312, 40315, 40320, 40324, 40373, 40378, 40383, 40399, 40426, 40427, 40439, 40467, 40471, 40480, 40487, 40490, 40492, 40493, 40513, 40519, 40545, 40551, 40552, 40557, 40561, 40568, 40580, 40590, 40591, 40594, 40606, 40608, 40613, 40624, 40636, 40637, 40640, 40641, 40644, 40646, 40654, 40670, 40674, 40675, 40679, 40683, 40701, 40738, 40753, 40768, 40773, 40795, 40804, 40807, 40812, 40837, 40872, 40875, 40894, 40903, 40908, 40917, 40918, 40920, 40925, 40926, 40935, 40952, 40956, 40962, 40964, 40965, 40968, 40971, 40976, 40979, 40992, 40998, 41002, 41020, 41022, 41025, 41067, 41068, 41090, 41111, 41118, 41146, 41168, 41186, 41191, 41212, 41214, 41237, 41252, 41254, 41258, 41266, 41268, 41284, 41285, 41312, 41315, 41332, 41347, 41348, 41354, 41355, 41365, 41373, 41376, 41383, 41385, 41398, 41407, 41410, 41413, 41419, 41433, 41434, 41440, 41443, 41444, 41457, 41474, 41475, 41480, 41504, 41529, 41544, 41560, 41562, 41566, 41580, 41588, 41592, 41594, 41598, 41604, 41605, 41606, 41611, 41623, 41626, 41629, 41640, 41648, 41656, 41688, 41695, 41715, 41736, 41788, 41805, 41831, 41853, 41861, 41873, 41877, 41897, 41898, 41904, 41905, 41906, 41907, 41922, 41930, 41938, 41960, 41975, 41979, 41990, 42017, 42042, 42053, 42061, 42064, 42129, 42137, 42156, 42163, 42167, 42179, 42183, 42188, 42210, 42221, 42225, 42239, 42241, 42250, 42253, 42255, 42278, 42280, 42291, 42309, 42311, 42314, 42321, 42325, 42326, 42328, 42331, 42336, 42352, 42356, 42361, 42362, 42367, 42370, 42393, 42401, 42435, 42436, 42439, 42448, 42450, 42451, 42477, 42494, 42497, 42509, 42519, 42522, 42524, 42529, 42530, 42593, 42618, 42620, 42622, 42634, 42639, 42648, 42669, 42681, 42682, 42684, 42705, 42725, 42733, 42747, 42749, 42755, 42759, 42768, 42770, 42798, 42800, 42815, 42827, 42828, 42830, 42834, 42842, 42850, 42855, 42856, 42867, 42877, 42879, 42885, 42888, 42895, 42898, 42901, 42904, 42905, 42910, 42914, 42926, 42928, 42933, 42947, 42962, 42973, 42989, 42991, 42996, 43002, 43006, 43011, 43016, 43030, 43034, 43036, 43043, 43057, 43072, 43073, 43078, 43082, 43090, 43092, 43096, 43119, 43123, 43141, 43147, 43153, 43157, 43158, 43167, 43168, 43175, 43181, 43189, 43219, 43221, 43230, 43244, 43254, 43256, 43261, 43284, 43288, 43300, 43318, 43326, 43335, 43341, 43356, 43368, 43383, 43420, 43424, 43427, 43438, 43445, 43447, 43448, 43480, 43484, 43485, 43490, 43517, 43524, 43548, 43552, 43558, 43561, 43562, 43563, 43575, 43581, 43589, 43595, 43601, 43602, 43622, 43629, 43636, 43638, 43641, 43647, 43653, 43654, 43659, 43662, 43677, 43709, 43712, 43727, 43751, 43763, 43781, 43784, 43785, 43790, 43807, 43820, 43835, 43841, 43860, 43876, 43877, 43881, 43883, 43885, 43886, 43892, 43895, 43896, 43897, 43898, 43908, 43912, 43914, 43919, 43924, 43931, 43937, 43939, 43950, 43953, 43966, 43971, 43972, 43973, 43974, 43980, 43985, 43995, 43997, 44002, 44003, 44012, 44016, 44019, 44043, 44045, 44052, 44053, 44058, 44061, 44065, 44068, 44069, 44070, 44073, 44074, 44077, 44082, 44086, 44087, 44088, 44105, 44109, 44111, 44115, 44117, 44121, 44124, 44125, 44126, 44130, 44132, 44135, 44139, 44143, 44151, 44161, 44167, 44170, 44172, 44182, 44191, 44194, 44197, 44202, 44205, 44228, 44233, 44234, 44237, 44245, 44249, 44258, 44259, 44261, 44264, 44270, 44277, 44279, 44282, 44285, 44288, 44292, 44301, 44306, 44307, 44314, 44315, 44319, 44336, 44354, 44361, 44362, 44364, 44370, 44382, 44388, 44393, 44396, 44407, 44410, 44414, 44415, 44421, 44422, 44424, 44447, 44449, 44450, 44452, 44456, 44460, 44476, 44477, 44481, 44485, 44488, 44490, 44495, 44496, 44500, 44503, 44504, 44513, 44514, 44515, 44517, 44518, 44536, 44539, 44545, 44547, 44549, 44555, 44560, 44562, 44572, 44573, 44574, 44575, 44579, 44598, 44600, 44609, 44613, 44618, 44620, 44621, 44622, 44627, 44628, 44629, 44638, 44650, 44658, 44684, 44704, 44707, 44710, 44713, 44721, 44722, 44740, 44742, 44756, 44758, 44764, 44768, 44772, 44773, 44776, 44778, 44795, 44798, 44804, 44818, 44823, 44827, 44828, 44831, 44834, 44852, 44854, 44857, 44864, 44867, 44891, 44898, 44899, 44902, 44912, 44916, 44924, 44933, 44934, 44935, 44946, 44949, 44967, 44969, 44970, 44972, 44974, 44976, 44977, 44988, 45000, 45001, 45005, 45009, 45013, 45014, 45018, 45023, 45039, 45050, 45065, 45073, 45079, 45081, 45082, 45091, 45099, 45105, 45106, 45170, 45171, 45175, 45180, 45184, 45185, 45187, 45189, 45190, 45192, 45193, 45201, 45202, 45203, 45204, 45206, 45210, 45213, 45216, 45217, 45218, 45219, 45220, 45223, 45224, 45225, 45239, 45241, 45244, 45245, 45250, 45251, 45253, 45254, 45255, 45258, 45259, 45262, 45263, 45265, 45269, 45271, 45273, 45276, 45278, 45279, 45283, 45289, 45292, 45293, 45300, 45310, 45319, 45320, 45322, 45334, 45338, 45342, 45348, 45351, 45353, 45356, 45357, 45362, 45363, 45364, 45367, 45368, 45372, 45375, 45387, 45388, 45389, 45404, 45414, 45421, 45426, 45427, 45428, 45434, 45436, 45440, 45446, 45448, 45453, 45457, 45458, 45463, 45475, 45481, 45483, 45484, 45485, 45489, 45491, 45493, 45495, 45498, 45504, 45513, 45514, 45516, 45517, 45524, 45525, 45528, 45529, 45531, 45532, 45533, 45534, 45540, 45543, 45544, 45546, 45551, 45552, 45562, 45563, 45572, 45576, 45577, 45578, 45581, 45589, 45594, 45595, 45600, 45625, 45626, 45630, 45634, 45637, 45643, 45646, 45649, 45650, 45655, 45657, 45659, 45685, 45688, 45691, 45692, 45696, 45698, 45699, 45704, 45711, 45712, 45713, 45714, 45715, 45716, 45717, 45718, 45725, 45733, 45734, 45735, 45737, 45738, 45741, 45742, 45748, 45750, 45752, 45754, 45755, 45756, 45757, 45763, 45771, 45776, 45779, 45783, 45786, 45787, 45793, 45805, 45808, 45817, 45818, 45821, 45822, 45824, 45828, 45830, 45834, 45840, 45841, 45847, 45854, 45855, 45857, 45858, 45860, 45862, 45869, 45870, 45876, 45901, 45910, 45945, 45959, 45960, 45961, 45962, 45965, 45966, 45968, 45970, 45971, 45972, 45978, 45992, 45997, 46019, 46023, 46046, 46053, 46058, 46075, 46076, 46079, 46082, 46089, 46092, 46096, 46101, 46107, 46108, 46111, 46114, 46132, 46144, 46147, 46153, 46166, 46178, 46180, 46182, 46185, 46190, 46191, 46194, 46196, 46210, 46237, 46241, 46242, 46253, 46258, 46260, 46263, 46264, 46267, 46269, 46280, 46287, 46289, 46300, 46301, 46311, 46312, 46324, 46328, 46337, 46338, 46342, 46346, 46349, 46360, 46370, 46371, 46393, 46394, 46464, 46465, 46467, 46471, 46480, 46490, 46492, 46494, 46495, 46510, 46521, 46526, 46527, 46530, 46531, 46535, 46548, 46550, 46559, 46574, 46575, 46579, 46593, 46595, 46605, 46615, 46617, 46631, 46639, 46645, 46646, 46648, 46659, 46662, 46687, 46707, 46725, 46726, 46732, 46749, 46750, 46758, 46789, 46794, 46815, 46828, 46842, 46847, 46851, 46865, 46877, 46883, 46884, 46885, 46890, 46892, 46896, 46906, 46921, 46948, 46969, 46981, 46987, 46990, 47000, 47008, 47012, 47041, 47056, 47058, 47069, 47076, 47114, 47122, 47131, 47141, 47152, 47160, 47183, 47193, 47194, 47197, 47215, 47220, 47231, 47237, 47249, 47261, 47301, 47302, 47305, 47308, 47310, 47315, 47317, 47327, 47331, 47348, 47367, 47382, 47384, 47389, 47424, 47446, 47447, 47450, 47460, 47461, 47471, 47477, 47484, 47486, 47511, 47518, 47533, 47546, 47551, 47555, 47558, 47561, 47572, 47580, 47588, 47595, 47602, 47606, 47607, 47611, 47619, 47645, 47666, 47683, 47700, 47747, 47749, 47752, 47758, 47760, 47763, 47769, 47770, 47773, 47791, 47794, 47801, 47812, 47818, 47822, 47829, 47846, 47872, 47875, 47881, 47909, 47918, 47919, 47931, 47937, 47941, 47950, 47958, 47961, 47963, 47966, 47968, 47973, 47976, 47983, 47990, 47994, 48001, 48004, 48013, 48030, 48040, 48050, 48052, 48058, 48060, 48082, 48086, 48087, 48102, 48103, 48122, 48158, 48163, 48172, 48175, 48192, 48201, 48206, 48207, 48209, 48230, 48235, 48236, 48247, 48248, 48257, 48259, 48271, 48276, 48281, 48294, 48298, 48313, 48330, 48337, 48340, 48346, 48347, 48349, 48352, 48369, 48375, 48379, 48419, 48431, 48432, 48439, 48443, 48449, 48451, 48454, 48464, 48483, 48484, 48491, 48493, 48530, 48535, 48536, 48566, 48567, 48593, 48595, 48608, 48614, 48620, 48637, 48639, 48653, 48691, 48697, 48707, 48715, 48735, 48741, 48759, 48763, 48772, 48775, 48783, 48788, 48793, 48805, 48824, 48827, 48834, 48839, 48854, 48858, 48870, 48904, 48909, 48911, 48913, 48927, 48942, 48943, 48957, 48965, 48967, 48974, 48998, 49001, 49002, 49017, 49022, 49024, 49032, 49035, 49037, 49047, 49076, 49080, 49091, 49104, 49111, 49114, 49135, 49137, 49168, 49174, 49191, 49192, 49197, 49201, 49206, 49233, 49244, 49251, 49268, 49275, 49277, 49287, 49294, 49301, 49317, 49330, 49355, 49358, 49367, 49399, 49401, 49418, 49419, 49423, 49432, 49434, 49435, 49436, 49456, 49459, 49473, 49475, 49477, 49478, 49485, 49489, 49495, 49498, 49499, 49503, 49514, 49522, 49525, 49535, 49546, 49549, 49577, 49599, 49602, 49607, 49613, 49631, 49637, 49639, 49657, 49670, 49673, 49688, 49705, 49711, 49722, 49749, 49750, 49761, 49762, 49766, 49789, 49792, 49820, 49847, 49856, 49867, 49883, 49890, 49893, 49912, 49917, 49938, 49977, 49982, 49986, 50031, 50036, 50038, 50039, 50040, 50046, 50052, 50055, 50057, 50059, 50064, 50074, 50086, 50110, 50112, 50114, 50121, 50126, 50129, 50131, 50134, 50140, 50151, 50170, 50177, 50180, 50188, 50197, 50208, 50213, 50214, 50217, 50231, 50244, 50247, 50251, 50291, 50292, 50305, 50315, 50332, 50346, 50352, 50371, 50373, 50378, 50408, 50421, 50425, 50430, 50443, 50445, 50459, 50468, 50471, 50496, 50517, 50521, 50527, 50535, 50536, 50540, 50544, 50551, 50553, 50555, 50570, 50572, 50601, 50609, 50612, 50613, 50620, 50660, 50664, 50676, 50695, 50708, 50721, 50724, 50738, 50759, 50760, 50775, 50808, 50813, 50816, 50838, 50839, 50853, 50860, 50864, 50866, 50873, 50897, 50900, 50933, 50951, 50952, 50961, 50963, 50964, 50972, 50976, 50978, 50981, 50982, 50985, 51004, 51013, 51014, 51019, 51027, 51032, 51036, 51039, 51043, 51044, 51056, 51070, 51074, 51076, 51109, 51110, 51124, 51127, 51128, 51144, 51164, 51176, 51178, 51196, 51209, 51219, 51239, 51242, 51251, 51260, 51276, 51280, 51291, 51308, 51328, 51344, 51345, 51359, 51383, 51387, 51389, 51397, 51409, 51429, 51434, 51444, 51445, 51450, 51451, 51454, 51474, 51482, 51489, 51495, 51509, 51511, 51530, 51534, 51545, 51548, 51558, 51588, 51598, 51602, 51605, 51634, 51635, 51642, 51644, 51649, 51666, 51667, 51669, 51670, 51700, 51706, 51730, 51733, 51734, 51737, 51748, 51754, 51761, 51762, 51764, 51768, 51772, 51778, 51779, 51786, 51789, 51790, 51791, 51794, 51804, 51828, 51834, 51835, 51837, 51839, 51842, 51852, 51868, 51894, 51896, 51902, 51909, 51922, 51923, 51924, 51928, 51931, 51952, 51971, 51972, 51974, 51978, 51982, 52006, 52008, 52012, 52018, 52021, 52034, 52037, 52043, 52048, 52051, 52054, 52057, 52059, 52076, 52079, 52089, 52091, 52092, 52094, 52102, 52113, 52116, 52117, 52135, 52136, 52137, 52151, 52153, 52154, 52160, 52166, 52167, 52179, 52181, 52183, 52185, 52190, 52191, 52194, 52201, 52206, 52207, 52227, 52232, 52233, 52236, 52240, 52242, 52250, 52252, 52258, 52266, 52267, 52269, 52270, 52280, 52285, 52306, 52312, 52317, 52325, 52326, 52328, 52340, 52341, 52360, 52362, 52363, 52372, 52373, 52376, 52380, 52383, 52390, 52392, 52393, 52396, 52398, 52399, 52426, 52429, 52430, 52433, 52434, 52441, 52454, 52467, 52477, 52479, 52480, 52491, 52492, 52496, 52504, 52518, 52543, 52544, 52564, 52595, 52599, 52605, 52609, 52610, 52611, 52624, 52625, 52637, 52647, 52650, 52686, 52695, 52696, 52701, 52703, 52712, 52714, 52720, 52726, 52727, 52735, 52738, 52744, 52749, 52754, 52756, 52763, 52769, 52773, 52794, 52798, 52800, 52808, 52809, 52811, 52814, 52815, 52817, 52820, 52821, 52822, 52823, 52827, 52829, 52832, 52834, 52837, 52843, 52848, 52852, 52854, 52858, 52859, 52860, 52864, 52869, 52870, 52874, 52875, 52877, 52881, 52883, 52884, 52888, 52892, 52896, 52906, 52910, 52914, 52915, 52916, 52922, 52924, 52935, 52938, 52941, 52944, 52945, 52951, 52959, 52960, 52966, 52972, 52974, 52976, 52979, 52981, 52982, 52983, 52984, 52985, 52987, 53004, 53018, 53020, 53025, 53026, 53035, 53038, 53042, 53053, 53054, 53056, 53062, 53066, 53068, 53078, 53089, 53091, 53094, 53095, 53100, 53101, 53103, 53104, 53105, 53108, 53113, 53114, 53115, 53116, 53121, 53128, 53130, 53132, 53135, 53136, 53138, 53143, 53145, 53146, 53147, 53153, 53156, 53159, 53160, 53166, 53168, 53174, 53176, 53177, 53179, 53189, 53191, 53201, 53210, 53221, 53222, 53226, 53227, 53228, 53241, 53244, 53246, 53253, 53258, 53268, 53277, 53278, 53281, 53287, 53288, 53293, 53295, 53298, 53299, 53304, 53305, 53308, 53310, 53315, 53317, 53321, 53322, 53324, 53325, 53326, 53328, 53331, 53336, 53337, 53343, 53344, 53345, 53346, 53348, 53356, 53359, 53360, 53361, 53362, 53366, 53367, 53370, 53380, 53381, 53383, 53388, 53395, 53401, 53402, 53405, 53410, 53417, 53419, 53423, 53434, 53436, 53439, 53441, 53460, 53466, 53470, 53471, 53472, 53476, 53480, 53482, 53484, 53491, 53509, 53511, 53517, 53527, 53534, 53535, 53543, 53553, 53554, 53555, 53562, 53565, 53569, 53571, 53572, 53577, 53579, 53596, 53598, 53604, 53619, 53636, 53640, 53641, 53653, 53662, 53673, 53687, 53688, 53706, 53713, 53720, 53738, 53749, 53750, 53754, 53757, 53759, 53762, 53767, 53781, 53784, 53788, 53810, 53818, 53829, 53833, 53860, 53869, 53881, 53883, 53887, 53895, 53896, 53899, 53906, 53924, 53949, 53952, 53955, 53964, 53968, 53987, 53994, 53995, 53999, 54001, 54010, 54014, 54030, 54035, 54046, 54064, 54090, 54094, 54096, 54097, 54098, 54101, 54102, 54125, 54134, 54139, 54159, 54162, 54168, 54180, 54182, 54199, 54213, 54226, 54230, 54231, 54236, 54242, 54260, 54271, 54286, 54288, 54311, 54314, 54321, 54338, 54362, 54363, 54372, 54383, 54399, 54423, 54426, 54427, 54432, 54435, 54441, 54463, 54465, 54467, 54478, 54479, 54482, 54512, 54515, 54520, 54529, 54530, 54534, 54535, 54537, 54543, 54547, 54548, 54556, 54557, 54574, 54576, 54580, 54584, 54585, 54592, 54601, 54608, 54609, 54610, 54611, 54621, 54622, 54624, 54643, 54649, 54651, 54653, 54660, 54665, 54705, 54709, 54719, 54725, 54742, 54746, 54748, 54759, 54766, 54768, 54771, 54782, 54791, 54797, 54808, 54848, 54886, 54890, 54940, 54951, 54958, 54984, 54993, 55000, 55001, 55018, 55028, 55035, 55036, 55044, 55045, 55052, 55054, 55078, 55094, 55095, 55097, 55101, 55109, 55111, 55116, 55118, 55121, 55125, 55144, 55148, 55152, 55158, 55159, 55178, 55185, 55202, 55203, 55207, 55208, 55238, 55249, 55259, 55277, 55279, 55280, 55295, 55320, 55355, 55357, 55375, 55381, 55386, 55395, 55397, 55399, 55408, 55409, 55410, 55416, 55421, 55430, 55432, 55436, 55438, 55440, 55444, 55451, 55453, 55456, 55475, 55483, 55502, 55506, 55507, 55513, 55519, 55520, 55523, 55532, 55543, 55555, 55589, 55593, 55603, 55609, 55615, 55621, 55622, 55635, 55642, 55664, 55666, 55673, 55678, 55710, 55715, 55746, 55758, 55764, 55781, 55813, 55820, 55835, 55856, 55860, 55865, 55866, 55872, 55881, 55885, 55888, 55891, 55895, 55896, 55899, 55902, 55905, 55907, 55915, 55928, 55932, 55956, 55957, 55966, 55971, 55977, 55982, 55983, 56001, 56013, 56024, 56026, 56028, 56030, 56072, 56095, 56111, 56122, 56134, 56137, 56141, 56148, 56170, 56232, 56246, 56276, 56300, 56302, 56313, 56319, 56348, 56370, 56392, 56400, 56425, 56431, 56435, 56439, 56441, 56460, 56463, 56474, 56488, 56506, 56518, 56534, 56544, 56577, 56586, 56588, 56626, 56633, 56645, 56650, 56655, 56657, 56675, 56678, 56704, 56710, 56727, 56741, 56742, 56771, 56790, 56794, 56813, 56821, 56842, 56848, 56851, 56865, 56866, 56895, 56896, 56911, 56925, 56935, 56946, 56947, 56981, 56988, 57016, 57045, 57075, 57082, 57138, 57169, 57191, 57211, 57221, 57226, 57240, 57262, 57265, 57276, 57302, 57308, 57325, 57330, 57335, 57342, 57355, 57356, 57369, 57373, 57391, 57393, 57411, 57412, 57437, 57438, 57459, 57460, 57477, 57487, 57500, 57512, 57520, 57526, 57542, 57545, 57555, 57598, 57599, 57604, 57613, 57615, 57619, 57625, 57626, 57645, 57662, 57677, 57682, 57691, 57695, 57725, 57726, 57729, 57742, 57759, 57764, 57771, 57786, 57792, 57797, 57799, 57817, 57825, 57839, 57845, 57849, 57859, 57868, 57870, 57874, 57880, 57893, 57895, 57897, 57910, 57915, 57924, 57927, 57932, 57934, 57937, 57951, 57952, 57954, 57978, 57986, 57994, 57996, 57998, 57999, 58003, 58004, 58007, 58023, 58026, 58033, 58042, 58044, 58070, 58074, 58083, 58102, 58109, 58112, 58114, 58131, 58144, 58158, 58159, 58184, 58194, 58208, 58222, 58261, 58286, 58288, 58292, 58296, 58297, 58348, 58349, 58365, 58367, 58372, 58380, 58382, 58383, 58395, 58418, 58429, 58430, 58454, 58455, 58456, 58458, 58464, 58471, 58475, 58489, 58495, 58498, 58505, 58508, 58509, 58514, 58515, 58519, 58530, 58534, 58536, 58573, 58589, 58598, 58629, 58651, 58660, 58666, 58672, 58673, 58674, 58679, 58683, 58712, 58721, 58725, 58729, 58738, 58740, 58758, 58760, 58761, 58787, 58792, 58793, 58796, 58798, 58802, 58813, 58817, 58825, 58849, 58860, 58864, 58877, 58881, 58883, 58885, 58886, 58889, 58908, 58917, 58926, 58931, 58933, 58942, 58947, 58981, 58982, 58985, 58989, 58990, 58992, 59005, 59006, 59017, 59053, 59056, 59057, 59062, 59080, 59085, 59095, 59096, 59103, 59118, 59122, 59134, 59142, 59145, 59156, 59158, 59165, 59174, 59192, 59196, 59199, 59204, 59206, 59211, 59217, 59227, 59228, 59232, 59234, 59241, 59247, 59255, 59266, 59274, 59275, 59286, 59287, 59298, 59303, 59308, 59310, 59314, 59320, 59321, 59323, 59334, 59351, 59365, 59384, 59391, 59392, 59402, 59409, 59426, 59427, 59428, 59443, 59450, 59465, 59468, 59469, 59475, 59496, 59500, 59514, 59518, 59528, 59530, 59534, 59541, 59556, 59559, 59562, 59572, 59583, 59585, 59589, 59598, 59604, 59605, 59608, 59618, 59632, 59644, 59646, 59649, 59652, 59656, 59657, 59664, 59670, 59671, 59674, 59676, 59678, 59680, 59684, 59686, 59688, 59694, 59700, 59703, 59712, 59720, 59721, 59732, 59737, 59744, 59765, 59782, 59800, 59803, 59804, 59808, 59811, 59815, 59820, 59821, 59822, 59826, 59827, 59837, 59842, 59854, 59856, 59857, 59868, 59871, 59881, 59887, 59900, 59901, 59905, 59910, 59915, 59916, 59920, 59922, 59923, 59939, 59942, 59945, 59961, 59963, 59964, 59971, 59980, 59985, 59987, 59995, 59996, 59997, 59998, 60001, 60004, 60008, 60009, 60022, 60024, 60027, 60031, 60034, 60040, 60043, 60049, 60050, 60054, 60056, 60059, 60060, 60065, 60073, 60083, 60084, 60093, 60101, 60117, 60118, 60130, 60133, 60142, 60149, 60153, 60166, 60168, 60169, 60178, 60183, 60186, 60190, 60200, 60205, 60221, 60225, 60234, 60241, 60258, 60259, 60270, 60271, 60272, 60283, 60285, 60289, 60296, 60304, 60309, 60316, 60324, 60327, 60331, 60333, 60340, 60341, 60348, 60352, 60355, 60359, 60361, 60369, 60370, 60382, 60384, 60385, 60390, 60396, 60398, 60399, 60405, 60409, 60410, 60412, 60413, 60416, 60419, 60420, 60422, 60427, 60432, 60437, 60438, 60443, 60444, 60446, 60448, 60450, 60453, 60454, 60457, 60458, 60459, 60460, 60461, 60462, 60463, 60464, 60467, 60469, 60471, 60472, 60473, 60474, 60480, 60484, 60489, 60495, 60504, 60505, 60507, 60509, 60513, 60514, 60515, 60525, 60534, 60537, 60539, 60540, 60541, 60544, 60546, 60549, 60551, 60554, 60555, 60556, 60563, 60565, 60575, 60578, 60581, 60595, 60614, 60629, 60634, 60637, 60639, 60651, 60662, 60671, 60673, 60682, 60687, 60690, 60693, 60694, 60695, 60697, 60703, 60704, 60706, 60709, 60710, 60712, 60716, 60718, 60721, 60722, 60725, 60727, 60740, 60741, 60747, 60749, 60753, 60756, 60757, 60762, 60763, 60764, 60765, 60767, 60773, 60776, 60778, 60800, 60808, 60811, 60819, 60825, 60832, 60834, 60835, 60837, 60849, 60856, 60861, 60868, 60875, 60883, 60885, 60888, 60907, 60908, 60916, 60920, 60923, 60927, 60928, 60929, 60930, 60938, 60941, 60945, 60947, 60948, 60952, 60955, 60956, 60957, 60962, 60967, 60968, 60969, 60971, 60972, 60973, 60975, 60976, 60978, 60980, 60983, 60990, 60997, 61000, 61002, 61006, 61011, 61012, 61014, 61017, 61018, 61026, 61032, 61039, 61041, 61042, 61044, 61046, 61052, 61054, 61055, 61060, 61067, 61068, 61071, 61073, 61077, 61079, 61083, 61084, 61085, 61089, 61090, 61095, 61096, 61097, 61100, 61101, 61103, 61105, 61113, 61117, 61120, 61121, 61122, 61130, 61137, 61144, 61147, 61153, 61157, 61160, 61162, 61174, 61176, 61182, 61185, 61202, 61217, 61223, 61228, 61238, 61246, 61264, 61281, 61283, 61314, 61315, 61320, 61322, 61323, 61324, 61328, 61331, 61347, 61350, 61357, 61365, 61385, 61392, 61432, 61434, 61435, 61446, 61450, 61456, 61461, 61464, 61480, 61483, 61513, 61517, 61525, 61531, 61533, 61540, 61543, 61545, 61547, 61569, 61591, 61601, 61609, 61616, 61626, 61634, 61638, 61656, 61667, 61669, 61676, 61686, 61689, 61693, 61701, 61703, 61705, 61711, 61713, 61720, 61722, 61724, 61728, 61731, 61735, 61741, 61763, 61768, 61776, 61779, 61783, 61787, 61792, 61793, 61806, 61815, 61816, 61826, 61827, 61828, 61879, 61891, 61892, 61901, 61903, 61905, 61919, 61926, 61929, 61932, 61940, 61950, 61956, 61964, 61978, 61992, 62009, 62032, 62049, 62054, 62060, 62061, 62068, 62086, 62107, 62113, 62121, 62123, 62130, 62144, 62166, 62187, 62188, 62190, 62197, 62204, 62209, 62214, 62226, 62228, 62232, 62238, 62280, 62281, 62300, 62315, 62319, 62321, 62325, 62335, 62341, 62346, 62347, 62355, 62366, 62387, 62406, 62427, 62447, 62478, 62490, 62494, 62502, 62518, 62521, 62534, 62547, 62561, 62562, 62587, 62595, 62596, 62599, 62600, 62622, 62623, 62633, 62634, 62635, 62637, 62642, 62649, 62651, 62654, 62662, 62668, 62676, 62680, 62693, 62695, 62696, 62715, 62746, 62747, 62748, 62775, 62777, 62782, 62804, 62805, 62829, 62847, 62851, 62860, 62880, 62885, 62892, 62894, 62898, 62901, 62905, 62930, 62935, 62954, 62984, 62992, 63003, 63004, 63009, 63010, 63019, 63037, 63042, 63058, 63064, 63077, 63078, 63103, 63114, 63122, 63126, 63137, 63146, 63151, 63158, 63160, 63162, 63186, 63191, 63195, 63206, 63210, 63227, 63254, 63258, 63262, 63265, 63268, 63311, 63320, 63321, 63330, 63336, 63349, 63350, 63354, 63411, 63418, 63435, 63438, 63457, 63483, 63484, 63493, 63495, 63499, 63520, 63524, 63528, 63535, 63536, 63541, 63563, 63575, 63584, 63611, 63621, 63628, 63635, 63664, 63672, 63673, 63693, 63712, 63716, 63732, 63736, 63745, 63754, 63757, 63761, 63763, 63768, 63771, 63772, 63783, 63787, 63812, 63826, 63832, 63838, 63840, 63841, 63859, 63876, 63899, 63908, 63926, 63927, 63931, 63956, 63960, 63967, 63972, 63981, 63982, 63995, 64015, 64026, 64036, 64046, 64071, 64074, 64078, 64084, 64096, 64115, 64118, 64127, 64130, 64139, 64153, 64154, 64186, 64198, 64214, 64215, 64218, 64220, 64221, 64229, 64284, 64332, 64348, 64370, 64372, 64382, 64404, 64435, 64439, 64440, 64456, 64457, 64471, 64484, 64494, 64510, 64545, 64552, 64576, 64584, 64593, 64595, 64627, 64628, 64647, 64662, 64670, 64701, 64707, 64717, 64728, 64740, 64743, 64745, 64752, 64760, 64765, 64775, 64792, 64797, 64799, 64847, 64862, 64879, 64884, 64886, 64890, 64894, 64900, 64901, 64912, 64914, 64919, 64947, 64948, 64967, 64968, 64979, 65000, 65004, 65009, 65011, 65024, 65026, 65027, 65031, 65052, 65056, 65062, 65063, 65086, 65088, 65094, 65120, 65123, 65130, 65151, 65161, 65177, 65182, 65183, 65194, 65204, 65216, 65217, 65225, 65227, 65230, 65231, 65237, 65240, 65248, 65253, 65260, 65261, 65263, 65269, 65270, 65280, 65284, 65286, 65305, 65309, 65323, 65327, 65328, 65331, 65345, 65346, 65357, 65375, 65376, 65395, 65406, 65411, 65421, 65424, 65441, 65444, 65459, 65479, 65499, 65501, 65504, 65529, 65531, 65532, 65547, 65549, 65552, 65553, 65563, 65568, 65572, 65588, 65594, 65596, 65604, 65626, 65627, 65628, 65637, 65643, 65653, 65655, 65662, 65664, 65665, 65667, 65677, 65681, 65682, 65689, 65692, 65718, 65719, 65721, 65752, 65756, 65797, 65805, 65813, 65824, 65825, 65829, 65844, 65851, 65864, 65874, 65892, 65916, 65922, 65934, 65945, 65947, 65959, 65960, 65962, 65975, 65991, 65993, 65995, 66003, 66009, 66012, 66018, 66020, 66049, 66053, 66058, 66069, 66077, 66086, 66094, 66099, 66104, 66106, 66114, 66119, 66123, 66124, 66127, 66158, 66166, 66171, 66172, 66197, 66204, 66213, 66217, 66219, 66232, 66255, 66260, 66261, 66279, 66296, 66303, 66305, 66310, 66311, 66317, 66341, 66357, 66360, 66364, 66369, 66371, 66384, 66444, 66448, 66461, 66472, 66490, 66504, 66513, 66519, 66526, 66530, 66531, 66553, 66575, 66583, 66598, 66607, 66612, 66622, 66625, 66646, 66658, 66665, 66667, 66680, 66703, 66717, 66725, 66733, 66735, 66750, 66764, 66776, 66781, 66787, 66791, 66797, 66799, 66804, 66816, 66819, 66826, 66838, 66840, 66850, 66853, 66862, 66875, 66889, 66892, 66917, 66921, 66930, 66938, 66939, 66940, 66943, 66949, 66951, 66963, 66964, 66975, 66980, 66986, 67000, 67003, 67004, 67006, 67016, 67020, 67029, 67034, 67041, 67070, 67075, 67084, 67087, 67100, 67110, 67115, 67128, 67137, 67146, 67152, 67164, 67172, 67173, 67182, 67184, 67185, 67186, 67188, 67195, 67196, 67205, 67217, 67222, 67226, 67234, 67243, 67247, 67252, 67282, 67293, 67296, 67302, 67311, 67323, 67326, 67329, 67336, 67351, 67357, 67371, 67384, 67385, 67388, 67391, 67394, 67398, 67402, 67404, 67408, 67423, 67430, 67434, 67444, 67450, 67464, 67473, 67485, 67497, 67501, 67503, 67506, 67508, 67511, 67515, 67522, 67532, 67541, 67550, 67553, 67554, 67559, 67562, 67563, 67567, 67577, 67596, 67597, 67598, 67599, 67603, 67604, 67611, 67622, 67625, 67630, 67631, 67650, 67662, 67672, 67674, 67685, 67691, 67697, 67700, 67701, 67707, 67709, 67710, 67716, 67717, 67718, 67731, 67735, 67738, 67743, 67753, 67754, 67755, 67760, 67761, 67763, 67767, 67770, 67774, 67775, 67776, 67787, 67789, 67791, 67792, 67798, 67799, 67802, 67807, 67808, 67809, 67812, 67822, 67825, 67826, 67827, 67829, 67831, 67835, 67836, 67837, 67844, 67845, 67847, 67853, 67863, 67867, 67868, 67869, 67879, 67881, 67884, 67885, 67893, 67902, 67905, 67907, 67908, 67917, 67939, 67943, 67944, 67945, 67947, 67953, 67955, 67956, 67957, 67960, 67962, 67969, 67974, 67980, 67987, 67988, 67997, 68014, 68016, 68017, 68022, 68023, 68032, 68036, 68042, 68046, 68051, 68058, 68060, 68064, 68067, 68068, 68069, 68070, 68071, 68072, 68076, 68077, 68078, 68079, 68083, 68092, 68095, 68097, 68098, 68102, 68103, 68105, 68107, 68109, 68111, 68112, 68114, 68116, 68121, 68127, 68135, 68146, 68155, 68156, 68157, 68159, 68162, 68164, 68168, 68179, 68181, 68182, 68184, 68193, 68194, 68195, 68199, 68201, 68202, 68209, 68215, 68225, 68227, 68233, 68236, 68237, 68241, 68246, 68247, 68251, 68258, 68268, 68269, 68271, 68273, 68280, 68283, 68287, 68291, 68292, 68294, 68297, 68307, 68311, 68312, 68313, 68314, 68315, 68316, 68319, 68320, 68325, 68327, 68330, 68332, 68333, 68336, 68338, 68339, 68345, 68350, 68352, 68356, 68359, 68368, 68369, 68376, 68378, 68380, 68382, 68393, 68401, 68403, 68408, 68422, 68423, 68425, 68432, 68434, 68437, 68444, 68450, 68455, 68458, 68460, 68467, 68468, 68472, 68479, 68484, 68485, 68487, 68493, 68494, 68501, 68502, 68503, 68505, 68506, 68507, 68512, 68513, 68514, 68516, 68517, 68524, 68538, 68553, 68555, 68572, 68577, 68590, 68594, 68596, 68608, 68616, 68617, 68618, 68632, 68656, 68659, 68661, 68670, 68673, 68678, 68692, 68716, 68733, 68748, 68752, 68753, 68758, 68767, 68770, 68775, 68779, 68790, 68805, 68807, 68808, 68811, 68814, 68819, 68829, 68838, 68843, 68850, 68855, 68856, 68859, 68861, 68874, 68876, 68881, 68886, 68887, 68894, 68915, 68928, 68937, 68938, 68941, 68945, 68958, 68960, 68966, 68969, 68985, 68986, 68991, 68999, 69002, 69008, 69031, 69047, 69049, 69051, 69055, 69068, 69072, 69088, 69097, 69108, 69113, 69118, 69121, 69132, 69135, 69137, 69147, 69150, 69161, 69167, 69168, 69174, 69189, 69197, 69223, 69229, 69254, 69255, 69258, 69278, 69281, 69289, 69297, 69306, 69309, 69312, 69325, 69332, 69336, 69337, 69359, 69364, 69371, 69373, 69375, 69391, 69393, 69397, 69402, 69415, 69422, 69431, 69439, 69442, 69451, 69458, 69460, 69465, 69469, 69472, 69476, 69483, 69506, 69508, 69509, 69523, 69524, 69525, 69550, 69552, 69554, 69559, 69560, 69584, 69598, 69619, 69620, 69662, 69697, 69703, 69704, 69726, 69730, 69739, 69762, 69769, 69772, 69774, 69790, 69800, 69804, 69805, 69826, 69855, 69872, 69874, 69881, 69882, 69891, 69906, 69907, 69913, 69915, 69949, 69952, 69957, 69968, 69969, 69977, 69978, 69994, 69997, 70011, 70029, 70039, 70042, 70044, 70047, 70059, 70066, 70073, 70083, 70090, 70098, 70104, 70106, 70112, 70117, 70126, 70128, 70133, 70134, 70155, 70165, 70194, 70198, 70205, 70206, 70217, 70222, 70254, 70257, 70289, 70301, 70302, 70320, 70323, 70375, 70387, 70389, 70407, 70408, 70409, 70424, 70433, 70436, 70440, 70449, 70453, 70460, 70480, 70485, 70486, 70508, 70528, 70582, 70592, 70609, 70615, 70631, 70658, 70662, 70689, 70697, 70706, 70711, 70724, 70743, 70752, 70771, 70773, 70784, 70786, 70799, 70800, 70802, 70816, 70864, 70866, 70871, 70877, 70885, 70891, 70926, 70928, 70932, 70934, 70941, 70945, 70964, 70985, 70987, 70989, 70993, 70995, 71010, 71027, 71028, 71034, 71039, 71041, 71045, 71067, 71069, 71085, 71089, 71096, 71098, 71102, 71103, 71141, 71145, 71155, 71158, 71163, 71166, 71184, 71199, 71208, 71223, 71226, 71227, 71237, 71246, 71249, 71252, 71267, 71274, 71281, 71294, 71336, 71343, 71344, 71364, 71365, 71368, 71369, 71373, 71375, 71397, 71398, 71401, 71405, 71415, 71423, 71424, 71429, 71430, 71444, 71448, 71455, 71461, 71472, 71482, 71501, 71508, 71537, 71539, 71543, 71544, 71566, 71599, 71602, 71629, 71633, 71638, 71668, 71700, 71717, 71718, 71749, 71778, 71782, 71783, 71791, 71794, 71797, 71803, 71815, 71821, 71830, 71840, 71859, 71860, 71888, 71893, 71897, 71902, 71919, 71932, 71939, 71941, 71945, 71955, 71977, 71980, 71987, 71995, 71999, 72001, 72010, 72013, 72014, 72028, 72036, 72040, 72042, 72046, 72052, 72059, 72060, 72061, 72067, 72068, 72086, 72093, 72110, 72120, 72124, 72126, 72147, 72149, 72162, 72165, 72190, 72193, 72211, 72217, 72228, 72230, 72234, 72241, 72272, 72286, 72308, 72334, 72341, 72345, 72353, 72355, 72361, 72365, 72367, 72393, 72395, 72396, 72411, 72417, 72423, 72434, 72480, 72497, 72503, 72505, 72529, 72539, 72543, 72547, 72550, 72570, 72576, 72581, 72591, 72601, 72612, 72613, 72620, 72621, 72633, 72647, 72654, 72664, 72670, 72677, 72680, 72689, 72711, 72715, 72731, 72733, 72738, 72740, 72750, 72755, 72764, 72767, 72776, 72781, 72783, 72800, 72851, 72861, 72896, 72902, 72905, 72910, 72916, 72917, 72934, 72945, 72949, 72973, 72980, 72987, 73000, 73010, 73024, 73028, 73034, 73038, 73043, 73046, 73050, 73060, 73064, 73072, 73073, 73171, 73178, 73185, 73198, 73209, 73213, 73232, 73238, 73252, 73253, 73256, 73271, 73291, 73299, 73302, 73310, 73314, 73321, 73328, 73337, 73352, 73356, 73368, 73400, 73403, 73414, 73418, 73424, 73428, 73458, 73473, 73475, 73477, 73486, 73488, 73511, 73514, 73525, 73553, 73555, 73563, 73574, 73582, 73591, 73594, 73604, 73612, 73655, 73658, 73662, 73663, 73685, 73691, 73750, 73758, 73760, 73765, 73799, 73802, 73803, 73806, 73819, 73820, 73827, 73840, 73847, 73850, 73855, 73869, 73872, 73887, 73889, 73937, 73941, 73944, 73950, 73972, 73980, 74006, 74027, 74029, 74031, 74056, 74081, 74082, 74083, 74085, 74088, 74089, 74102, 74103, 74106, 74119, 74120, 74123, 74124, 74141, 74185, 74186, 74189, 74191, 74205, 74207, 74211, 74212, 74213, 74214, 74224, 74247, 74253, 74254, 74255, 74259, 74262, 74268, 74273, 74280, 74292, 74295, 74302, 74309, 74321, 74325, 74332, 74333, 74336, 74345, 74348, 74357, 74359, 74365, 74372, 74373, 74377, 74389, 74392, 74399, 74402, 74416, 74417, 74423, 74441, 74451, 74452, 74458, 74463, 74466, 74490, 74491, 74492, 74493, 74494, 74502, 74511, 74514, 74523, 74535, 74537, 74543, 74549, 74551, 74553, 74562, 74563, 74565, 74569, 74577, 74585, 74594, 74614, 74617, 74625, 74627, 74631, 74634, 74661, 74662, 74670, 74671, 74672, 74676, 74689, 74700, 74707, 74720, 74722, 74725, 74727, 74728, 74732, 74738, 74741, 74745, 74751, 74756, 74757, 74763, 74767, 74768, 74773, 74776, 74777, 74784, 74794, 74802, 74806, 74811, 74818, 74822, 74824, 74833, 74835, 74838, 74841, 74843, 74845, 74853, 74855, 74871, 74872, 74873, 74874, 74878, 74881, 74892, 74893, 74895, 74897, 74902, 74904, 74922, 74923, 74928, 74933, 74934, 74939, 74942, 74949, 74957, 74961, 74965, 74969, 74970, 74971, 74982, 74989, 74994, 75014, 75019, 75020, 75022, 75025, 75027, 75039, 75043, 75058, 75062, 75081, 75086, 75087, 75089, 75090, 75098, 75100, 75105, 75107, 75108, 75109, 75113, 75120, 75122, 75126, 75128, 75133, 75156, 75157, 75166, 75169, 75178, 75182, 75189, 75195, 75197, 75205, 75213, 75216, 75225, 75226, 75228, 75232, 75234, 75244, 75245, 75248, 75249, 75251, 75253, 75260, 75263, 75267, 75268, 75271, 75276, 75281, 75287, 75289, 75296, 75299, 75302, 75308, 75318, 75327, 75334, 75335, 75338, 75340, 75341, 75342, 75345, 75347, 75361, 75362, 75365, 75374, 75375, 75377, 75384, 75385, 75392, 75393, 75409, 75411, 75414, 75420, 75421, 75423, 75424, 75432, 75437, 75439, 75443, 75445, 75446, 75451, 75457, 75468, 75469, 75471, 75472, 75481, 75482, 75483, 75484, 75486, 75488, 75491, 75492, 75493, 75494, 75498, 75499, 75500, 75502, 75512, 75514, 75515, 75521, 75524, 75525, 75527, 75528, 75531, 75533, 75537, 75538, 75539, 75542, 75548, 75551, 75552, 75559, 75561, 75564, 75567, 75569, 75576, 75578, 75579, 75583, 75589, 75590, 75591, 75596, 75603, 75604, 75608, 75622, 75625, 75626, 75633, 75637, 75639, 75640, 75651, 75654, 75655, 75663, 75665, 75669, 75673, 75676, 75678, 75679, 75682, 75686, 75689, 75691, 75692, 75693, 75700, 75703, 75706, 75707, 75710, 75711, 75713, 75716, 75724, 75725, 75726, 75729, 75730, 75733, 75736, 75737, 75751, 75753, 75755, 75756, 75757, 75758, 75761, 75762, 75768, 75769, 75771, 75775, 75776, 75778, 75779, 75786, 75789, 75793, 75797, 75798, 75799, 75800, 75812, 75813, 75815, 75819, 75821, 75825, 75841, 75852, 75861, 75866, 75867, 75873, 75874, 75882, 75885, 75887, 75888, 75892, 75894, 75899, 75902, 75906, 75907, 75908, 75910, 75916, 75917, 75921, 75922, 75923, 75933, 75948, 75951, 75952, 75960, 75963, 75966, 75976, 75980, 75981, 75986, 75987, 75993, 75997, 76000, 76018, 76021, 76022, 76027, 76032, 76034, 76040, 76041, 76045, 76053, 76056, 76064, 76067, 76083, 76090, 76094, 76097, 76105, 76123, 76126, 76131, 76132, 76133, 76147, 76151, 76157, 76165, 76173, 76186, 76190, 76209, 76216, 76230, 76231, 76233, 76237, 76247, 76250, 76257, 76259, 76280, 76284, 76296, 76298, 76302, 76307, 76314, 76319, 76334, 76335, 76346, 76347, 76350, 76356, 76363, 76366, 76380, 76417, 76418, 76435, 76445, 76460, 76467, 76472, 76475, 76480, 76482, 76485, 76520, 76521, 76526, 76527, 76529, 76538, 76542, 76549, 76555, 76561, 76579, 76585, 76611, 76614, 76635, 76637, 76644, 76646, 76653, 76655, 76656, 76657, 76664, 76676, 76685, 76689, 76695, 76697, 76703, 76706, 76714, 76721, 76722, 76731, 76734, 76739, 76740, 76742, 76749, 76754, 76773, 76774, 76776, 76789, 76794, 76809, 76810, 76819, 76825, 76826, 76832, 76843, 76853, 76872, 76874, 76877, 76881, 76882, 76887, 76897, 76906, 76917, 76918, 76932, 76933, 76937, 76949, 76977, 76986, 76999, 77006, 77008, 77010, 77013, 77014, 77027, 77032, 77045, 77055, 77076, 77078, 77084, 77131, 77154, 77179, 77184, 77209, 77210, 77211, 77212, 77213, 77288, 77338, 77357, 77364, 77365, 77368, 77369, 77376, 77377, 77380, 77381, 77386, 77398, 77403, 77421, 77422, 77426, 77434, 77442, 77469, 77471, 77508, 77526, 77537, 77538, 77547, 77557, 77560, 77592, 77594, 77604, 77627, 77635, 77636, 77642, 77649, 77661, 77666, 77683, 77697, 77701, 77718, 77737, 77743, 77746, 77749, 77757, 77759, 77760, 77762, 77772, 77802, 77823, 77834, 77836, 77843, 77851, 77857, 77863, 77864, 77866, 77872, 77891, 77904, 77906, 77913, 77934, 77940, 77942, 77944, 77960, 77979, 77991, 77993, 78004, 78007, 78008, 78011, 78019, 78026, 78027, 78031, 78063, 78071, 78084, 78095, 78106, 78127, 78128, 78133, 78144, 78174, 78187, 78195, 78209, 78213, 78266, 78276, 78279, 78287, 78288, 78314, 78319, 78326, 78336, 78341, 78347, 78355, 78357, 78358, 78359, 78383, 78387, 78391, 78394, 78407, 78415, 78421, 78428, 78459, 78467, 78495, 78503, 78518, 78531, 78539, 78557, 78562, 78569, 78601, 78602, 78611, 78612, 78614, 78622, 78632, 78639, 78654, 78682, 78686, 78687, 78698, 78702, 78733, 78742, 78746, 78754, 78762, 78767, 78775, 78787, 78795, 78801, 78832, 78837, 78851, 78853, 78856, 78859, 78866, 78876, 78877, 78890, 78892, 78915, 78923, 78927, 78950, 78956, 78959, 78964, 78968, 78975, 78979, 78985, 78987, 78989, 78991, 79001, 79011, 79012, 79017, 79049, 79060, 79063, 79075, 79119, 79139, 79145, 79155, 79159, 79168, 79180, 79183, 79197, 79201, 79215, 79222, 79229, 79234, 79251, 79258, 79261, 79274, 79283, 79293, 79295, 79309, 79323, 79335, 79343, 79347, 79362, 79380, 79387, 79389, 79394, 79403, 79421, 79422, 79430, 79447, 79465, 79501, 79509, 79539, 79544, 79556, 79594, 79595, 79609, 79642, 79644, 79677, 79681, 79685, 79695, 79715, 79716, 79747, 79760, 79777, 79793, 79803, 79824, 79836, 79837, 79853, 79854, 79866, 79870, 79884, 79893, 79905, 79906, 79914, 79915, 79922, 79926, 79940, 79946, 79952, 79959, 79969, 79992, 79999, 80001, 80005, 80016, 80017, 80020, 80034, 80040, 80054, 80079, 80084, 80087, 80092, 80099, 80111, 80114, 80121, 80128, 80130, 80135, 80143, 80145, 80167, 80171, 80175, 80192, 80193, 80200, 80202, 80205, 80224, 80225, 80242, 80248, 80258, 80264, 80265, 80270, 80276, 80281, 80284, 80285, 80291, 80304, 80314, 80329, 80333, 80338, 80341, 80343, 80344, 80350, 80357, 80390, 80399, 80405, 80412, 80422, 80428, 80429, 80452, 80454, 80457, 80474, 80479, 80496, 80497, 80500, 80525, 80534, 80549, 80554, 80569, 80573, 80579, 80585, 80588, 80590, 80592, 80593, 80603, 80618, 80623, 80629, 80641, 80642, 80666, 80671, 80673, 80682, 80691, 80705, 80738, 80753, 80765, 80767, 80769, 80778, 80787, 80809, 80814, 80839, 80840, 80855, 80864, 80891, 80897, 80906, 80909, 80911, 80916, 80935, 80945, 80952, 80956, 80982, 81006, 81021, 81033, 81049, 81054, 81057, 81064, 81068, 81072, 81081, 81086, 81087, 81098, 81107, 81136, 81141, 81162, 81168, 81180, 81189, 81195, 81213, 81247, 81258, 81291, 81294, 81297, 81338, 81342, 81346, 81347, 81374, 81379, 81384, 81386, 81389, 81390, 81393, 81394, 81397, 81398, 81448, 81470, 81477, 81481, 81490, 81502, 81511, 81513, 81519, 81527, 81529, 81530, 81538, 81541, 81550, 81555, 81561, 81567, 81569, 81573, 81576, 81579, 81596, 81601, 81631, 81643, 81655, 81667, 81670, 81675, 81676, 81677, 81685, 81698, 81703, 81712, 81714, 81715, 81716, 81718, 81731, 81732, 81742, 81745, 81749, 81752, 81755, 81757, 81759, 81761, 81787, 81802, 81803, 81813, 81814, 81820, 81822, 81824, 81827, 81829, 81850, 81852, 81859, 81866, 81868, 81885, 81889, 81896, 81900, 81901, 81903, 81904, 81919, 81926, 81939, 81953, 81969, 81973, 81985, 82000, 82001, 82030, 82034, 82037, 82050, 82055, 82057, 82058, 82059, 82062, 82067, 82081, 82088, 82099, 82102, 82103, 82105, 82119, 82121, 82122, 82129, 82131, 82148, 82163, 82171, 82175, 82179, 82184, 82191, 82203, 82214, 82218, 82223, 82229, 82235, 82237, 82238, 82242, 82256, 82269, 82280, 82283, 82285, 82291, 82301, 82303, 82306, 82307, 82323, 82327, 82328, 82330, 82331, 82346, 82354, 82359, 82376, 82397, 82398, 82400, 82413, 82419, 82424, 82425, 82426, 82430, 82431, 82435, 82443, 82457, 82462, 82596, 82644, 82676, 82682, 82694, 82710, 82739, 82746, 82751, 82752, 82756, 82757, 82759, 82763, 82769, 82791, 82839, 82841, 82853, 82858, 82867, 82880, 82886, 82902, 82910, 82955, 82959, 82989, 83022, 83025, 83032, 83044, 83045, 83048, 83050, 83052, 83053, 83054, 83056, 83057, 83058, 83060, 83065, 83078, 83080, 83082, 83084, 83086, 83088, 83090, 83093, 83094, 83097, 83098, 83100, 83102, 83104, 83109, 83110, 83115, 83116, 83118, 83121, 83124, 83127, 83128, 83130, 83132, 83134, 83136, 83137, 83142, 83155, 83159, 83161, 83165, 83168, 83171, 83172, 83173, 83180, 83185, 83188, 83192, 83193, 83194, 83200, 83202, 83203, 83210, 83212, 83213, 83219, 83223, 83225, 83226, 83229, 83230, 83259, 83261, 83262, 83263, 83265, 83271, 83276, 83277, 83278, 83281, 83284, 83285, 83286, 83289, 83290, 83291, 83294, 83295, 83298, 83303, 83304, 83305, 83306, 83308, 83314, 83318, 83320, 83322, 83323, 83324, 83326, 83327, 83328, 83335, 83336, 83338, 83348, 83354, 83359, 83360, 83364, 83372, 83392, 83415, 83421, 83423, 83429, 83437, 83442, 83443, 83449, 83450, 83462, 83463, 83465, 83469, 83471, 83474, 83475, 83478, 83480, 83481, 83482, 83483, 83489, 83502, 83503, 83508, 83512, 83513, 83520, 83529, 83532, 83534, 83535, 83537, 83540, 83546, 83549, 83556, 83566, 83569, 83572, 83574, 83581, 83594, 83596, 83597, 83598, 83601, 83603, 83605, 83609, 83610, 83630, 83639, 83640, 83641, 83643, 83645, 83646, 83647, 83648, 83656, 83657, 83659, 83660, 83661, 83662, 83664, 83667, 83670, 83672, 83673, 83677, 83679, 83683, 83686, 83688, 83689, 83690, 83692, 83693, 83697, 83699, 83702, 83703, 83707, 83708, 83709, 83711, 83714, 83715, 83717, 83718, 83720, 83723, 83724, 83725, 83726, 83728, 83729, 83730, 83731, 83733, 83735, 83736, 83737, 83738, 83743, 83744, 83751, 83752, 83755, 83759, 83760, 83763, 83766, 83767, 83768, 83771, 83772, 83775, 83779, 83780, 83781, 83784, 83791, 83797, 83799, 83802, 83804, 83805, 83810, 83813, 83814, 83829, 83836, 83851, 83866, 83879, 83885, 83892, 83896, 83927, 83930, 83940, 83957, 83961, 83966, 83967, 83972, 83973, 83974, 83975, 83979, 83982, 83983, 83986, 83987, 83989, 83990, 83991, 83993, 83994, 83995, 83996, 83997, 83998, 84000, 84001, 84004, 84005, 84009, 84010, 84012, 84013, 84014, 84018, 84019, 84022, 84024, 84025, 84026, 84027, 84028, 84033, 84034, 84035, 84042, 84044, 84045, 84046, 84052, 84059, 84065, 84071, 84072, 84077, 84079, 84083, 84087, 84096, 84119, 84133, 84136, 84146, 84148, 84152, 84158, 84182, 84201, 84207, 84209, 84212, 84223, 84225, 84226, 84229, 84231, 84235, 84237, 84238, 84247, 84248, 84252, 84254, 84262, 84265, 84285, 84292, 84296, 84297, 84298, 84304, 84307, 84314, 84321, 84327, 84328, 84329, 84335, 84340, 84341, 84342, 84345, 84346, 84351, 84359, 84360, 84363, 84368, 84370, 84375, 84405, 84407, 84409, 84417, 84418, 84419, 84421, 84422, 84431, 84435, 84447, 84448, 84450, 84459, 84464, 84467, 84468, 84471, 84474, 84475, 84477, 84479, 84491, 84510, 84528, 84537, 84572, 84583, 84586, 84590, 84594, 84599, 84615, 84625, 84644, 84646, 84647, 84648, 84652, 84653, 84654, 84655, 84657, 84659, 84671, 84677, 84678, 84680, 84682, 84686, 84694, 84698, 84701, 84725, 84728, 84739, 84740, 84741, 84754, 84766, 84767, 84768, 84769, 84770, 84771, 84772, 84773, 84774, 84777, 84778, 84779, 84780, 84783, 84784, 84785, 84786, 84788, 84789, 84790, 84792, 84794, 84795, 84797, 84798, 84799, 84802, 84803, 84804, 84805, 84807, 84808, 84809, 84811, 84812, 84813, 84814, 84815, 84816, 84817, 84818, 84819, 84821, 84823, 84824, 84825, 84826, 84827, 84828, 84829, 84830, 84833, 84834, 84835, 84836, 84838, 84839, 84840, 84841, 84842, 84843, 84869, 84879, 84880, 84884, 84885, 84886, 84889, 84892, 84893, 84905, 84907, 84915, 84917, 84919, 84920, 84924, 84925, 84926, 84927, 84928, 84930, 84933, 84936, 84938, 84951, 84953, 84954, 84956, 84959, 84964, 84976, 84988, 84990, 84991, 85003, 85013, 85027, 85029, 85041, 85042, 85048, 85052, 85056, 85057, 85081, 85086, 85104, 85108, 85111, 85113, 85114, 85117, 85118, 85120, 85121, 85123, 85124, 85125, 85126, 85129, 85135, 85136, 85140, 85145, 85147, 85156, 85165, 85166, 85168, 85177, 85190, 85196, 85197, 85200, 85202, 85204, 85210, 85214, 85215, 85216, 85219, 85232, 85234, 85238, 85240, 85252, 85254, 85269, 85271, 85273, 85276, 85278, 85296, 85301, 85304, 85312, 85314, 85318, 85320, 85321, 85323, 85333, 85344, 85348, 85354, 85356, 85375, 85380, 85382, 85384, 85404, 85419, 85421, 85426, 85444, 85447, 85476, 85477, 85479, 85481, 85482, 85485, 85488, 85492, 85495, 85498, 85501, 85506, 85508, 85509, 85510, 85511, 85513, 85516, 85517, 85522, 85523, 85524, 85525, 85527, 85529, 85537, 85539, 85544, 85549, 85555, 85559, 85572, 85574, 85576, 85577, 85586, 85591, 85594, 85608, 85610, 85616, 85622, 85623, 85631, 85638, 85641, 85647, 85649, 85660, 85667, 85670, 85676, 85695, 85696, 85698, 85709, 85711, 85725, 85733, 85742, 85748, 85758, 85762, 85786, 85799, 85802, 85812, 85820, 85829, 85830, 85835, 85841, 85853, 85868, 85873, 85878, 85896, 85914, 85934, 85936, 85941, 85946, 85955, 86000, 86011, 86028, 86038, 86043, 86046, 86052, 86053, 86060, 86063, 86072, 86081, 86084, 86085, 86086, 86090, 86095, 86120, 86131, 86144, 86157, 86166, 86171, 86209, 86219, 86225, 86226, 86277, 86285, 86287, 86297, 86310, 86320, 86334, 86338, 86346, 86357, 86367, 86370, 86371, 86372, 86373, 86374, 86393, 86396, 86399, 86407, 86412, 86417, 86432, 86435, 86436, 86460, 86463, 86473, 86474, 86475, 86480, 86494, 86497, 86502, 86511, 86518, 86520, 86522, 86525, 86533, 86538, 86540, 86545, 86547, 86557, 86578, 86579, 86595, 86596, 86614, 86616, 86633, 86650, 86659, 86706, 86716, 86753, 86766, 86785, 86790, 86798, 86800, 86801, 86816, 86817, 86821, 86823, 86829, 86841, 86843, 86844, 86846, 86848, 86850, 86852, 86856, 86875, 86894, 86930, 86949, 86950, 86969, 86977, 86983, 86997, 86998, 87024, 87025, 87026, 87049, 87055, 87071, 87099, 87109, 87120, 87135, 87137, 87146, 87160, 87163, 87177, 87199, 87237, 87249, 87266, 87293, 87298, 87299, 87351, 87360, 87376, 87398, 87407, 87412, 87416, 87421, 87422, 87430, 87450, 87456, 87458, 87471, 87488, 87500, 87510, 87515, 87520, 87526, 87538, 87539, 87542, 87576, 87603, 87628, 87663, 87684, 87719, 87724, 87805, 87809, 87853, 87859, 87875, 87888, 87891, 87892, 87902, 87927, 87942, 87958, 87965, 87969, 87979, 87987, 88006, 88008, 88034, 88050, 88088, 88111, 88114, 88138, 88142, 88208, 88223, 88233, 88240, 88263, 88284, 88317, 88319, 88324, 88330, 88336, 88341, 88359, 88378, 88402, 88411, 88421, 88435, 88436, 88460, 88467, 88473, 88475, 88481, 88482, 88494, 88499, 88518, 88529, 88540, 88551, 88576, 88586, 88591, 88596, 88601, 88630, 88636, 88637, 88642, 88648, 88649, 88678, 88682, 88698, 88718, 88723, 88751, 88763, 88765, 88798, 88801, 88809, 88810, 88811, 88820, 88836, 88841, 88854, 88856, 88861, 88864, 88872, 88885, 88887, 88888, 88900, 88905, 88914, 88944, 88951, 88956, 88978, 88994, 89000, 89013, 89020, 89033, 89038, 89040, 89054, 89058, 89098, 89103, 89107, 89116, 89141, 89146, 89156, 89165, 89168, 89172, 89192, 89197, 89208, 89231, 89276, 89293, 89294, 89299, 89300, 89311, 89316, 89322, 89331, 89335, 89342, 89371, 89378, 89394, 89428, 89468, 89472, 89475, 89477, 89478, 89484, 89485, 89496, 89507, 89528, 89529, 89531, 89543, 89550, 89578, 89596, 89607, 89612, 89630, 89641, 89647, 89655, 89665, 89666, 89680, 89687, 89695, 89703, 89716, 89727, 89755, 89758, 89767, 89769, 89785, 89787, 89807, 89823, 89826, 89845, 89855, 89862, 89877, 89880, 89890, 89906, 89907, 89933, 89949, 89958, 89962, 89963, 89974, 89978, 89986, 89987, 89992, 89993, 89997, 89999, 90005, 90012, 90013, 90020, 90024, 90035, 90043, 90044, 90047, 90054, 90080, 90085, 90091, 90102, 90106, 90112, 90114, 90115, 90118, 90119, 90127, 90128, 90138, 90140, 90141, 90160, 90171, 90189, 90193, 90201, 90203, 90204, 90210, 90218, 90224, 90227, 90245, 90257, 90275, 90277, 90288, 90289, 90298, 90299, 90307, 90309, 90348, 90349, 90359, 90365, 90373, 90374, 90377, 90381, 90390, 90403, 90414, 90417, 90443, 90452, 90457, 90462, 90478, 90485, 90488, 90490, 90514, 90517, 90523, 90567, 90576, 90581, 90582, 90583, 90584, 90587, 90616, 90622, 90628, 90632, 90637, 90640, 90649, 90650, 90662, 90668, 90673, 90675, 90686, 90696, 90705, 90709, 90716, 90717, 90719, 90727, 90735, 90740, 90752, 90765, 90771, 90779, 90793, 90795, 90797, 90799, 90807, 90808, 90809, 90819, 90820, 90822, 90829, 90832, 90835, 90843, 90856, 90859, 90866, 90880, 90886, 90887, 90895, 90910, 90927, 90928, 90935, 90936, 90946, 90958, 90966, 90967, 90980, 90984, 90992, 90996, 91002, 91010, 91032, 91039, 91051, 91060, 91066, 91084, 91085, 91100, 91105, 91116, 91126, 91127, 91128, 91135, 91147, 91171, 91191, 91205, 91206, 91208, 91219, 91235, 91240, 91241, 91282, 91296, 91312, 91314, 91324, 91341, 91348, 91352, 91354, 91357, 91376, 91381, 91384, 91397, 91401, 91402, 91408, 91412, 91419, 91425, 91428, 91429, 91431, 91432, 91437, 91446, 91451, 91453, 91461, 91470, 91476, 91477, 91489, 91492, 91498, 91509, 91510, 91515, 91517, 91530, 91545, 91556, 91559, 91574, 91580, 91582, 91589, 91598, 91606, 91620, 91648, 91652, 91653, 91663, 91669, 91671, 91678, 91681, 91687, 91688, 91694, 91696, 91706, 91707, 91710, 91712, 91715, 91716, 91719, 91730, 91735, 91736, 91738, 91742, 91776, 91779, 91787, 91794, 91796, 91801, 91818, 91832, 91833, 91834, 91835, 91841, 91851, 91854, 91858, 91861, 91864, 91865, 91867, 91868, 91881, 91899, 91906, 91909, 91919, 91924, 91931, 91936, 91944, 91954, 91959, 91963, 91978, 91984, 91990, 91999, 92003, 92010, 92012, 92016, 92017, 92019, 92027, 92034, 92041, 92047, 92048, 92058, 92061, 92062, 92069, 92071, 92087, 92091, 92095, 92099, 92100, 92109, 92111, 92113, 92114, 92116, 92119, 92131, 92134, 92145, 92146, 92147, 92150, 92151, 92152, 92155, 92157, 92171, 92173, 92177, 92182, 92189, 92190, 92191, 92193, 92200, 92202, 92210, 92216, 92217, 92222, 92223, 92235, 92237, 92245, 92247, 92251, 92252, 92260, 92263, 92274, 92281, 92283, 92284, 92285, 92286, 92288, 92296, 92309, 92319, 92322, 92324, 92325, 92329, 92330, 92334, 92335, 92337, 92339, 92346, 92348, 92351, 92352, 92353, 92354, 92356, 92357, 92358, 92362, 92365, 92366, 92367, 92371, 92374, 92377, 92380, 92383, 92384, 92388, 92392, 92397, 92401, 92403, 92405, 92407, 92412, 92413, 92414, 92417, 92421, 92428, 92433, 92434, 92450, 92466, 92533, 92566, 92610, 92634, 92667, 92686, 92738, 92749, 92768, 92777, 92781, 92787, 92788, 92791, 92796, 92819, 92821, 92823, 92831, 92832, 92839, 92840, 92841, 92842, 92843, 92844, 92845, 92846, 92847, 92848, 92850, 92852, 92854, 92860, 92865, 92866, 92870, 92871, 92872, 92878, 92885, 92887, 92888, 92889, 92890, 92892, 92894, 92895, 92897, 92898, 92899, 92900, 92902, 92904, 92905, 92907, 92908, 92910, 92911, 92912, 92915, 92916, 92921, 92922, 92923, 92929, 92930, 92932, 92933, 92935, 92938, 92943, 92948, 92949, 92954, 92957, 92958, 92959, 92960, 92963, 92966, 92967, 92969, 92971, 92982, 92985, 93000, 93006, 93016, 93033, 93035, 93037, 93041, 93045, 93046, 93048, 93050, 93051, 93053, 93054, 93056, 93061, 93063, 93072, 93074, 93081, 93082, 93086, 93088, 93089, 93090, 93099, 93100, 93101, 93102, 93103, 93107, 93109, 93110, 93113, 93116, 93117, 93118, 93120, 93122, 93130, 93132, 93134, 93148, 93156, 93158, 93177, 93200, 93204, 93211, 93231, 93234, 93237, 93238, 93240, 93247, 93252, 93255, 93256, 93257, 93268, 93269, 93272, 93275, 93284, 93288, 93289, 93290, 93295, 93299, 93306, 93307, 93308, 93311, 93313, 93320, 93321, 93324, 93333, 93339, 93345, 93350, 93358, 93381, 93384, 93388, 93397, 93411, 93421, 93433, 93437, 93439, 93440, 93443, 93446, 93447, 93448, 93449, 93452, 93453, 93454, 93456, 93457, 93458, 93459, 93461, 93462, 93464, 93466, 93467, 93468, 93469, 93471, 93472, 93474, 93475, 93479, 93480, 93482, 93484, 93486, 93487, 93488, 93491, 93492, 93495, 93496, 93498, 93499, 93503, 93506, 93510, 93512, 93516, 93518, 93519, 93521, 93525, 93527, 93531, 93532, 93537, 93540, 93542, 93544, 93545, 93546, 93550, 93551, 93553, 93554, 93578, 93582, 93583, 93589, 93603, 93611, 93613, 93625, 93632, 93646, 93658, 93667, 93671, 93674, 93676, 93678, 93682, 93683, 93686, 93687, 93688, 93690, 93692, 93697, 93698, 93702, 93704, 93705, 93707, 93710, 93711, 93712, 93716, 93724, 93725, 93730, 93733, 93737, 93738, 93741, 93742, 93743, 93744, 93745, 93749, 93753, 93754, 93757, 93759, 93761, 93764, 93765, 93766, 93768, 93769, 93776, 93780, 93787, 93796, 93801, 93806, 93822, 93825, 93826, 93832, 93838, 93840, 93845, 93846, 93851, 93852, 93856, 93864, 93865, 93866, 93868, 93869, 93871, 93873, 93876, 93877, 93879, 93883, 93884, 93887, 93903, 93919, 93920, 93926, 93934, 93939, 93940, 93942, 93943, 93944, 93946, 93947, 93948, 93949, 93959, 93967, 93968, 93972, 93976, 93981, 93984, 93996, 94000, 94006, 94007, 94014, 94018, 94024, 94036, 94039, 94042, 94046, 94049, 94053, 94057, 94058, 94067, 94071, 94078, 94081, 94084, 94092, 94096, 94097, 94109, 94111, 94117, 94121, 94122, 94123, 94125, 94135, 94136, 94138, 94139, 94142, 94143, 94146, 94147, 94150, 94153, 94157, 94158, 94159, 94161, 94169, 94170, 94172, 94176, 94180, 94183, 94186, 94187, 94188, 94199, 94217, 94218, 94221, 94227, 94236, 94239, 94246, 94249, 94254, 94262, 94269, 94272, 94282, 94285, 94288, 94289, 94296, 94309, 94326, 94328, 94333, 94342, 94352, 94393, 94395, 94396, 94410, 94415, 94426, 94432, 94433, 94441, 94450, 94455, 94457, 94461, 94467, 94479, 94487, 94501, 94512, 94538, 94539, 94545, 94546, 94547, 94548, 94551, 94554, 94555, 94557, 94558, 94560, 94561, 94566, 94569, 94577, 94585, 94633, 94636, 94647, 94659, 94667, 94668, 94670, 94671, 94672, 94678, 94689, 94703, 94717, 94721, 94724, 94739, 94744, 94764, 94770, 94783, 94788, 94792, 94798, 94824, 94826, 94833, 94848, 94852, 94856, 94861, 94873, 94875, 94880, 94884, 94891, 94892, 94893, 94894, 94903, 94937, 94938, 94941, 94942, 94948, 94950, 94952, 94954, 94960, 94964, 94967, 94973, 94975, 94982, 94987, 94988, 94990, 94997, 94998, 95003, 95005, 95008, 95010, 95011, 95014, 95021, 95024, 95029, 95032, 95033, 95035, 95036, 95038, 95041, 95043, 95044, 95045, 95050, 95052, 95054, 95061, 95062, 95068, 95069, 95076, 95078, 95084, 95085, 95088, 95090, 95092, 95094, 95101, 95102, 95103, 95106, 95109, 95114, 95117, 95118, 95123, 95126, 95127, 95130, 95151, 95152, 95154, 95160, 95162, 95164, 95165, 95166, 95174, 95175, 95179, 95181, 95182, 95184, 95189, 95191, 95198, 95204, 95205, 95211, 95234, 95253, 95284, 95286, 95287, 95306, 95310, 95315, 95316, 95339, 95340, 95357, 95362, 95365, 95376, 95379, 95387, 95389, 95398, 95411, 95419, 95425, 95435, 95453, 95471, 95478, 95483, 95489, 95498, 95516, 95517, 95526, 95528, 95537, 95545, 95550, 95557, 95564, 95565, 95579, 95585, 95588, 95599, 95606, 95607, 95609, 95618, 95646, 95647, 95669, 95682, 95693, 95697, 95711, 95723, 95732, 95736, 95742, 95750, 95752, 95757, 95763, 95765, 95770, 95789, 95797, 95800, 95805, 95812, 95813, 95827, 95834, 95835, 95842, 95844, 95874, 95893, 95895, 95922, 95930, 95934, 95939, 95942, 95987, 95988, 95989, 95993, 96000, 96004, 96014, 96059, 96062, 96089, 96093, 96098, 96110, 96123, 96145, 96153, 96162, 96175, 96180, 96183, 96198, 96201, 96213, 96220, 96222, 96224, 96226, 96241, 96245, 96246, 96248, 96253, 96254, 96259, 96264, 96266, 96267, 96270, 96271, 96277, 96286, 96287, 96290, 96292, 96293, 96301, 96310, 96311, 96318, 96323, 96337, 96343, 96344, 96379, 96406, 96409, 96411, 96426, 96439, 96441, 96456, 96460, 96470, 96496, 96518, 96547, 96550, 96560, 96561, 96568, 96572, 96609, 96622, 96630, 96651, 96655, 96659, 96668, 96684, 96692, 96701, 96708, 96723, 96726, 96748, 96755, 96756, 96773, 96788, 96808, 96811, 96817, 96837, 96838, 96853, 96861, 96870, 96874, 96883, 96884, 96900, 96910, 96914, 96951, 96952, 96962, 96967, 96990, 97017, 97033, 97061, 97063, 97087, 97090, 97096, 97102, 97129, 97131, 97132, 97144, 97158, 97161, 97178, 97201, 97206, 97210, 97214, 97220, 97227, 97228, 97257, 97259, 97265, 97268, 97272, 97284, 97299, 97306, 97309, 97311, 97348, 97354, 97363, 97370, 97375, 97388, 97396, 97401, 97448, 97452, 97480, 97489, 97498, 97508, 97510, 97520, 97523, 97531, 97553, 97559, 97566, 97571, 97573, 97593, 97600, 97602, 97630, 97633, 97635, 97646, 97651, 97676, 97684, 97687, 97694, 97697, 97717, 97755, 97762, 97832, 97834, 97835, 97838, 97847, 97865, 97867, 97898, 97906, 97929, 97939, 97942, 97949, 97956, 97961, 98006, 98047, 98094, 98097, 98107, 98123, 98128, 98138, 98152, 98160, 98162, 98166, 98178, 98208, 98214, 98231, 98235, 98236, 98246, 98256, 98257, 98275, 98282, 98286, 98288, 98295, 98316, 98320, 98322, 98334, 98339, 98359, 98400, 98424, 98426, 98446, 98461, 98477, 98485, 98494, 98497, 98508, 98514, 98519, 98535, 98537, 98538, 98542, 98553, 98555, 98562, 98568, 98572, 98587, 98590, 98601, 98606, 98615, 98616, 98628, 98633, 98637, 98645, 98648, 98680, 98682, 98687, 98702, 98733, 98738, 98740, 98743, 98748, 98756, 98781, 98810, 98822, 98825, 98941, 98944, 98957, 98965, 98976, 98980, 98985, 99016, 99017, 99076, 99102, 99105, 99118, 99143, 99145, 99152, 99171, 99175, 99182, 99189, 99191, 99195, 99235, 99247, 99274, 99276, 99295, 99300, 99305, 99311, 99325, 99348, 99354, 99356, 99389, 99397, 99401, 99438, 99439, 99442, 99475, 99476, 99479, 99485, 99491, 99519, 99521, 99526, 99536, 99537, 99546, 99565, 99585, 99590, 99603, 99606, 99615, 99624, 99651, 99659, 99666, 99710, 99717, 99722, 99734, 99736, 99738, 99776, 99808, 99824, 99830, 99837, 99838, 99840, 99843, 99844, 99845, 99847, 99850, 99852, 99853, 99859, 99874, 99875, 99878, 99879, 99882, 99883, 99889, 99899, 99934, 99937, 99939, 99951, 99960, 99961, 99968, 99989, 99990, 99993, 100006, 100013, 100019, 100036, 100051, 100062, 100077, 100078, 100086, 100090, 100100, 100105, 100114, 100122, 100127, 100129, 100132, 100134, 100153, 100154, 100159, 100164, 100186, 100188, 100190, 100214, 100215, 100218, 100231, 100296, 100297, 100308, 100309, 100314, 100327, 100328, 100330, 100336, 100338, 100344, 100346, 100347, 100353, 100381, 100387, 100396, 100402, 100423, 100428, 100440, 100446, 100450, 100456, 100467, 100482, 100494, 100499, 100526, 100543, 100546, 100549, 100572, 100603, 100613, 100624, 100627, 100629, 100635, 100650, 100651, 100659, 100670, 100673, 100678, 100685, 100697, 100708, 100710, 100712, 100715, 100743, 100744, 100748, 100753, 100754, 100759, 100770, 100775, 100793, 100804, 100830, 100841, 100863, 100873, 100895, 100904, 100928, 100931, 100935, 100941, 100944, 100955, 100956, 100971, 100984, 100998, 101000, 101009, 101017, 101021, 101024, 101025, 101036, 101053, 101065, 101067, 101069, 101072, 101076, 101082, 101086, 101092, 101101, 101103, 101108, 101125, 101127, 101133, 101138, 101139, 101141, 101147, 101150, 101154, 101155, 101156, 101161, 101184, 101190, 101200, 101202, 101221, 101241, 101250, 101256, 101265, 101271, 101287, 101288, 101291, 101301, 101322, 101323, 101324, 101327, 101334, 101342, 101363, 101367, 101391, 101395, 101396, 101398, 101406, 101416, 101421, 101422, 101426, 101429, 101431, 101438, 101443, 101444, 101448, 101450, 101454, 101456, 101463, 101468, 101469, 101472, 101473, 101474, 101476, 101479, 101480, 101494, 101515, 101520, 101522, 101538, 101553, 101555, 101558, 101566, 101571, 101572, 101578, 101583, 101585, 101590, 101594, 101596, 101602, 101606, 101608, 101613, 101618, 101622, 101629, 101631, 101635, 101657, 101666, 101667, 101673, 101674, 101680, 101687, 101691, 101692, 101696, 101700, 101701, 101702, 101706, 101712, 101715, 101720, 101738, 101739, 101740, 101744, 101749, 101774, 101778, 101781, 101798, 101804, 101806, 101811, 101814, 101820, 101825, 101847, 101863, 101866, 101870, 101875, 101877, 101884, 101886, 101889, 101891, 101894, 101905, 101906, 101908, 101909, 101914, 101924, 101930, 101935, 101936, 101944, 101946, 101948, 101950, 101953, 101955, 101957, 101958, 101962, 101968, 101974, 101975, 101978, 101992, 102003, 102005, 102006, 102009, 102010, 102017, 102019, 102020, 102023, 102031, 102037, 102040, 102042, 102043, 102045, 102046, 102052, 102055, 102057, 102058, 102062, 102065, 102068, 102070, 102071, 102074, 102076, 102080, 102082, 102086, 102091, 102097, 102098, 102104, 102106, 102109, 102111, 102116, 102123, 102125, 102130, 102134, 102136, 102138, 102139, 102140, 102142, 102144, 102151, 102155, 102156, 102157, 102160, 102162, 102166, 102167, 102174, 102175, 102178, 102181, 102182, 102183, 102184, 102193, 102199, 102202, 102204, 102205, 102209, 102210, 102212, 102214, 102222, 102223, 102224, 102225, 102229, 102231, 102233, 102234, 102247, 102258, 102280, 102288, 102336, 102337, 102338, 102339, 102340, 102348, 102349, 102350, 102352, 102353, 102354, 102356, 102357, 102359, 102360, 102361, 102363, 102366, 102369, 102370, 102371, 102378, 102379, 102380, 102381, 102382, 102384, 102386, 102387, 102389, 102391, 102392, 102396, 102397, 102401, 102407, 102412, 102414, 102415, 102420, 102421, 102423, 102425, 102430, 102431, 102434, 102439, 102441, 102442, 102446, 102458, 102462, 102464, 102477, 102480, 102487, 102499, 102503, 102511, 102527, 102532, 102533, 102537, 102540, 102541, 102543, 102544, 102546, 102548, 102552, 102553, 102555, 102559, 102560, 102562, 102563, 102564, 102565, 102568, 102569, 102570, 102572, 102573, 102577, 102578, 102580, 102581, 102583, 102584, 102585, 102588, 102593, 102596, 102598, 102603, 102604, 102607, 102608, 102609, 102611, 102613, 102617, 102618, 102620, 102622, 102625, 102627, 102628, 102631, 102632, 102633, 102635, 102647, 102649, 102652, 102660, 102666, 102682, 102686, 102688, 102717, 102741, 102742, 102749, 102752, 102755, 102757, 102768, 102769, 102773, 102775, 102776, 102778, 102779, 102782, 102783, 102787, 102789, 102792, 102796, 102797, 102799, 102801, 102803, 102805, 102813, 102817, 102820, 102833, 102835, 102836, 102842, 102848, 102860, 102862, 102880, 102890, 102897, 102904, 102909, 102913, 102930, 102933, 102937, 102939, 102942, 102944, 102945, 102946, 102949, 102953, 102954, 102958, 102964, 102965, 102968, 102971, 102972, 102973, 102975, 102978, 102981, 102982, 102988, 102989, 102990, 102991, 102992, 102993, 102998, 102999, 103001, 103002, 103004, 103009, 103012, 103015, 103017, 103018, 103019, 103020, 103022, 103025, 103027, 103029, 103034, 103035, 103042, 103047, 103050, 103051, 103053, 103054, 103066, 103067, 103071, 103073, 103080, 103091, 103103, 103105, 103107, 103119, 103127, 103137, 103141, 103144, 103153, 103156, 103159, 103160, 103161, 103162, 103163, 103166, 103168, 103169, 103172, 103179, 103181, 103182, 103185, 103194, 103196, 103199, 103201, 103204, 103206, 103207, 103210, 103215, 103224, 103226, 103229, 103231, 103232, 103240, 103241, 103242, 103248, 103250, 103253, 103254, 103255, 103258, 103259, 103273, 103275, 103281, 103287, 103292, 103296, 103309, 103310, 103321, 103325, 103334, 103335, 103340, 103341, 103345, 103348, 103349, 103354, 103363, 103371, 103389, 103399, 103400, 103401, 103414, 103421, 103426, 103429, 103432, 103437, 103440, 103451, 103457, 103459, 103468, 103471, 103472, 103474, 103478, 103487, 103489, 103494, 103508, 103511, 103512, 103513, 103518, 103523, 103543, 103545, 103547, 103554, 103557, 103561, 103564, 103565, 103568, 103570, 103575, 103608, 103631, 103632, 103634, 103637, 103638, 103642, 103649, 103654, 103671, 103675, 103682, 103688, 103705, 103708, 103727, 103730, 103741, 103754, 103758, 103778, 103795, 103800, 103807, 103815, 103824, 103839, 103887, 103913, 103947, 103950, 103990, 103994, 103998, 104016, 104046, 104061, 104064, 104115, 104128, 104137, 104148, 104180, 104191, 104193, 104194, 104203, 104207, 104209, 104213, 104218, 104221, 104227, 104232, 104235, 104239, 104243, 104245, 104249, 104255, 104260, 104270, 104275, 104276, 104277, 104287, 104295, 104298, 104300, 104306, 104311, 104315, 104317, 104320, 104323, 104333, 104342, 104350, 104362, 104365, 104367, 104377, 104387, 104394, 104408, 104416, 104420, 104422, 104423, 104433, 104438, 104441, 104450, 104453, 104456, 104460, 104461, 104465, 104467, 104472, 104479, 104480, 104484, 104486, 104489, 104494, 104497, 104498, 104499, 104501, 104504, 104505, 104506, 104508, 104510, 104511, 104512, 104518, 104520, 104523, 104527, 104528, 104529, 104533, 104537, 104538, 104539, 104543, 104548, 104550, 104553, 104568, 104569, 104570, 104573, 104576, 104587, 104588, 104591, 104592, 104597, 104599, 104601, 104614, 104615, 104620, 104626, 104632, 104634, 104641, 104646, 104664, 104666, 104669, 104672, 104673, 104676, 104682, 104685, 104690, 104698, 104699, 104720, 104723, 104726, 104727, 104733, 104735, 104747, 104768, 104775, 104777, 104782, 104796, 104807, 104811, 104812, 104818, 104821, 104822, 104823, 104824, 104829, 104832, 104834, 104839, 104845, 104852, 104853, 104872, 104877, 104878, 104887, 104889, 104897, 104901, 104908, 104909, 104914, 104942, 104947, 104951, 104986, 104989, 104990, 104995, 105010, 105011, 105014, 105015, 105019, 105022, 105030, 105035, 105038, 105048, 105049, 105051, 105061, 105065, 105075, 105083, 105089, 105093, 105097, 105099, 105100, 105113, 105118, 105120, 105129, 105138, 105151, 105193, 105196, 105201, 105202, 105225, 105244, 105266, 105269, 105270, 105274, 105289, 105301, 105328, 105329, 105334, 105339, 105343, 105347, 105349, 105360, 105372, 105380, 105381, 105390, 105393, 105399, 105413, 105416, 105418, 105421, 105424, 105437, 105438, 105439, 105445, 105468, 105475, 105490, 105503, 105512, 105516, 105521, 105557, 105565, 105573, 105580, 105587, 105618, 105626, 105636, 105644, 105661, 105667, 105669, 105673, 105680, 105688, 105691, 105693, 105695, 105700, 105704, 105705, 105708, 105718, 105720, 105721, 105722, 105725, 105734, 105735, 105738, 105745, 105746, 105750, 105751, 105753, 105754, 105755, 105766, 105772, 105778, 105781, 105787, 105794, 105806, 105810, 105818, 105819, 105829, 105880, 105884, 105889, 105892, 105901, 105923, 105924, 105927, 105936, 105945, 105949, 105951, 105957, 105969, 105989, 105992, 106007, 106014, 106015, 106029, 106039, 106043, 106076, 106087, 106090, 106094, 106119, 106122, 106128, 106129, 106130, 106131, 106141, 106145, 106150, 106155, 106159, 106166, 106177, 106201, 106204, 106213, 106223, 106228, 106238, 106261, 106270, 106273, 106281, 106285, 106286, 106290, 106292, 106313, 106316, 106336, 106364, 106366, 106394, 106397, 106398, 106428, 106429, 106432, 106438, 106467, 106484, 106485, 106488, 106516, 106526, 106541, 106548, 106549, 106551, 106562, 106588, 106590, 106595, 106602, 106605, 106617, 106631, 106634, 106683, 106692, 106700, 106716, 106728, 106748, 106774, 106807, 106814, 106821, 106829, 106842, 106847, 106853, 106858, 106867, 106872, 106873, 106891, 106906, 106908, 106913, 106919, 106924, 107000, 107013, 107021, 107025, 107054, 107099, 107107, 107113, 107126, 107129, 107152, 107157, 107170, 107187, 107217, 107221, 107238, 107257, 107275, 107280, 107283, 107284, 107290, 107294, 107321, 107328, 107332, 107354, 107355, 107364, 107366, 107400, 107422, 107437, 107438, 107444, 107449, 107454, 107462, 107482, 107511, 107523, 107525, 107546, 107564, 107595, 107610, 107634, 107647, 107651, 107695, 107702, 107712, 107721, 107730, 107745, 107763, 107771, 107784, 107789, 107795, 107804, 107805, 107823, 107827, 107836, 107846, 107848, 107856, 107859, 107871, 107902, 107920, 107936, 107945, 107957, 107962, 107963, 107966, 107970, 107993, 108011, 108013, 108037, 108057, 108061, 108071, 108079, 108081, 108090, 108106, 108115, 108119, 108125, 108126, 108132, 108166, 108168, 108182, 108196, 108205, 108211, 108237, 108243, 108244, 108245, 108257, 108260, 108278, 108284, 108309, 108317, 108318, 108326, 108354, 108356, 108387, 108407, 108417, 108421, 108431, 108443, 108447, 108452, 108473, 108474, 108483, 108502, 108503, 108504, 108508, 108526, 108565, 108573, 108597, 108603, 108606, 108610, 108612, 108635, 108636, 108646, 108647, 108650, 108651, 108652, 108661, 108662, 108679, 108688, 108701, 108703, 108706, 108732, 108733, 108772, 108802, 108813, 108825, 108829, 108841, 108888, 108931, 108947, 108955, 108958, 108961, 108963, 108970, 108973, 109001, 109015, 109016, 109024, 109033, 109043, 109051, 109084, 109092, 109098, 109109, 109128, 109137, 109140, 109149, 109157, 109160, 109161, 109165, 109173, 109193, 109209, 109229, 109234, 109256, 109260, 109271, 109276, 109284, 109293, 109299, 109303, 109310, 109321, 109322, 109335, 109344, 109356, 109366, 109367, 109368, 109377, 109390, 109397, 109400, 109405, 109429, 109434, 109435, 109454, 109460, 109468, 109469, 109476, 109486, 109488, 109493, 109498, 109501, 109513, 109514, 109515, 109519, 109526, 109534, 109565, 109566, 109582, 109587, 109618, 109625, 109626, 109630, 109636, 109639, 109654, 109659, 109663, 109665, 109667, 109678, 109695, 109706, 109708, 109714, 109718, 109729, 109736, 109737, 109741, 109742, 109747, 109751, 109753, 109758, 109778, 109786, 109802, 109811, 109835, 109839, 109859, 109861, 109864, 109867, 109872, 109874, 109889, 109895, 109898, 109906, 109917, 109920, 109935, 109940, 109945, 109947, 109956, 109961, 109975, 109978, 109982, 109985, 109988, 109999, 110004, 110007, 110027, 110030, 110044, 110057, 110065, 110105, 110108, 110117, 110120, 110122, 110130, 110133, 110141, 110142, 110143, 110146, 110147, 110166, 110180, 110181, 110205, 110216, 110239, 110243, 110244, 110250, 110260, 110262, 110293, 110294, 110301, 110302, 110310, 110317, 110331, 110338, 110350, 110361, 110369, 110372, 110401, 110420, 110431, 110470, 110474, 110487, 110518, 110526, 110528, 110558, 110559, 110563, 110589, 110600, 110608, 110611, 110617, 110627, 110629, 110644, 110646, 110648, 110655, 110657, 110669, 110672, 110676, 110677, 110678, 110682, 110684, 110694, 110695, 110696, 110697, 110698, 110707, 110710, 110712, 110713, 110716, 110733, 110736, 110753, 110754, 110765, 110768, 110770, 110773, 110775, 110776, 110780, 110788, 110805, 110816, 110822, 110850, 110851, 110859, 110878, 110888, 110890, 110918, 110919, 110922, 110927, 110945, 110946, 110948, 110958, 110967, 110968, 110972, 110973, 110980, 110981, 110983, 110984, 111001, 111002, 111021, 111022, 111033, 111034, 111035, 111043, 111052, 111065, 111067, 111068, 111076, 111077, 111089, 111100, 111109, 111121, 111123, 111133, 111139, 111141, 111163, 111168, 111170, 111173, 111183, 111185, 111190, 111202, 111206, 111224, 111233, 111252, 111255, 111259, 111262, 111263, 111264, 111265, 111272, 111280, 111282, 111290, 111293, 111294, 111297, 111300, 111303, 111338, 111342, 111345, 111346, 111358, 111361, 111362, 111363, 111365, 111366, 111374, 111376, 111377, 111378, 111389, 111392, 111412, 111413, 111420, 111429, 111431, 111441, 111443, 111444, 111453, 111456, 111457, 111460, 111461, 111470, 111477, 111480, 111483, 111490, 111491, 111492, 111501, 111506, 111509, 111517, 111526, 111533, 111539, 111540, 111541, 111542, 111551, 111558, 111561, 111563, 111564, 111579, 111581, 111597, 111600, 111605, 111606, 111610, 111612, 111613, 111616, 111619, 111621, 111622, 111624, 111626, 111629, 111630, 111635, 111644, 111646, 111653, 111656, 111659, 111661, 111664, 111667, 111670, 111672, 111675, 111676, 111682, 111686, 111694, 111706, 111708, 111709, 111715, 111716, 111726, 111730, 111736, 111740, 111742, 111744, 111747, 111749, 111751, 111752, 111754, 111755, 111756, 111757, 111758, 111759, 111764, 111766, 111767, 111771, 111772, 111774, 111776, 111782, 111784, 111785, 111787, 111788, 111790, 111793, 111795, 111796, 111799, 111800, 111803, 111804, 111806, 111809, 111810, 111812, 111815, 111816, 111819, 111822, 111823, 111824, 111826, 111828, 111830, 111831, 111833, 111845, 111852, 111858, 111869, 111873, 111874, 111877, 111883, 111885, 111903, 111904, 111907, 111924, 111925, 111927, 111930, 111936, 111939, 111940, 111941, 111943, 111944, 111945, 111949, 111954, 111955, 111964, 111967, 111968, 111974, 111975, 111976, 111978, 111979, 111980, 111981, 111982, 111987, 111988, 111989, 111991, 111993, 111996, 111997, 111998, 112000, 112002, 112010, 112011, 112012, 112014, 112017, 112019, 112020, 112021, 112024, 112028, 112043, 112055, 112059, 112063, 112081, 112095, 112106, 112109, 112119, 112143, 112144, 112147, 112148, 112150, 112151, 112152, 112158, 112160, 112171, 112172, 112178, 112183, 112190, 112192, 112197, 112198, 112202, 112205, 112208, 112216, 112218, 112221, 112222, 112225, 112228, 112232, 112233, 112246, 112265, 112277, 112281, 112283, 112304, 112309, 112324, 112331, 112339, 112379, 112388, 112408, 112421, 112446, 112452, 112462, 112465, 112468, 112474, 112478, 112479, 112480, 112481, 112483, 112490, 112493, 112494, 112496, 112498, 112501, 112510, 112512, 112531, 112536, 112538, 112542, 112549, 112550, 112556, 112557, 112562, 112571, 112574, 112576, 112579, 112582, 112588, 112590, 112595, 112596, 112609, 112615, 112617, 112620, 112621, 112625, 112627, 112637, 112666, 112678, 112681, 112683, 112685, 112706, 112723, 112729, 112734, 112737, 112743, 112746, 112749, 112750, 112756, 112761, 112764, 112768, 112772, 112773, 112775, 112792, 112794, 112795, 112800, 112808, 112816, 112828, 112837, 112838, 112840, 112841, 112844, 112852, 112855, 112856, 112858, 112865, 112867, 112872, 112873, 112874, 112877, 112878, 112879, 112880, 112882, 112888, 112890, 112899, 112904, 112905, 112926, 112928, 112931, 112953, 112967, 112972, 112989, 112991, 112992, 112996, 113006, 113010, 113011, 113014, 113016, 113032, 113040, 113054, 113065, 113071, 113072, 113074, 113079, 113085, 113087, 113098, 113114, 113122, 113142, 113145, 113158, 113161, 113169, 113170, 113186, 113191, 113192, 113194, 113195, 113200, 113205, 113209, 113219, 113221, 113227, 113234, 113240, 113241, 113243, 113251, 113262, 113274, 113286, 113289, 113293, 113301, 113307, 113318, 113388, 113395, 113402, 113409, 113421, 113422, 113441, 113456, 113461, 113472, 113474, 113485, 113488, 113490, 113542, 113548, 113555, 113559, 113560, 113564, 113568, 113569, 113572, 113573, 113575, 113576, 113578, 113584, 113590, 113593, 113597, 113599, 113603, 113606, 113607, 113613, 113620, 113623, 113625, 113627, 113631, 113634, 113637, 113642, 113662, 113667, 113674, 113676, 113685, 113689, 113696, 113709, 113717, 113735, 113753, 113758, 113764, 113793, 113807, 113826, 113831, 113840, 113843, 113845, 113848, 113856, 113857, 113864, 113870, 113872, 113874, 113876, 113877, 113878, 113879, 113882, 113884, 113886, 113887, 113888, 113890, 113891, 113895, 113896, 113897, 113898, 113900, 113916, 113918, 113926, 113930, 113932, 113937, 113942, 113954, 113960, 113970, 113979, 113994, 113996, 113997, 113999, 114002, 114003, 114005, 114006, 114007, 114013, 114027, 114033, 114050, 114055, 114057, 114061, 114065, 114072, 114080, 114083, 114085, 114090, 114094, 114097, 114098, 114130, 114133, 114146, 114148, 114156, 114157, 114162, 114168, 114176, 114190, 114192, 114193, 114216, 114218, 114228, 114229, 114233, 114237, 114250, 114251, 114252, 114255, 114260, 114269, 114274, 114281, 114282, 114283, 114284, 114292, 114295, 114297, 114302, 114309, 114314, 114323, 114332, 114333, 114334, 114339, 114343, 114344, 114345, 114353, 114356, 114361, 114364, 114366, 114368, 114371, 114375, 114383, 114386, 114394, 114396, 114397, 114399, 114409, 114415, 114422, 114425, 114437, 114438, 114443, 114450, 114451, 114453, 114462, 114464, 114466, 114479, 114483, 114485, 114489, 114500, 114513, 114517, 114518, 114529, 114534, 114535, 114549, 114558, 114574, 114588, 114598, 114602, 114606, 114611, 114620, 114621, 114625, 114645, 114656, 114661, 114665, 114668, 114688, 114696, 114698, 114704, 114708, 114712, 114719, 114728, 114729, 114732, 114749, 114761, 114768, 114779, 114781, 114795, 114799, 114805, 114810, 114827, 114836, 114838, 114839, 114859, 114868, 114880, 114893, 114899, 114901, 114902, 114915, 114920, 114932, 114949, 114950, 114952, 114953, 114963, 114977, 114985, 114993, 115022, 115041, 115048, 115055, 115059, 115060, 115062, 115063, 115067, 115078, 115081, 115086, 115091, 115096, 115097, 115102, 115105, 115115, 115120, 115125, 115128, 115129, 115136, 115147, 115153, 115159, 115163, 115176, 115178, 115181, 115183, 115187, 115198, 115223, 115224, 115230, 115246, 115258, 115267, 115273, 115275, 115308, 115310, 115318, 115322, 115323, 115324, 115329, 115330, 115332, 115334, 115336, 115338, 115340, 115341, 115365, 115372, 115382, 115410, 115419, 115434, 115436, 115454, 115457, 115460, 115472, 115477, 115487, 115495, 115503, 115515, 115516, 115528, 115531, 115552, 115558, 115563, 115572, 115573, 115580, 115590, 115602, 115606, 115610, 115645, 115653, 115655, 115681, 115685, 115686, 115699, 115716, 115727, 115728, 115732, 115733, 115734, 115735, 115738, 115752, 115775, 115784, 115789, 115798, 115799, 115825, 115832, 115834, 115851, 115882, 115919, 115938, 115956, 115968, 116001, 116002, 116004, 116006, 116041, 116046, 116053, 116069, 116083, 116099, 116110, 116123, 116131, 116135, 116150, 116157, 116159, 116178, 116180, 116190, 116198, 116209, 116214, 116218, 116237, 116245, 116250, 116275, 116285, 116302, 116311, 116316, 116336, 116339, 116353, 116356, 116364, 116380, 116390, 116395, 116396, 116432, 116440, 116454, 116462, 116469, 116475, 116500, 116513, 116517, 116551, 116553, 116585, 116588, 116623, 116646, 116655, 116663, 116678, 116695, 116700, 116722, 116734, 116771, 116789, 116790, 116826, 116827, 116841, 116855, 116864, 116870, 116898, 116903, 116906, 116930, 116935, 116956, 116966, 116968, 116985, 116995, 117024, 117027, 117029, 117037, 117052, 117086, 117094, 117103, 117104, 117108, 117123, 117142, 117154, 117159, 117181, 117193, 117198, 117200, 117210, 117213, 117216, 117219, 117222, 117272, 117284, 117295, 117332, 117344, 117350, 117355, 117359, 117410, 117415, 117428, 117437, 117440, 117442, 117447, 117448, 117457, 117459, 117469, 117477, 117480, 117504, 117508, 117540, 117566, 117569, 117580, 117582, 117587, 117595, 117598, 117603, 117606, 117616, 117624, 117646, 117655, 117663, 117664, 117665, 117684, 117704, 117706, 117709, 117710, 117715, 117719, 117721, 117747, 117767, 117791, 117800, 117818, 117831, 117844, 117846, 117852, 117862, 117874, 117892, 117899, 117920, 117973, 117987, 118059, 118064, 118074, 118118, 118121, 118122, 118126, 118138, 118147, 118151, 118155, 118161, 118171, 118180, 118195, 118211, 118214, 118227, 118232, 118238, 118245, 118256, 118283, 118298, 118337, 118340, 118345, 118354, 118360, 118369, 118370, 118372, 118391, 118406, 118414, 118430, 118432, 118455, 118473, 118505, 118515, 118520, 118530, 118540, 118546, 118561, 118584, 118588, 118596, 118604, 118639, 118658, 118659, 118685, 118687, 118692, 118694, 118709, 118721, 118734, 118736, 118752, 118755, 118756, 118760, 118763, 118774, 118786, 118792, 118799, 118800, 118802, 118807, 118809, 118813, 118814, 118815, 118821, 118823, 118827, 118846, 118866, 118870, 118873, 118874, 118894, 118901, 118902, 118916, 118931, 118937, 118948, 118950, 118951, 118958, 118962, 118963, 118973, 118979, 118984, 118987, 118989, 119004, 119012, 119019, 119023, 119024, 119030, 119043, 119049, 119051, 119055, 119069, 119077, 119088, 119095, 119097, 119099, 119114, 119115, 119119, 119121, 119129, 119130, 119144, 119162, 119171, 119181, 119191, 119203, 119204, 119222, 119232, 119274, 119309, 119351, 119354, 119369, 119376, 119398, 119404, 119438, 119448, 119451, 119464, 119469, 119471, 119487, 119491, 119500, 119511, 119513, 119526, 119544, 119554, 119564, 119570, 119574, 119603, 119606, 119620, 119646, 119651, 119658, 119659, 119660, 119668, 119670, 119683, 119685, 119686, 119698, 119709, 119711, 119714, 119716, 119718, 119719, 119723, 119730, 119731, 119733, 119738, 119747, 119764, 119801, 119810, 119826, 119835, 119838, 119840, 119848, 119862, 119863, 119870, 119879, 119881, 119882, 119889, 119897, 119900, 119908, 119912, 119915, 119919, 119950, 119958, 119965, 119982, 119985, 119992, 119994, 119999, 120000, 120003, 120014, 120017, 120034, 120041, 120048, 120049, 120053, 120061, 120072, 120074, 120077, 120080, 120083, 120085, 120098, 120101, 120115, 120123, 120131, 120133, 120134, 120136, 120140, 120142, 120152, 120158, 120166, 120182, 120188, 120191, 120204, 120207, 120214, 120221, 120225, 120230, 120231, 120234, 120255, 120256, 120265, 120266, 120274, 120282, 120292, 120298, 120308, 120309, 120319, 120327, 120331, 120338, 120343, 120347, 120359, 120360, 120370, 120376, 120378, 120386, 120390, 120395, 120407, 120409, 120426, 120428, 120431, 120432, 120433, 120443, 120451, 120461, 120478, 120489, 120498, 120518, 120528, 120529, 120531, 120533, 120536, 120539, 120542, 120557, 120565, 120568, 120569, 120571, 120572, 120576, 120586, 120607, 120613, 120620, 120621, 120638, 120641, 120653, 120654, 120656, 120670, 120674, 120676, 120690, 120701, 120705, 120707, 120713, 120715, 120717, 120721, 120723, 120730, 120748, 120750, 120751, 120754, 120769, 120773, 120778, 120786, 120789, 120791, 120801, 120814, 120817, 120818, 120824, 120833, 120838, 120844, 120845, 120849, 120850, 120856, 120859, 120864, 120877, 120878, 120880, 120889, 120890, 120893, 120896, 120901, 120903, 120909, 120915, 120916, 120919, 120925, 120934, 120938, 120944, 120951, 120953, 120955, 120957, 120959, 120966, 120970, 120971, 120972, 120973, 120974, 120976, 120978, 120980, 120984, 120985, 120991, 120999, 121000, 121003, 121007, 121008, 121012, 121018, 121020, 121027, 121032, 121035, 121041, 121043, 121044, 121045, 121048, 121049, 121057, 121060, 121062, 121072, 121075, 121077, 121083, 121085, 121086, 121087, 121092, 121093, 121098, 121101, 121103, 121113, 121114, 121115, 121139, 121146, 121149, 121158, 121164, 121167, 121168, 121169, 121174, 121176, 121181, 121191, 121199, 121201, 121204, 121209, 121212, 121223, 121233, 121235, 121240, 121243, 121244, 121246, 121251, 121253, 121254, 121255, 121257, 121259, 121261, 121262, 121263, 121266, 121268, 121269, 121271, 121277, 121280, 121281, 121282, 121285, 121286, 121297, 121302, 121305, 121306, 121307, 121311, 121312, 121317, 121318, 121320, 121322, 121324, 121326, 121327, 121328, 121330, 121331, 121332, 121339, 121349, 121353, 121354, 121358, 121363, 121366, 121372, 121373, 121374, 121375, 121380, 121381, 121382, 121386, 121388, 121396, 121400, 121409, 121433, 121434, 121441, 121444, 121447, 121449, 121452, 121456, 121457, 121458, 121461, 121464, 121467, 121472, 121473, 121477, 121478, 121482, 121483, 121486, 121487, 121488, 121490, 121491, 121493, 121494, 121496, 121503, 121507, 121509, 121510, 121512, 121515, 121516, 121517, 121519, 121520, 121522, 121523, 121524, 121525, 121528, 121534, 121535, 121536, 121558, 121560, 121580, 121589, 121598, 121606, 121616, 121630, 121643, 121644, 121654, 121660, 121665, 121670, 121672, 121676, 121688, 121700, 121702, 121706, 121708, 121713, 121714, 121715, 121718, 121721, 121725, 121739, 121744, 121755, 121773, 121776, 121785, 121791, 121795, 121804, 121806, 121810, 121823, 121829, 121831, 121870, 121885, 121892, 121920, 121921, 121922, 121928, 121932, 121933, 121944, 121954, 121956, 121957, 121967, 121971, 121977, 121984, 121991, 121996, 122009, 122010, 122011, 122012, 122017, 122018, 122025, 122026, 122028, 122029, 122031, 122033, 122038, 122042, 122047, 122049, 122050, 122052, 122057, 122064, 122067, 122068, 122069, 122070, 122074, 122076, 122078, 122079, 122084, 122085, 122087, 122088, 122090, 122091, 122097, 122099, 122101, 122103, 122104, 122159, 122178, 122181, 122189, 122193, 122194, 122195, 122200, 122201, 122224, 122225, 122229, 122230, 122233, 122236, 122242, 122258, 122267, 122277, 122281, 122295, 122298, 122309, 122314, 122315, 122316, 122320, 122330, 122332, 122337, 122338, 122343, 122391, 122415, 122453, 122460, 122473, 122490, 122492, 122507, 122514, 122517, 122525, 122529, 122534, 122535, 122549, 122555, 122557, 122564, 122574, 122595, 122598, 122607, 122621, 122624, 122627, 122639, 122641, 122650, 122652, 122653, 122657, 122659, 122661, 122664, 122675, 122689, 122691, 122706, 122721, 122723, 122764, 122771, 122796, 122850, 122854, 122858, 122861, 122870, 122871, 122900, 122939, 122944, 122945, 122957, 122971, 122974, 122977, 122991, 123003, 123012, 123016, 123019, 123020, 123023, 123024, 123026, 123027, 123043, 123045, 123046, 123048, 123051, 123063, 123065, 123067, 123068, 123070, 123073, 123074, 123080, 123082, 123083, 123084, 123085, 123091, 123093, 123104, 123109, 123122, 123125, 123126, 123133, 123139, 123141, 123142, 123150, 123170, 123171, 123177, 123182, 123186, 123200, 123202, 123205, 123208, 123217, 123226, 123245, 123256, 123257, 123265, 123288, 123295, 123298, 123299, 123306, 123316, 123317, 123319, 123320, 123321, 123322, 123327, 123329, 123331, 123332, 123336, 123341, 123345, 123346, 123354, 123356, 123357, 123358, 123360, 123361, 123363, 123365, 123371, 123375, 123376, 123378, 123380, 123381, 123382, 123386, 123387, 123391, 123396, 123401, 123405, 123408, 123409, 123413, 123414, 123417, 123421, 123423, 123429, 123433, 123434, 123436, 123438, 123439, 123441, 123442, 123447, 123461, 123463, 123464, 123466, 123468, 123469, 123472, 123475, 123477, 123483, 123486, 123487, 123491, 123494, 123495, 123498, 123499, 123501, 123502, 123503, 123505, 123518, 123530, 123542, 123553, 123564, 123565, 123567, 123572, 123574, 123581, 123583, 123585, 123586, 123587, 123602, 123604, 123610, 123611, 123614, 123630, 123638, 123669, 123681, 123687, 123698, 123704, 123706, 123712, 123714, 123715, 123722, 123733, 123743, 123751, 123752, 123762, 123771, 123772, 123777, 123792, 123796, 123798, 123799, 123806, 123807, 123819, 123822, 123836, 123850, 123854, 123861, 123862, 123882, 123896, 123899, 123900, 123904, 123907, 123910, 123914, 123922, 123939, 123950, 123953, 123957, 123963, 123966, 123972, 123981, 123983, 123989, 123990, 123996, 124000, 124005, 124011, 124014, 124038, 124043, 124061, 124064, 124072, 124094, 124104, 124108, 124126, 124134, 124138, 124163, 124165, 124168, 124174, 124197, 124205, 124216, 124217, 124218, 124220, 124221, 124232, 124235, 124236, 124260, 124267, 124279, 124281, 124284, 124295, 124303, 124308, 124313, 124323, 124339, 124345, 124359, 124362, 124367, 124384, 124387, 124398, 124423, 124435, 124444, 124451, 124453, 124518, 124520, 124546, 124547, 124555, 124556, 124559, 124560, 124574, 124586, 124589, 124591, 124594, 124597, 124600, 124601, 124611, 124616, 124617, 124620, 124634, 124637, 124643, 124658, 124665, 124669, 124681, 124689, 124711, 124713, 124729, 124733, 124735, 124741, 124748, 124762, 124766, 124770, 124771, 124772, 124775, 124781, 124782, 124786, 124788, 124790, 124793, 124799, 124803, 124808, 124819, 124820, 124823, 124828, 124829, 124843, 124850, 124863, 124869, 124870, 124872, 124874, 124875, 124876, 124893, 124899, 124910, 124914, 124922, 124926, 124932, 124933, 124936, 124937, 124945, 124948, 124949, 124965, 124984, 124987, 124997, 125002, 125014, 125025, 125029, 125035, 125039, 125040, 125051, 125053, 125064, 125076, 125082, 125095, 125097, 125098, 125119, 125120, 125125, 125134, 125159, 125160, 125167, 125210, 125218, 125222, 125240, 125243, 125249, 125255, 125262, 125266, 125269, 125280, 125282, 125298, 125308, 125317, 125319, 125332, 125356, 125357, 125363, 125365, 125385, 125390, 125391, 125393, 125403, 125425, 125427, 125435, 125455, 125465, 125469, 125470, 125511, 125527, 125541, 125547, 125555, 125578, 125579, 125597, 125600, 125605, 125609, 125625, 125629, 125633, 125639, 125644, 125681, 125683, 125688, 125704, 125717, 125736, 125746, 125773, 125779, 125780, 125787, 125808, 125817, 125832, 125850, 125851, 125854, 125857, 125865, 125872, 125882, 125885, 125891, 125912, 125914, 125922, 125946, 125956, 125963, 125978, 125979, 126006, 126020, 126028, 126055, 126073, 126086, 126093, 126104, 126112, 126115, 126124, 126125, 126126, 126131, 126133, 126145, 126188, 126204, 126220, 126228, 126235, 126251, 126258, 126270, 126284, 126312, 126316, 126324, 126335, 126338, 126356, 126386, 126398, 126400, 126429, 126430, 126436, 126450, 126460, 126477, 126481, 126502, 126523, 126529, 126536, 126542, 126545, 126548, 126559, 126567, 126573, 126579, 126587, 126599, 126605, 126615, 126622, 126633, 126639, 126643, 126644, 126674, 126680, 126688, 126720, 126731, 126760, 126779, 126782, 126784, 126797, 126805, 126812, 126849, 126853, 126855, 126856, 126860, 126887, 126904, 126912, 126913, 126922, 126925, 126933, 126943, 126947, 126956, 126959, 126967, 126979, 126986, 126987, 126990, 126991, 126992, 126993, 126996, 127011, 127030, 127039, 127041, 127051, 127063, 127066, 127097, 127102, 127110, 127113, 127117, 127122, 127129, 127155, 127166, 127187, 127189, 127193, 127207, 127212, 127218, 127222, 127223, 127241, 127247, 127264, 127276, 127281, 127311, 127342, 127344, 127364, 127388, 127408, 127419, 127441, 127462, 127507, 127514, 127538, 127550, 127552, 127555, 127558, 127591, 127605, 127608, 127610, 127617, 127631, 127637, 127642, 127648, 127652, 127659, 127670, 127682, 127693, 127700, 127703, 127709, 127710, 127713, 127732, 127735, 127758, 127772, 127779, 127814, 127818, 127825, 127873, 127885, 127892, 127896, 127897, 127901, 127905, 127919, 127923, 127944, 127947, 127959, 127960, 127962, 127964, 127985, 127995, 128019, 128020, 128023, 128030, 128050, 128088, 128091, 128097, 128107, 128118, 128123, 128134, 128136, 128150, 128151, 128152, 128160, 128161, 128178, 128189, 128193, 128198, 128201, 128203, 128210, 128212, 128215, 128216, 128220, 128222, 128228, 128229, 128232, 128237, 128246, 128250, 128260, 128261, 128269, 128292, 128294, 128304, 128308, 128314, 128315, 128359, 128375, 128377, 128379, 128381, 128389, 128396, 128397, 128414, 128417, 128427, 128451, 128456, 128469, 128489, 128491, 128500, 128502, 128505, 128511, 128520, 128521, 128524, 128526, 128529, 128566, 128571, 128590, 128593, 128594, 128598, 128601, 128623, 128628, 128639, 128641, 128649, 128664, 128689, 128704, 128711, 128715, 128720, 128724, 128729, 128745, 128751, 128753, 128755, 128766, 128773, 128785, 128788, 128805, 128820, 128821, 128825, 128850, 128869, 128877, 128879, 128885, 128895, 128905, 128909, 128916, 128934, 128938, 128947, 128952, 128959, 128962, 128967, 128974, 128982, 128989, 129017, 129028, 129048, 129058, 129084, 129086, 129097, 129099, 129102, 129106, 129138, 129146, 129157, 129162, 129163, 129172, 129194, 129195, 129202, 129205, 129214, 129216, 129220, 129222, 129223, 129239, 129249, 129262, 129267, 129275, 129287, 129289, 129290, 129301, 129305, 129310, 129332, 129337, 129343, 129345, 129353, 129354, 129356, 129360, 129374, 129386, 129387, 129416, 129418, 129432, 129446, 129456, 129476, 129483, 129492, 129493, 129502, 129508, 129516, 129517, 129521, 129528, 129531, 129545, 129554, 129558, 129564, 129576, 129580, 129602, 129623, 129625, 129630, 129637, 129643, 129644, 129652, 129657, 129678, 129680, 129682, 129685, 129686, 129695, 129700, 129712, 129714, 129729, 129744, 129747, 129751, 129756, 129771, 129772, 129788, 129790, 129799, 129800, 129808, 129815, 129816, 129820, 129821, 129843, 129844, 129854, 129855, 129873, 129889, 129892, 129893, 129894, 129898, 129904, 129910, 129911, 129913, 129915, 129921, 129948, 129954, 129959, 129969, 129980, 129984, 129991, 130001, 130003, 130005, 130015, 130031, 130032, 130034, 130037, 130045, 130048, 130049, 130058, 130069, 130073, 130081, 130087, 130088, 130104, 130109, 130115, 130125, 130132, 130135, 130138, 130140, 130146, 130148, 130149, 130158, 130165, 130172, 130184, 130188, 130192, 130195, 130200, 130205, 130213, 130243, 130252, 130253, 130254, 130257, 130265, 130271, 130291, 130300, 130313, 130315, 130316, 130325, 130330, 130345, 130347, 130353, 130354, 130356, 130358, 130363, 130365, 130376, 130378, 130385, 130387, 130399, 130400, 130412, 130415, 130419, 130425, 130426, 130428, 130438, 130447, 130451, 130458, 130469, 130471, 130474, 130483, 130486, 130489, 130491, 130499, 130502, 130505, 130508, 130510, 130512, 130513, 130516, 130526, 130530, 130532, 130535, 130540, 130543, 130544, 130546, 130551, 130553, 130554, 130555, 130562, 130565, 130568, 130572, 130576, 130578, 130579, 130580, 130581, 130582, 130583, 130585, 130590, 130595, 130599, 130600, 130603, 130604, 130605, 130609, 130611, 130614, 130617, 130618, 130620, 130621, 130623, 130624, 130625, 130633, 130637, 130641, 130642, 130647, 130650, 130652, 130654, 130655, 130666, 130672, 130676, 130677, 130689, 130693, 130694, 130698, 130701, 130715, 130721, 130723, 130727, 130729, 130730, 130732, 130734, 130735, 130737, 130738, 130739, 130741, 130743, 130746, 130747, 130748, 130749, 130750, 130752, 130754, 130757, 130758, 130759, 130760, 130764, 130770, 130772, 130775, 130778, 130780, 130784, 130786, 130787, 130789, 130792, 130794, 130798, 130800, 130802, 130803, 130804, 130805, 130806, 130807, 130808, 130809, 130816, 130817, 130821, 130830, 130832, 130835, 130845, 130846, 130848, 130852, 130853, 130868, 130886, 130893, 130896, 130900, 130902, 130904, 130907, 130909, 130910, 130912, 130913, 130918, 130919, 130922, 130926, 130930, 130934, 130937, 130938, 130944, 130948, 130954, 130957, 130958, 130960, 130962, 130964, 130965, 130966, 130969, 130970, 130974, 130978, 130984, 130985, 130986, 130988, 130998, 131000, 131002, 131005, 131008, 131045, 131053, 131064, 131087, 131093, 131111, 131113, 131119, 131120, 131123, 131125, 131128, 131132, 131143, 131149, 131152, 131159, 131173, 131179, 131181, 131184, 131185, 131186, 131187, 131192, 131193, 131198, 131201, 131206, 131210, 131226, 131240, 131254, 131263, 131272, 131273, 131295, 131311, 131312, 131326, 131334, 131336, 131339, 131342, 131343, 131345, 131350, 131357, 131358, 131367, 131369, 131373, 131377, 131380, 131381, 131385, 131390, 131391, 131392, 131393, 131395, 131398, 131399, 131401, 131403, 131404, 131416, 131420, 131422, 131423, 131427, 131431, 131438, 131439, 131442, 131445, 131456, 131458, 131467, 131476, 131501, 131503, 131529, 131534, 131558, 131563, 131564, 131577, 131583, 131584, 131585, 131586, 131596, 131598, 131614, 131618, 131619, 131625, 131632, 131638, 131644, 131652, 131654, 131658, 131664, 131678, 131686, 131697, 131735, 131749, 131752, 131765, 131773, 131780, 131787, 131793, 131795, 131796, 131803, 131806, 131813, 131815, 131818, 131825, 131826, 131827, 131828, 131840, 131843, 131844, 131852, 131853, 131872, 131881, 131898, 131908, 131910, 131918, 131919, 131926, 131927, 131947, 131949, 131952, 131958, 131973, 131978, 131979, 131988, 132000, 132016, 132018, 132034, 132035, 132036, 132037, 132045, 132049, 132055, 132060, 132063, 132066, 132074, 132100, 132115, 132117, 132121, 132143, 132152, 132174, 132176, 132179, 132197, 132198, 132209, 132210, 132215, 132216, 132219, 132221, 132223, 132227, 132232, 132235, 132236, 132247, 132249, 132250, 132256, 132264, 132273, 132281, 132285, 132290, 132291, 132292, 132293, 132299, 132311, 132318, 132319, 132323, 132332, 132338, 132340, 132346, 132347, 132351, 132363, 132365, 132368, 132376, 132377, 132389, 132395, 132407, 132408, 132409, 132410, 132419, 132420, 132421, 132426, 132427, 132438, 132440, 132446, 132447, 132483, 132488, 132493, 132497, 132504, 132510, 132518, 132520, 132522, 132532, 132536, 132537, 132544, 132546, 132549, 132558, 132573, 132575, 132578, 132583, 132592, 132595, 132605, 132610, 132613, 132614, 132624, 132628, 132631, 132634, 132637, 132642, 132646, 132648, 132649, 132651, 132655, 132656, 132659, 132661, 132663, 132664, 132665, 132666, 132667, 132668, 132669, 132670, 132672, 132674, 132678, 132679, 132682, 132683, 132684, 132686, 132689, 132691, 132698, 132701, 132702, 132704, 132712, 132722, 132727, 132731, 132733, 132734, 132738, 132739, 132741, 132745, 132746, 132747, 132748, 132755, 132758, 132764, 132769, 132770, 132772, 132773, 132774, 132777, 132779, 132782, 132795, 132796, 132797, 132801, 132803, 132812, 132813, 132814, 132819, 132825, 132829, 132830, 132831, 132845, 132867, 132873, 132880, 132882, 132890, 132898, 132903, 132905, 132923, 132935, 132937, 132941, 132946, 132949, 132963, 132980, 132982, 132983, 132986, 132991, 132993, 132995, 132997, 132999, 133000, 133003, 133008, 133010, 133014, 133015, 133018, 133021, 133023, 133025, 133026, 133031, 133041, 133043, 133044, 133047, 133051, 133053, 133057, 133062, 133065, 133077, 133080, 133084, 133089, 133099, 133112, 133114, 133115, 133116, 133119, 133121, 133122, 133124, 133132, 133133, 133135, 133140, 133142, 133145, 133150, 133151, 133161, 133167, 133170, 133171, 133174, 133176, 133178, 133181, 133183, 133184, 133187, 133189, 133196, 133203, 133206, 133207, 133211, 133212, 133221, 133222, 133226, 133227, 133228, 133229, 133232, 133233, 133234, 133235, 133236, 133246, 133283, 133285, 133287, 133288, 133305, 133311, 133319, 133322, 133324, 133328, 133343, 133372, 133379, 133385, 133394, 133395, 133409, 133410, 133420, 133435, 133441, 133443, 133449, 133457, 133467, 133483, 133485, 133501, 133510, 133519, 133521, 133522, 133537, 133538, 133555, 133558, 133561, 133568, 133569, 133570, 133576, 133590, 133594, 133596, 133598, 133599, 133622, 133629, 133632, 133654, 133656, 133663, 133669, 133676, 133677, 133686, 133687, 133690, 133700, 133719, 133725, 133736, 133740, 133756, 133771, 133774, 133775, 133807, 133809, 133813, 133819, 133822, 133828, 133832, 133834, 133838, 133846, 133850, 133856, 133861, 133865, 133867, 133869, 133872, 133879, 133880, 133888, 133896, 133900, 133901, 133914, 133922, 133923, 133924, 133925, 133928, 133931, 133947, 133952, 133953, 133954, 133964, 133972, 133973, 133975, 133977, 133980, 133982, 133988, 133992, 133994, 133999, 134022, 134024, 134025, 134027, 134035, 134048, 134052, 134061, 134062, 134063, 134064, 134080, 134083, 134086, 134111, 134123, 134126, 134127, 134134, 134139, 134143, 134156, 134159, 134167, 134168, 134172, 134180, 134214, 134217, 134221, 134224, 134235, 134236, 134238, 134249, 134253, 134268, 134276, 134282, 134285, 134286, 134287, 134297, 134302, 134306, 134307, 134315, 134316, 134327, 134337, 134360, 134362, 134372, 134391, 134396, 134398, 134403, 134410, 134411, 134422, 134423, 134425, 134439, 134444, 134470, 134475, 134478, 134484, 134492, 134498, 134515, 134518, 134524, 134533, 134558, 134561, 134563, 134578, 134584, 134590, 134594, 134626, 134627, 134636, 134677, 134683, 134728, 134777, 134793, 134795, 134809, 134847, 134860, 134878, 134897, 134899, 134900, 134927, 134945, 134946, 134948, 134953, 134954, 134956, 134963, 134978, 134980, 134996, 134999, 135000, 135010, 135018, 135029, 135045, 135051, 135053, 135106, 135147, 135150, 135166, 135174, 135179, 135194, 135204, 135248, 135265, 135286, 135287, 135293, 135296, 135301, 135319, 135333, 135334, 135335, 135345, 135377, 135390, 135402, 135416, 135426, 135429, 135447, 135448, 135450, 135468, 135473, 135488, 135492, 135500, 135517, 135519, 135537, 135539, 135542, 135557, 135597, 135628, 135640, 135683, 135719, 135724, 135734, 135737, 135743, 135744, 135789, 135791, 135794, 135911, 135912, 135917, 135932, 135943, 135997, 136005, 136022, 136024, 136029, 136042, 136061, 136070, 136078, 136089, 136095, 136106, 136133, 136145, 136147, 136159, 136169, 136197, 136218, 136233, 136240, 136276, 136279, 136280, 136291, 136302, 136306, 136309, 136328, 136344, 136347, 136357, 136360, 136363, 136376, 136406, 136434, 136450, 136456, 136484, 136497, 136498, 136512, 136514, 136515, 136522, 136535, 136569, 136573, 136584, 136606, 136609, 136631, 136646, 136647, 136649, 136653, 136654, 136662, 136684, 136694, 136701, 136714, 136723, 136725, 136728, 136733, 136737, 136759, 136763, 136816, 136819, 136820, 136824, 136843, 136851, 136853, 136855, 136862, 136878, 136892, 136896, 136909, 136913, 136920, 136928, 136953, 136956, 136961, 136976, 136993, 136996, 137005, 137030, 137035, 137056, 137066, 137073, 137080, 137098, 137099, 137118, 137124, 137137, 137141, 137148, 137153, 137161, 137175, 137189, 137200, 137201, 137213, 137217, 137231, 137267, 137294, 137308, 137315, 137336, 137372, 137375, 137377, 137379, 137389, 137397, 137407, 137414, 137424, 137425, 137427, 137434, 137440, 137462, 137473, 137474, 137492, 137493, 137494, 137503, 137508, 137510, 137523, 137532, 137551, 137560, 137568, 137569, 137572, 137575, 137580, 137585, 137589, 137608, 137611, 137656, 137659, 137661, 137666, 137672, 137682, 137684, 137693, 137701, 137722, 137731, 137745, 137763, 137767, 137776, 137778, 137792, 137797, 137802, 137804, 137806, 137807, 137823, 137834, 137842, 137844, 137846, 137849, 137874, 137902, 137905, 137910, 137912, 137918, 137932, 137942, 137945, 137948, 137976, 137978, 137988, 138009, 138015, 138019, 138021, 138022, 138025, 138027, 138033, 138050, 138060, 138063, 138074, 138096, 138106, 138107, 138115, 138117, 138121, 138143, 138146, 138155, 138160, 138172, 138180, 138214, 138219, 138226, 138236, 138237, 138238, 138239, 138247, 138249, 138259, 138269, 138291, 138294, 138297, 138321, 138327, 138335, 138342, 138384, 138405, 138415, 138421, 138441, 138464, 138466, 138467, 138478, 138483, 138493, 138499, 138502, 138511, 138524, 138539, 138560, 138565, 138569, 138571, 138590, 138593, 138594, 138600, 138622, 138624, 138632, 138656, 138660, 138677, 138679, 138687, 138702, 138703, 138708, 138713, 138729, 138741, 138750, 138769, 138777, 138786, 138795, 138829, 138832, 138837, 138840, 138848, 138853, 138855, 138865, 138873, 138902, 138910, 138918, 138921, 138925, 138926, 138929, 138946, 138947, 138954, 138956, 138958, 138965, 138966, 138968, 138977, 138981, 138992, 138997, 138998, 139002, 139009, 139010, 139013, 139020, 139026, 139028, 139037, 139039, 139040, 139056, 139058, 139059, 139064, 139071, 139077, 139091, 139093, 139095, 139100, 139106, 139114, 139115, 139123, 139128, 139134, 139146, 139149, 139168, 139170, 139180, 139186, 139190, 139203, 139205, 139206, 139209, 139212, 139215, 139216, 139218, 139222, 139233, 139239, 139246, 139249, 139257, 139267, 139274, 139288, 139290, 139292, 139298, 139306, 139309, 139314, 139315, 139323, 139353, 139354, 139356, 139360, 139370, 139371, 139381, 139383, 139399, 139407, 139408, 139411, 139412, 139414, 139419, 139426, 139428, 139440, 139449, 139452, 139456, 139460, 139463, 139470, 139484, 139493, 139499, 139500, 139501, 139507, 139514, 139519, 139533, 139536, 139541, 139544, 139545, 139556, 139567, 139587, 139588, 139595, 139603, 139609, 139614, 139618, 139620, 139629, 139630, 139639, 139643, 139648, 139650, 139651, 139652, 139666, 139673, 139674, 139676, 139680, 139693, 139697, 139705, 139709, 139713, 139714, 139715, 139717, 139719, 139721, 139723, 139724, 139734, 139735, 139736, 139737, 139739, 139742, 139749, 139751, 139757, 139766, 139778, 139779, 139783, 139794, 139797, 139804, 139820, 139830, 139833, 139835, 139839, 139851, 139853, 139858, 139865, 139872, 139876, 139877, 139878, 139883, 139886, 139888, 139890, 139891, 139901, 139903, 139907, 139909, 139912, 139916, 139921, 139923, 139925, 139932, 139933, 139938, 139942, 139943, 139945, 139947, 139952, 139953, 139962, 139971, 139973, 139976, 139977, 139981, 139984, 139986, 140002, 140005, 140006, 140008, 140013, 140014, 140017, 140018, 140021, 140023, 140032, 140060, 140062, 140064, 140066, 140071, 140073, 140074, 140075, 140085, 140088, 140089, 140101, 140103, 140106, 140110, 140111, 140112, 140118, 140119, 140121, 140125, 140126, 140137, 140138, 140141, 140142, 140149, 140153, 140159, 140160, 140161, 140163, 140164, 140167, 140176, 140180, 140182, 140183, 140185, 140189, 140190, 140191, 140194, 140195, 140199, 140204, 140205, 140212, 140213, 140215, 140216, 140218, 140219, 140220, 140224, 140227, 140236, 140237, 140239, 140242, 140246, 140250, 140255, 140258, 140259, 140266, 140267, 140270, 140280, 140281, 140291, 140294, 140316, 140324, 140326, 140329, 140331, 140339, 140342, 140344, 140346, 140348, 140350, 140352, 140354, 140361, 140367, 140368, 140369, 140394, 140395, 140396, 140397, 140398, 140403, 140413, 140414, 140415, 140417, 140421, 140422, 140423, 140428, 140429, 140430, 140438, 140439, 140440, 140445, 140448, 140461, 140465, 140466, 140467, 140468, 140469, 140470, 140472, 140473, 140475, 140476, 140477, 140478, 140480, 140483, 140485, 140488, 140490, 140502, 140513, 140521, 140527, 140533, 140536, 140539, 140551, 140582, 140584, 140588, 140601, 140604, 140609, 140610, 140616, 140622, 140644, 140651, 140676, 140680, 140685, 140693, 140696, 140698, 140700, 140705, 140707, 140711, 140712, 140714, 140723, 140727, 140731, 140752, 140762, 140764, 140768, 140769, 140776, 140777, 140787, 140795, 140797, 140804, 140811, 140816, 140822, 140823, 140826, 140830, 140837, 140850, 140851, 140855, 140879, 140880, 140886, 140891, 140893, 140911, 140915, 140919, 140925, 140937, 140943, 140953, 140980, 140995, 140999, 141000, 141002, 141003, 141004, 141005, 141007, 141013, 141016, 141018, 141020, 141022, 141038, 141049, 141061, 141065, 141074, 141076, 141093, 141098, 141106, 141107, 141123, 141137, 141142, 141143, 141156, 141159, 141162, 141164, 141165, 141175, 141180, 141202, 141203, 141209, 141213, 141217, 141218, 141220, 141223, 141224, 141226, 141227, 141228, 141229, 141233, 141234, 141237, 141246, 141257, 141258, 141260, 141265, 141266, 141268, 141280, 141281, 141285, 141308, 141312, 141315, 141318, 141320, 141323, 141324, 141332, 141333, 141351, 141369, 141385, 141393, 141399, 141423, 141426, 141427, 141429, 141434, 141437, 141438, 141441, 141442, 141444, 141446, 141447, 141448, 141451, 141456, 141458, 141459, 141464, 141465, 141466, 141468, 141469, 141470, 141471, 141476, 141481, 141482, 141485, 141488, 141489, 141490, 141496, 141499, 141506, 141508, 141511, 141512, 141520, 141524, 141530, 141538, 141539, 141545, 141546, 141549, 141551, 141553, 141555, 141560, 141567, 141571, 141576, 141582, 141584, 141586, 141590, 141602, 141603, 141604, 141610, 141611, 141612, 141622, 141626, 141627, 141632, 141634, 141638, 141641, 141643, 141649, 141653, 141656, 141660, 141664, 141665, 141667, 141668, 141672, 141676, 141677, 141679, 141683, 141687, 141688, 141691, 141697, 141700, 141708, 141730, 141733, 141738, 141740, 141742, 141744, 141753, 141761, 141763, 141764, 141765, 141766, 141768, 141769, 141782, 141783, 141785, 141786, 141789, 141790, 141792, 141795, 141799, 141800, 141802, 141806, 141807, 141811, 141813, 141814, 141817, 141820, 141829, 141842, 141847, 141848, 141854, 141860, 141872, 141876, 141879, 141890, 141891, 141893, 141899, 141907, 141911, 141915, 141918, 141920, 141926, 141928, 141934, 141935, 141936, 141941, 141947, 141949, 141951, 141953, 141955, 141958, 141961, 141963, 141965, 141967, 141970, 141975, 141978, 141981, 141984, 141985, 141986, 141993, 141997, 141998, 142000, 142006, 142008, 142009, 142013, 142015, 142017, 142022, 142025, 142039, 142050, 142052, 142060, 142068, 142073, 142074, 142075, 142077, 142083, 142084, 142087, 142094, 142103, 142105, 142106, 142111, 142127, 142128, 142152, 142169, 142174, 142175, 142189, 142198, 142200, 142203, 142224, 142237, 142242, 142243, 142249, 142259, 142262, 142280, 142283, 142284, 142291, 142302, 142306, 142317, 142324, 142331, 142338, 142341, 142342, 142347, 142352, 142361, 142366, 142367, 142371, 142373, 142378, 142379, 142401, 142409, 142416, 142429, 142431, 142438, 142441, 142451, 142453, 142454, 142455, 142460, 142467, 142473, 142478, 142481, 142490, 142492, 142498, 142500, 142502, 142511, 142513, 142532, 142535, 142545, 142551, 142573, 142592, 142595, 142606, 142613, 142627, 142628, 142629, 142632, 142637, 142642, 142648, 142663, 142671, 142680, 142687, 142692, 142695, 142702, 142706, 142711, 142715, 142721, 142723, 142725, 142726, 142731, 142739, 142742, 142758, 142771, 142774, 142777, 142788, 142789, 142791, 142795, 142801, 142810, 142830, 142851, 142854, 142863, 142877, 142888, 142904, 142908, 142916, 142930, 142941, 142944, 142953, 142955, 142961, 142965, 142972, 142975, 142976, 142979, 142984, 142989, 142992, 142993, 142995, 143001, 143013, 143015, 143016, 143017, 143022, 143026, 143033, 143034, 143058, 143061, 143066, 143068, 143069, 143070, 143072, 143074, 143077, 143089, 143093, 143094, 143104, 143105, 143113, 143116, 143117, 143121, 143158, 143169, 143178, 143183, 143229, 143231, 143250, 143263, 143265, 143270, 143276, 143287, 143288, 143290, 143298, 143299, 143300, 143309, 143318, 143331, 143338, 143349, 143362, 143378, 143382, 143392, 143402, 143415, 143429, 143453, 143495, 143525, 143529, 143530, 143540, 143546, 143547, 143552, 143557, 143572, 143580, 143604, 143612, 143641, 143644, 143651, 143665, 143673, 143685, 143736, 143744, 143762, 143778, 143780, 143783, 143786, 143803, 143805, 143809, 143813, 143821, 143824, 143836, 143839, 143866, 143870, 143875, 143883, 143884, 143913, 143931, 143943, 143963, 143969, 143979, 143992, 144013, 144015, 144038, 144057, 144080, 144105, 144106, 144128, 144140, 144172, 144176, 144179, 144185, 144203, 144205, 144210, 144224, 144253, 144256, 144259, 144270, 144281, 144285, 144295, 144307, 144316, 144329, 144337, 144344, 144353, 144369, 144376, 144387, 144411, 144460, 144474, 144490, 144500, 144503, 144511, 144514, 144526, 144543, 144550, 144554, 144557, 144579, 144580, 144586, 144597, 144614, 144633, 144661, 144666, 144680, 144684, 144712, 144720, 144722, 144756, 144774, 144776, 144799, 144800, 144807, 144820, 144830, 144840, 144849, 144852, 144880, 144883, 144894, 144923, 144924, 144945, 144946, 144989, 145005, 145019, 145025, 145029, 145041, 145061, 145090, 145096, 145101, 145115, 145124, 145135, 145156, 145223, 145225, 145253, 145254, 145259, 145266, 145277, 145280, 145285, 145319, 145348, 145349, 145355, 145364, 145369, 145384, 145396, 145406, 145410, 145411, 145421, 145461, 145472, 145475, 145483, 145504, 145507, 145530, 145557, 145562, 145564, 145570, 145580, 145582, 145606, 145613, 145618, 145624, 145635, 145636, 145663, 145678, 145680, 145683, 145689, 145705, 145707, 145722, 145736, 145761, 145771, 145782, 145795, 145817, 145869, 145873, 145886, 145888, 145892, 145900, 145916, 145929, 145936, 145947, 145948, 145958, 145970, 145979, 145980, 145982, 146000, 146048, 146061, 146084, 146086, 146092, 146104, 146109, 146119, 146131, 146150, 146152, 146155, 146157, 146180, 146181, 146183, 146210, 146222, 146224, 146232, 146234, 146239, 146241, 146268, 146274, 146282, 146290, 146294, 146312, 146313, 146314, 146326, 146331, 146340, 146352, 146360, 146365, 146368, 146375, 146384, 146397, 146402, 146412, 146422, 146425, 146427, 146433, 146439, 146447, 146453, 146461, 146484, 146489, 146512, 146521, 146532, 146544, 146559, 146561, 146562, 146564, 146573, 146574, 146606, 146611, 146614, 146619, 146630, 146637, 146644, 146646, 146665, 146692, 146695, 146703, 146709, 146736, 146743, 146757, 146771, 146772, 146785, 146818, 146824, 146828, 146841, 146843, 146851, 146852, 146866, 146868, 146883, 146911, 146918, 146920, 146928, 146977, 146982, 146985, 146993, 147001, 147009, 147017, 147022, 147024, 147076, 147077, 147087, 147089, 147092, 147105, 147106, 147130, 147131, 147137, 147144, 147147, 147156, 147168, 147182, 147212, 147214, 147217, 147226, 147234, 147247, 147257, 147258, 147263, 147272, 147275, 147276, 147291, 147293, 147303, 147313, 147316, 147319, 147323, 147329, 147336, 147338, 147339, 147350, 147352, 147357, 147358, 147364, 147383, 147386, 147391, 147392, 147403, 147433, 147472, 147486, 147493, 147495, 147496, 147545, 147546, 147549, 147554, 147581, 147587, 147605, 147624, 147630, 147632, 147645, 147649, 147656, 147658, 147673, 147679, 147682, 147687, 147693, 147694, 147717, 147718, 147723, 147736, 147738, 147752, 147756, 147777, 147781, 147794, 147811, 147819, 147825, 147826, 147827, 147840, 147845, 147847, 147852, 147856, 147861, 147869, 147875, 147880, 147886, 147895, 147917, 147926, 147929, 147930, 147932, 147939, 147940, 147948, 147952, 147958, 147959, 147967, 147969, 147974, 147975, 147976, 147981, 147987, 147992, 147998, 148016, 148020, 148028, 148049, 148051, 148052, 148070, 148081, 148083, 148087, 148102, 148103, 148105, 148108, 148110, 148115, 148143, 148147, 148153, 148170, 148171, 148189, 148200, 148207, 148210, 148211, 148215, 148219, 148223, 148234, 148253, 148256, 148260, 148268, 148274, 148276, 148295, 148296, 148304, 148311, 148316, 148318, 148339, 148354, 148362, 148363, 148364, 148365, 148380, 148389, 148391, 148395, 148405, 148409, 148418, 148423, 148426, 148428, 148436, 148441, 148443, 148446, 148449, 148453, 148455, 148465, 148469, 148474, 148476, 148481, 148488, 148489, 148490, 148491, 148494, 148495, 148505, 148506, 148509, 148513, 148514, 148518, 148523, 148525, 148527, 148528, 148537, 148549, 148550, 148553, 148557, 148559, 148569, 148572, 148577, 148592, 148595, 148596, 148602, 148603, 148610, 148613, 148614, 148615, 148621, 148622, 148626, 148631, 148633, 148637, 148639, 148642, 148643, 148644, 148647, 148660, 148663, 148664, 148668, 148673, 148674, 148675, 148682, 148683, 148687, 148696, 148698, 148700, 148705, 148707, 148710, 148712, 148713, 148714, 148715, 148716, 148717, 148719, 148721, 148722, 148733, 148738, 148739, 148746, 148749, 148750, 148751, 148753, 148757, 148759, 148765, 148769, 148770, 148781, 148783, 148785, 148796, 148830, 148832, 148835, 148840, 148853, 148862, 148864, 148865, 148868, 148872, 148885, 148888, 148889, 148890, 148895, 148897, 148899, 148916, 148923, 148924, 148926, 148932, 148935, 148937, 148940, 148942, 148943, 148946, 148947, 148948, 148949, 148952, 148957, 148958, 148962, 148963, 148965, 148967, 148970, 148972, 148976, 148980, 148981, 148987, 148989, 148992, 148995, 148998, 149000, 149001, 149002, 149003, 149004, 149009, 149010, 149012, 149015, 149016, 149018, 149020, 149027, 149038, 149047, 149084, 149118, 149119, 149126, 149129, 149130, 149131, 149134, 149136, 149138, 149140, 149142, 149149, 149152, 149157, 149160, 149161, 149163, 149166, 149177, 149180, 149182, 149183, 149184, 149186, 149189, 149194, 149198, 149201, 149203, 149205, 149208, 149212, 149221, 149224, 149225, 149245, 149251, 149252, 149256, 149270, 149274, 149289, 149290, 149297, 149299, 149306, 149313, 149314, 149315, 149329, 149340, 149345, 149346, 149349, 149354, 149365, 149370, 149372, 149386, 149396, 149407, 149412, 149415, 149424, 149431, 149438, 149440, 149452, 149465, 149468, 149475, 149476, 149487, 149489, 149490, 149496, 149503, 149506, 149529, 149531, 149540, 149550, 149551, 149555, 149569, 149576, 149592, 149596, 149603, 149604, 149609, 149611, 149614, 149617, 149622, 149623, 149630, 149643, 149655, 149656, 149657, 149680, 149703, 149718, 149747, 149764, 149784, 149787, 149791, 149797, 149801, 149807, 149814, 149824, 149830, 149832, 149833, 149841, 149843, 149846, 149850, 149859, 149863, 149864, 149865, 149886, 149888, 149890, 149894, 149895, 149899, 149903, 149904, 149914, 149916, 149921, 149924, 149930, 149936, 149949, 149952, 149966, 149967, 149971, 149975, 149983, 149984, 149995, 150000, 150016, 150034, 150048, 150055, 150065, 150067, 150071, 150072, 150083, 150085, 150087, 150091, 150095, 150096, 150098, 150099, 150106, 150109, 150111, 150112, 150113, 150118, 150120, 150122, 150124, 150126, 150128, 150129, 150134, 150139, 150140, 150143, 150147, 150149, 150161, 150162, 150163, 150164, 150169, 150170, 150175, 150178, 150179, 150182, 150183, 150184, 150186, 150191, 150192, 150194, 150197, 150198, 150202, 150215, 150216, 150221, 150222, 150225, 150226, 150231, 150234, 150237, 150238, 150241, 150246, 150265, 150269, 150270, 150271, 150278, 150284, 150290, 150295, 150298, 150299, 150301, 150311, 150315, 150327, 150334, 150344, 150349, 150352, 150360, 150369, 150371, 150373, 150379, 150380, 150385, 150386, 150388, 150396, 150397, 150401, 150404, 150405, 150407, 150408, 150413, 150415, 150418, 150419, 150422, 150423, 150426, 150429, 150430, 150432, 150433, 150434, 150437, 150439, 150442, 150445, 150447, 150449, 150451, 150452, 150453, 150456, 150462, 150464, 150466, 150468, 150469, 150470, 150473, 150476, 150479, 150481, 150482, 150483, 150486, 150489, 150494, 150498, 150500, 150506, 150507, 150514, 150518, 150519, 150520, 150522, 150534, 150556, 150558, 150564, 150568, 150570, 150571, 150576, 150587, 150589, 150594, 150596, 150599, 150601, 150606, 150610, 150616, 150617, 150618, 150619, 150625, 150627, 150629, 150637, 150640, 150644, 150648, 150651, 150652, 150653, 150657, 150661, 150672, 150673, 150674, 150680, 150682, 150687, 150688, 150689, 150693, 150694, 150701, 150704, 150715, 150720, 150725, 150729, 150749, 150756, 150770, 150796, 150802, 150809, 150819, 150821, 150825, 150834, 150838, 150856, 150861, 150863, 150866, 150867, 150871, 150884, 150885, 150887, 150902, 150913, 150925, 150927, 150949, 150953, 150955, 150959, 150980, 150981, 150990, 150994, 150995, 150996, 150997, 151002, 151003, 151013, 151017, 151023, 151034, 151038, 151055, 151062, 151077, 151079, 151082, 151084, 151097, 151114, 151125, 151130, 151156, 151170, 151176, 151186, 151190, 151208, 151221, 151242, 151257, 151259, 151264, 151290, 151302, 151307, 151310, 151314, 151321, 151332, 151346, 151348, 151349, 151351, 151353, 151365, 151368, 151378, 151379, 151381, 151383, 151397, 151410, 151414, 151416, 151422, 151428, 151433, 151437, 151459, 151474, 151493, 151496, 151540, 151545, 151566, 151570, 151577, 151579, 151580, 151582, 151588, 151595, 151610, 151623, 151627, 151633, 151642, 151646, 151651, 151658, 151670, 151675, 151676, 151677, 151684, 151691, 151698, 151701, 151702, 151711, 151719, 151722, 151725, 151728, 151739, 151751, 151760, 151764, 151780, 151797, 151798, 151814, 151831, 151838, 151856, 151859, 151864, 151872, 151874, 151895, 151920, 151928, 151929, 151940, 151943, 151955, 151957, 151962, 151967, 151970, 151971, 151972, 151976, 151977, 151985, 151987, 151996, 151997, 152018, 152020, 152025, 152036, 152057, 152065, 152070, 152073, 152077, 152088, 152138, 152139, 152154, 152167, 152173, 152176, 152220, 152233, 152236, 152239, 152251, 152256, 152259, 152266, 152269, 152270, 152271, 152272, 152280, 152305, 152309, 152310, 152318, 152324, 152341, 152343, 152346, 152347, 152361, 152377, 152424, 152435, 152444, 152448, 152449, 152450, 152453, 152461, 152464, 152485, 152492, 152501, 152504, 152506, 152512, 152525, 152529, 152532, 152541, 152551, 152554, 152561, 152574, 152576, 152595, 152618, 152627, 152640, 152642, 152664, 152670, 152674, 152687, 152693, 152696, 152714, 152735, 152768, 152772, 152777, 152795, 152803, 152813, 152822, 152827, 152855, 152896, 152898, 152910, 152922, 152933, 152971, 152977, 152980, 152986, 152998, 153006, 153033, 153035, 153046, 153054, 153060, 153068, 153114, 153145, 153160, 153172, 153174, 153183, 153185, 153211, 153221, 153260, 153266, 153270, 153271, 153273, 153292, 153295, 153305, 153315, 153339, 153346, 153360, 153391, 153396, 153407, 153424, 153458, 153459, 153464, 153470, 153485, 153513, 153516, 153523, 153531, 153574, 153575, 153584, 153590, 153593, 153596, 153604, 153629, 153653, 153657, 153658, 153668, 153675, 153694, 153697, 153700, 153701, 153707, 153708, 153724, 153736, 153738, 153739, 153747, 153751, 153753, 153756, 153768, 153771, 153781, 153782, 153784, 153785, 153804, 153805, 153808, 153827, 153834, 153837, 153848, 153852, 153855, 153871, 153880, 153886, 153913, 153929, 153962, 153964, 153970, 153981, 153991, 153993, 153995, 154000, 154006, 154023, 154028, 154046, 154051, 154058, 154059, 154060, 154092, 154102, 154115, 154124, 154134, 154148, 154151, 154162, 154163, 154167, 154172, 154175, 154203, 154213, 154215, 154229, 154240, 154242, 154252, 154268, 154271, 154272, 154300, 154304, 154306, 154332, 154352, 154357, 154363, 154389, 154390, 154391, 154403, 154415, 154426, 154440, 154441, 154446, 154483, 154502, 154511, 154517, 154534, 154549, 154563, 154569, 154598, 154599, 154602, 154618, 154633, 154646, 154651, 154670, 154675, 154676, 154679, 154692, 154723, 154735, 154753, 154773, 154778, 154785, 154793, 154797, 154813, 154825, 154826, 154842, 154843, 154845, 154853, 154857, 154861, 154864, 154876, 154880, 154882, 154911, 154917, 154939, 154940, 154972, 154974, 154979, 154993, 154996, 154998, 155004, 155007, 155008, 155024, 155030, 155031, 155059, 155061, 155062, 155071, 155081, 155083, 155088, 155092, 155098, 155128, 155149, 155150, 155171, 155172, 155181, 155185, 155188, 155197, 155228, 155238, 155275, 155278, 155282, 155298, 155310, 155312, 155316, 155333, 155344, 155349, 155371, 155382, 155385, 155388, 155397, 155406, 155410, 155418, 155446, 155451, 155453, 155459, 155463, 155467, 155468, 155471, 155474, 155477, 155515, 155516, 155522, 155533, 155553, 155554, 155556, 155572, 155577, 155591, 155596, 155604, 155614, 155620, 155634, 155640, 155644, 155652, 155675, 155676, 155680, 155683, 155700, 155719, 155724, 155738, 155742, 155751, 155753, 155761, 155768, 155789, 155796, 155800, 155808, 155814, 155817, 155822, 155847, 155859, 155861, 155864, 155873, 155876, 155893, 155945, 155962, 155990, 156013, 156022, 156028, 156034, 156058, 156063, 156069, 156073, 156088, 156094, 156096, 156107, 156122, 156129, 156130, 156131, 156155, 156163, 156184, 156196, 156208, 156219, 156220, 156238, 156241, 156242, 156245, 156247, 156260, 156266, 156272, 156279, 156298, 156301, 156307, 156313, 156330, 156335, 156349, 156361, 156365, 156373, 156376, 156378, 156382, 156389, 156391, 156393, 156406, 156411, 156414, 156422, 156434, 156439, 156443, 156451, 156453, 156460, 156461, 156463, 156472, 156475, 156476, 156484, 156498, 156501, 156505, 156512, 156523, 156525, 156531, 156546, 156547, 156571, 156572, 156585, 156590, 156594, 156600, 156602, 156607, 156618, 156624, 156629, 156632, 156653, 156655, 156658, 156660, 156661, 156664, 156676, 156680, 156685, 156688, 156690, 156696, 156707, 156708, 156710, 156716, 156717, 156720, 156731, 156744, 156751, 156752, 156779, 156781, 156786, 156793, 156796, 156798, 156803, 156811, 156814, 156825, 156827, 156829, 156830, 156838, 156847, 156848, 156850, 156851, 156864, 156867, 156868, 156870, 156878, 156881, 156897, 156909, 156911, 156925, 156927, 156936, 156938, 156940, 156976, 156977, 156991, 157000, 157005, 157012, 157014, 157018, 157019, 157030, 157031, 157034, 157037, 157042, 157046, 157047, 157057, 157058, 157064, 157070, 157076, 157090, 157091, 157097, 157100, 157110, 157111, 157112, 157116, 157117, 157122, 157123, 157140, 157142, 157143, 157151, 157152, 157164, 157174, 157175, 157196, 157200, 157202, 157203, 157205, 157210, 157212, 157213, 157214, 157218, 157230, 157236, 157237, 157238, 157241, 157242, 157246, 157258, 157263, 157266, 157270, 157280, 157288, 157289, 157290, 157292, 157401, 157406, 157409, 157411, 157415, 157420, 157423, 157425, 157426, 157428, 157440, 157447, 157448, 157453, 157456, 157464, 157466, 157487, 157497, 157498, 157501, 157502, 157504, 157505, 157508, 157513, 157515, 157516, 157517, 157518, 157520, 157521, 157526, 157528, 157529, 157530, 157533, 157539, 157540, 157541, 157542, 157544, 157545, 157546, 157549, 157550, 157551, 157553, 157555, 157556, 157557, 157559, 157561, 157562, 157564, 157575, 157577, 157579, 157580, 157581, 157582, 157585, 157589, 157591, 157594, 157607, 157611, 157622, 157629, 157642, 157643, 157653, 157671, 157682, 157702, 157705, 157706, 157711, 157713, 157718, 157719, 157723, 157724, 157725, 157732, 157733, 157734, 157735, 157743, 157745, 157748, 157749, 157750, 157755, 157756, 157757, 157758, 157767, 157769, 157773, 157777, 157779, 157788, 157789, 157791, 157793, 157827, 157830, 157838, 157850, 157851, 157853, 157859, 157892, 157910, 157923, 157928, 157930, 157932, 157939, 157947, 157952, 157964, 157977, 157986, 157991, 157992, 157995, 157997, 158004, 158007, 158025, 158033, 158034, 158039, 158044, 158047, 158054, 158055, 158084, 158085, 158101, 158105, 158123, 158124, 158132, 158137, 158150, 158151, 158152, 158155, 158156, 158159, 158173, 158179, 158185, 158193, 158236, 158241, 158245, 158249, 158254, 158257, 158264, 158275, 158283, 158291, 158300, 158302, 158304, 158305, 158307, 158319, 158328, 158333, 158334, 158336, 158339, 158341, 158346, 158347, 158350, 158357, 158358, 158363, 158365, 158369, 158370, 158377, 158384, 158393, 158396, 158404, 158410, 158412, 158418, 158422, 158424, 158430, 158431, 158435, 158442, 158447, 158449, 158451, 158458, 158459, 158461, 158462, 158465, 158470, 158478, 158490, 158507, 158516, 158517, 158519, 158522, 158529, 158555, 158571, 158590, 158595, 158597, 158598, 158603, 158604, 158605, 158607, 158610, 158616, 158618, 158619, 158620, 158621, 158623, 158626, 158627, 158633, 158636, 158637, 158638, 158639, 158640, 158641, 158644, 158647, 158649, 158650, 158652, 158654, 158655, 158656, 158658, 158659, 158660, 158661, 158665, 158667, 158673, 158678, 158679, 158681, 158682, 158685, 158687, 158690, 158696, 158716, 158724, 158725, 158730, 158747, 158749, 158752, 158755, 158757, 158762, 158764, 158765, 158768, 158769, 158771, 158776, 158777, 158781, 158791, 158794, 158795, 158806, 158808, 158813, 158823, 158835, 158839, 158846, 158852, 158855, 158858, 158860, 158865, 158866, 158867, 158873, 158875, 158878, 158882, 158887, 158896, 158897, 158898, 158913, 158915, 158916, 158917, 158923, 158930, 158933, 158940, 158941, 158948, 158949, 158952, 158954, 158955, 158957, 158962, 158965, 158966, 158967, 158972, 158981, 158982, 158983, 158984, 158985, 158987, 158990, 158993, 158996, 158999, 159003, 159012, 159015, 159017, 159018, 159030, 159032, 159037, 159046, 159064, 159069, 159073, 159075, 159077, 159078, 159079, 159080, 159082, 159093, 159095, 159098, 159101, 159102, 159106, 159107, 159111, 159112, 159113, 159120, 159121, 159122, 159123, 159124, 159126, 159133, 159138, 159141, 159142, 159146, 159148, 159149, 159150, 159152, 159160, 159161, 159165, 159168, 159174, 159175, 159177, 159186, 159187, 159188, 159190, 159191, 159200, 159205, 159217, 159220, 159233, 159238, 159242, 159245, 159246, 159252, 159257, 159274, 159276, 159280, 159289, 159293, 159294, 159298, 159300, 159336, 159343, 159345, 159348, 159359, 159362, 159378, 159381, 159384, 159390, 159411, 159413, 159417, 159423, 159428, 159436, 159464, 159483, 159497, 159511, 159521, 159530, 159531, 159534, 159541, 159546, 159547, 159550, 159552, 159555, 159571, 159573, 159575, 159576, 159580, 159583, 159586, 159588, 159589, 159593, 159597, 159600, 159608, 159625, 159631, 159633, 159649, 159650, 159672, 159673, 159679, 159680, 159684, 159688, 159712, 159716, 159728, 159737, 159754, 159755, 159759, 159765, 159766, 159774, 159787, 159813, 159815, 159816, 159819, 159822, 159823, 159831, 159834, 159836, 159839, 159851, 159859, 159876, 159878, 159880, 159881, 159887, 159895, 159901, 159907, 159909, 159911, 159912, 159918, 159922, 159938, 159941, 159949, 159957, 159959, 159960, 159974, 159976, 159978, 159993, 160013, 160014, 160017, 160019, 160028, 160045, 160053, 160054, 160058, 160063, 160096, 160101, 160108, 160110, 160117, 160120, 160121, 160157, 160172, 160191, 160194, 160206, 160208, 160214, 160216, 160220, 160227, 160230, 160232, 160237, 160259, 160261, 160283, 160284, 160294, 160309, 160332, 160337, 160349, 160351, 160353, 160357, 160366, 160380, 160384, 160387, 160407, 160418, 160452, 160456, 160461, 160469, 160470, 160491, 160499, 160501, 160520, 160525, 160544, 160558, 160581, 160589, 160594, 160596, 160617, 160659, 160661, 160662, 160681, 160682, 160696, 160704, 160707, 160711, 160739, 160786, 160791, 160799, 160804, 160813, 160818, 160852, 160858, 160859, 160903, 160911, 160912, 160913, 160916, 160920, 160928, 160935, 160948, 160965, 160968, 160969, 160974, 160986, 160987, 160989, 161022, 161024, 161065, 161066, 161076, 161084, 161090, 161093, 161098, 161137, 161152, 161172, 161176, 161208, 161222, 161240, 161246, 161248, 161260, 161270, 161302, 161303, 161307, 161310, 161316, 161317, 161321, 161322, 161323, 161338, 161344, 161349, 161352, 161355, 161359, 161364, 161369, 161407, 161409, 161411, 161413, 161432, 161447, 161476, 161477, 161479, 161481, 161482, 161484, 161486, 161505, 161519, 161544, 161553, 161559, 161589, 161592, 161595, 161623, 161628, 161665, 161704, 161707, 161710, 161712, 161739, 161774, 161787, 161794, 161807, 161815, 161841, 161861, 161864, 161883, 161889, 161898, 161905, 161913, 161928, 161945, 161949, 161951, 161952, 161958, 161966, 161973, 161980, 162001, 162004, 162018, 162020, 162021, 162075, 162077, 162107, 162119, 162132, 162139, 162155, 162178, 162187, 162190, 162191, 162208, 162217, 162219, 162226, 162243, 162259, 162261, 162264, 162279, 162284, 162318, 162324, 162333, 162342, 162358, 162407, 162414, 162417, 162429, 162432, 162450, 162473, 162493, 162498, 162502, 162507, 162525, 162578, 162591, 162598, 162617, 162636, 162644, 162664, 162670, 162675, 162676, 162682, 162688, 162694, 162709, 162735, 162767, 162771, 162799, 162805, 162811, 162812, 162832, 162851, 162875, 162880, 162888, 162920, 162927, 162930, 162937, 162939, 162987, 162990, 163013, 163021, 163023, 163026, 163034, 163055, 163073, 163077, 163079, 163106, 163115, 163140, 163197, 163210, 163212, 163219, 163232, 163238, 163266, 163279, 163281, 163282, 163288, 163300, 163306, 163308, 163319, 163335, 163339, 163344, 163345, 163347, 163351, 163362, 163365, 163404, 163414, 163419, 163421, 163427, 163428, 163433, 163440, 163465, 163468, 163471, 163491, 163496, 163508, 163512, 163527, 163539, 163540, 163542, 163549, 163552, 163554, 163569, 163570, 163572, 163576, 163582, 163589, 163594, 163602, 163607, 163613, 163647, 163651, 163660, 163665, 163670, 163677, 163686, 163688, 163695, 163700, 163716, 163722, 163738, 163748, 163750, 163766, 163769, 163793, 163805, 163806, 163828, 163835, 163841, 163858, 163861, 163869, 163887, 163895, 163906, 163909, 163914, 163943, 163949, 163973, 163980, 163981, 163994, 163995, 164004, 164010, 164016, 164028, 164036, 164043, 164049, 164052, 164064, 164065, 164070, 164083, 164109, 164122, 164123, 164132, 164153, 164160, 164164, 164171, 164175, 164180, 164185, 164186, 164189, 164211, 164239, 164244, 164256, 164269, 164275, 164277, 164279, 164280, 164281, 164282, 164283, 164287, 164293, 164302, 164309, 164318, 164326, 164334, 164347, 164360, 164368, 164374, 164378, 164397, 164398, 164406, 164408, 164409, 164420, 164425, 164426, 164435, 164446, 164449, 164458, 164461, 164462, 164466, 164469, 164480, 164483, 164488, 164489, 164520, 164525, 164527, 164535, 164538, 164574, 164577, 164600, 164618, 164620, 164630, 164632, 164641, 164643, 164645, 164646, 164649, 164652, 164656, 164663, 164674, 164690, 164692, 164702, 164735, 164745, 164751, 164755, 164783, 164789, 164797, 164813, 164814, 164825, 164835, 164839, 164840, 164853, 164863, 164879, 164884, 164895, 164902, 164907, 164931, 164933, 164958, 164962, 164965, 164978, 164979, 164981, 164988, 164990, 165023, 165034, 165040, 165047, 165049, 165050, 165057, 165075, 165080, 165081, 165097, 165099, 165114, 165116, 165118, 165121, 165128, 165137, 165146, 165154, 165172, 165176, 165184, 165185, 165190, 165206, 165209, 165212, 165216, 165217, 165226, 165239, 165242, 165243, 165246, 165248, 165256, 165258, 165264, 165269, 165286, 165289, 165308, 165317, 165323, 165326, 165333, 165339, 165348, 165351, 165353, 165358, 165371, 165372, 165376, 165377, 165390, 165396, 165405, 165408, 165410, 165424, 165425, 165427, 165433, 165434, 165442, 165443, 165447, 165448, 165449, 165461, 165466, 165469, 165471, 165479, 165486, 165492, 165499, 165502, 165503, 165505, 165507, 165508, 165512, 165519, 165520, 165522, 165527, 165541, 165549, 165551, 165552, 165561, 165565, 165570, 165574, 165582, 165587, 165588, 165600, 165607, 165618, 165627, 165630, 165633, 165635, 165636, 165639, 165648, 165649, 165675, 165679, 165689, 165694, 165700, 165701, 165707, 165710, 165716, 165717, 165721, 165724, 165726, 165733, 165734, 165735, 165739, 165750, 165762, 165764, 165772, 165774, 165779, 165789, 165791, 165795, 165797, 165799, 165804, 165809, 165813, 165822, 165823, 165827, 165828, 165832, 165835, 165836, 165838, 165839, 165852, 165857, 165870, 165886, 165889, 165891, 165892, 165894, 165910, 165969, 165972, 165983, 165984, 165986, 165990, 165992, 166007, 166012, 166026, 166028, 166036, 166040, 166044, 166045, 166047, 166048, 166064, 166065, 166070, 166072, 166079, 166080, 166081, 166085, 166087, 166089, 166094, 166096, 166098, 166099, 166112, 166116, 166124, 166125, 166129, 166139, 166145, 166159, 166162, 166180, 166195, 166201, 166202, 166205, 166206, 166213, 166218, 166226, 166227, 166229, 166230, 166231, 166234, 166237, 166239, 166245, 166246, 166247, 166252, 166256, 166260, 166267, 166274, 166278, 166331, 166335, 166336, 166341, 166343, 166344, 166346, 166348, 166349, 166364, 166398, 166400, 166410, 166412, 166415, 166421, 166425, 166426, 166433, 166442, 166443, 166449, 166455, 166466, 166500, 166509, 166511, 166513, 166514, 166516, 166517, 166543, 166547, 166558, 166579, 166581, 166588, 166592, 166593, 166597, 166601, 166605, 166606, 166612, 166624, 166673, 166679, 166685, 166689, 166702, 166720, 166723, 166725, 166730, 166734, 166753, 166758, 166762, 166764, 166767, 166768, 166772, 166784, 166793, 166795, 166797, 166798, 166802, 166807, 166815, 166817, 166820, 166826, 166828, 166834, 166837, 166842, 166845, 166846, 166850, 166851, 166866, 166869, 166870, 166877, 166880, 166892, 166894, 166895, 166912, 166922, 166927, 166936, 166938, 166940, 166944, 166948, 166953, 166954, 166958, 166974, 166978, 166991, 167010, 167012, 167020, 167029, 167047, 167056, 167059, 167065, 167066, 167067, 167070, 167073, 167076, 167082, 167083, 167085, 167088, 167091, 167093, 167098, 167099, 167101, 167103, 167109, 167110, 167113, 167114, 167116, 167120, 167121, 167122, 167123, 167124, 167127, 167128, 167129, 167130, 167139, 167144, 167152, 167153, 167154, 167159, 167169, 167170, 167174, 167181, 167185, 167187, 167188, 167189, 167191, 167197, 167204, 167206, 167210, 167217, 167218, 167224, 167226, 167231, 167237, 167240, 167243, 167250, 167252, 167256, 167270, 167276, 167292, 167297, 167298, 167304, 167305, 167312, 167329, 167331, 167354, 167358, 167359, 167366, 167368, 167369, 167371, 167372, 167373, 167374, 167380, 167384, 167385, 167389, 167395, 167396, 167398, 167400, 167404, 167406, 167411, 167413, 167421, 167422, 167423, 167431, 167432, 167433, 167434, 167436, 167440, 167443, 167444, 167446, 167449, 167454, 167455, 167457, 167469, 167472, 167477, 167482, 167484, 167485, 167487, 167491, 167494, 167496, 167498, 167501, 167519, 167521, 167527, 167528, 167530, 167533, 167535, 167541, 167544, 167547, 167548, 167549, 167552, 167555, 167556, 167558, 167563, 167565, 167567, 167570, 167577, 167581, 167583, 167585, 167586, 167587, 167588, 167589, 167590, 167592, 167606, 167611, 167617, 167624, 167629, 167633, 167635, 167636, 167642, 167647, 167648, 167653, 167656, 167660, 167669, 167673, 167677, 167679, 167682, 167694, 167715, 167732, 167741, 167742, 167764, 167765, 167774, 167784, 167786, 167787, 167788, 167789, 167797, 167820, 167821, 167822, 167823, 167832, 167835, 167838, 167843, 167844, 167860, 167861, 167862, 167869, 167883, 167888, 167902, 167909, 167927, 167932, 167946, 167952, 167961, 167962, 167971, 167973, 167978, 167981, 167984, 167987, 167988, 167993, 168008, 168013, 168014, 168017, 168019, 168025, 168028, 168030, 168032, 168033, 168036, 168041, 168044, 168049, 168055, 168056, 168061, 168069, 168070, 168073, 168077, 168082, 168083, 168086, 168088, 168089, 168090, 168091, 168093, 168096, 168097, 168099, 168107, 168123, 168130, 168134, 168137, 168142, 168154, 168161, 168167, 168176, 168184, 168196, 168207, 168208, 168211, 168220, 168237, 168241, 168242, 168245, 168252, 168265, 168284, 168286, 168288, 168296, 168302, 168311, 168340, 168348, 168350, 168386, 168388, 168404, 168406, 168410, 168416, 168418, 168432, 168433, 168446, 168447, 168462, 168468, 168482, 168493, 168505, 168519, 168525, 168529, 168531, 168536, 168538, 168541, 168543, 168545, 168546, 168551, 168554, 168556, 168558, 168563, 168569, 168575, 168600, 168602, 168608, 168629, 168647, 168649, 168650, 168656, 168660, 168663, 168674, 168680, 168695, 168696, 168714, 168726, 168732, 168733, 168761, 168763, 168771, 168773, 168790, 168792, 168798, 168817, 168824, 168833, 168837, 168838, 168842, 168855, 168860, 168861, 168864, 168869, 168926, 168935, 168941, 168946, 168948, 168955, 168957, 168967, 168987, 168992, 169011, 169014, 169036, 169037, 169044, 169073, 169092, 169104, 169119, 169131, 169135, 169139, 169145, 169146, 169158, 169170, 169178, 169181, 169186, 169191, 169198, 169241, 169244, 169250, 169262, 169293, 169294, 169297, 169299, 169300, 169305, 169341, 169365, 169367, 169373, 169376, 169379, 169389, 169402, 169410, 169437, 169460, 169461, 169475, 169480, 169491, 169501, 169507, 169508, 169509, 169515, 169522, 169531, 169555, 169568, 169581, 169585, 169613, 169618, 169636, 169653, 169662, 169664, 169667, 169670, 169676, 169696, 169711, 169716, 169717, 169725, 169738, 169741, 169773, 169781, 169789, 169790, 169794, 169819, 169821, 169837, 169841, 169843, 169855, 169859, 169865, 169867, 169876, 169881, 169889, 169892, 169896, 169912, 169913, 169937, 169954, 169969, 169973, 170034, 170035, 170040, 170049, 170053, 170055, 170074, 170096, 170100, 170103, 170106, 170122, 170125, 170131, 170138, 170140, 170154, 170170, 170178, 170198, 170230, 170241, 170243, 170259, 170274, 170275, 170281, 170284, 170285, 170286, 170289, 170292, 170315, 170322, 170343, 170364, 170367, 170369, 170370, 170374, 170385, 170400, 170407, 170408, 170409, 170410, 170425, 170430, 170431, 170435, 170469, 170473, 170481, 170488, 170501, 170505, 170507, 170512, 170514, 170552, 170560, 170562, 170582, 170588, 170589, 170593, 170600, 170613, 170616, 170620, 170625, 170635, 170648, 170673, 170702, 170704, 170713, 170752, 170755, 170757, 170765, 170802, 170808, 170811, 170830, 170844, 170845, 170864, 170867, 170881, 170885, 170889, 170906, 170910, 170912, 170917, 170944, 170949, 170950, 170957, 170961, 170974, 170979, 170985, 170986, 170987, 170989, 170991, 170998, 171002, 171004, 171005, 171062, 171103, 171113, 171120, 171123, 171139, 171140, 171141, 171149, 171161, 171172, 171175, 171191, 171194, 171199, 171221, 171225, 171239, 171241, 171254, 171257, 171267, 171283, 171295, 171313, 171352, 171359, 171369, 171371, 171374, 171409, 171434, 171444, 171464, 171476, 171477, 171484, 171501, 171503, 171518, 171560, 171575, 171589, 171611, 171647, 171656, 171669, 171679, 171692, 171710, 171732, 171784, 171786, 171793, 171827, 171828, 171843, 171859, 171872, 171895, 171897, 171898, 171906, 171913, 171938, 171945, 171952, 171962, 171964, 171967, 171976, 171981, 171985, 171995, 171999, 172008, 172010, 172018, 172020, 172023, 172027, 172047, 172051, 172052, 172064, 172065, 172068, 172086, 172089, 172097, 172107, 172110, 172114, 172120, 172123, 172124, 172141, 172143, 172148, 172150, 172155, 172158, 172166, 172171, 172172, 172173, 172179, 172194, 172196, 172200, 172219, 172227, 172231, 172234, 172239, 172240, 172242, 172261, 172292, 172300, 172314, 172329, 172337, 172347, 172356, 172359, 172372, 172373, 172396, 172399, 172400, 172402, 172407, 172418, 172419, 172434, 172444, 172511, 172513, 172515, 172552, 172585, 172614, 172629, 172630, 172633, 172640, 172662, 172663, 172674, 172691, 172702, 172716, 172720, 172727, 172737, 172748, 172751, 172755, 172758, 172768, 172771, 172777, 172864, 172875, 172885, 172886, 172894, 172896, 172902, 172920, 172929, 172939, 172946, 172947, 172954, 172955, 172959, 172972, 172977, 172987, 172993, 172994, 172995, 173035, 173067, 173068, 173071, 173080, 173083, 173091, 173097, 173109, 173114, 173124, 173127, 173131, 173143, 173168, 173169, 173189, 173190, 173197, 173208, 173214, 173222, 173227, 173240, 173256, 173272, 173275, 173276, 173282, 173288, 173289, 173298, 173302, 173303, 173313, 173320, 173324, 173325, 173333, 173336, 173337, 173341, 173356, 173367, 173396, 173401, 173425, 173435, 173438, 173440, 173447, 173455, 173465, 173470, 173484, 173486, 173514, 173525, 173528, 173533, 173534, 173546, 173549, 173555, 173557, 173558, 173563, 173565, 173568, 173571, 173578, 173597, 173607, 173620, 173630, 173635, 173639, 173655, 173657, 173660, 173666, 173668, 173685, 173690, 173695, 173709, 173725, 173727, 173731, 173746, 173752, 173757, 173760, 173762, 173770, 173789, 173790, 173797, 173803, 173804, 173807, 173825, 173838, 173847, 173850, 173858, 173861, 173865, 173869, 173870, 173891, 173907, 173915, 173925, 173928, 173939, 173943, 173949, 173953, 173955, 173956, 173963, 173965, 173966, 173967, 173973, 173975, 173978, 173981, 173984, 173987, 173999, 174002, 174010, 174024, 174025, 174028, 174038, 174041, 174048, 174052, 174054, 174059, 174062, 174063, 174066, 174073, 174080, 174081, 174083, 174094, 174095, 174098, 174102, 174103, 174107, 174113, 174114, 174116, 174118, 174122, 174124, 174129, 174130, 174146, 174148, 174150, 174151, 174155, 174156, 174166, 174172, 174179, 174181, 174182, 174186, 174188, 174190, 174211, 174214, 174215, 174216, 174219, 174228, 174230, 174231, 174235, 174240, 174242, 174253, 174254, 174257, 174259, 174263, 174266, 174275, 174276, 174278, 174283, 174286, 174287, 174288, 174289, 174293, 174300, 174301, 174303, 174304]\n",
      "\n",
      " Coluna [ artists ]: Índices com caracteres especiais [4600, 4617, 4632, 4644, 4661, 4667, 4698, 5635, 5697, 5720, 5759, 5778, 5804, 5805, 5822, 5837, 5846, 8064, 8095, 8116, 8136, 8333, 8348, 8860, 9256, 9282, 9325, 9328, 10305, 10465, 10965, 12081, 12117, 12740, 12746, 12771, 12773, 12784, 12791, 12806, 12807, 12810, 12832, 13514, 13771, 13792, 13809, 13827, 13836, 13840, 13841, 13855, 13858, 13864, 13887, 13901, 13905, 13906, 13925, 14302, 14623, 14747, 15538, 16412, 16428, 17015, 17027, 17034, 17169, 17189, 17412, 17419, 17818, 19442, 20151, 20749, 20757, 20788, 20819, 20825, 20835, 21114, 21708, 21756, 21791, 21843, 21853, 21903, 21919, 21962, 21982, 21987, 22059, 22097, 23186, 23226, 23409, 23958, 24169, 24206, 24230, 24420, 25027, 25349, 25374, 25529, 28746, 28756, 28769, 28777, 28782, 28785, 28825, 29599, 29792, 29919, 29994, 30069, 30193, 30426, 31983, 31996, 32027, 32049, 32360, 32430, 33169, 33509, 33540, 35735, 36754, 36756, 36771, 36785, 36804, 37090, 37216, 37501, 37650, 37796, 37838, 37873, 37876, 37904, 37912, 37928, 38132, 38931, 40000, 40002, 40018, 40196, 40374, 40402, 40952, 41285, 41398, 41436, 41534, 41846, 44277, 44758, 45196, 45345, 45424, 45576, 45628, 45658, 45688, 45696, 45717, 45718, 45737, 45741, 45748, 45750, 45754, 45765, 45770, 45778, 45822, 46316, 46596, 47621, 47799, 47849, 47993, 48220, 48226, 48741, 48827, 48834, 49017, 49047, 49365, 49366, 49463, 49561, 51251, 52091, 52154, 52766, 53019, 53192, 53262, 53295, 53316, 53325, 53326, 53329, 53331, 53343, 53356, 53360, 53383, 53389, 53432, 53553, 53555, 53754, 55046, 55411, 55463, 55468, 55505, 55868, 56969, 57348, 60741, 60803, 60818, 60887, 60892, 60894, 60903, 60920, 60938, 60955, 60971, 60975, 60997, 61039, 61042, 61122, 62196, 62993, 63039, 63067, 63392, 63448, 64215, 64218, 64284, 66243, 67173, 67188, 67952, 67953, 67997, 68238, 68305, 68319, 68320, 68325, 68330, 68332, 68338, 68341, 68359, 68435, 68678, 69615, 69626, 70643, 70952, 71398, 71825, 71903, 71908, 72685, 74306, 74923, 75691, 75694, 75702, 75706, 75716, 75725, 75729, 75758, 75762, 75766, 75791, 75797, 75922, 76247, 77195, 77861, 78295, 78299, 78309, 78702, 78824, 79176, 79195, 79204, 79218, 79320, 80797, 84594, 87991, 88034, 89987, 90217, 92662, 92670, 92681, 92730, 93716, 93911, 94239, 94269, 94326, 94602, 95718, 95732, 96489, 96778, 97520, 99585, 100635, 103145, 103156, 103162, 103166, 103179, 103199, 103477, 103929, 104481, 105163, 105178, 105194, 105199, 105207, 108565, 109293, 112542, 112549, 112576, 112582, 112595, 112609, 112617, 112627, 113186, 113452, 113497, 114540, 114543, 114550, 114576, 114582, 114589, 114599, 114621, 114630, 114634, 116080, 116311, 118459, 118536, 118658, 122017, 122026, 122033, 122047, 122050, 122052, 122069, 122078, 122088, 122090, 122097, 122101, 122104, 122675, 122982, 123790, 123854, 123867, 124015, 124053, 124066, 124081, 124086, 124087, 124088, 125261, 126145, 126969, 127323, 128161, 130200, 130438, 131391, 131399, 131403, 131404, 131648, 131861, 132000, 132639, 133134, 133145, 133150, 133171, 133189, 133193, 133203, 133233, 133235, 133288, 133351, 133356, 133376, 133398, 133413, 133636, 134201, 135106, 135676, 137921, 138902, 140397, 140414, 140415, 140422, 140423, 140428, 140429, 140430, 140455, 140461, 140468, 140472, 140473, 140525, 141455, 141867, 141890, 141941, 141968, 141970, 141981, 142006, 142013, 142021, 142022, 142137, 142155, 142157, 142158, 142169, 142187, 142206, 142878, 143095, 145705, 147352, 148253, 149129, 149150, 149152, 149163, 149166, 149183, 149184, 149194, 149205, 149322, 149555, 149559, 149662, 150278, 150310, 150597, 150601, 150648, 150657, 150665, 150694, 150819, 150820, 150822, 150844, 150887, 151075, 151615, 151730, 152806, 153105, 153708, 154116, 154169, 154618, 154829, 156851, 157702, 157705, 157723, 157725, 157757, 157758, 157769, 157773, 157777, 157779, 157788, 157791, 158150, 158329, 159011, 159101, 159106, 159112, 159117, 159126, 159174, 159188, 159298, 160170, 160207, 161205, 161655, 162607, 162693, 165574, 165636, 166202, 166206, 166227, 166234, 166237, 167508, 167558, 167563, 167587, 167588, 167595, 167913, 167949, 168492, 168552, 169894, 170054, 170648, 170864, 171038, 171040, 171094, 174129]\n"
     ]
    }
   ],
   "source": [
    "def funcao_analise_inicial(df):\n",
    "    # Configurar Pandas para exibir todas as linhas\n",
    "    pd.set_option('display.max_rows', None)\n",
    "\n",
    "    # Informações do DataFrame\n",
    "    print('\\n\\n INFO \\n\\n')\n",
    "    df.info()\n",
    "    print('\\n\\n ------------------------------------------------------------------------------------------ \\n\\n')\n",
    "\n",
    "    # Verifica se há valores ausentes e duplicados\n",
    "    valores_ausentes = df.isna().sum().sum() > 0\n",
    "    valores_duplicados = df.duplicated().sum() > 0\n",
    "\n",
    "    # Nomes das variáveis com valores ausentes\n",
    "    variaveis_ausentes = df.columns[df.isna().any()].tolist()\n",
    "\n",
    "    # Número de linhas duplicadas\n",
    "    num_linhas_duplicadas = df.duplicated().sum()\n",
    "\n",
    "    # Porcentagem de linhas duplicadas\n",
    "    porcentagem_linhas_duplicadas = (num_linhas_duplicadas / len(df)) * 100\n",
    "\n",
    "    # Exibe o resultado sobre valores ausentes e duplicados\n",
    "    print(\"\\n\\nExistem valores ausentes:\", valores_ausentes)\n",
    "    if valores_ausentes:\n",
    "        print(\"\\nVariáveis com valores ausentes:\", variaveis_ausentes)\n",
    "    else:\n",
    "        print(\"\\nNenhuma variável possui valores ausentes.\")\n",
    "\n",
    "    print(\"\\n\\nExistem valores duplicados:\", valores_duplicados)\n",
    "    if valores_duplicados:\n",
    "        print(\"\\nNúmero de Linhas Duplicadas:\", num_linhas_duplicadas)\n",
    "        print(\"\\nPorcentagem de Linhas Duplicadas: {:.2f}%\".format(porcentagem_linhas_duplicadas))\n",
    "    else:\n",
    "        print(\"\\nNenhuma variável possui valores duplicados.\")\n",
    "    \n",
    "    # Verificação de caracteres especiais\n",
    "    caracteres_especiais = re.compile('[@_!#$%^&*<>()?/\\\\|}{~:]')   # nenhum caracter removido\n",
    "    colunas_com_caracteres_especiais = {}\n",
    "\n",
    "    for coluna in df.columns:\n",
    "        if df[coluna].dtype == 'object':  # Verifica apenas colunas de texto\n",
    "            contem_caracteres_especiais = df[coluna].apply(lambda x: bool(caracteres_especiais.search(x) if isinstance(x, str) else False)).any()\n",
    "            if contem_caracteres_especiais:\n",
    "                indices_com_caracteres_especiais = df[coluna][df[coluna].apply(lambda x: bool(caracteres_especiais.search(x) if isinstance(x, str) else False))].index.tolist()\n",
    "                colunas_com_caracteres_especiais[coluna] = indices_com_caracteres_especiais\n",
    "\n",
    "    # Exibe o resultado sobre caracteres especiais\n",
    "    print(\"\\n\\nExistem caracteres especiais nas colunas:\", bool(colunas_com_caracteres_especiais))\n",
    "    if colunas_com_caracteres_especiais:\n",
    "        print(\"\\nColunas com caracteres especiais e os índices:\")\n",
    "        for coluna, indices in colunas_com_caracteres_especiais.items():\n",
    "            print(f\"\\n Coluna [ {coluna} ]: Índices com caracteres especiais {indices}\")\n",
    "    else:\n",
    "        print(\"\\nNenhuma coluna possui caracteres especiais.\")\n",
    "\n",
    "print('A função foi criada com sucesso.\\n')\n",
    "\n",
    "funcao_analise_inicial(df_final_pandas)"
   ]
  },
  {
   "cell_type": "markdown",
   "id": "d2f28edf",
   "metadata": {},
   "source": [
    "<br>\n",
    "\n",
    "### Excluindo Valores Ausentes e Convertendo de Volta para um DataFrame do PySpark"
   ]
  },
  {
   "cell_type": "code",
   "execution_count": 29,
   "id": "089b2526",
   "metadata": {},
   "outputs": [
    {
     "name": "stdout",
     "output_type": "stream",
     "text": [
      "<class 'pyspark.sql.dataframe.DataFrame'>\n"
     ]
    },
    {
     "name": "stderr",
     "output_type": "stream",
     "text": [
      "\r",
      "[Stage 14:>                                                       (0 + 12) / 12]\r"
     ]
    },
    {
     "name": "stdout",
     "output_type": "stream",
     "text": [
      "\n",
      "O DataFrame `df_final` contém 155923 linhas.\n"
     ]
    },
    {
     "name": "stderr",
     "output_type": "stream",
     "text": [
      "\r",
      "[Stage 14:====>                                                   (1 + 11) / 12]\r",
      "\r",
      "                                                                                \r"
     ]
    }
   ],
   "source": [
    "# Excluir todas as linhas com valores ausentes\n",
    "df_final_pandas_sem_ausentes = df_final_pandas.dropna()\n",
    "\n",
    "# Converter o DataFrame do Pandas de volta para um DataFrame do PySpark\n",
    "df_final_limpo = spark.createDataFrame(df_final_pandas_sem_ausentes)\n",
    "\n",
    "# Verifica classe de df_final\n",
    "print(type(df_final_limpo))\n",
    "\n",
    "# Exibe a quantidade de linhas\n",
    "print(f\"\\nO DataFrame `df_final` contém {df_final_limpo.count()} linhas.\")"
   ]
  },
  {
   "cell_type": "markdown",
   "id": "dc677cce",
   "metadata": {},
   "source": [
    "<br>\n",
    "\n",
    "### Aplica Vector Dense e Padronização"
   ]
  },
  {
   "cell_type": "code",
   "execution_count": 30,
   "id": "649f7274",
   "metadata": {},
   "outputs": [
    {
     "name": "stderr",
     "output_type": "stream",
     "text": [
      "\r",
      "[Stage 17:>                                                       (0 + 12) / 12]\r",
      "\r",
      "                                                                                \r"
     ]
    },
    {
     "name": "stdout",
     "output_type": "stream",
     "text": [
      "+--------------------+-------------+----------+----------------+------------+------+---+--------+-----------+------------+----------------+--------+-------+-------+--------------------+--------------------+\n",
      "|                  id|         name|popularity|         artists|danceability|energy|key|loudness|speechiness|acousticness|instrumentalness|liveness|valence|  tempo|       song_features|        standardized|\n",
      "+--------------------+-------------+----------+----------------+------------+------+---+--------+-----------+------------+----------------+--------+-------+-------+--------------------+--------------------+\n",
      "|22a0Ji6EQKkY0tBoh...|There You Are|       2.0|   KirstenLudwig|       0.487| 0.707|9.0|  -5.596|     0.0304|       0.334|           0.282|   0.105|  0.316|129.856|[0.487,0.707,-5.5...|[2.84287675016776...|\n",
      "|4J39ZEbwqHwtWLImU...|      88 Days|       8.0|SaraKingIanOlney|       0.335| 0.401|3.0| -10.749|     0.0333|       0.134|           0.582|   0.134|  0.233|155.062|[0.335,0.401,-10....|[1.95557230247679...|\n",
      "+--------------------+-------------+----------+----------------+------------+------+---+--------+-----------+------------+----------------+--------+-------+-------+--------------------+--------------------+\n",
      "only showing top 2 rows\n",
      "\n"
     ]
    }
   ],
   "source": [
    "# Configura o VectorAssembler com as colunas escolhidas para criar o vetor de características\n",
    "vetor = VectorAssembler(inputCols = ['danceability',\n",
    "                                     'energy',\n",
    "                                     'loudness',\n",
    "                                     'speechiness',\n",
    "                                     'acousticness',\n",
    "                                     'instrumentalness',\n",
    "                                     'liveness',\n",
    "                                     'valence',\n",
    "                                     'tempo'], \n",
    "                        outputCol = 'song_features')\n",
    "\n",
    "# Descarta valores inválidos/nulos durante a transformação para evitar problemas na montagem dos vetores\n",
    "assembled = vetor.setHandleInvalid(\"skip\").transform(df_final_limpo)\n",
    "\n",
    "# Configura o StandardScaler para padronizar as características das músicas\n",
    "std = StandardScaler(inputCol = 'song_features', outputCol = 'standardized')\n",
    "\n",
    "# Treina o StandardScaler usando os dados montados\n",
    "scale = std.fit(assembled)\n",
    "\n",
    "# Aplica o scaler aos dados para obter as características padronizadas\n",
    "df = scale.transform(assembled)\n",
    "\n",
    "# Visualiza primeiras linhas\n",
    "df.show(2)"
   ]
  },
  {
   "cell_type": "code",
   "execution_count": 31,
   "id": "cb5bfac4",
   "metadata": {},
   "outputs": [
    {
     "name": "stderr",
     "output_type": "stream",
     "text": [
      "\r",
      "[Stage 21:===================>                                     (4 + 8) / 12]\r",
      "\r",
      "                                                                                \r"
     ]
    },
    {
     "data": {
      "text/html": [
       "<div>\n",
       "<style scoped>\n",
       "    .dataframe tbody tr th:only-of-type {\n",
       "        vertical-align: middle;\n",
       "    }\n",
       "\n",
       "    .dataframe tbody tr th {\n",
       "        vertical-align: top;\n",
       "    }\n",
       "\n",
       "    .dataframe thead th {\n",
       "        text-align: right;\n",
       "    }\n",
       "</style>\n",
       "<table border=\"1\" class=\"dataframe\">\n",
       "  <thead>\n",
       "    <tr style=\"text-align: right;\">\n",
       "      <th></th>\n",
       "      <th>id</th>\n",
       "      <th>name</th>\n",
       "      <th>popularity</th>\n",
       "      <th>artists</th>\n",
       "      <th>danceability</th>\n",
       "      <th>energy</th>\n",
       "      <th>key</th>\n",
       "      <th>loudness</th>\n",
       "      <th>speechiness</th>\n",
       "      <th>acousticness</th>\n",
       "      <th>instrumentalness</th>\n",
       "      <th>liveness</th>\n",
       "      <th>valence</th>\n",
       "      <th>tempo</th>\n",
       "      <th>song_features</th>\n",
       "      <th>standardized</th>\n",
       "    </tr>\n",
       "  </thead>\n",
       "  <tbody>\n",
       "    <tr>\n",
       "      <th>0</th>\n",
       "      <td>22a0Ji6EQKkY0tBohlN4Od</td>\n",
       "      <td>There You Are</td>\n",
       "      <td>2.0</td>\n",
       "      <td>KirstenLudwig</td>\n",
       "      <td>0.487</td>\n",
       "      <td>0.707</td>\n",
       "      <td>9.0</td>\n",
       "      <td>-5.596</td>\n",
       "      <td>0.0304</td>\n",
       "      <td>0.334</td>\n",
       "      <td>0.282</td>\n",
       "      <td>0.105</td>\n",
       "      <td>0.316</td>\n",
       "      <td>129.856</td>\n",
       "      <td>[0.487, 0.707, -5.596, 0.0304, 0.334, 0.282, 0...</td>\n",
       "      <td>[2.8428767501677603, 2.7276228350149117, -1.08...</td>\n",
       "    </tr>\n",
       "    <tr>\n",
       "      <th>1</th>\n",
       "      <td>4J39ZEbwqHwtWLImUKmrn9</td>\n",
       "      <td>88 Days</td>\n",
       "      <td>8.0</td>\n",
       "      <td>SaraKingIanOlney</td>\n",
       "      <td>0.335</td>\n",
       "      <td>0.401</td>\n",
       "      <td>3.0</td>\n",
       "      <td>-10.749</td>\n",
       "      <td>0.0333</td>\n",
       "      <td>0.134</td>\n",
       "      <td>0.582</td>\n",
       "      <td>0.134</td>\n",
       "      <td>0.233</td>\n",
       "      <td>155.062</td>\n",
       "      <td>[0.335, 0.401, -10.749, 0.0333, 0.134, 0.582, ...</td>\n",
       "      <td>[1.9555723024767961, 1.5470675485728143, -2.08...</td>\n",
       "    </tr>\n",
       "  </tbody>\n",
       "</table>\n",
       "</div>"
      ],
      "text/plain": [
       "                       id           name  popularity           artists  \\\n",
       "0  22a0Ji6EQKkY0tBohlN4Od  There You Are         2.0     KirstenLudwig   \n",
       "1  4J39ZEbwqHwtWLImUKmrn9        88 Days         8.0  SaraKingIanOlney   \n",
       "\n",
       "   danceability  energy  key  loudness  speechiness  acousticness  \\\n",
       "0         0.487   0.707  9.0    -5.596       0.0304         0.334   \n",
       "1         0.335   0.401  3.0   -10.749       0.0333         0.134   \n",
       "\n",
       "   instrumentalness  liveness  valence    tempo  \\\n",
       "0             0.282     0.105    0.316  129.856   \n",
       "1             0.582     0.134    0.233  155.062   \n",
       "\n",
       "                                       song_features  \\\n",
       "0  [0.487, 0.707, -5.596, 0.0304, 0.334, 0.282, 0...   \n",
       "1  [0.335, 0.401, -10.749, 0.0333, 0.134, 0.582, ...   \n",
       "\n",
       "                                        standardized  \n",
       "0  [2.8428767501677603, 2.7276228350149117, -1.08...  \n",
       "1  [1.9555723024767961, 1.5470675485728143, -2.08...  "
      ]
     },
     "metadata": {},
     "output_type": "display_data"
    }
   ],
   "source": [
    "## Visualizando como Dataframe do Pandas (apenas para visualização)\n",
    "\n",
    "# Converte o DataFrame do PySpark para um DataFrame do Pandas\n",
    "df_pandas_temp = df.toPandas()\n",
    "\n",
    "# Exibe as primeiras linhas do DataFrame do Pandas\n",
    "display(df_pandas_temp.head(2))"
   ]
  },
  {
   "cell_type": "markdown",
   "id": "558f5023",
   "metadata": {},
   "source": [
    "### Explicação\n",
    "\n",
    "\n",
    "- **Esta etapa** realiza através da `funcao_analise_inicial` uma verificação inicial dos dados e realiza `limpeza nos dados ausentes`, aplica as técnicas de Vetorização (Vector Assembler) e Padronização (StandardScaler) ao DataFrame `df_final_limpo`. Ele cria um novo DataFrame chamado `df`, que contém as mesmas colunas de `df_final_limpo`, além de duas novas colunas: `song_features`, que contém os valores das características vetorizadas, e `standardized`, que contém os valores vetorizados após a padronização.\n",
    "\n",
    "<br><br>\n",
    "\n",
    "# 10. Treinamento do Modelo de Machine Learning Não Supervisionado\n",
    "\n",
    "<br>\n",
    "\n",
    "#### Verificando Número Ideal Para `k` e Cria o Modelo"
   ]
  },
  {
   "cell_type": "code",
   "execution_count": 32,
   "id": "75dd5e7f",
   "metadata": {},
   "outputs": [
    {
     "name": "stderr",
     "output_type": "stream",
     "text": [
      "                                                                                \r"
     ]
    },
    {
     "data": {
      "image/png": "[encoded data removed]",
      "text/plain": [
       "<Figure size 720x432 with 1 Axes>"
      ]
     },
     "metadata": {
      "needs_background": "light"
     },
     "output_type": "display_data"
    }
   ],
   "source": [
    "# Avaliar o método do cotovelo para encontrar o número ótimo de clusters (´k´)\n",
    "sse = []\n",
    "for k in range(2, 11):  # O loop agora começa em 2\n",
    "    kmeans = KMeans(featuresCol='standardized', k=k)\n",
    "    model = kmeans.fit(df)\n",
    "    sse.append(model.summary.trainingCost)\n",
    "\n",
    "# Plotar o gráfico do método do cotovelo\n",
    "plt.figure(figsize=(10, 6))\n",
    "plt.plot(range(2, 11), sse, marker='o')\n",
    "plt.title('Método do Cotovelo')\n",
    "plt.xlabel('Número de Clusters')\n",
    "plt.ylabel('SSE')\n",
    "plt.show()"
   ]
  },
  {
   "cell_type": "code",
   "execution_count": 33,
   "id": "b7c06dc0",
   "metadata": {},
   "outputs": [
    {
     "name": "stdout",
     "output_type": "stream",
     "text": [
      "<class 'pyspark.sql.dataframe.DataFrame'>\n"
     ]
    },
    {
     "data": {
      "text/plain": [
       "[Row(id='22a0Ji6EQKkY0tBohlN4Od', name='There You Are', popularity=2.0, artists='KirstenLudwig', danceability=0.487, energy=0.707, key=9.0, loudness=-5.596, speechiness=0.0304, acousticness=0.334, instrumentalness=0.282, liveness=0.105, valence=0.316, tempo=129.856, song_features=DenseVector([0.487, 0.707, -5.596, 0.0304, 0.334, 0.282, 0.105, 0.316, 129.856]), standardized=DenseVector([2.8429, 2.7276, -1.0853, 0.2713, 0.9015, 0.9671, 0.621, 1.2227, 4.2598]), prediction=1),\n",
       " Row(id='4J39ZEbwqHwtWLImUKmrn9', name='88 Days', popularity=8.0, artists='SaraKingIanOlney', danceability=0.335, energy=0.401, key=3.0, loudness=-10.749, speechiness=0.0333, acousticness=0.134, instrumentalness=0.582, liveness=0.134, valence=0.233, tempo=155.062, song_features=DenseVector([0.335, 0.401, -10.749, 0.0333, 0.134, 0.582, 0.134, 0.233, 155.062]), standardized=DenseVector([1.9556, 1.5471, -2.0846, 0.2972, 0.3617, 1.9959, 0.7925, 0.9016, 5.0867]), prediction=0)]"
      ]
     },
     "metadata": {},
     "output_type": "display_data"
    },
    {
     "name": "stdout",
     "output_type": "stream",
     "text": [
      "None\n"
     ]
    }
   ],
   "source": [
    "# Cria o objeto do modelo\n",
    "objeto_KMeans = KMeans(featuresCol = 'standardized', k = 3)\n",
    "\n",
    "# Treina o modelo\n",
    "modelo_KMeans = objeto_KMeans.fit(df)\n",
    "\n",
    "# Previsões do modelo\n",
    "df_output = modelo_KMeans.transform(df)\n",
    "\n",
    "print(type(df_output))\n",
    "print(display(df_output.head(2)))"
   ]
  },
  {
   "cell_type": "markdown",
   "id": "205495b1",
   "metadata": {},
   "source": [
    "<br>\n",
    "\n",
    "#### Verificando Desempenho da Clusterização"
   ]
  },
  {
   "cell_type": "markdown",
   "id": "d4c6310f",
   "metadata": {},
   "source": [
    "from sklearn.metrics import silhouette_score\n",
    "\n",
    "# Converter df_output para DataFrame do Pandas para usar com o silhouette_score\n",
    "df_output_pandas = df_output.select('standardized', 'prediction').toPandas()\n",
    "\n",
    "# Extraia as características padronizadas e os rótulos de clusters\n",
    "X = np.array(df_output_pandas['standardized'].tolist())\n",
    "labels = df_output_pandas['prediction'].values\n",
    "\n",
    "# Calcular a pontuação de silhueta\n",
    "silhouette_avg = silhouette_score(X, labels)\n",
    "print(f'Pontuação de Silhueta: {silhouette_avg:.2f}')"
   ]
  },
  {
   "cell_type": "markdown",
   "id": "5ce7936c",
   "metadata": {},
   "source": [
    "<br>\n",
    "\n",
    "### Preparando Dataset Final"
   ]
  },
  {
   "cell_type": "code",
   "execution_count": 34,
   "id": "b1ec6b43",
   "metadata": {},
   "outputs": [
    {
     "data": {
      "text/html": [
       "<div>\n",
       "<style scoped>\n",
       "    .dataframe tbody tr th:only-of-type {\n",
       "        vertical-align: middle;\n",
       "    }\n",
       "\n",
       "    .dataframe tbody tr th {\n",
       "        vertical-align: top;\n",
       "    }\n",
       "\n",
       "    .dataframe thead th {\n",
       "        text-align: right;\n",
       "    }\n",
       "</style>\n",
       "<table border=\"1\" class=\"dataframe\">\n",
       "  <thead>\n",
       "    <tr style=\"text-align: right;\">\n",
       "      <th></th>\n",
       "      <th>id</th>\n",
       "      <th>name</th>\n",
       "      <th>artists</th>\n",
       "      <th>danceability</th>\n",
       "      <th>energy</th>\n",
       "      <th>key</th>\n",
       "      <th>loudness</th>\n",
       "      <th>speechiness</th>\n",
       "      <th>acousticness</th>\n",
       "      <th>instrumentalness</th>\n",
       "      <th>liveness</th>\n",
       "      <th>valence</th>\n",
       "      <th>tempo</th>\n",
       "      <th>prediction</th>\n",
       "    </tr>\n",
       "  </thead>\n",
       "  <tbody>\n",
       "    <tr>\n",
       "      <th>0</th>\n",
       "      <td>22a0Ji6EQKkY0tBohlN4Od</td>\n",
       "      <td>There You Are</td>\n",
       "      <td>KirstenLudwig</td>\n",
       "      <td>0.487</td>\n",
       "      <td>0.707</td>\n",
       "      <td>9.0</td>\n",
       "      <td>-5.596</td>\n",
       "      <td>0.0304</td>\n",
       "      <td>0.3340</td>\n",
       "      <td>0.282000</td>\n",
       "      <td>0.1050</td>\n",
       "      <td>0.316</td>\n",
       "      <td>129.856</td>\n",
       "      <td>1</td>\n",
       "    </tr>\n",
       "    <tr>\n",
       "      <th>1</th>\n",
       "      <td>4J39ZEbwqHwtWLImUKmrn9</td>\n",
       "      <td>88 Days</td>\n",
       "      <td>SaraKingIanOlney</td>\n",
       "      <td>0.335</td>\n",
       "      <td>0.401</td>\n",
       "      <td>3.0</td>\n",
       "      <td>-10.749</td>\n",
       "      <td>0.0333</td>\n",
       "      <td>0.1340</td>\n",
       "      <td>0.582000</td>\n",
       "      <td>0.1340</td>\n",
       "      <td>0.233</td>\n",
       "      <td>155.062</td>\n",
       "      <td>0</td>\n",
       "    </tr>\n",
       "    <tr>\n",
       "      <th>2</th>\n",
       "      <td>0a12d4HUjOmQSqHqLopWYx</td>\n",
       "      <td>Castaway</td>\n",
       "      <td>ARZLEE</td>\n",
       "      <td>0.553</td>\n",
       "      <td>0.422</td>\n",
       "      <td>1.0</td>\n",
       "      <td>-11.290</td>\n",
       "      <td>0.0314</td>\n",
       "      <td>0.1100</td>\n",
       "      <td>0.000032</td>\n",
       "      <td>0.1190</td>\n",
       "      <td>0.290</td>\n",
       "      <td>83.988</td>\n",
       "      <td>1</td>\n",
       "    </tr>\n",
       "    <tr>\n",
       "      <th>4</th>\n",
       "      <td>0u7JZm9ORerlZnnxxSdMwl</td>\n",
       "      <td>Lonely</td>\n",
       "      <td>Hayleau</td>\n",
       "      <td>0.670</td>\n",
       "      <td>0.709</td>\n",
       "      <td>8.0</td>\n",
       "      <td>-3.921</td>\n",
       "      <td>0.0406</td>\n",
       "      <td>0.0169</td>\n",
       "      <td>0.000630</td>\n",
       "      <td>0.0542</td>\n",
       "      <td>0.577</td>\n",
       "      <td>98.954</td>\n",
       "      <td>1</td>\n",
       "    </tr>\n",
       "  </tbody>\n",
       "</table>\n",
       "</div>"
      ],
      "text/plain": [
       "                       id           name           artists  danceability  \\\n",
       "0  22a0Ji6EQKkY0tBohlN4Od  There You Are     KirstenLudwig         0.487   \n",
       "1  4J39ZEbwqHwtWLImUKmrn9        88 Days  SaraKingIanOlney         0.335   \n",
       "2  0a12d4HUjOmQSqHqLopWYx       Castaway            ARZLEE         0.553   \n",
       "4  0u7JZm9ORerlZnnxxSdMwl         Lonely           Hayleau         0.670   \n",
       "\n",
       "   energy  key  loudness  speechiness  acousticness  instrumentalness  \\\n",
       "0   0.707  9.0    -5.596       0.0304        0.3340          0.282000   \n",
       "1   0.401  3.0   -10.749       0.0333        0.1340          0.582000   \n",
       "2   0.422  1.0   -11.290       0.0314        0.1100          0.000032   \n",
       "4   0.709  8.0    -3.921       0.0406        0.0169          0.000630   \n",
       "\n",
       "   liveness  valence    tempo  prediction  \n",
       "0    0.1050    0.316  129.856           1  \n",
       "1    0.1340    0.233  155.062           0  \n",
       "2    0.1190    0.290   83.988           1  \n",
       "4    0.0542    0.577   98.954           1  "
      ]
     },
     "metadata": {},
     "output_type": "display_data"
    },
    {
     "data": {
      "text/plain": [
       "113208"
      ]
     },
     "execution_count": 34,
     "metadata": {},
     "output_type": "execute_result"
    }
   ],
   "source": [
    "# Selecionando as Colunas\n",
    "datalabel = df_output.select('id',\n",
    "                             'name',\n",
    "                             'artists',\n",
    "                             'danceability',\n",
    "                             'energy',\n",
    "                             'key',\n",
    "                             'loudness',\n",
    "                             'speechiness',\n",
    "                             'acousticness',\n",
    "                             'instrumentalness',\n",
    "                             'liveness',\n",
    "                             'valence',\n",
    "                             'tempo',\n",
    "                             'prediction')\n",
    "\n",
    "# Realizando uma Limpeza Final\n",
    "df_final = datalabel.toPandas()\n",
    "df_final.drop(df_final[df_final['artists'] == '0'].index, inplace = True)\n",
    "df_final.drop_duplicates(inplace = True)\n",
    "df_final.drop(df_final[df_final['danceability'] == 0.0000].index, inplace = True)\n",
    "df_final.drop(df_final[df_final['liveness'] == 0.000].index, inplace = True)\n",
    "df_final.drop(df_final[df_final['instrumentalness'] == 0.000000].index, inplace = True)\n",
    "df_final.drop(df_final[df_final['energy'] == 0.0000].index, inplace = True)\n",
    "df_final.drop(df_final[df_final['danceability'] == 0.000].index, inplace = True)\n",
    "df_final.drop(df_final[df_final['valence'] == 0.000].index, inplace = True)\n",
    "\n",
    "display(df_final.head(4))\n",
    "\n",
    "# Quantidade de linhas\n",
    "df_final.shape[0]"
   ]
  },
  {
   "cell_type": "markdown",
   "id": "cdd648f5",
   "metadata": {},
   "source": [
    "<br>\n",
    "\n",
    "### Verificando se música da lista de favorito (`df_tracks`) está no Dataset Final (`df_final`)"
   ]
  },
  {
   "cell_type": "code",
   "execution_count": 37,
   "id": "b3358d0a",
   "metadata": {},
   "outputs": [
    {
     "name": "stdout",
     "output_type": "stream",
     "text": [
      "\n",
      "\n",
      "Total de músicas encontradas: 37\n"
     ]
    }
   ],
   "source": [
    "# Verificando se alguma música de df_tracks está em df_final com base nas colunas 'id', 'name', e 'artists'\n",
    "musicas_em_comum = df_tracks[\n",
    "    df_tracks[['id', 'name', 'artists']].apply(\n",
    "        lambda row: ((df_final['id'] == row['id']) |\n",
    "                     (df_final['name'] == row['name']) | \n",
    "                     (df_final['artists'] == row['artists'])\n",
    "                    ).any(), axis=1\n",
    "    )\n",
    "]\n",
    "\n",
    "# Exibindo o resultado\n",
    "if not musicas_em_comum.empty:\n",
    "    print('\\n')\n",
    "    #print(\"As seguintes músicas estão presentes em ambos os dataframes:\")\n",
    "    #display(musicas_em_comum)\n",
    "else:\n",
    "    print(\"Nenhuma música de df_tracks está presente em df_final.\")\n",
    "    \n",
    "# Exibindo o resultado e verificando as duplicações\n",
    "print(f\"Total de músicas encontradas: {musicas_em_comum.shape[0]}\")"
   ]
  },
  {
   "cell_type": "code",
   "execution_count": 43,
   "id": "dd4eb59b",
   "metadata": {},
   "outputs": [
    {
     "name": "stdout",
     "output_type": "stream",
     "text": [
      "Total de músicas restantes em df_final após excluir por 'id': 113190\n",
      "Total de músicas restantes em df_final após excluir por 'name': 113074\n"
     ]
    }
   ],
   "source": [
    "# Excluindo todas as músicas de df_final que têm o mesmo 'id' presente em musicas_em_comum\n",
    "df_final = df_final[~df_final['id'].isin(musicas_em_comum['id'])]\n",
    "\n",
    "# Verificando o número de músicas restantes em df_final após a exclusão\n",
    "print(f\"Total de músicas restantes em df_final após excluir por 'id': {df_final.shape[0]}\")\n",
    "\n",
    "# Excluindo todas as músicas de df_final que têm o mesmo 'name' presente em musicas_em_comum\n",
    "df_final = df_final[~df_final['name'].isin(musicas_em_comum['name'])]\n",
    "\n",
    "# Verificando o número de músicas restantes em df_final após a exclusão\n",
    "print(f\"Total de músicas restantes em df_final após excluir por 'name': {df_final.shape[0]}\")"
   ]
  },
  {
   "cell_type": "code",
   "execution_count": 111,
   "id": "07394fb7",
   "metadata": {},
   "outputs": [],
   "source": [
    "# Reorganizando as colunas para que 'id' seja a primeira coluna\n",
    "colunas_ordenadas = ['id'] + [col for col in df_tracks.columns if col != 'id']\n",
    "df_tracks = df_tracks[colunas_ordenadas]"
   ]
  },
  {
   "cell_type": "markdown",
   "id": "5edc73bd",
   "metadata": {},
   "source": [
    "### Explicação\n",
    "\n",
    "- **Verificando Número Ideal Para k**: O código utiliza o método do cotovelo para determinar o número ótimo de clusters (`k`) no modelo K-Means. Ele ajusta vários modelos K-Means com diferentes valores de `k` (de 2 a 10) e calcula o SSE (Sum of Squared Errors) para cada modelo. Em seguida, o gráfico do método do cotovelo é gerado para identificar o ponto onde o SSE diminui drasticamente, sugerindo o número ótimo de clusters.\n",
    "\n",
    "- **Treinamento do Modelo K-Means**: O objeto `df_output` foi criado para agrupar as músicas em clusters com base em características musicais semelhantes, utilizando o algoritmo de K-Means. O **principal motivo** para essa abordagem é identificar padrões ocultos nos dados e organizar as músicas em grupos que compartilham traços similares. É criado a coluna `prediction`, e assim podemos ver a qual cluster cada música pertence, o que possibilita a exploração de grupos específicos de músicas que o usuário possa gostar. **Isso é fundamental para sistemas de recomendação** que buscam oferecer sugestões baseadas em padrões de similaridade.\n",
    "\n",
    "- **Verificando Desempenho da Clusterização**: A qualidade da clusterização é avaliada usando a pontuação de silhueta, que mede o quão bem cada música foi agrupada em seu respectivo cluster. Valores mais altos de silhueta indicam que os clusters são bem separados e as músicas estão bem agrupadas.\n",
    "\n",
    "- **Preparando Dataset Final**: O código seleciona as colunas mais relevantes para o dataset final, que serão usadas para a análise ou recomendações futuras e realiza uma limpeza final dos dados.\n",
    "\n",
    "<br><br>\n",
    "\n",
    "# 11. Implementação do Sistema de Recomendação 1\n",
    "\n",
    "- As músicas são recomendadas com base em sua similaridade a uma música selecionada aleatoriamente da lista de favoritos do usuário."
   ]
  },
  {
   "cell_type": "code",
   "execution_count": 134,
   "id": "2859f327",
   "metadata": {},
   "outputs": [
    {
     "name": "stdout",
     "output_type": "stream",
     "text": [
      "Função criada com sucesso.\n"
     ]
    }
   ],
   "source": [
    "class RecoSystem():\n",
    "    \n",
    "    def __init__(self, data):\n",
    "        self.data_ = data\n",
    "    \n",
    "    def Recomm(self, nome_musica, amount=2):\n",
    "        \n",
    "        # Lista para armazenar distâncias\n",
    "        distancias = []\n",
    "        \n",
    "        # Seleciona a música base para comparação\n",
    "        song = self.data_[(self.data_.name.str.lower() == nome_musica.lower())].head(1).values[0]\n",
    "        res_dt = self.data_[self.data_.name.str.lower() != nome_musica.lower()]\n",
    "        \n",
    "        # Nome do artista da música favorita\n",
    "        favorite_artist = song[2]  # Índice 2 corresponde à coluna 'artists'\n",
    "        \n",
    "        # Loop para calcular distâncias entre a música selecionada e as demais\n",
    "        for i_song in res_dt.values:\n",
    "            distancia = 0\n",
    "            for col in np.arange(len(res_dt.columns)):\n",
    "                if col not in [0, 1, 2, 14]:  # Ignora colunas que não são características musicais\n",
    "                    distancia += np.absolute(float(song[col]) - float(i_song[col]))\n",
    "            \n",
    "            # Armazena a distância calculada e outros detalhes\n",
    "            distancias.append((i_song[1], i_song[2], distancia))\n",
    "        \n",
    "        # Ordena as recomendações com base na menor distância\n",
    "        distancias.sort(key=lambda x: x[2])\n",
    "        \n",
    "        # Prepara os dados para salvar no formato desejado\n",
    "        recommendations = {\n",
    "            'favorite_song': [nome_musica] * amount,\n",
    "            'favorite_artist': [favorite_artist] * amount,\n",
    "            'recommended_song': [distancias[i][0] for i in range(amount)],\n",
    "            'recommended_artist': [distancias[i][1] for i in range(amount)],\n",
    "            'similarity_score': [distancias[i][2] for i in range(amount)]\n",
    "        }\n",
    "        \n",
    "        return pd.DataFrame(recommendations)\n",
    "    \n",
    "print('Função criada com sucesso.')"
   ]
  },
  {
   "cell_type": "markdown",
   "id": "aed89500",
   "metadata": {},
   "source": [
    "### Explicação\n",
    "\n",
    "A classe `RecoSystem` é um exemplo simples de sistema de recomendação baseado em conteúdo, onde as músicas são recomendadas com base em sua similaridade a uma música selecionada de maneira aleatória da lista de favoritos do usuário. A similaridade é medida através de uma métrica de distância absoluta que compara várias características musicais como `energy`, `danceability`, `valence`, `entre outras`. Quanto menor a distância entre duas músicas, mais semelhantes elas são consideradas.\n",
    "\n",
    "<br><br>\n",
    "\n",
    "# 12. Geração e Salvamento das Recomendações 1"
   ]
  },
  {
   "cell_type": "code",
   "execution_count": 135,
   "id": "cecc9e2d",
   "metadata": {},
   "outputs": [
    {
     "name": "stdout",
     "output_type": "stream",
     "text": [
      "Música selecionada aleatoriamente: Still Loving You\n",
      "      favorite_song favorite_artist recommended_song recommended_artist  \\\n",
      "0  Still Loving You       Scorpions           Cryin'          Aerosmith   \n",
      "1  Still Loving You       Scorpions    Walk This Way          Aerosmith   \n",
      "\n",
      "   similarity_score  \n",
      "0         17.053377  \n",
      "1         20.294730  \n"
     ]
    }
   ],
   "source": [
    "# Cria o objeto de recomendação\n",
    "reco_obj = RecoSystem(df_tracks)\n",
    "\n",
    "# Seleciona uma música aleatória pelo índice\n",
    "musica_randomica = random.randint(0, len(df_tracks) - 1)\n",
    "df_musica_randomica = df_tracks.iloc[musica_randomica]\n",
    "\n",
    "# Extrai o nome da música\n",
    "musica = df_musica_randomica['name']\n",
    "print(f\"Música selecionada aleatoriamente: {musica}\")\n",
    "\n",
    "# Executa a recomendação para a música selecionada\n",
    "recomendacao = reco_obj.Recomm(musica)\n",
    "\n",
    "# Salva a recomendação em disco no formato desejado\n",
    "recomendacao.to_csv('recomendacoes/recomendacao.csv', index=False)\n",
    "\n",
    "# Carrega o arquivo salvo do disco\n",
    "df_reco = pd.read_csv(\"recomendacoes/recomendacao.csv\")\n",
    "\n",
    "# Visualiza a recomendação final\n",
    "print(df_reco)"
   ]
  },
  {
   "cell_type": "code",
   "execution_count": 136,
   "id": "411eedcd",
   "metadata": {},
   "outputs": [
    {
     "data": {
      "text/html": [
       "<div>\n",
       "<style scoped>\n",
       "    .dataframe tbody tr th:only-of-type {\n",
       "        vertical-align: middle;\n",
       "    }\n",
       "\n",
       "    .dataframe tbody tr th {\n",
       "        vertical-align: top;\n",
       "    }\n",
       "\n",
       "    .dataframe thead th {\n",
       "        text-align: right;\n",
       "    }\n",
       "</style>\n",
       "<table border=\"1\" class=\"dataframe\">\n",
       "  <thead>\n",
       "    <tr style=\"text-align: right;\">\n",
       "      <th></th>\n",
       "      <th>favorite_song</th>\n",
       "      <th>favorite_artist</th>\n",
       "      <th>recommended_song</th>\n",
       "      <th>recommended_artist</th>\n",
       "      <th>similarity_score</th>\n",
       "    </tr>\n",
       "  </thead>\n",
       "  <tbody>\n",
       "    <tr>\n",
       "      <th>0</th>\n",
       "      <td>Still Loving You</td>\n",
       "      <td>Scorpions</td>\n",
       "      <td>Cryin'</td>\n",
       "      <td>Aerosmith</td>\n",
       "      <td>17.053377</td>\n",
       "    </tr>\n",
       "    <tr>\n",
       "      <th>1</th>\n",
       "      <td>Still Loving You</td>\n",
       "      <td>Scorpions</td>\n",
       "      <td>Walk This Way</td>\n",
       "      <td>Aerosmith</td>\n",
       "      <td>20.294730</td>\n",
       "    </tr>\n",
       "  </tbody>\n",
       "</table>\n",
       "</div>"
      ],
      "text/plain": [
       "      favorite_song favorite_artist recommended_song recommended_artist  \\\n",
       "0  Still Loving You       Scorpions           Cryin'          Aerosmith   \n",
       "1  Still Loving You       Scorpions    Walk This Way          Aerosmith   \n",
       "\n",
       "   similarity_score  \n",
       "0         17.053377  \n",
       "1         20.294730  "
      ]
     },
     "metadata": {},
     "output_type": "display_data"
    }
   ],
   "source": [
    "# Exibindo o resultado\n",
    "display(df_reco)"
   ]
  },
  {
   "cell_type": "markdown",
   "id": "60e6d246",
   "metadata": {},
   "source": [
    "**Explicação**: Gera recomendações baseadas na música selecionada aleatoriamente da lista do Spotify. As músicas recomendadas são concatenadas com a música original e o resultado é salvo em um arquivo CSV. Finalmente, as recomendações são carregadas e exibidas.\n",
    "\n",
    "<br><br><br><br>\n",
    "\n",
    "# 13. Implementação do Sistema de Recomendação 2\n",
    "\n",
    "- As músicas são recomendadas com base na lista de 50 músicas favoritas do usuário.\n",
    "\n",
    "**Lembrando que**: `df_final` são as músicas para indicar enquanto `df_tracks` são as 50 músicas favoritas extraídas da lista do spotify do usuário.\n",
    "\n",
    "A ideia principal seria calcular a similaridade entre as músicas de `df_tracks` e `df_final`, recomendando músicas de `df_final` que sejam mais semelhantes às músicas em `df_tracks`.\n",
    "\n",
    "#### Verificar a Presença das Mesmas Colunas"
   ]
  },
  {
   "cell_type": "code",
   "execution_count": 45,
   "id": "a838fa02",
   "metadata": {},
   "outputs": [
    {
     "name": "stdout",
     "output_type": "stream",
     "text": [
      "As colunas estão presentes em ambos os DataFrames.\n"
     ]
    }
   ],
   "source": [
    "# Lista das colunas que você deseja comparar\n",
    "features_cols = ['danceability', 'energy', 'loudness', 'speechiness', \n",
    "                 'acousticness', 'instrumentalness', 'liveness', 'valence', 'tempo']\n",
    "\n",
    "# Verifica se todas as colunas estão presentes em ambos os DataFrames\n",
    "if all(col in df_tracks.columns for col in features_cols) and all(col in df_final.columns for col in features_cols):\n",
    "    print(\"As colunas estão presentes em ambos os DataFrames.\")\n",
    "else:\n",
    "    print(\"Algumas colunas estão faltando em um dos DataFrames.\")"
   ]
  },
  {
   "cell_type": "code",
   "execution_count": 46,
   "id": "fd2963b3",
   "metadata": {},
   "outputs": [
    {
     "name": "stderr",
     "output_type": "stream",
     "text": [
      "Recomendando:   2%|▌                             | 1/50 [00:16<13:43, 16.80s/it]"
     ]
    },
    {
     "name": "stdout",
     "output_type": "stream",
     "text": [
      "Recomendação para 'Spending My Time' -> 'Amoureuse' por KikiDee\n"
     ]
    },
    {
     "name": "stderr",
     "output_type": "stream",
     "text": [
      "\r",
      "Recomendando:   4%|█▏                            | 2/50 [00:35<14:21, 17.94s/it]"
     ]
    },
    {
     "name": "stdout",
     "output_type": "stream",
     "text": [
      "Recomendação para 'Home Sweet Home' -> 'The Great Beyond' por REM\n"
     ]
    },
    {
     "name": "stderr",
     "output_type": "stream",
     "text": [
      "\r",
      "Recomendando:   6%|█▊                            | 3/50 [00:54<14:31, 18.55s/it]"
     ]
    },
    {
     "name": "stdout",
     "output_type": "stream",
     "text": [
      "Recomendação para 'High Hopes - Live At Pompeii 2016' -> '21st Century Man' por ElectricLightOrchestra\n"
     ]
    },
    {
     "name": "stderr",
     "output_type": "stream",
     "text": [
      "\r",
      "Recomendando:   8%|██▍                           | 4/50 [01:13<14:19, 18.69s/it]"
     ]
    },
    {
     "name": "stdout",
     "output_type": "stream",
     "text": [
      "Recomendação para 'Rattle That Lock' -> 'Manic Monday' por TheBangles\n"
     ]
    },
    {
     "name": "stderr",
     "output_type": "stream",
     "text": [
      "\r",
      "Recomendando:  10%|███                           | 5/50 [01:32<14:07, 18.83s/it]"
     ]
    },
    {
     "name": "stdout",
     "output_type": "stream",
     "text": [
      "Recomendação para 'Comfortably Numb - Live At Pompeii 2016' -> 'Xanadu - Live In Canada / 1980' por Rush\n"
     ]
    },
    {
     "name": "stderr",
     "output_type": "stream",
     "text": [
      "\r",
      "Recomendando:  12%|███▌                          | 6/50 [01:51<13:39, 18.63s/it]"
     ]
    },
    {
     "name": "stdout",
     "output_type": "stream",
     "text": [
      "Recomendação para 'The Final Countdown' -> 'Verge' por OwlCityAloeBlacc\n"
     ]
    },
    {
     "name": "stderr",
     "output_type": "stream",
     "text": [
      "\r",
      "Recomendando:  14%|████▏                         | 7/50 [02:09<13:17, 18.55s/it]"
     ]
    },
    {
     "name": "stdout",
     "output_type": "stream",
     "text": [
      "Recomendação para 'Por Enquanto - Ao Vivo' -> 'Goodbye Stranger - Live At Pavillon de Paris/1979' por Supertramp\n"
     ]
    },
    {
     "name": "stderr",
     "output_type": "stream",
     "text": [
      "\r",
      "Recomendando:  16%|████▊                         | 8/50 [02:28<13:02, 18.62s/it]"
     ]
    },
    {
     "name": "stdout",
     "output_type": "stream",
     "text": [
      "Recomendação para 'O Segundo Sol' -> 'What Once Was' por Hers\n"
     ]
    },
    {
     "name": "stderr",
     "output_type": "stream",
     "text": [
      "\r",
      "Recomendando:  18%|█████▍                        | 9/50 [02:47<12:53, 18.86s/it]"
     ]
    },
    {
     "name": "stdout",
     "output_type": "stream",
     "text": [
      "Recomendação para 'Evidências' -> 'Rock 'N Roll Soul' por GrandFunkRailroad\n"
     ]
    },
    {
     "name": "stderr",
     "output_type": "stream",
     "text": [
      "\r",
      "Recomendando:  20%|█████▊                       | 10/50 [03:07<12:42, 19.07s/it]"
     ]
    },
    {
     "name": "stdout",
     "output_type": "stream",
     "text": [
      "Recomendação para 'Certas Coisas' -> 'Listen to the Lion - Live' por VanMorrison\n"
     ]
    },
    {
     "name": "stderr",
     "output_type": "stream",
     "text": [
      "\r",
      "Recomendando:  22%|██████▍                      | 11/50 [03:27<12:42, 19.56s/it]"
     ]
    },
    {
     "name": "stdout",
     "output_type": "stream",
     "text": [
      "Recomendação para 'Tempos Modernos' -> 'The Needle And The Spoon - Live / Fox Theater 2001' por LynyrdSkynyrd\n"
     ]
    },
    {
     "name": "stderr",
     "output_type": "stream",
     "text": [
      "\r",
      "Recomendando:  24%|██████▉                      | 12/50 [03:46<12:10, 19.24s/it]"
     ]
    },
    {
     "name": "stdout",
     "output_type": "stream",
     "text": [
      "Recomendação para 'Tão Bem' -> 'Hand Me Down My Walking Cane' por NormanBlake\n"
     ]
    },
    {
     "name": "stderr",
     "output_type": "stream",
     "text": [
      "\r",
      "Recomendando:  26%|███████▌                     | 13/50 [04:05<11:53, 19.28s/it]"
     ]
    },
    {
     "name": "stdout",
     "output_type": "stream",
     "text": [
      "Recomendação para 'Apenas Mais uma de Amor' -> 'Save the Life of My Child' por SimonGarfunkel\n"
     ]
    },
    {
     "name": "stderr",
     "output_type": "stream",
     "text": [
      "\r",
      "Recomendando:  28%|████████                     | 14/50 [04:25<11:41, 19.49s/it]"
     ]
    },
    {
     "name": "stdout",
     "output_type": "stream",
     "text": [
      "Recomendação para 'Everlong - Acoustic Version' -> 'Melancholy Baby' por CharlieParkerDizzyGillespie\n"
     ]
    },
    {
     "name": "stderr",
     "output_type": "stream",
     "text": [
      "\r",
      "Recomendando:  30%|████████▋                    | 15/50 [04:46<11:32, 19.77s/it]"
     ]
    },
    {
     "name": "stdout",
     "output_type": "stream",
     "text": [
      "Recomendação para 'Times Like These' -> 'Cold Cash And Cold Hearts' por Thrice\n"
     ]
    },
    {
     "name": "stderr",
     "output_type": "stream",
     "text": [
      "\r",
      "Recomendando:  32%|█████████▎                   | 16/50 [05:05<11:11, 19.74s/it]"
     ]
    },
    {
     "name": "stdout",
     "output_type": "stream",
     "text": [
      "Recomendação para 'My Hero' -> 'Period' por CHEMISTRY\n"
     ]
    },
    {
     "name": "stderr",
     "output_type": "stream",
     "text": [
      "\r",
      "Recomendando:  34%|█████████▊                   | 17/50 [05:26<10:58, 19.96s/it]"
     ]
    },
    {
     "name": "stdout",
     "output_type": "stream",
     "text": [
      "Recomendação para 'Best of You' -> 'Please' por Staind\n"
     ]
    },
    {
     "name": "stderr",
     "output_type": "stream",
     "text": [
      "\r",
      "Recomendando:  36%|██████████▍                  | 18/50 [05:45<10:33, 19.81s/it]"
     ]
    },
    {
     "name": "stdout",
     "output_type": "stream",
     "text": [
      "Recomendação para 'Learn to Fly' -> 'Get Stoned' por Hinder\n"
     ]
    },
    {
     "name": "stderr",
     "output_type": "stream",
     "text": [
      "\r",
      "Recomendando:  38%|███████████                  | 19/50 [06:06<10:20, 20.03s/it]"
     ]
    },
    {
     "name": "stdout",
     "output_type": "stream",
     "text": [
      "Recomendação para 'Everlong' -> 'Time For Change' por MtleyCre\n"
     ]
    },
    {
     "name": "stderr",
     "output_type": "stream",
     "text": [
      "\r",
      "Recomendando:  40%|███████████▌                 | 20/50 [06:25<09:50, 19.70s/it]"
     ]
    },
    {
     "name": "stdout",
     "output_type": "stream",
     "text": [
      "Recomendação para 'In Bloom' -> 'In Bloom - Nevermind Version' por Nirvana\n"
     ]
    },
    {
     "name": "stderr",
     "output_type": "stream",
     "text": [
      "\r",
      "Recomendando:  42%|████████████▏                | 21/50 [06:43<09:22, 19.41s/it]"
     ]
    },
    {
     "name": "stdout",
     "output_type": "stream",
     "text": [
      "Recomendação para 'Lithium' -> 'Bloody Mary' por LadyGaga\n"
     ]
    },
    {
     "name": "stderr",
     "output_type": "stream",
     "text": [
      "\r",
      "Recomendando:  44%|████████████▊                | 22/50 [07:02<08:59, 19.25s/it]"
     ]
    },
    {
     "name": "stdout",
     "output_type": "stream",
     "text": [
      "Recomendação para 'About A Girl' -> 'Fistful Of Diamonds' por WASP\n"
     ]
    },
    {
     "name": "stderr",
     "output_type": "stream",
     "text": [
      "\r",
      "Recomendando:  46%|█████████████▎               | 23/50 [07:23<08:50, 19.67s/it]"
     ]
    },
    {
     "name": "stdout",
     "output_type": "stream",
     "text": [
      "Recomendação para 'Heart-Shaped Box' -> 'Dazed and Confused - 2007 Remaster' por LedZeppelin\n"
     ]
    },
    {
     "name": "stderr",
     "output_type": "stream",
     "text": [
      "\r",
      "Recomendando:  48%|█████████████▉               | 24/50 [07:42<08:24, 19.40s/it]"
     ]
    },
    {
     "name": "stdout",
     "output_type": "stream",
     "text": [
      "Recomendação para 'Come As You Are' -> 'So I Broke Her Heart' por DonnyElectric\n"
     ]
    },
    {
     "name": "stderr",
     "output_type": "stream",
     "text": [
      "\r",
      "Recomendando:  50%|██████████████▌              | 25/50 [08:01<08:01, 19.25s/it]"
     ]
    },
    {
     "name": "stdout",
     "output_type": "stream",
     "text": [
      "Recomendação para 'Smells Like Teen Spirit' -> 'My Wave' por Soundgarden\n"
     ]
    },
    {
     "name": "stderr",
     "output_type": "stream",
     "text": [
      "\r",
      "Recomendando:  52%|███████████████              | 26/50 [08:20<07:46, 19.43s/it]"
     ]
    },
    {
     "name": "stdout",
     "output_type": "stream",
     "text": [
      "Recomendação para 'Iris' -> 'Golden Country' por REOSpeedwagon\n"
     ]
    },
    {
     "name": "stderr",
     "output_type": "stream",
     "text": [
      "\r",
      "Recomendando:  54%|███████████████▋             | 27/50 [08:41<07:31, 19.65s/it]"
     ]
    },
    {
     "name": "stdout",
     "output_type": "stream",
     "text": [
      "Recomendação para 'Por Você' -> 'Every Little Thing' por CarlyPearce\n"
     ]
    },
    {
     "name": "stderr",
     "output_type": "stream",
     "text": [
      "\r",
      "Recomendando:  56%|████████████████▏            | 28/50 [09:01<07:15, 19.81s/it]"
     ]
    },
    {
     "name": "stdout",
     "output_type": "stream",
     "text": [
      "Recomendação para 'Amor pra recomeçar' -> 'Tough Guys' por REOSpeedwagon\n"
     ]
    },
    {
     "name": "stderr",
     "output_type": "stream",
     "text": [
      "\r",
      "Recomendando:  58%|████████████████▊            | 29/50 [09:21<06:58, 19.94s/it]"
     ]
    },
    {
     "name": "stdout",
     "output_type": "stream",
     "text": [
      "Recomendação para 'Segredos' -> 'Brother' por MacDeMarco\n"
     ]
    },
    {
     "name": "stderr",
     "output_type": "stream",
     "text": [
      "\r",
      "Recomendando:  60%|█████████████████▍           | 30/50 [09:41<06:40, 20.04s/it]"
     ]
    },
    {
     "name": "stdout",
     "output_type": "stream",
     "text": [
      "Recomendação para 'Far Away - 2020 Remaster' -> 'Hold Me Down' por TommyLee\n"
     ]
    },
    {
     "name": "stderr",
     "output_type": "stream",
     "text": [
      "\r",
      "Recomendando:  62%|█████████████████▉           | 31/50 [10:00<06:16, 19.79s/it]"
     ]
    },
    {
     "name": "stdout",
     "output_type": "stream",
     "text": [
      "Recomendação para 'How You Remind Me' -> 'Come Together' por GaryClarkJrJunkieXL\n"
     ]
    },
    {
     "name": "stderr",
     "output_type": "stream",
     "text": [
      "\r",
      "Recomendando:  64%|██████████████████▌          | 32/50 [10:21<06:00, 20.02s/it]"
     ]
    },
    {
     "name": "stdout",
     "output_type": "stream",
     "text": [
      "Recomendação para 'Send Me An Angel' -> 'The Song Is Love' por PeterPaulandMary\n"
     ]
    },
    {
     "name": "stderr",
     "output_type": "stream",
     "text": [
      "\r",
      "Recomendando:  66%|███████████████████▏         | 33/50 [10:41<05:41, 20.08s/it]"
     ]
    },
    {
     "name": "stdout",
     "output_type": "stream",
     "text": [
      "Recomendação para 'Wind Of Change' -> 'Copperline' por JamesTaylor\n"
     ]
    },
    {
     "name": "stderr",
     "output_type": "stream",
     "text": [
      "\r",
      "Recomendando:  68%|███████████████████▋         | 34/50 [11:01<05:21, 20.12s/it]"
     ]
    },
    {
     "name": "stdout",
     "output_type": "stream",
     "text": [
      "Recomendação para 'Still Loving You' -> 'I'd Be So Happy - Single Version' por ThreeDogNight\n"
     ]
    },
    {
     "name": "stderr",
     "output_type": "stream",
     "text": [
      "\r",
      "Recomendando:  70%|████████████████████▎        | 35/50 [11:21<04:58, 19.92s/it]"
     ]
    },
    {
     "name": "stdout",
     "output_type": "stream",
     "text": [
      "Recomendação para 'To Be With You' -> 'Ain't Got No Home' por ClarenceFrogmanHenry\n"
     ]
    },
    {
     "name": "stderr",
     "output_type": "stream",
     "text": [
      "\r",
      "Recomendando:  72%|████████████████████▉        | 36/50 [11:41<04:41, 20.10s/it]"
     ]
    },
    {
     "name": "stdout",
     "output_type": "stream",
     "text": [
      "Recomendação para 'Perfect' -> 'Heroe' por EnriqueIglesias\n"
     ]
    },
    {
     "name": "stderr",
     "output_type": "stream",
     "text": [
      "\r",
      "Recomendando:  74%|█████████████████████▍       | 37/50 [12:01<04:20, 20.07s/it]"
     ]
    },
    {
     "name": "stdout",
     "output_type": "stream",
     "text": [
      "Recomendação para 'Can't Stop Lovin' You' -> 'Puzzle Pieces' por SaintMotel\n"
     ]
    },
    {
     "name": "stderr",
     "output_type": "stream",
     "text": [
      "\r",
      "Recomendando:  76%|██████████████████████       | 38/50 [12:21<04:00, 20.05s/it]"
     ]
    },
    {
     "name": "stdout",
     "output_type": "stream",
     "text": [
      "Recomendação para 'Ordinary World' -> 'Amazing Journey' por TheWho\n"
     ]
    },
    {
     "name": "stderr",
     "output_type": "stream",
     "text": [
      "\r",
      "Recomendando:  78%|██████████████████████▌      | 39/50 [12:42<03:41, 20.15s/it]"
     ]
    },
    {
     "name": "stdout",
     "output_type": "stream",
     "text": [
      "Recomendação para 'Last Kiss' -> 'Deep Inside You' por GloriaAnnTaylor\n"
     ]
    },
    {
     "name": "stderr",
     "output_type": "stream",
     "text": [
      "\r",
      "Recomendando:  80%|███████████████████████▏     | 40/50 [13:01<03:18, 19.82s/it]"
     ]
    },
    {
     "name": "stdout",
     "output_type": "stream",
     "text": [
      "Recomendação para 'Alive' -> 'God Of Thunder - 2012 Remix' por KISS\n"
     ]
    },
    {
     "name": "stderr",
     "output_type": "stream",
     "text": [
      "\r",
      "Recomendando:  82%|███████████████████████▊     | 41/50 [13:21<02:57, 19.77s/it]"
     ]
    },
    {
     "name": "stdout",
     "output_type": "stream",
     "text": [
      "Recomendação para 'Even Flow' -> 'Forkboy' por Lard\n"
     ]
    },
    {
     "name": "stderr",
     "output_type": "stream",
     "text": [
      "\r",
      "Recomendando:  84%|████████████████████████▎    | 42/50 [13:40<02:37, 19.64s/it]"
     ]
    },
    {
     "name": "stdout",
     "output_type": "stream",
     "text": [
      "Recomendação para 'I Still Haven't Found What I'm Looking For' -> 'I Still Haven't Found What I'm Looking For - Remastered 2007' por U\n"
     ]
    },
    {
     "name": "stderr",
     "output_type": "stream",
     "text": [
      "\r",
      "Recomendando:  86%|████████████████████████▉    | 43/50 [14:00<02:17, 19.64s/it]"
     ]
    },
    {
     "name": "stdout",
     "output_type": "stream",
     "text": [
      "Recomendação para 'With Or Without You' -> 'Throne' por ASADI\n"
     ]
    },
    {
     "name": "stderr",
     "output_type": "stream",
     "text": [
      "\r",
      "Recomendando:  88%|█████████████████████████▌   | 44/50 [14:19<01:57, 19.55s/it]"
     ]
    },
    {
     "name": "stdout",
     "output_type": "stream",
     "text": [
      "Recomendação para 'One' -> 'Highwayman' por GlenCampbell\n"
     ]
    },
    {
     "name": "stderr",
     "output_type": "stream",
     "text": [
      "\r",
      "Recomendando:  90%|██████████████████████████   | 45/50 [14:38<01:37, 19.50s/it]"
     ]
    },
    {
     "name": "stdout",
     "output_type": "stream",
     "text": [
      "Recomendação para 'Angel' -> 'Daydream' por WallaceCollection\n"
     ]
    },
    {
     "name": "stderr",
     "output_type": "stream",
     "text": [
      "\r",
      "Recomendando:  92%|██████████████████████████▋  | 46/50 [14:58<01:17, 19.48s/it]"
     ]
    },
    {
     "name": "stdout",
     "output_type": "stream",
     "text": [
      "Recomendação para 'Cryin'' -> 'Panzerkampf' por Sabaton\n"
     ]
    },
    {
     "name": "stderr",
     "output_type": "stream",
     "text": [
      "\r",
      "Recomendando:  94%|███████████████████████████▎ | 47/50 [15:17<00:58, 19.42s/it]"
     ]
    },
    {
     "name": "stdout",
     "output_type": "stream",
     "text": [
      "Recomendação para 'Crazy' -> 'Smile' por Weezer\n"
     ]
    },
    {
     "name": "stderr",
     "output_type": "stream",
     "text": [
      "\r",
      "Recomendando:  96%|███████████████████████████▊ | 48/50 [15:36<00:38, 19.33s/it]"
     ]
    },
    {
     "name": "stdout",
     "output_type": "stream",
     "text": [
      "Recomendação para 'Walk This Way' -> 'Color Me True' por SlyTheFamilyStone\n"
     ]
    },
    {
     "name": "stderr",
     "output_type": "stream",
     "text": [
      "\r",
      "Recomendando:  98%|████████████████████████████▍| 49/50 [15:55<00:19, 19.28s/it]"
     ]
    },
    {
     "name": "stdout",
     "output_type": "stream",
     "text": [
      "Recomendação para 'I Don't Want To Miss A Thing - From \"Armageddon\" Soundtrack' -> '祝君好' por Chilam\n"
     ]
    },
    {
     "name": "stderr",
     "output_type": "stream",
     "text": [
      "Recomendando: 100%|█████████████████████████████| 50/50 [16:14<00:00, 19.49s/it]"
     ]
    },
    {
     "name": "stdout",
     "output_type": "stream",
     "text": [
      "Recomendação para 'Dream On' -> 'El Tango De Roxanne - From \"Moulin Rouge\" Soundtrack' por JosFelicianoEwanMcGregorJacekKoman\n"
     ]
    },
    {
     "name": "stderr",
     "output_type": "stream",
     "text": [
      "\n"
     ]
    },
    {
     "data": {
      "text/html": [
       "<div>\n",
       "<style scoped>\n",
       "    .dataframe tbody tr th:only-of-type {\n",
       "        vertical-align: middle;\n",
       "    }\n",
       "\n",
       "    .dataframe tbody tr th {\n",
       "        vertical-align: top;\n",
       "    }\n",
       "\n",
       "    .dataframe thead th {\n",
       "        text-align: right;\n",
       "    }\n",
       "</style>\n",
       "<table border=\"1\" class=\"dataframe\">\n",
       "  <thead>\n",
       "    <tr style=\"text-align: right;\">\n",
       "      <th></th>\n",
       "      <th>favorite_song</th>\n",
       "      <th>recommended_song</th>\n",
       "      <th>recommended_artist</th>\n",
       "      <th>similarity_score</th>\n",
       "    </tr>\n",
       "  </thead>\n",
       "  <tbody>\n",
       "    <tr>\n",
       "      <th>0</th>\n",
       "      <td>Spending My Time</td>\n",
       "      <td>Amoureuse</td>\n",
       "      <td>KikiDee</td>\n",
       "      <td>1.085004e-01</td>\n",
       "    </tr>\n",
       "    <tr>\n",
       "      <th>1</th>\n",
       "      <td>Home Sweet Home</td>\n",
       "      <td>The Great Beyond</td>\n",
       "      <td>REM</td>\n",
       "      <td>1.183066e-01</td>\n",
       "    </tr>\n",
       "    <tr>\n",
       "      <th>2</th>\n",
       "      <td>High Hopes - Live At Pompeii 2016</td>\n",
       "      <td>21st Century Man</td>\n",
       "      <td>ElectricLightOrchestra</td>\n",
       "      <td>2.089408e-01</td>\n",
       "    </tr>\n",
       "    <tr>\n",
       "      <th>3</th>\n",
       "      <td>Rattle That Lock</td>\n",
       "      <td>Manic Monday</td>\n",
       "      <td>TheBangles</td>\n",
       "      <td>1.121441e-01</td>\n",
       "    </tr>\n",
       "    <tr>\n",
       "      <th>4</th>\n",
       "      <td>Comfortably Numb - Live At Pompeii 2016</td>\n",
       "      <td>Xanadu - Live In Canada / 1980</td>\n",
       "      <td>Rush</td>\n",
       "      <td>1.417028e-01</td>\n",
       "    </tr>\n",
       "    <tr>\n",
       "      <th>5</th>\n",
       "      <td>The Final Countdown</td>\n",
       "      <td>Verge</td>\n",
       "      <td>OwlCityAloeBlacc</td>\n",
       "      <td>1.349924e-01</td>\n",
       "    </tr>\n",
       "    <tr>\n",
       "      <th>6</th>\n",
       "      <td>Por Enquanto - Ao Vivo</td>\n",
       "      <td>Goodbye Stranger - Live At Pavillon de Paris/1979</td>\n",
       "      <td>Supertramp</td>\n",
       "      <td>1.801335e-01</td>\n",
       "    </tr>\n",
       "    <tr>\n",
       "      <th>7</th>\n",
       "      <td>O Segundo Sol</td>\n",
       "      <td>What Once Was</td>\n",
       "      <td>Hers</td>\n",
       "      <td>1.771892e-01</td>\n",
       "    </tr>\n",
       "    <tr>\n",
       "      <th>8</th>\n",
       "      <td>Evidências</td>\n",
       "      <td>Rock 'N Roll Soul</td>\n",
       "      <td>GrandFunkRailroad</td>\n",
       "      <td>2.887600e-01</td>\n",
       "    </tr>\n",
       "    <tr>\n",
       "      <th>9</th>\n",
       "      <td>Certas Coisas</td>\n",
       "      <td>Listen to the Lion - Live</td>\n",
       "      <td>VanMorrison</td>\n",
       "      <td>2.127094e-01</td>\n",
       "    </tr>\n",
       "    <tr>\n",
       "      <th>10</th>\n",
       "      <td>Tempos Modernos</td>\n",
       "      <td>The Needle And The Spoon - Live / Fox Theater ...</td>\n",
       "      <td>LynyrdSkynyrd</td>\n",
       "      <td>2.149927e-01</td>\n",
       "    </tr>\n",
       "    <tr>\n",
       "      <th>11</th>\n",
       "      <td>Tão Bem</td>\n",
       "      <td>Hand Me Down My Walking Cane</td>\n",
       "      <td>NormanBlake</td>\n",
       "      <td>1.269619e-01</td>\n",
       "    </tr>\n",
       "    <tr>\n",
       "      <th>12</th>\n",
       "      <td>Apenas Mais uma de Amor</td>\n",
       "      <td>Save the Life of My Child</td>\n",
       "      <td>SimonGarfunkel</td>\n",
       "      <td>2.037613e-01</td>\n",
       "    </tr>\n",
       "    <tr>\n",
       "      <th>13</th>\n",
       "      <td>Everlong - Acoustic Version</td>\n",
       "      <td>Melancholy Baby</td>\n",
       "      <td>CharlieParkerDizzyGillespie</td>\n",
       "      <td>9.281503e-02</td>\n",
       "    </tr>\n",
       "    <tr>\n",
       "      <th>14</th>\n",
       "      <td>Times Like These</td>\n",
       "      <td>Cold Cash And Cold Hearts</td>\n",
       "      <td>Thrice</td>\n",
       "      <td>7.491107e-02</td>\n",
       "    </tr>\n",
       "    <tr>\n",
       "      <th>15</th>\n",
       "      <td>My Hero</td>\n",
       "      <td>Period</td>\n",
       "      <td>CHEMISTRY</td>\n",
       "      <td>6.464553e-02</td>\n",
       "    </tr>\n",
       "    <tr>\n",
       "      <th>16</th>\n",
       "      <td>Best of You</td>\n",
       "      <td>Please</td>\n",
       "      <td>Staind</td>\n",
       "      <td>1.018746e-01</td>\n",
       "    </tr>\n",
       "    <tr>\n",
       "      <th>17</th>\n",
       "      <td>Learn to Fly</td>\n",
       "      <td>Get Stoned</td>\n",
       "      <td>Hinder</td>\n",
       "      <td>8.129598e-02</td>\n",
       "    </tr>\n",
       "    <tr>\n",
       "      <th>18</th>\n",
       "      <td>Everlong</td>\n",
       "      <td>Time For Change</td>\n",
       "      <td>MtleyCre</td>\n",
       "      <td>9.108287e-02</td>\n",
       "    </tr>\n",
       "    <tr>\n",
       "      <th>19</th>\n",
       "      <td>In Bloom</td>\n",
       "      <td>In Bloom - Nevermind Version</td>\n",
       "      <td>Nirvana</td>\n",
       "      <td>1.110223e-16</td>\n",
       "    </tr>\n",
       "    <tr>\n",
       "      <th>20</th>\n",
       "      <td>Lithium</td>\n",
       "      <td>Bloody Mary</td>\n",
       "      <td>LadyGaga</td>\n",
       "      <td>1.109723e-01</td>\n",
       "    </tr>\n",
       "    <tr>\n",
       "      <th>21</th>\n",
       "      <td>About A Girl</td>\n",
       "      <td>Fistful Of Diamonds</td>\n",
       "      <td>WASP</td>\n",
       "      <td>8.026210e-02</td>\n",
       "    </tr>\n",
       "    <tr>\n",
       "      <th>22</th>\n",
       "      <td>Heart-Shaped Box</td>\n",
       "      <td>Dazed and Confused - 2007 Remaster</td>\n",
       "      <td>LedZeppelin</td>\n",
       "      <td>1.609997e-01</td>\n",
       "    </tr>\n",
       "    <tr>\n",
       "      <th>23</th>\n",
       "      <td>Come As You Are</td>\n",
       "      <td>So I Broke Her Heart</td>\n",
       "      <td>DonnyElectric</td>\n",
       "      <td>8.040747e-02</td>\n",
       "    </tr>\n",
       "    <tr>\n",
       "      <th>24</th>\n",
       "      <td>Smells Like Teen Spirit</td>\n",
       "      <td>My Wave</td>\n",
       "      <td>Soundgarden</td>\n",
       "      <td>4.836907e-02</td>\n",
       "    </tr>\n",
       "    <tr>\n",
       "      <th>25</th>\n",
       "      <td>Iris</td>\n",
       "      <td>Golden Country</td>\n",
       "      <td>REOSpeedwagon</td>\n",
       "      <td>1.212599e-01</td>\n",
       "    </tr>\n",
       "    <tr>\n",
       "      <th>26</th>\n",
       "      <td>Por Você</td>\n",
       "      <td>Every Little Thing</td>\n",
       "      <td>CarlyPearce</td>\n",
       "      <td>1.229124e-01</td>\n",
       "    </tr>\n",
       "    <tr>\n",
       "      <th>27</th>\n",
       "      <td>Amor pra recomeçar</td>\n",
       "      <td>Tough Guys</td>\n",
       "      <td>REOSpeedwagon</td>\n",
       "      <td>1.082954e-01</td>\n",
       "    </tr>\n",
       "    <tr>\n",
       "      <th>28</th>\n",
       "      <td>Segredos</td>\n",
       "      <td>Brother</td>\n",
       "      <td>MacDeMarco</td>\n",
       "      <td>1.283472e-01</td>\n",
       "    </tr>\n",
       "    <tr>\n",
       "      <th>29</th>\n",
       "      <td>Far Away - 2020 Remaster</td>\n",
       "      <td>Hold Me Down</td>\n",
       "      <td>TommyLee</td>\n",
       "      <td>6.517177e-02</td>\n",
       "    </tr>\n",
       "    <tr>\n",
       "      <th>30</th>\n",
       "      <td>How You Remind Me</td>\n",
       "      <td>Come Together</td>\n",
       "      <td>GaryClarkJrJunkieXL</td>\n",
       "      <td>7.149272e-02</td>\n",
       "    </tr>\n",
       "    <tr>\n",
       "      <th>31</th>\n",
       "      <td>Send Me An Angel</td>\n",
       "      <td>The Song Is Love</td>\n",
       "      <td>PeterPaulandMary</td>\n",
       "      <td>1.850828e-01</td>\n",
       "    </tr>\n",
       "    <tr>\n",
       "      <th>32</th>\n",
       "      <td>Wind Of Change</td>\n",
       "      <td>Copperline</td>\n",
       "      <td>JamesTaylor</td>\n",
       "      <td>8.804147e-02</td>\n",
       "    </tr>\n",
       "    <tr>\n",
       "      <th>33</th>\n",
       "      <td>Still Loving You</td>\n",
       "      <td>I'd Be So Happy - Single Version</td>\n",
       "      <td>ThreeDogNight</td>\n",
       "      <td>1.614235e-01</td>\n",
       "    </tr>\n",
       "    <tr>\n",
       "      <th>34</th>\n",
       "      <td>To Be With You</td>\n",
       "      <td>Ain't Got No Home</td>\n",
       "      <td>ClarenceFrogmanHenry</td>\n",
       "      <td>1.171422e-01</td>\n",
       "    </tr>\n",
       "    <tr>\n",
       "      <th>35</th>\n",
       "      <td>Perfect</td>\n",
       "      <td>Heroe</td>\n",
       "      <td>EnriqueIglesias</td>\n",
       "      <td>1.511955e-01</td>\n",
       "    </tr>\n",
       "    <tr>\n",
       "      <th>36</th>\n",
       "      <td>Can't Stop Lovin' You</td>\n",
       "      <td>Puzzle Pieces</td>\n",
       "      <td>SaintMotel</td>\n",
       "      <td>1.002148e-01</td>\n",
       "    </tr>\n",
       "    <tr>\n",
       "      <th>37</th>\n",
       "      <td>Ordinary World</td>\n",
       "      <td>Amazing Journey</td>\n",
       "      <td>TheWho</td>\n",
       "      <td>1.098742e-01</td>\n",
       "    </tr>\n",
       "    <tr>\n",
       "      <th>38</th>\n",
       "      <td>Last Kiss</td>\n",
       "      <td>Deep Inside You</td>\n",
       "      <td>GloriaAnnTaylor</td>\n",
       "      <td>1.191471e-01</td>\n",
       "    </tr>\n",
       "    <tr>\n",
       "      <th>39</th>\n",
       "      <td>Alive</td>\n",
       "      <td>God Of Thunder - 2012 Remix</td>\n",
       "      <td>KISS</td>\n",
       "      <td>7.084699e-02</td>\n",
       "    </tr>\n",
       "    <tr>\n",
       "      <th>40</th>\n",
       "      <td>Even Flow</td>\n",
       "      <td>Forkboy</td>\n",
       "      <td>Lard</td>\n",
       "      <td>1.313560e-01</td>\n",
       "    </tr>\n",
       "    <tr>\n",
       "      <th>41</th>\n",
       "      <td>I Still Haven't Found What I'm Looking For</td>\n",
       "      <td>I Still Haven't Found What I'm Looking For - R...</td>\n",
       "      <td>U</td>\n",
       "      <td>3.225339e-02</td>\n",
       "    </tr>\n",
       "    <tr>\n",
       "      <th>42</th>\n",
       "      <td>With Or Without You</td>\n",
       "      <td>Throne</td>\n",
       "      <td>ASADI</td>\n",
       "      <td>1.475649e-01</td>\n",
       "    </tr>\n",
       "    <tr>\n",
       "      <th>43</th>\n",
       "      <td>One</td>\n",
       "      <td>Highwayman</td>\n",
       "      <td>GlenCampbell</td>\n",
       "      <td>1.114375e-01</td>\n",
       "    </tr>\n",
       "    <tr>\n",
       "      <th>44</th>\n",
       "      <td>Angel</td>\n",
       "      <td>Daydream</td>\n",
       "      <td>WallaceCollection</td>\n",
       "      <td>2.185063e-01</td>\n",
       "    </tr>\n",
       "    <tr>\n",
       "      <th>45</th>\n",
       "      <td>Cryin'</td>\n",
       "      <td>Panzerkampf</td>\n",
       "      <td>Sabaton</td>\n",
       "      <td>9.868807e-02</td>\n",
       "    </tr>\n",
       "    <tr>\n",
       "      <th>46</th>\n",
       "      <td>Crazy</td>\n",
       "      <td>Smile</td>\n",
       "      <td>Weezer</td>\n",
       "      <td>8.367461e-02</td>\n",
       "    </tr>\n",
       "    <tr>\n",
       "      <th>47</th>\n",
       "      <td>Walk This Way</td>\n",
       "      <td>Color Me True</td>\n",
       "      <td>SlyTheFamilyStone</td>\n",
       "      <td>7.227757e-02</td>\n",
       "    </tr>\n",
       "    <tr>\n",
       "      <th>48</th>\n",
       "      <td>I Don't Want To Miss A Thing - From \"Armageddo...</td>\n",
       "      <td>祝君好</td>\n",
       "      <td>Chilam</td>\n",
       "      <td>1.497169e-01</td>\n",
       "    </tr>\n",
       "    <tr>\n",
       "      <th>49</th>\n",
       "      <td>Dream On</td>\n",
       "      <td>El Tango De Roxanne - From \"Moulin Rouge\" Soun...</td>\n",
       "      <td>JosFelicianoEwanMcGregorJacekKoman</td>\n",
       "      <td>1.911897e-01</td>\n",
       "    </tr>\n",
       "  </tbody>\n",
       "</table>\n",
       "</div>"
      ],
      "text/plain": [
       "                                        favorite_song  \\\n",
       "0                                    Spending My Time   \n",
       "1                                     Home Sweet Home   \n",
       "2                   High Hopes - Live At Pompeii 2016   \n",
       "3                                    Rattle That Lock   \n",
       "4             Comfortably Numb - Live At Pompeii 2016   \n",
       "5                                 The Final Countdown   \n",
       "6                              Por Enquanto - Ao Vivo   \n",
       "7                                       O Segundo Sol   \n",
       "8                                          Evidências   \n",
       "9                                       Certas Coisas   \n",
       "10                                    Tempos Modernos   \n",
       "11                                            Tão Bem   \n",
       "12                            Apenas Mais uma de Amor   \n",
       "13                        Everlong - Acoustic Version   \n",
       "14                                   Times Like These   \n",
       "15                                            My Hero   \n",
       "16                                        Best of You   \n",
       "17                                       Learn to Fly   \n",
       "18                                           Everlong   \n",
       "19                                           In Bloom   \n",
       "20                                            Lithium   \n",
       "21                                       About A Girl   \n",
       "22                                   Heart-Shaped Box   \n",
       "23                                    Come As You Are   \n",
       "24                            Smells Like Teen Spirit   \n",
       "25                                               Iris   \n",
       "26                                           Por Você   \n",
       "27                                 Amor pra recomeçar   \n",
       "28                                           Segredos   \n",
       "29                           Far Away - 2020 Remaster   \n",
       "30                                  How You Remind Me   \n",
       "31                                   Send Me An Angel   \n",
       "32                                     Wind Of Change   \n",
       "33                                   Still Loving You   \n",
       "34                                     To Be With You   \n",
       "35                                            Perfect   \n",
       "36                              Can't Stop Lovin' You   \n",
       "37                                     Ordinary World   \n",
       "38                                          Last Kiss   \n",
       "39                                              Alive   \n",
       "40                                          Even Flow   \n",
       "41         I Still Haven't Found What I'm Looking For   \n",
       "42                                With Or Without You   \n",
       "43                                                One   \n",
       "44                                              Angel   \n",
       "45                                             Cryin'   \n",
       "46                                              Crazy   \n",
       "47                                      Walk This Way   \n",
       "48  I Don't Want To Miss A Thing - From \"Armageddo...   \n",
       "49                                           Dream On   \n",
       "\n",
       "                                     recommended_song  \\\n",
       "0                                           Amoureuse   \n",
       "1                                    The Great Beyond   \n",
       "2                                    21st Century Man   \n",
       "3                                        Manic Monday   \n",
       "4                      Xanadu - Live In Canada / 1980   \n",
       "5                                               Verge   \n",
       "6   Goodbye Stranger - Live At Pavillon de Paris/1979   \n",
       "7                                       What Once Was   \n",
       "8                                   Rock 'N Roll Soul   \n",
       "9                           Listen to the Lion - Live   \n",
       "10  The Needle And The Spoon - Live / Fox Theater ...   \n",
       "11                       Hand Me Down My Walking Cane   \n",
       "12                          Save the Life of My Child   \n",
       "13                                    Melancholy Baby   \n",
       "14                          Cold Cash And Cold Hearts   \n",
       "15                                             Period   \n",
       "16                                             Please   \n",
       "17                                         Get Stoned   \n",
       "18                                    Time For Change   \n",
       "19                       In Bloom - Nevermind Version   \n",
       "20                                        Bloody Mary   \n",
       "21                                Fistful Of Diamonds   \n",
       "22                 Dazed and Confused - 2007 Remaster   \n",
       "23                               So I Broke Her Heart   \n",
       "24                                            My Wave   \n",
       "25                                     Golden Country   \n",
       "26                                 Every Little Thing   \n",
       "27                                         Tough Guys   \n",
       "28                                            Brother   \n",
       "29                                       Hold Me Down   \n",
       "30                                      Come Together   \n",
       "31                                   The Song Is Love   \n",
       "32                                         Copperline   \n",
       "33                   I'd Be So Happy - Single Version   \n",
       "34                                  Ain't Got No Home   \n",
       "35                                              Heroe   \n",
       "36                                      Puzzle Pieces   \n",
       "37                                    Amazing Journey   \n",
       "38                                    Deep Inside You   \n",
       "39                        God Of Thunder - 2012 Remix   \n",
       "40                                            Forkboy   \n",
       "41  I Still Haven't Found What I'm Looking For - R...   \n",
       "42                                             Throne   \n",
       "43                                         Highwayman   \n",
       "44                                           Daydream   \n",
       "45                                        Panzerkampf   \n",
       "46                                              Smile   \n",
       "47                                      Color Me True   \n",
       "48                                                祝君好   \n",
       "49  El Tango De Roxanne - From \"Moulin Rouge\" Soun...   \n",
       "\n",
       "                    recommended_artist  similarity_score  \n",
       "0                              KikiDee      1.085004e-01  \n",
       "1                                  REM      1.183066e-01  \n",
       "2               ElectricLightOrchestra      2.089408e-01  \n",
       "3                           TheBangles      1.121441e-01  \n",
       "4                                 Rush      1.417028e-01  \n",
       "5                     OwlCityAloeBlacc      1.349924e-01  \n",
       "6                           Supertramp      1.801335e-01  \n",
       "7                                 Hers      1.771892e-01  \n",
       "8                    GrandFunkRailroad      2.887600e-01  \n",
       "9                          VanMorrison      2.127094e-01  \n",
       "10                       LynyrdSkynyrd      2.149927e-01  \n",
       "11                         NormanBlake      1.269619e-01  \n",
       "12                      SimonGarfunkel      2.037613e-01  \n",
       "13         CharlieParkerDizzyGillespie      9.281503e-02  \n",
       "14                              Thrice      7.491107e-02  \n",
       "15                           CHEMISTRY      6.464553e-02  \n",
       "16                              Staind      1.018746e-01  \n",
       "17                              Hinder      8.129598e-02  \n",
       "18                            MtleyCre      9.108287e-02  \n",
       "19                             Nirvana      1.110223e-16  \n",
       "20                            LadyGaga      1.109723e-01  \n",
       "21                                WASP      8.026210e-02  \n",
       "22                         LedZeppelin      1.609997e-01  \n",
       "23                       DonnyElectric      8.040747e-02  \n",
       "24                         Soundgarden      4.836907e-02  \n",
       "25                       REOSpeedwagon      1.212599e-01  \n",
       "26                         CarlyPearce      1.229124e-01  \n",
       "27                       REOSpeedwagon      1.082954e-01  \n",
       "28                          MacDeMarco      1.283472e-01  \n",
       "29                            TommyLee      6.517177e-02  \n",
       "30                 GaryClarkJrJunkieXL      7.149272e-02  \n",
       "31                    PeterPaulandMary      1.850828e-01  \n",
       "32                         JamesTaylor      8.804147e-02  \n",
       "33                       ThreeDogNight      1.614235e-01  \n",
       "34                ClarenceFrogmanHenry      1.171422e-01  \n",
       "35                     EnriqueIglesias      1.511955e-01  \n",
       "36                          SaintMotel      1.002148e-01  \n",
       "37                              TheWho      1.098742e-01  \n",
       "38                     GloriaAnnTaylor      1.191471e-01  \n",
       "39                                KISS      7.084699e-02  \n",
       "40                                Lard      1.313560e-01  \n",
       "41                                   U      3.225339e-02  \n",
       "42                               ASADI      1.475649e-01  \n",
       "43                        GlenCampbell      1.114375e-01  \n",
       "44                   WallaceCollection      2.185063e-01  \n",
       "45                             Sabaton      9.868807e-02  \n",
       "46                              Weezer      8.367461e-02  \n",
       "47                   SlyTheFamilyStone      7.227757e-02  \n",
       "48                              Chilam      1.497169e-01  \n",
       "49  JosFelicianoEwanMcGregorJacekKoman      1.911897e-01  "
      ]
     },
     "metadata": {},
     "output_type": "display_data"
    }
   ],
   "source": [
    "from tqdm import tqdm\n",
    "\n",
    "class RecoSystem():\n",
    "    \n",
    "    # Método construtor\n",
    "    def __init__(self, data):\n",
    "        self.data_ = data\n",
    "    \n",
    "    # Método de recomendação com base em uma lista de músicas favoritas\n",
    "    def Recomm(self, lista_musicas, amount_per_song=1):\n",
    "        \n",
    "        # Lista para armazenar todas as recomendações\n",
    "        all_recommendations = []\n",
    "        \n",
    "        # Usando tqdm para adicionar barra de progresso\n",
    "        for _, song in tqdm(lista_musicas.iterrows(), total=lista_musicas.shape[0], desc=\"Recomendando\"):\n",
    "            # Lista para armazenar distâncias\n",
    "            distancias = []\n",
    "            \n",
    "            # Extrai as características da música favorita\n",
    "            song_features = song[['danceability', 'energy', 'loudness', \n",
    "                                  'speechiness', 'acousticness', \n",
    "                                  'instrumentalness', 'liveness', 'valence']].values\n",
    "            \n",
    "            # Loop para calcular distâncias entre a música favorita e as músicas do DataFrame de recomendações\n",
    "            for _, rec_song in self.data_.iterrows():\n",
    "                rec_song_features = rec_song[['danceability', 'energy', 'loudness', \n",
    "                                              'speechiness', 'acousticness', \n",
    "                                              'instrumentalness', 'liveness', 'valence']].values\n",
    "                # Calcula a distância entre a música favorita e a música de recomendação\n",
    "                distancia = np.linalg.norm(song_features - rec_song_features)\n",
    "                \n",
    "                # Armazena a distância calculada\n",
    "                distancias.append((rec_song['name'], rec_song['artists'], distancia))\n",
    "            \n",
    "            # Ordena as músicas recomendadas com base na menor distância\n",
    "            distancias.sort(key=lambda x: x[2])\n",
    "            \n",
    "            # Armazena as recomendações para a música atual\n",
    "            for i in range(amount_per_song):\n",
    "                recommendation = {\n",
    "                    'favorite_song': song['name'],\n",
    "                    'recommended_song': distancias[i][0],\n",
    "                    'recommended_artist': distancias[i][1],\n",
    "                    'similarity_score': distancias[i][2]\n",
    "                }\n",
    "                all_recommendations.append(recommendation)\n",
    "                \n",
    "                # Exibe a recomendação no output\n",
    "                print(f\"Recomendação para '{song['name']}' -> '{distancias[i][0]}' por {distancias[i][1]}\")\n",
    "        \n",
    "        # Converte a lista final em um DataFrame para visualização\n",
    "        final_recommendations = pd.DataFrame(all_recommendations)\n",
    "        \n",
    "        return final_recommendations\n",
    "\n",
    "\n",
    "## Exemplo de uso:\n",
    "\n",
    "# Supondo que `df_final` é o DataFrame de dados de músicas para recomendação e `df_tracks` contém as 50 músicas favoritas do usuário\n",
    "reco_obj = RecoSystem(df_final)\n",
    "\n",
    "# Gera as recomendações com base na lista de músicas favoritas\n",
    "recomendacoes = reco_obj.Recomm(df_tracks, amount_per_song=1)\n",
    "\n",
    "# Exibe as recomendações\n",
    "display(recomendacoes)"
   ]
  },
  {
   "cell_type": "markdown",
   "id": "20d51d8f",
   "metadata": {},
   "source": [
    "<br><br>\n",
    "\n",
    "# 14. Salvamento das Recomendações 2"
   ]
  },
  {
   "cell_type": "code",
   "execution_count": 47,
   "id": "58aa6e23",
   "metadata": {},
   "outputs": [
    {
     "data": {
      "text/html": [
       "<div>\n",
       "<style scoped>\n",
       "    .dataframe tbody tr th:only-of-type {\n",
       "        vertical-align: middle;\n",
       "    }\n",
       "\n",
       "    .dataframe tbody tr th {\n",
       "        vertical-align: top;\n",
       "    }\n",
       "\n",
       "    .dataframe thead th {\n",
       "        text-align: right;\n",
       "    }\n",
       "</style>\n",
       "<table border=\"1\" class=\"dataframe\">\n",
       "  <thead>\n",
       "    <tr style=\"text-align: right;\">\n",
       "      <th></th>\n",
       "      <th>favorite_song</th>\n",
       "      <th>recommended_song</th>\n",
       "      <th>recommended_artist</th>\n",
       "      <th>similarity_score</th>\n",
       "    </tr>\n",
       "  </thead>\n",
       "  <tbody>\n",
       "    <tr>\n",
       "      <th>0</th>\n",
       "      <td>Spending My Time</td>\n",
       "      <td>Amoureuse</td>\n",
       "      <td>KikiDee</td>\n",
       "      <td>0.108500</td>\n",
       "    </tr>\n",
       "    <tr>\n",
       "      <th>1</th>\n",
       "      <td>Home Sweet Home</td>\n",
       "      <td>The Great Beyond</td>\n",
       "      <td>REM</td>\n",
       "      <td>0.118307</td>\n",
       "    </tr>\n",
       "    <tr>\n",
       "      <th>2</th>\n",
       "      <td>High Hopes - Live At Pompeii 2016</td>\n",
       "      <td>21st Century Man</td>\n",
       "      <td>ElectricLightOrchestra</td>\n",
       "      <td>0.208941</td>\n",
       "    </tr>\n",
       "    <tr>\n",
       "      <th>3</th>\n",
       "      <td>Rattle That Lock</td>\n",
       "      <td>Manic Monday</td>\n",
       "      <td>TheBangles</td>\n",
       "      <td>0.112144</td>\n",
       "    </tr>\n",
       "    <tr>\n",
       "      <th>4</th>\n",
       "      <td>Comfortably Numb - Live At Pompeii 2016</td>\n",
       "      <td>Xanadu - Live In Canada / 1980</td>\n",
       "      <td>Rush</td>\n",
       "      <td>0.141703</td>\n",
       "    </tr>\n",
       "  </tbody>\n",
       "</table>\n",
       "</div>"
      ],
      "text/plain": [
       "                             favorite_song                recommended_song  \\\n",
       "0                         Spending My Time                       Amoureuse   \n",
       "1                          Home Sweet Home                The Great Beyond   \n",
       "2        High Hopes - Live At Pompeii 2016                21st Century Man   \n",
       "3                         Rattle That Lock                    Manic Monday   \n",
       "4  Comfortably Numb - Live At Pompeii 2016  Xanadu - Live In Canada / 1980   \n",
       "\n",
       "       recommended_artist  similarity_score  \n",
       "0                 KikiDee          0.108500  \n",
       "1                     REM          0.118307  \n",
       "2  ElectricLightOrchestra          0.208941  \n",
       "3              TheBangles          0.112144  \n",
       "4                    Rush          0.141703  "
      ]
     },
     "execution_count": 47,
     "metadata": {},
     "output_type": "execute_result"
    }
   ],
   "source": [
    "recomendacoes.head(5)"
   ]
  },
  {
   "cell_type": "markdown",
   "id": "641accaa",
   "metadata": {},
   "source": [
    "**Explicação**: \n",
    "\n",
    "'Hand Me Down My Walking Cane' por NormanBlake e 'Heroe' Enrique Iglesias\n",
    "\n",
    "\n",
    "\n",
    "<br><br><br>\n",
    "\n",
    "# Usando Sistema de Recomendação Com 50 Músicas Escolhidas\n",
    "\n",
    "<br>\n",
    "\n",
    "#### Carrega o dataset `df_final` com as 113074 músicas"
   ]
  },
  {
   "cell_type": "code",
   "execution_count": 49,
   "id": "72945384",
   "metadata": {},
   "outputs": [
    {
     "data": {
      "text/html": [
       "<div>\n",
       "<style scoped>\n",
       "    .dataframe tbody tr th:only-of-type {\n",
       "        vertical-align: middle;\n",
       "    }\n",
       "\n",
       "    .dataframe tbody tr th {\n",
       "        vertical-align: top;\n",
       "    }\n",
       "\n",
       "    .dataframe thead th {\n",
       "        text-align: right;\n",
       "    }\n",
       "</style>\n",
       "<table border=\"1\" class=\"dataframe\">\n",
       "  <thead>\n",
       "    <tr style=\"text-align: right;\">\n",
       "      <th></th>\n",
       "      <th>id</th>\n",
       "      <th>name</th>\n",
       "      <th>artists</th>\n",
       "      <th>danceability</th>\n",
       "      <th>energy</th>\n",
       "      <th>key</th>\n",
       "      <th>loudness</th>\n",
       "      <th>speechiness</th>\n",
       "      <th>acousticness</th>\n",
       "      <th>instrumentalness</th>\n",
       "      <th>liveness</th>\n",
       "      <th>valence</th>\n",
       "      <th>tempo</th>\n",
       "      <th>prediction</th>\n",
       "    </tr>\n",
       "  </thead>\n",
       "  <tbody>\n",
       "    <tr>\n",
       "      <th>0</th>\n",
       "      <td>22a0Ji6EQKkY0tBohlN4Od</td>\n",
       "      <td>There You Are</td>\n",
       "      <td>KirstenLudwig</td>\n",
       "      <td>0.487</td>\n",
       "      <td>0.707</td>\n",
       "      <td>9.0</td>\n",
       "      <td>-5.596</td>\n",
       "      <td>0.0304</td>\n",
       "      <td>0.3340</td>\n",
       "      <td>0.282000</td>\n",
       "      <td>0.1050</td>\n",
       "      <td>0.316</td>\n",
       "      <td>129.856</td>\n",
       "      <td>1</td>\n",
       "    </tr>\n",
       "    <tr>\n",
       "      <th>1</th>\n",
       "      <td>4J39ZEbwqHwtWLImUKmrn9</td>\n",
       "      <td>88 Days</td>\n",
       "      <td>SaraKingIanOlney</td>\n",
       "      <td>0.335</td>\n",
       "      <td>0.401</td>\n",
       "      <td>3.0</td>\n",
       "      <td>-10.749</td>\n",
       "      <td>0.0333</td>\n",
       "      <td>0.1340</td>\n",
       "      <td>0.582000</td>\n",
       "      <td>0.1340</td>\n",
       "      <td>0.233</td>\n",
       "      <td>155.062</td>\n",
       "      <td>0</td>\n",
       "    </tr>\n",
       "    <tr>\n",
       "      <th>2</th>\n",
       "      <td>0a12d4HUjOmQSqHqLopWYx</td>\n",
       "      <td>Castaway</td>\n",
       "      <td>ARZLEE</td>\n",
       "      <td>0.553</td>\n",
       "      <td>0.422</td>\n",
       "      <td>1.0</td>\n",
       "      <td>-11.290</td>\n",
       "      <td>0.0314</td>\n",
       "      <td>0.1100</td>\n",
       "      <td>0.000032</td>\n",
       "      <td>0.1190</td>\n",
       "      <td>0.290</td>\n",
       "      <td>83.988</td>\n",
       "      <td>1</td>\n",
       "    </tr>\n",
       "    <tr>\n",
       "      <th>3</th>\n",
       "      <td>0u7JZm9ORerlZnnxxSdMwl</td>\n",
       "      <td>Lonely</td>\n",
       "      <td>Hayleau</td>\n",
       "      <td>0.670</td>\n",
       "      <td>0.709</td>\n",
       "      <td>8.0</td>\n",
       "      <td>-3.921</td>\n",
       "      <td>0.0406</td>\n",
       "      <td>0.0169</td>\n",
       "      <td>0.000630</td>\n",
       "      <td>0.0542</td>\n",
       "      <td>0.577</td>\n",
       "      <td>98.954</td>\n",
       "      <td>1</td>\n",
       "    </tr>\n",
       "    <tr>\n",
       "      <th>4</th>\n",
       "      <td>0wuy2BYIVLbflFDqnR9Jay</td>\n",
       "      <td>Orsay</td>\n",
       "      <td>TheSvens</td>\n",
       "      <td>0.610</td>\n",
       "      <td>0.444</td>\n",
       "      <td>0.0</td>\n",
       "      <td>-11.858</td>\n",
       "      <td>0.0316</td>\n",
       "      <td>0.0486</td>\n",
       "      <td>0.886000</td>\n",
       "      <td>0.1280</td>\n",
       "      <td>0.283</td>\n",
       "      <td>122.992</td>\n",
       "      <td>0</td>\n",
       "    </tr>\n",
       "  </tbody>\n",
       "</table>\n",
       "</div>"
      ],
      "text/plain": [
       "                       id           name           artists  danceability  \\\n",
       "0  22a0Ji6EQKkY0tBohlN4Od  There You Are     KirstenLudwig         0.487   \n",
       "1  4J39ZEbwqHwtWLImUKmrn9        88 Days  SaraKingIanOlney         0.335   \n",
       "2  0a12d4HUjOmQSqHqLopWYx       Castaway            ARZLEE         0.553   \n",
       "3  0u7JZm9ORerlZnnxxSdMwl         Lonely           Hayleau         0.670   \n",
       "4  0wuy2BYIVLbflFDqnR9Jay          Orsay          TheSvens         0.610   \n",
       "\n",
       "   energy  key  loudness  speechiness  acousticness  instrumentalness  \\\n",
       "0   0.707  9.0    -5.596       0.0304        0.3340          0.282000   \n",
       "1   0.401  3.0   -10.749       0.0333        0.1340          0.582000   \n",
       "2   0.422  1.0   -11.290       0.0314        0.1100          0.000032   \n",
       "3   0.709  8.0    -3.921       0.0406        0.0169          0.000630   \n",
       "4   0.444  0.0   -11.858       0.0316        0.0486          0.886000   \n",
       "\n",
       "   liveness  valence    tempo  prediction  \n",
       "0    0.1050    0.316  129.856           1  \n",
       "1    0.1340    0.233  155.062           0  \n",
       "2    0.1190    0.290   83.988           1  \n",
       "3    0.0542    0.577   98.954           1  \n",
       "4    0.1280    0.283  122.992           0  "
      ]
     },
     "metadata": {},
     "output_type": "display_data"
    }
   ],
   "source": [
    "# Salvando o dataframe 'df_final' como um arquivo CSV\n",
    "#caminho_arquivo = 'dados/df_final.csv'  \n",
    "#df_final.to_csv(caminho_arquivo, index=False)\n",
    "\n",
    "# Mensagem de confirmação\n",
    "#print(f\"Arquivo salvo em: {caminho_arquivo}\")\n",
    "\n",
    "# Carregando o arquivo CSV de volta para um dataframe\n",
    "df_final = pd.read_csv('dados/df_final.csv')\n",
    "\n",
    "# Verificando as primeiras linhas para garantir que foi carregado corretamente\n",
    "display(df_final.head())"
   ]
  },
  {
   "cell_type": "markdown",
   "id": "108482c2",
   "metadata": {},
   "source": [
    "<br>\n",
    "\n",
    "#### Carrega o dataset `df_tracks2` com a Lista de Música Favoritas"
   ]
  },
  {
   "cell_type": "code",
   "execution_count": 75,
   "id": "fa946d5e",
   "metadata": {},
   "outputs": [
    {
     "name": "stdout",
     "output_type": "stream",
     "text": [
      "Arquivo salvo em: dados/df_tracks2.csv\n"
     ]
    },
    {
     "data": {
      "text/html": [
       "<div>\n",
       "<style scoped>\n",
       "    .dataframe tbody tr th:only-of-type {\n",
       "        vertical-align: middle;\n",
       "    }\n",
       "\n",
       "    .dataframe tbody tr th {\n",
       "        vertical-align: top;\n",
       "    }\n",
       "\n",
       "    .dataframe thead th {\n",
       "        text-align: right;\n",
       "    }\n",
       "</style>\n",
       "<table border=\"1\" class=\"dataframe\">\n",
       "  <thead>\n",
       "    <tr style=\"text-align: right;\">\n",
       "      <th></th>\n",
       "      <th>id</th>\n",
       "      <th>name</th>\n",
       "      <th>artists</th>\n",
       "      <th>popularity</th>\n",
       "      <th>acousticness</th>\n",
       "      <th>speechiness</th>\n",
       "      <th>key</th>\n",
       "      <th>liveness</th>\n",
       "      <th>instrumentalness</th>\n",
       "      <th>energy</th>\n",
       "      <th>tempo</th>\n",
       "      <th>loudness</th>\n",
       "      <th>danceability</th>\n",
       "      <th>valence</th>\n",
       "    </tr>\n",
       "  </thead>\n",
       "  <tbody>\n",
       "    <tr>\n",
       "      <th>0</th>\n",
       "      <td>6ZcNZYOqWfS2dYw7hLeQXK</td>\n",
       "      <td>Spending My Time</td>\n",
       "      <td>Roxette</td>\n",
       "      <td>46.0</td>\n",
       "      <td>0.2380</td>\n",
       "      <td>0.0292</td>\n",
       "      <td>4.0</td>\n",
       "      <td>0.127</td>\n",
       "      <td>0.000115</td>\n",
       "      <td>0.574</td>\n",
       "      <td>170.549</td>\n",
       "      <td>-5.149</td>\n",
       "      <td>0.420</td>\n",
       "      <td>0.218</td>\n",
       "    </tr>\n",
       "    <tr>\n",
       "      <th>1</th>\n",
       "      <td>1kvq7ksGQWSyRysYYNd6lu</td>\n",
       "      <td>Home Sweet Home</td>\n",
       "      <td>Mötley Crüe</td>\n",
       "      <td>68.0</td>\n",
       "      <td>0.0983</td>\n",
       "      <td>0.0381</td>\n",
       "      <td>5.0</td>\n",
       "      <td>0.189</td>\n",
       "      <td>0.000004</td>\n",
       "      <td>0.776</td>\n",
       "      <td>76.301</td>\n",
       "      <td>-6.339</td>\n",
       "      <td>0.397</td>\n",
       "      <td>0.127</td>\n",
       "    </tr>\n",
       "    <tr>\n",
       "      <th>2</th>\n",
       "      <td>4s686onxhVJEKyQ9gnx9IE</td>\n",
       "      <td>High Hopes - Live At Pompeii 2016</td>\n",
       "      <td>David Gilmour</td>\n",
       "      <td>45.0</td>\n",
       "      <td>0.5330</td>\n",
       "      <td>0.0298</td>\n",
       "      <td>0.0</td>\n",
       "      <td>0.969</td>\n",
       "      <td>0.000401</td>\n",
       "      <td>0.395</td>\n",
       "      <td>73.958</td>\n",
       "      <td>-12.288</td>\n",
       "      <td>0.426</td>\n",
       "      <td>0.135</td>\n",
       "    </tr>\n",
       "    <tr>\n",
       "      <th>3</th>\n",
       "      <td>6IYLjqSKQ4ma8FwlZd9LLI</td>\n",
       "      <td>Rattle That Lock</td>\n",
       "      <td>David Gilmour</td>\n",
       "      <td>46.0</td>\n",
       "      <td>0.3250</td>\n",
       "      <td>0.0422</td>\n",
       "      <td>0.0</td>\n",
       "      <td>0.165</td>\n",
       "      <td>0.000000</td>\n",
       "      <td>0.620</td>\n",
       "      <td>120.069</td>\n",
       "      <td>-11.620</td>\n",
       "      <td>0.710</td>\n",
       "      <td>0.786</td>\n",
       "    </tr>\n",
       "    <tr>\n",
       "      <th>4</th>\n",
       "      <td>0M8rrUcBYXa24y3AIKQ19z</td>\n",
       "      <td>Comfortably Numb - Live At Pompeii 2016</td>\n",
       "      <td>David Gilmour</td>\n",
       "      <td>53.0</td>\n",
       "      <td>0.0260</td>\n",
       "      <td>0.0495</td>\n",
       "      <td>11.0</td>\n",
       "      <td>0.754</td>\n",
       "      <td>0.003820</td>\n",
       "      <td>0.641</td>\n",
       "      <td>127.142</td>\n",
       "      <td>-10.240</td>\n",
       "      <td>0.211</td>\n",
       "      <td>0.251</td>\n",
       "    </tr>\n",
       "  </tbody>\n",
       "</table>\n",
       "</div>"
      ],
      "text/plain": [
       "                       id                                     name  \\\n",
       "0  6ZcNZYOqWfS2dYw7hLeQXK                         Spending My Time   \n",
       "1  1kvq7ksGQWSyRysYYNd6lu                          Home Sweet Home   \n",
       "2  4s686onxhVJEKyQ9gnx9IE        High Hopes - Live At Pompeii 2016   \n",
       "3  6IYLjqSKQ4ma8FwlZd9LLI                         Rattle That Lock   \n",
       "4  0M8rrUcBYXa24y3AIKQ19z  Comfortably Numb - Live At Pompeii 2016   \n",
       "\n",
       "         artists  popularity  acousticness  speechiness   key  liveness  \\\n",
       "0        Roxette        46.0        0.2380       0.0292   4.0     0.127   \n",
       "1    Mötley Crüe        68.0        0.0983       0.0381   5.0     0.189   \n",
       "2  David Gilmour        45.0        0.5330       0.0298   0.0     0.969   \n",
       "3  David Gilmour        46.0        0.3250       0.0422   0.0     0.165   \n",
       "4  David Gilmour        53.0        0.0260       0.0495  11.0     0.754   \n",
       "\n",
       "   instrumentalness  energy    tempo  loudness  danceability  valence  \n",
       "0          0.000115   0.574  170.549    -5.149         0.420    0.218  \n",
       "1          0.000004   0.776   76.301    -6.339         0.397    0.127  \n",
       "2          0.000401   0.395   73.958   -12.288         0.426    0.135  \n",
       "3          0.000000   0.620  120.069   -11.620         0.710    0.786  \n",
       "4          0.003820   0.641  127.142   -10.240         0.211    0.251  "
      ]
     },
     "metadata": {},
     "output_type": "display_data"
    }
   ],
   "source": [
    "# Salvando o dataframe 'df_tracks' como um arquivo CSV\n",
    "#caminho_arquivo = 'dados/df_tracks2.csv'  \n",
    "#df_tracks2.to_csv(caminho_arquivo, index=False)\n",
    "\n",
    "# Mensagem de confirmação\n",
    "#print(f\"Arquivo salvo em: {caminho_arquivo}\")\n",
    "\n",
    "# Carregando o arquivo CSV de volta para um dataframe\n",
    "df_tracks2 = pd.read_csv('dados/df_tracks2.csv')\n",
    "\n",
    "# Verificando as primeiras linhas para garantir que foi carregado corretamente\n",
    "display(df_tracks2.head())"
   ]
  },
  {
   "cell_type": "markdown",
   "id": "16b44ac8",
   "metadata": {},
   "source": [
    "<br>\n",
    "\n",
    "#### Personaliza df_tracks com as 50 musicas escolhidas"
   ]
  },
  {
   "cell_type": "code",
   "execution_count": 78,
   "id": "91d4a5e1",
   "metadata": {},
   "outputs": [
    {
     "data": {
      "text/html": [
       "<div>\n",
       "<style scoped>\n",
       "    .dataframe tbody tr th:only-of-type {\n",
       "        vertical-align: middle;\n",
       "    }\n",
       "\n",
       "    .dataframe tbody tr th {\n",
       "        vertical-align: top;\n",
       "    }\n",
       "\n",
       "    .dataframe thead th {\n",
       "        text-align: right;\n",
       "    }\n",
       "</style>\n",
       "<table border=\"1\" class=\"dataframe\">\n",
       "  <thead>\n",
       "    <tr style=\"text-align: right;\">\n",
       "      <th></th>\n",
       "      <th>id</th>\n",
       "      <th>name</th>\n",
       "      <th>artists</th>\n",
       "      <th>popularity</th>\n",
       "      <th>acousticness</th>\n",
       "      <th>speechiness</th>\n",
       "      <th>key</th>\n",
       "      <th>liveness</th>\n",
       "      <th>instrumentalness</th>\n",
       "      <th>energy</th>\n",
       "      <th>tempo</th>\n",
       "      <th>loudness</th>\n",
       "      <th>danceability</th>\n",
       "      <th>valence</th>\n",
       "    </tr>\n",
       "  </thead>\n",
       "  <tbody>\n",
       "    <tr>\n",
       "      <th>6</th>\n",
       "      <td>6Zo58fraaPpTUUdYHwH0sf</td>\n",
       "      <td>Por Enquanto - Ao Vivo</td>\n",
       "      <td>Cássia Eller</td>\n",
       "      <td>69.0</td>\n",
       "      <td>0.6300</td>\n",
       "      <td>0.0459</td>\n",
       "      <td>7.0</td>\n",
       "      <td>0.7100</td>\n",
       "      <td>0.000000</td>\n",
       "      <td>0.405</td>\n",
       "      <td>143.143</td>\n",
       "      <td>-10.719</td>\n",
       "      <td>0.402</td>\n",
       "      <td>0.299</td>\n",
       "    </tr>\n",
       "    <tr>\n",
       "      <th>7</th>\n",
       "      <td>4lwUIfJPyeKqGhG9KtHtIv</td>\n",
       "      <td>O Segundo Sol</td>\n",
       "      <td>Cássia Eller</td>\n",
       "      <td>61.0</td>\n",
       "      <td>0.2180</td>\n",
       "      <td>0.0336</td>\n",
       "      <td>0.0</td>\n",
       "      <td>0.2650</td>\n",
       "      <td>0.000000</td>\n",
       "      <td>0.794</td>\n",
       "      <td>145.888</td>\n",
       "      <td>-4.228</td>\n",
       "      <td>0.503</td>\n",
       "      <td>0.446</td>\n",
       "    </tr>\n",
       "    <tr>\n",
       "      <th>8</th>\n",
       "      <td>1X95pCQG939KCbJL6yVQgw</td>\n",
       "      <td>Evidências</td>\n",
       "      <td>Chitãozinho &amp; Xororó</td>\n",
       "      <td>66.0</td>\n",
       "      <td>0.2490</td>\n",
       "      <td>0.0479</td>\n",
       "      <td>2.0</td>\n",
       "      <td>0.9340</td>\n",
       "      <td>0.000000</td>\n",
       "      <td>0.901</td>\n",
       "      <td>98.926</td>\n",
       "      <td>-3.089</td>\n",
       "      <td>0.513</td>\n",
       "      <td>0.371</td>\n",
       "    </tr>\n",
       "    <tr>\n",
       "      <th>9</th>\n",
       "      <td>7h8fXKTOWxJ96FrTkcdcoo</td>\n",
       "      <td>Certas Coisas</td>\n",
       "      <td>Lulu Santos</td>\n",
       "      <td>51.0</td>\n",
       "      <td>0.6270</td>\n",
       "      <td>0.0271</td>\n",
       "      <td>5.0</td>\n",
       "      <td>0.9620</td>\n",
       "      <td>0.000037</td>\n",
       "      <td>0.352</td>\n",
       "      <td>87.911</td>\n",
       "      <td>-12.569</td>\n",
       "      <td>0.548</td>\n",
       "      <td>0.162</td>\n",
       "    </tr>\n",
       "    <tr>\n",
       "      <th>10</th>\n",
       "      <td>1TIvODlICRKM5uhbKbNFGA</td>\n",
       "      <td>Tempos Modernos</td>\n",
       "      <td>Lulu Santos</td>\n",
       "      <td>64.0</td>\n",
       "      <td>0.0564</td>\n",
       "      <td>0.0290</td>\n",
       "      <td>5.0</td>\n",
       "      <td>0.9650</td>\n",
       "      <td>0.000000</td>\n",
       "      <td>0.638</td>\n",
       "      <td>125.867</td>\n",
       "      <td>-8.235</td>\n",
       "      <td>0.604</td>\n",
       "      <td>0.784</td>\n",
       "    </tr>\n",
       "    <tr>\n",
       "      <th>11</th>\n",
       "      <td>5MjHgDtqDaHkttdqOxs4aj</td>\n",
       "      <td>Tão Bem</td>\n",
       "      <td>Lulu Santos</td>\n",
       "      <td>56.0</td>\n",
       "      <td>0.7300</td>\n",
       "      <td>0.0756</td>\n",
       "      <td>10.0</td>\n",
       "      <td>0.4160</td>\n",
       "      <td>0.000000</td>\n",
       "      <td>0.388</td>\n",
       "      <td>82.613</td>\n",
       "      <td>-13.892</td>\n",
       "      <td>0.518</td>\n",
       "      <td>0.663</td>\n",
       "    </tr>\n",
       "    <tr>\n",
       "      <th>12</th>\n",
       "      <td>6YNCE5qtrTa7YcnAOAEsDQ</td>\n",
       "      <td>Apenas Mais uma de Amor</td>\n",
       "      <td>Lulu Santos</td>\n",
       "      <td>68.0</td>\n",
       "      <td>0.0563</td>\n",
       "      <td>0.0345</td>\n",
       "      <td>5.0</td>\n",
       "      <td>0.7350</td>\n",
       "      <td>0.000000</td>\n",
       "      <td>0.355</td>\n",
       "      <td>165.961</td>\n",
       "      <td>-13.509</td>\n",
       "      <td>0.390</td>\n",
       "      <td>0.262</td>\n",
       "    </tr>\n",
       "    <tr>\n",
       "      <th>26</th>\n",
       "      <td>2bVvjh7n3w1TGTHNHZ6aNE</td>\n",
       "      <td>Por Você</td>\n",
       "      <td>Frejat</td>\n",
       "      <td>50.0</td>\n",
       "      <td>0.4640</td>\n",
       "      <td>0.0291</td>\n",
       "      <td>8.0</td>\n",
       "      <td>0.0624</td>\n",
       "      <td>0.000000</td>\n",
       "      <td>0.330</td>\n",
       "      <td>122.870</td>\n",
       "      <td>-6.492</td>\n",
       "      <td>0.622</td>\n",
       "      <td>0.376</td>\n",
       "    </tr>\n",
       "    <tr>\n",
       "      <th>27</th>\n",
       "      <td>0YtD2P3M3d56pv0OkNpsHl</td>\n",
       "      <td>Amor pra recomeçar</td>\n",
       "      <td>Frejat</td>\n",
       "      <td>65.0</td>\n",
       "      <td>0.2150</td>\n",
       "      <td>0.0363</td>\n",
       "      <td>7.0</td>\n",
       "      <td>0.3370</td>\n",
       "      <td>0.000000</td>\n",
       "      <td>0.856</td>\n",
       "      <td>120.528</td>\n",
       "      <td>-4.994</td>\n",
       "      <td>0.564</td>\n",
       "      <td>0.726</td>\n",
       "    </tr>\n",
       "    <tr>\n",
       "      <th>28</th>\n",
       "      <td>2R0478PhcwKMYLTiJHAuTH</td>\n",
       "      <td>Segredos</td>\n",
       "      <td>Frejat</td>\n",
       "      <td>68.0</td>\n",
       "      <td>0.1920</td>\n",
       "      <td>0.0289</td>\n",
       "      <td>7.0</td>\n",
       "      <td>0.4050</td>\n",
       "      <td>0.000000</td>\n",
       "      <td>0.731</td>\n",
       "      <td>127.582</td>\n",
       "      <td>-5.189</td>\n",
       "      <td>0.581</td>\n",
       "      <td>0.579</td>\n",
       "    </tr>\n",
       "    <tr>\n",
       "      <th>101</th>\n",
       "      <td>2iJpjciYl8vfQbb543b5Pb</td>\n",
       "      <td>Pelados Em Santos</td>\n",
       "      <td>Mamonas Assassinas</td>\n",
       "      <td>60.0</td>\n",
       "      <td>0.0624</td>\n",
       "      <td>0.0616</td>\n",
       "      <td>2.0</td>\n",
       "      <td>0.0598</td>\n",
       "      <td>0.000003</td>\n",
       "      <td>0.487</td>\n",
       "      <td>136.039</td>\n",
       "      <td>-9.902</td>\n",
       "      <td>0.566</td>\n",
       "      <td>0.811</td>\n",
       "    </tr>\n",
       "    <tr>\n",
       "      <th>108</th>\n",
       "      <td>5HDlh6UhT3AMQs935wE1qr</td>\n",
       "      <td>Era um Garoto, Que Como Eu, Amava os Beatles e...</td>\n",
       "      <td>Engenheiros Do Hawaii</td>\n",
       "      <td>60.0</td>\n",
       "      <td>0.0409</td>\n",
       "      <td>0.0258</td>\n",
       "      <td>6.0</td>\n",
       "      <td>0.0838</td>\n",
       "      <td>0.000007</td>\n",
       "      <td>0.700</td>\n",
       "      <td>131.885</td>\n",
       "      <td>-5.420</td>\n",
       "      <td>0.568</td>\n",
       "      <td>0.571</td>\n",
       "    </tr>\n",
       "  </tbody>\n",
       "</table>\n",
       "</div>"
      ],
      "text/plain": [
       "                         id  \\\n",
       "6    6Zo58fraaPpTUUdYHwH0sf   \n",
       "7    4lwUIfJPyeKqGhG9KtHtIv   \n",
       "8    1X95pCQG939KCbJL6yVQgw   \n",
       "9    7h8fXKTOWxJ96FrTkcdcoo   \n",
       "10   1TIvODlICRKM5uhbKbNFGA   \n",
       "11   5MjHgDtqDaHkttdqOxs4aj   \n",
       "12   6YNCE5qtrTa7YcnAOAEsDQ   \n",
       "26   2bVvjh7n3w1TGTHNHZ6aNE   \n",
       "27   0YtD2P3M3d56pv0OkNpsHl   \n",
       "28   2R0478PhcwKMYLTiJHAuTH   \n",
       "101  2iJpjciYl8vfQbb543b5Pb   \n",
       "108  5HDlh6UhT3AMQs935wE1qr   \n",
       "\n",
       "                                                  name                artists  \\\n",
       "6                               Por Enquanto - Ao Vivo           Cássia Eller   \n",
       "7                                        O Segundo Sol           Cássia Eller   \n",
       "8                                           Evidências   Chitãozinho & Xororó   \n",
       "9                                        Certas Coisas            Lulu Santos   \n",
       "10                                     Tempos Modernos            Lulu Santos   \n",
       "11                                             Tão Bem            Lulu Santos   \n",
       "12                             Apenas Mais uma de Amor            Lulu Santos   \n",
       "26                                            Por Você                 Frejat   \n",
       "27                                  Amor pra recomeçar                 Frejat   \n",
       "28                                            Segredos                 Frejat   \n",
       "101                                  Pelados Em Santos     Mamonas Assassinas   \n",
       "108  Era um Garoto, Que Como Eu, Amava os Beatles e...  Engenheiros Do Hawaii   \n",
       "\n",
       "     popularity  acousticness  speechiness   key  liveness  instrumentalness  \\\n",
       "6          69.0        0.6300       0.0459   7.0    0.7100          0.000000   \n",
       "7          61.0        0.2180       0.0336   0.0    0.2650          0.000000   \n",
       "8          66.0        0.2490       0.0479   2.0    0.9340          0.000000   \n",
       "9          51.0        0.6270       0.0271   5.0    0.9620          0.000037   \n",
       "10         64.0        0.0564       0.0290   5.0    0.9650          0.000000   \n",
       "11         56.0        0.7300       0.0756  10.0    0.4160          0.000000   \n",
       "12         68.0        0.0563       0.0345   5.0    0.7350          0.000000   \n",
       "26         50.0        0.4640       0.0291   8.0    0.0624          0.000000   \n",
       "27         65.0        0.2150       0.0363   7.0    0.3370          0.000000   \n",
       "28         68.0        0.1920       0.0289   7.0    0.4050          0.000000   \n",
       "101        60.0        0.0624       0.0616   2.0    0.0598          0.000003   \n",
       "108        60.0        0.0409       0.0258   6.0    0.0838          0.000007   \n",
       "\n",
       "     energy    tempo  loudness  danceability  valence  \n",
       "6     0.405  143.143   -10.719         0.402    0.299  \n",
       "7     0.794  145.888    -4.228         0.503    0.446  \n",
       "8     0.901   98.926    -3.089         0.513    0.371  \n",
       "9     0.352   87.911   -12.569         0.548    0.162  \n",
       "10    0.638  125.867    -8.235         0.604    0.784  \n",
       "11    0.388   82.613   -13.892         0.518    0.663  \n",
       "12    0.355  165.961   -13.509         0.390    0.262  \n",
       "26    0.330  122.870    -6.492         0.622    0.376  \n",
       "27    0.856  120.528    -4.994         0.564    0.726  \n",
       "28    0.731  127.582    -5.189         0.581    0.579  \n",
       "101   0.487  136.039    -9.902         0.566    0.811  \n",
       "108   0.700  131.885    -5.420         0.568    0.571  "
      ]
     },
     "metadata": {},
     "output_type": "display_data"
    }
   ],
   "source": [
    "# Lista de artistas brasileiros (você pode adicionar mais conforme necessário)\n",
    "artistas_brasileiros = [\n",
    "    'Cássia Eller', 'Chitãozinho & Xororó', 'Lulu Santos', \n",
    "    'Frejat', 'Mamonas Assassinas', 'Engenheiros Do Hawaii'\n",
    "    # Adicione mais artistas brasileiros à lista, se necessário\n",
    "]\n",
    "\n",
    "# Filtrar o DataFrame para músicas de artistas brasileiros\n",
    "df_brasileiros = df_tracks2[df_tracks2['artists'].isin(artistas_brasileiros)]\n",
    "\n",
    "# Exibir o novo DataFrame\n",
    "display(df_brasileiros)"
   ]
  },
  {
   "cell_type": "markdown",
   "id": "c8bb77dc",
   "metadata": {},
   "source": [
    "<br>\n",
    "\n",
    "### Aplicando Sistema de Recomendação 2"
   ]
  },
  {
   "cell_type": "code",
   "execution_count": 79,
   "id": "07cd1381",
   "metadata": {},
   "outputs": [
    {
     "name": "stderr",
     "output_type": "stream",
     "text": [
      "Recomendando:   8%|██▌                           | 1/12 [00:17<03:07, 17.00s/it]"
     ]
    },
    {
     "name": "stdout",
     "output_type": "stream",
     "text": [
      "Recomendação para 'Por Enquanto - Ao Vivo' -> 'Goodbye Stranger - Live At Pavillon de Paris/1979' por Supertramp\n"
     ]
    },
    {
     "name": "stderr",
     "output_type": "stream",
     "text": [
      "\r",
      "Recomendando:  17%|█████                         | 2/12 [00:34<02:51, 17.16s/it]"
     ]
    },
    {
     "name": "stdout",
     "output_type": "stream",
     "text": [
      "Recomendação para 'O Segundo Sol' -> 'What Once Was' por Hers\n"
     ]
    },
    {
     "name": "stderr",
     "output_type": "stream",
     "text": [
      "\r",
      "Recomendando:  25%|███████▌                      | 3/12 [00:51<02:36, 17.39s/it]"
     ]
    },
    {
     "name": "stdout",
     "output_type": "stream",
     "text": [
      "Recomendação para 'Evidências' -> 'Rock 'N Roll Soul' por GrandFunkRailroad\n"
     ]
    },
    {
     "name": "stderr",
     "output_type": "stream",
     "text": [
      "\r",
      "Recomendando:  33%|██████████                    | 4/12 [01:09<02:19, 17.41s/it]"
     ]
    },
    {
     "name": "stdout",
     "output_type": "stream",
     "text": [
      "Recomendação para 'Certas Coisas' -> 'Listen to the Lion - Live' por VanMorrison\n"
     ]
    },
    {
     "name": "stderr",
     "output_type": "stream",
     "text": [
      "\r",
      "Recomendando:  42%|████████████▌                 | 5/12 [01:26<02:02, 17.45s/it]"
     ]
    },
    {
     "name": "stdout",
     "output_type": "stream",
     "text": [
      "Recomendação para 'Tempos Modernos' -> 'The Needle And The Spoon - Live / Fox Theater 2001' por LynyrdSkynyrd\n"
     ]
    },
    {
     "name": "stderr",
     "output_type": "stream",
     "text": [
      "\r",
      "Recomendando:  50%|███████████████               | 6/12 [01:44<01:44, 17.47s/it]"
     ]
    },
    {
     "name": "stdout",
     "output_type": "stream",
     "text": [
      "Recomendação para 'Tão Bem' -> 'Hand Me Down My Walking Cane' por NormanBlake\n"
     ]
    },
    {
     "name": "stderr",
     "output_type": "stream",
     "text": [
      "\r",
      "Recomendando:  58%|█████████████████▌            | 7/12 [02:01<01:26, 17.39s/it]"
     ]
    },
    {
     "name": "stdout",
     "output_type": "stream",
     "text": [
      "Recomendação para 'Apenas Mais uma de Amor' -> 'Save the Life of My Child' por SimonGarfunkel\n"
     ]
    },
    {
     "name": "stderr",
     "output_type": "stream",
     "text": [
      "\r",
      "Recomendando:  67%|████████████████████          | 8/12 [02:18<01:09, 17.33s/it]"
     ]
    },
    {
     "name": "stdout",
     "output_type": "stream",
     "text": [
      "Recomendação para 'Por Você' -> 'Every Little Thing' por CarlyPearce\n"
     ]
    },
    {
     "name": "stderr",
     "output_type": "stream",
     "text": [
      "\r",
      "Recomendando:  75%|██████████████████████▌       | 9/12 [02:36<00:51, 17.33s/it]"
     ]
    },
    {
     "name": "stdout",
     "output_type": "stream",
     "text": [
      "Recomendação para 'Amor pra recomeçar' -> 'Tough Guys' por REOSpeedwagon\n"
     ]
    },
    {
     "name": "stderr",
     "output_type": "stream",
     "text": [
      "\r",
      "Recomendando:  83%|████████████████████████▏    | 10/12 [02:53<00:34, 17.33s/it]"
     ]
    },
    {
     "name": "stdout",
     "output_type": "stream",
     "text": [
      "Recomendação para 'Segredos' -> 'Brother' por MacDeMarco\n"
     ]
    },
    {
     "name": "stderr",
     "output_type": "stream",
     "text": [
      "\r",
      "Recomendando:  92%|██████████████████████████▌  | 11/12 [03:10<00:17, 17.33s/it]"
     ]
    },
    {
     "name": "stdout",
     "output_type": "stream",
     "text": [
      "Recomendação para 'Pelados Em Santos' -> 'Glass Onion - Remastered 2009' por TheBeatles\n"
     ]
    },
    {
     "name": "stderr",
     "output_type": "stream",
     "text": [
      "Recomendando: 100%|█████████████████████████████| 12/12 [03:28<00:00, 17.35s/it]"
     ]
    },
    {
     "name": "stdout",
     "output_type": "stream",
     "text": [
      "Recomendação para 'Era um Garoto, Que Como Eu, Amava os Beatles e os Rolling Stones' -> 'Every Time I Hear That Song' por BlakeShelton\n"
     ]
    },
    {
     "name": "stderr",
     "output_type": "stream",
     "text": [
      "\n"
     ]
    },
    {
     "data": {
      "text/html": [
       "<div>\n",
       "<style scoped>\n",
       "    .dataframe tbody tr th:only-of-type {\n",
       "        vertical-align: middle;\n",
       "    }\n",
       "\n",
       "    .dataframe tbody tr th {\n",
       "        vertical-align: top;\n",
       "    }\n",
       "\n",
       "    .dataframe thead th {\n",
       "        text-align: right;\n",
       "    }\n",
       "</style>\n",
       "<table border=\"1\" class=\"dataframe\">\n",
       "  <thead>\n",
       "    <tr style=\"text-align: right;\">\n",
       "      <th></th>\n",
       "      <th>favorite_song</th>\n",
       "      <th>recommended_song</th>\n",
       "      <th>recommended_artist</th>\n",
       "      <th>similarity_score</th>\n",
       "    </tr>\n",
       "  </thead>\n",
       "  <tbody>\n",
       "    <tr>\n",
       "      <th>0</th>\n",
       "      <td>Por Enquanto - Ao Vivo</td>\n",
       "      <td>Goodbye Stranger - Live At Pavillon de Paris/1979</td>\n",
       "      <td>Supertramp</td>\n",
       "      <td>0.180134</td>\n",
       "    </tr>\n",
       "    <tr>\n",
       "      <th>1</th>\n",
       "      <td>O Segundo Sol</td>\n",
       "      <td>What Once Was</td>\n",
       "      <td>Hers</td>\n",
       "      <td>0.177189</td>\n",
       "    </tr>\n",
       "    <tr>\n",
       "      <th>2</th>\n",
       "      <td>Evidências</td>\n",
       "      <td>Rock 'N Roll Soul</td>\n",
       "      <td>GrandFunkRailroad</td>\n",
       "      <td>0.288760</td>\n",
       "    </tr>\n",
       "    <tr>\n",
       "      <th>3</th>\n",
       "      <td>Certas Coisas</td>\n",
       "      <td>Listen to the Lion - Live</td>\n",
       "      <td>VanMorrison</td>\n",
       "      <td>0.212709</td>\n",
       "    </tr>\n",
       "    <tr>\n",
       "      <th>4</th>\n",
       "      <td>Tempos Modernos</td>\n",
       "      <td>The Needle And The Spoon - Live / Fox Theater ...</td>\n",
       "      <td>LynyrdSkynyrd</td>\n",
       "      <td>0.214993</td>\n",
       "    </tr>\n",
       "    <tr>\n",
       "      <th>5</th>\n",
       "      <td>Tão Bem</td>\n",
       "      <td>Hand Me Down My Walking Cane</td>\n",
       "      <td>NormanBlake</td>\n",
       "      <td>0.126962</td>\n",
       "    </tr>\n",
       "    <tr>\n",
       "      <th>6</th>\n",
       "      <td>Apenas Mais uma de Amor</td>\n",
       "      <td>Save the Life of My Child</td>\n",
       "      <td>SimonGarfunkel</td>\n",
       "      <td>0.203761</td>\n",
       "    </tr>\n",
       "    <tr>\n",
       "      <th>7</th>\n",
       "      <td>Por Você</td>\n",
       "      <td>Every Little Thing</td>\n",
       "      <td>CarlyPearce</td>\n",
       "      <td>0.122912</td>\n",
       "    </tr>\n",
       "    <tr>\n",
       "      <th>8</th>\n",
       "      <td>Amor pra recomeçar</td>\n",
       "      <td>Tough Guys</td>\n",
       "      <td>REOSpeedwagon</td>\n",
       "      <td>0.108295</td>\n",
       "    </tr>\n",
       "    <tr>\n",
       "      <th>9</th>\n",
       "      <td>Segredos</td>\n",
       "      <td>Brother</td>\n",
       "      <td>MacDeMarco</td>\n",
       "      <td>0.128347</td>\n",
       "    </tr>\n",
       "    <tr>\n",
       "      <th>10</th>\n",
       "      <td>Pelados Em Santos</td>\n",
       "      <td>Glass Onion - Remastered 2009</td>\n",
       "      <td>TheBeatles</td>\n",
       "      <td>0.115863</td>\n",
       "    </tr>\n",
       "    <tr>\n",
       "      <th>11</th>\n",
       "      <td>Era um Garoto, Que Como Eu, Amava os Beatles e...</td>\n",
       "      <td>Every Time I Hear That Song</td>\n",
       "      <td>BlakeShelton</td>\n",
       "      <td>0.075290</td>\n",
       "    </tr>\n",
       "  </tbody>\n",
       "</table>\n",
       "</div>"
      ],
      "text/plain": [
       "                                        favorite_song  \\\n",
       "0                              Por Enquanto - Ao Vivo   \n",
       "1                                       O Segundo Sol   \n",
       "2                                          Evidências   \n",
       "3                                       Certas Coisas   \n",
       "4                                     Tempos Modernos   \n",
       "5                                             Tão Bem   \n",
       "6                             Apenas Mais uma de Amor   \n",
       "7                                            Por Você   \n",
       "8                                  Amor pra recomeçar   \n",
       "9                                            Segredos   \n",
       "10                                  Pelados Em Santos   \n",
       "11  Era um Garoto, Que Como Eu, Amava os Beatles e...   \n",
       "\n",
       "                                     recommended_song recommended_artist  \\\n",
       "0   Goodbye Stranger - Live At Pavillon de Paris/1979         Supertramp   \n",
       "1                                       What Once Was               Hers   \n",
       "2                                   Rock 'N Roll Soul  GrandFunkRailroad   \n",
       "3                           Listen to the Lion - Live        VanMorrison   \n",
       "4   The Needle And The Spoon - Live / Fox Theater ...      LynyrdSkynyrd   \n",
       "5                        Hand Me Down My Walking Cane        NormanBlake   \n",
       "6                           Save the Life of My Child     SimonGarfunkel   \n",
       "7                                  Every Little Thing        CarlyPearce   \n",
       "8                                          Tough Guys      REOSpeedwagon   \n",
       "9                                             Brother         MacDeMarco   \n",
       "10                      Glass Onion - Remastered 2009         TheBeatles   \n",
       "11                        Every Time I Hear That Song       BlakeShelton   \n",
       "\n",
       "    similarity_score  \n",
       "0           0.180134  \n",
       "1           0.177189  \n",
       "2           0.288760  \n",
       "3           0.212709  \n",
       "4           0.214993  \n",
       "5           0.126962  \n",
       "6           0.203761  \n",
       "7           0.122912  \n",
       "8           0.108295  \n",
       "9           0.128347  \n",
       "10          0.115863  \n",
       "11          0.075290  "
      ]
     },
     "metadata": {},
     "output_type": "display_data"
    }
   ],
   "source": [
    "## Exemplo de uso:\n",
    "\n",
    "# Supondo que `df_final` é o DataFrame de dados de músicas para recomendação e `df_tracks` contém as 50 músicas favoritas do usuário\n",
    "reco_obj = RecoSystem(df_final)\n",
    "\n",
    "# Gera as recomendações com base na lista de músicas favoritas\n",
    "recomendacoes2 = reco_obj.Recomm(df_brasileiros, amount_per_song=1)\n",
    "\n",
    "# Exibe as recomendações\n",
    "display(recomendacoes2)"
   ]
  },
  {
   "cell_type": "markdown",
   "id": "d54c4b5e",
   "metadata": {},
   "source": [
    "<br><br><br><br>\n",
    "\n",
    "# <span style=\"color: green; font-size: 40px; font-weight: bold;\">Conclusão</span>\n",
    "\n",
    "<br>\n",
    "\n",
    "- Este projeto combinou técnicas de streaming de dados com Spark, integração com a API do Spotify e um sistema de recomendação baseado em Machine Learning. O pipeline completo, desde a extração dos dados do Spotify até a recomendação de músicas semelhantes, demonstra como combinar várias tecnologias para criar um sistema de recomendação eficaz.\n",
    "\n",
    "<br><br><br><br>\n",
    "\n",
    "### Link dos Repositórios\n",
    "\n",
    "Para conectar o Spark Streaming no Apache Kafka precisamos de conectores, que estão disponíveis através de arquivos .jar. Abaixo a lista de conectores que estamos usando no projeto (e que serão fornecidos a você):\n",
    "\n",
    "https://mvnrepository.com/artifact/org.apache.spark/spark-sql-kafka-0-10_2.12/3.2.1\n",
    "\n",
    "https://mvnrepository.com/artifact/org.apache.kafka/kafka-clients/2.1.1\n",
    "\n",
    "https://mvnrepository.com/artifact/org.apache.spark/spark-token-provider-kafka-0-10_2.13/3.3.2\n",
    "\n",
    "https://mvnrepository.com/artifact/org.apache.commons/commons-pool2/2.8.0\n",
    "\n",
    "https://mvnrepository.com/artifact/org.apache.spark/spark-token-provider-kafka-0-10_2.12/3.1.2\n",
    "\n",
    "\n",
    "<br><br><br><br>\n",
    "\n",
    "# Fim!"
   ]
  },
  {
   "cell_type": "code",
   "execution_count": null,
   "id": "018eb08b",
   "metadata": {},
   "outputs": [],
   "source": []
  },
  {
   "cell_type": "code",
   "execution_count": null,
   "id": "f381a533",
   "metadata": {},
   "outputs": [],
   "source": []
  },
  {
   "cell_type": "markdown",
   "id": "4e2337d8",
   "metadata": {},
   "source": [
    "### Extraindo TODAS as musicas da Lista de Favorito direto do Spotify"
   ]
  },
  {
   "cell_type": "code",
   "execution_count": 64,
   "id": "47165d33",
   "metadata": {},
   "outputs": [
    {
     "name": "stdout",
     "output_type": "stream",
     "text": [
      "Total de Músicas na Lista de Favoritos: 163\n",
      "Total de músicas extraídas: 163\n"
     ]
    },
    {
     "data": {
      "text/html": [
       "<div>\n",
       "<style scoped>\n",
       "    .dataframe tbody tr th:only-of-type {\n",
       "        vertical-align: middle;\n",
       "    }\n",
       "\n",
       "    .dataframe tbody tr th {\n",
       "        vertical-align: top;\n",
       "    }\n",
       "\n",
       "    .dataframe thead th {\n",
       "        text-align: right;\n",
       "    }\n",
       "</style>\n",
       "<table border=\"1\" class=\"dataframe\">\n",
       "  <thead>\n",
       "    <tr style=\"text-align: right;\">\n",
       "      <th></th>\n",
       "      <th>id</th>\n",
       "      <th>name</th>\n",
       "      <th>artists</th>\n",
       "      <th>popularity</th>\n",
       "    </tr>\n",
       "  </thead>\n",
       "  <tbody>\n",
       "    <tr>\n",
       "      <th>0</th>\n",
       "      <td>6ZcNZYOqWfS2dYw7hLeQXK</td>\n",
       "      <td>Spending My Time</td>\n",
       "      <td>Roxette</td>\n",
       "      <td>46</td>\n",
       "    </tr>\n",
       "    <tr>\n",
       "      <th>1</th>\n",
       "      <td>1kvq7ksGQWSyRysYYNd6lu</td>\n",
       "      <td>Home Sweet Home</td>\n",
       "      <td>Mötley Crüe</td>\n",
       "      <td>68</td>\n",
       "    </tr>\n",
       "    <tr>\n",
       "      <th>2</th>\n",
       "      <td>4s686onxhVJEKyQ9gnx9IE</td>\n",
       "      <td>High Hopes - Live At Pompeii 2016</td>\n",
       "      <td>David Gilmour</td>\n",
       "      <td>45</td>\n",
       "    </tr>\n",
       "    <tr>\n",
       "      <th>3</th>\n",
       "      <td>6IYLjqSKQ4ma8FwlZd9LLI</td>\n",
       "      <td>Rattle That Lock</td>\n",
       "      <td>David Gilmour</td>\n",
       "      <td>46</td>\n",
       "    </tr>\n",
       "    <tr>\n",
       "      <th>4</th>\n",
       "      <td>0M8rrUcBYXa24y3AIKQ19z</td>\n",
       "      <td>Comfortably Numb - Live At Pompeii 2016</td>\n",
       "      <td>David Gilmour</td>\n",
       "      <td>53</td>\n",
       "    </tr>\n",
       "  </tbody>\n",
       "</table>\n",
       "</div>"
      ],
      "text/plain": [
       "                       id                                     name  \\\n",
       "0  6ZcNZYOqWfS2dYw7hLeQXK                         Spending My Time   \n",
       "1  1kvq7ksGQWSyRysYYNd6lu                          Home Sweet Home   \n",
       "2  4s686onxhVJEKyQ9gnx9IE        High Hopes - Live At Pompeii 2016   \n",
       "3  6IYLjqSKQ4ma8FwlZd9LLI                         Rattle That Lock   \n",
       "4  0M8rrUcBYXa24y3AIKQ19z  Comfortably Numb - Live At Pompeii 2016   \n",
       "\n",
       "         artists  popularity  \n",
       "0        Roxette          46  \n",
       "1    Mötley Crüe          68  \n",
       "2  David Gilmour          45  \n",
       "3  David Gilmour          46  \n",
       "4  David Gilmour          53  "
      ]
     },
     "metadata": {},
     "output_type": "display_data"
    }
   ],
   "source": [
    "import spotipy\n",
    "from spotipy.oauth2 import SpotifyOAuth\n",
    "import pandas as pd\n",
    "\n",
    "# Configuração da API do Spotify\n",
    "os.environ[\"SPOTIPY_CLIENT_ID\"] = '7c12416f4d564bc38825057a508a49b1'\n",
    "os.environ[\"SPOTIPY_CLIENT_SECRET\"] = '93dfa86e2546437d980ed78d7951e128'\n",
    "os.environ[\"SPOTIPY_REDIRECT_URI\"] = 'http://localhost:7777/callback'\n",
    "\n",
    "scope = 'user-library-read'\n",
    "username = 'eduardonitcheroy@gmail.com'\n",
    "\n",
    "# Criação do token de acesso\n",
    "token = spotipy.util.prompt_for_user_token(username, scope)\n",
    "\n",
    "# Criação do objeto de autenticação do Spotify\n",
    "spotipy_obj = spotipy.Spotify(auth=token)\n",
    "\n",
    "# Número total de músicas na lista de favoritos do usuário\n",
    "n_tracks = spotipy_obj.current_user_saved_tracks(limit=1)['total']\n",
    "print(f'Total de Músicas na Lista de Favoritos: {n_tracks}')\n",
    "\n",
    "# Lista para armazenar todas as músicas\n",
    "all_tracks = []\n",
    "\n",
    "# Loop para extrair todas as músicas (limit de 50 por chamada)\n",
    "for offset in range(0, n_tracks, 50):\n",
    "    saved_tracks = spotipy_obj.current_user_saved_tracks(limit=50, offset=offset)\n",
    "    all_tracks.extend(saved_tracks['items'])\n",
    "\n",
    "# Função para selecionar os atributos das músicas\n",
    "def select_features(track_response):\n",
    "    return {        \n",
    "        'id': str(track_response['track']['id']),\n",
    "        'name': str(track_response['track']['name']),\n",
    "        'artists': ', '.join([artist['name'] for artist in track_response['track']['artists']]),\n",
    "        'popularity': track_response['track']['popularity']\n",
    "    }\n",
    "\n",
    "# Aplica a função para extrair os atributos e criar o dataframe\n",
    "tracks = [select_features(track) for track in all_tracks]\n",
    "df_tracks2 = pd.DataFrame(tracks)\n",
    "\n",
    "# Visualiza as primeiras linhas do dataframe\n",
    "print(f'Total de músicas extraídas: {df_tracks2.shape[0]}')\n",
    "display(df_tracks2.head())"
   ]
  },
  {
   "cell_type": "markdown",
   "id": "93bf6af5",
   "metadata": {},
   "source": [
    "<br>\n",
    "\n",
    "### Adicionando Dados do Spotify de Áudio"
   ]
  },
  {
   "cell_type": "code",
   "execution_count": null,
   "id": "32758803",
   "metadata": {},
   "outputs": [],
   "source": [
    "import spotipy\n",
    "from spotipy.oauth2 import SpotifyClientCredentials\n",
    "import pandas as pd\n",
    "\n",
    "# Substitua com suas credenciais do Spotify\n",
    "client_id = '7c12416f4d564bc38825057a508a49b1'\n",
    "client_secret = '93dfa86e2546437d980ed78d7951e128'\n",
    "\n",
    "# Autenticação\n",
    "auth_manager = SpotifyClientCredentials(client_id=client_id, client_secret=client_secret)\n",
    "sp = spotipy.Spotify(auth_manager=auth_manager)\n",
    "\n",
    "\n",
    "def get_track_features(track_id):\n",
    "    try:\n",
    "        track = sp.track(track_id)\n",
    "        audio_features = sp.audio_features(track_id)[0]\n",
    "        return {\n",
    "            'popularity': track['popularity'],\n",
    "            'acousticness': audio_features['acousticness'],\n",
    "            'speechiness': audio_features['speechiness'],\n",
    "            'key': audio_features['key'],\n",
    "            'liveness': audio_features['liveness'],\n",
    "            'instrumentalness': audio_features['instrumentalness'],\n",
    "            'energy': audio_features['energy'],\n",
    "            'tempo': audio_features['tempo'],\n",
    "            'loudness': audio_features['loudness'],\n",
    "            'danceability': audio_features['danceability'],\n",
    "            'valence': audio_features['valence']\n",
    "        }\n",
    "    except Exception as e:\n",
    "        print(f\"Erro ao buscar dados para {track_id}: {e}\")\n",
    "        return None\n",
    "\n",
    "def update_missing_values(df):\n",
    "    for index, row in df.iterrows():\n",
    "        if pd.isna(row['acousticness']):  # Verifique uma das colunas que tem NA\n",
    "            features = get_track_features(row['id'])\n",
    "            if features:\n",
    "                for key, value in features.items():\n",
    "                    if pd.isna(row[key]):\n",
    "                        df.at[index, key] = value\n",
    "    return df\n",
    "\n",
    "# Aplicando a função para atualizar o df_tracks2\n",
    "df_tracks2 = update_missing_values(df_tracks2)\n",
    "\n",
    "# Exibindo o DataFrame atualizado\n",
    "display(df_tracks2)"
   ]
  }
 ],
 "metadata": {
  "kernelspec": {
   "display_name": "Python 3 (ipykernel)",
   "language": "python",
   "name": "python3"
  },
  "language_info": {
   "codemirror_mode": {
    "name": "ipython",
    "version": 3
   },
   "file_extension": ".py",
   "mimetype": "text/x-python",
   "name": "python",
   "nbconvert_exporter": "python",
   "pygments_lexer": "ipython3",
   "version": "3.9.7"
  }
 },
 "nbformat": 4,
 "nbformat_minor": 5
}
