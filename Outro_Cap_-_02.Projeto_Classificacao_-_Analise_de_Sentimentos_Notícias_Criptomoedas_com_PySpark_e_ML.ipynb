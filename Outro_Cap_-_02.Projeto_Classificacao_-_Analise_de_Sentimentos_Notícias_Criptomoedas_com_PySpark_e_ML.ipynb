{
 "cells": [
  {
   "cell_type": "markdown",
   "id": "73149561",
   "metadata": {},
   "source": [
    "<span style=\"color: green; font-size: 40px; font-weight: bold;\"> Projeto (Classificação com PySpark) </span>\n",
    "<br> <br>\n",
    "\n",
    "# Análise de Sentimentos em Notícias de Criptomoedas com PySpark e Machine Learning\n",
    "\n",
    "<br>\n",
    "\n",
    "### Contexto\n",
    "\n",
    "Neste mini-projeto, vamos explorar um importante contexto de negócio na área de finanças: a **análise de sentimentos em notícias de criptomoedas**. O projeto será desenvolvido desde a concepção do problema de negócio até a entrega de um modelo preditivo, utilizando ferramentas comuns de análise de dados no dia a dia de um Cientista de Dados. Apesar do foco ser em ferramentas de análise de dados, o projeto não serve como aconselhamento financeiro.\n",
    "\n",
    "<br>\n",
    "\n",
    "### Objetivo\n",
    "\n",
    "O objetivo deste mini-projeto é **construir um modelo de Machine Learning capaz de analisar os sentimentos em notícias de criptomoedas**. Usaremos dados de notícias sobre criptomoedas para treinar o modelo. Este projeto pode ser estendido para outras áreas ou tópicos onde a análise de sentimentos em textos seja relevante.\n",
    "\n",
    "<br>\n",
    "\n",
    "### Pergunta de Negócio Principal\n",
    "\n",
    "\"Como podemos analisar os sentimentos em notícias sobre criptomoedas usando dados textuais e ferramentas de Machine Learning?\"\n",
    "\n",
    "<br>\n",
    "\n",
    "### Entregável\n",
    "\n",
    "O entregável deste mini-projeto será um **modelo de Machine Learning treinado para classificar o sentimento das notícias de criptomoedas**. O modelo será desenvolvido utilizando dados textuais de notícias sobre criptomoedas e será capaz de fazer previsões em tempo real com base em novos dados de entrada. O processo incluirá a concepção do problema de negócio, preparação dos dados, desenvolvimento do modelo, e a entrega do modelo preditivo.\n",
    "\n",
    "<br>\n",
    "\n",
    "### Sobre o Conjunto de Dados\n",
    "\n",
    "Os dados utilizados neste mini-projeto abrangem o período de 12 de outubro de 2021 a 19 de dezembro de 2023. O arquivo CSV contém registros de notícias de criptomoedas, incluindo título, texto, fonte, assunto e análise de sentimentos.\n",
    "\n",
    "A análise de sentimentos foi realizada usando a biblioteca textblob, que inclui polaridade e subjetividade.\n",
    "\n",
    "<br>\n",
    "\n",
    "Para este projeto, utilizaremos o conjunto de dados \"Crypto News\", que contém informações detalhadas sobre artigos de notícias relacionadas a criptomoedas. O conjunto de dados inclui os seguintes campos:\n",
    "\n",
    "<br>\n",
    "<table border=\"2\">\n",
    "  <tr>\n",
    "    <th style=\"text-align: center; font-size: 16px;\">Nome da Coluna</th>\n",
    "    <th style=\"text-align: center; font-size: 16px;\">Tipo de Dado</th>\n",
    "    <th style=\"text-align: center; font-size: 16px;\">Descrição</th>\n",
    "  </tr>\n",
    "  <tr>\n",
    "    <td>date</td>\n",
    "    <td>datetime</td>\n",
    "    <td>Data e hora em que o artigo foi publicado (UTC).</td>\n",
    "  </tr>\n",
    "  <tr>\n",
    "    <td>source</td>\n",
    "    <td>string</td>\n",
    "    <td>Fonte do artigo (ex: cryptonews.com, cointelegraph.com).</td>\n",
    "  </tr>\n",
    "  <tr>\n",
    "    <td>subject</td>\n",
    "    <td>string</td>\n",
    "    <td>Assunto do artigo.</td>\n",
    "  </tr>\n",
    "  <tr>\n",
    "    <td>title</td>\n",
    "    <td>string</td>\n",
    "    <td>Título do artigo.</td>\n",
    "  </tr>\n",
    "  <tr>\n",
    "    <td>text</td>\n",
    "    <td>string</td>\n",
    "    <td>Primeiro parágrafo do artigo.</td>\n",
    "  </tr>\n",
    "  <tr>\n",
    "    <td>sentiment</td>\n",
    "    <td>json</td>\n",
    "    <td>Análise de sentimentos do artigo, incluindo classe (positivo, negativo, neutro), polaridade e subjetividade.</td>\n",
    "  </tr>\n",
    "  <tr>\n",
    "    <td>url</td>\n",
    "    <td>string</td>\n",
    "    <td>URL do artigo.</td>\n",
    "  </tr>\n",
    "</table>\n",
    "\n",
    "<br> <br> <br>\n",
    "\n",
    "# Importando Pacotes"
   ]
  },
  {
   "cell_type": "code",
   "execution_count": 1,
   "id": "85d67f2e",
   "metadata": {},
   "outputs": [
    {
     "ename": "RuntimeError",
     "evalue": "module was compiled against NumPy C-API version 0x10 (NumPy 1.23) but the running NumPy has C-API version 0xf. Check the section C-API incompatibility at the Troubleshooting ImportError section at https://numpy.org/devdocs/user/troubleshooting-importerror.html#c-api-incompatibility for indications on how to solve this problem.",
     "output_type": "error",
     "traceback": [
      "\u001b[0;31m---------------------------------------------------------------------------\u001b[0m",
      "\u001b[0;31mRuntimeError\u001b[0m                              Traceback (most recent call last)",
      "\u001b[0;31mRuntimeError\u001b[0m: module was compiled against NumPy C-API version 0x10 (NumPy 1.23) but the running NumPy has C-API version 0xf. Check the section C-API incompatibility at the Troubleshooting ImportError section at https://numpy.org/devdocs/user/troubleshooting-importerror.html#c-api-incompatibility for indications on how to solve this problem."
     ]
    }
   ],
   "source": [
    "# Importa o findspark e inicializa\n",
    "import findspark\n",
    "findspark.init()\n",
    "\n",
    "## Bibliotecas de Manipulação e Análise de Dados\n",
    "\n",
    "import pandas as pd                      # Biblioteca para manipulação e análise de dados tabulares.\n",
    "import numpy as np                       # Biblioteca para cálculos numéricos e manipulação de arrays.\n",
    "\n",
    "\n",
    "## Bibliotecas de Visualização de Dados\n",
    "\n",
    "import seaborn as sns                    # Biblioteca para visualização de dados estatísticos.\n",
    "from matplotlib import pyplot as plt     # Biblioteca para criação de gráficos e visualizações.\n",
    "\n",
    "\n",
    "## Bibliotecas Principais do PySpark\n",
    "\n",
    "import pyspark                           # Biblioteca para processamento de dados em grande escala usando clusters.\n",
    "from pyspark import SparkConf            # Configuração e criação do contexto do Spark.\n",
    "from pyspark import SparkContext         # Configuração e criação do contexto do Spark.   \n",
    "from pyspark.sql import SparkSession     # Criação e manipulação de sessões e contextos SQL no Spark.\n",
    "from pyspark.sql import SQLContext       # Criação e manipulação de sessões e contextos SQL no Spark.\n",
    "from pyspark.sql.types import *          # Tipos de dados usados na criação de schemas de DataFrames no Spark.\n",
    "from pyspark.sql.functions import *      # Funções SQL usadas para manipulação e transformação de dados no Spark.\n",
    "from pyspark.sql.functions import col, count, when, isnan\n",
    "from pyspark.sql.functions import from_unixtime, col, expr, date_format, from_utc_timestamp\n",
    "from pyspark.sql import functions as F\n",
    "\n",
    "## Bibliotecas de Machine Learning no PySpark\n",
    "\n",
    "from pyspark.ml.linalg import Vectors               # Estruturas de dados para manipulação de vetores na MLlib do Spark.\n",
    "from pyspark.ml.feature import StringIndexer        # Transformação de variáveis categóricas em numéricas.\n",
    "from pyspark.ml.classification import LogisticRegression  # Algoritmo de regressão logística na MLlib do Spark.\n",
    "from pyspark.ml.classification import LogisticRegressionModel\n",
    "from pyspark.ml.classification import DecisionTreeClassifier  # Algoritmo de árvore de decisão para classificação.\n",
    "from pyspark.ml.classification import RandomForestClassifier  # Algoritmo de floresta aleatória para classificação.\n",
    "from pyspark.ml.classification import GBTClassifier           # Algoritmo de gradiente boosting para classificação.\n",
    "from pyspark.ml.evaluation import MulticlassClassificationEvaluator  # Avaliação de modelos de classificação.\n",
    "\n",
    "from pyspark.ml.feature import MinMaxScaler             # Normalização dos dados para um intervalo específico.\n",
    "from pyspark.ml.feature import VectorAssembler   # Combinação de múltiplas colunas em uma única coluna de vetores.\n",
    "from pyspark.ml import Pipeline          # Construção de pipelines de ML que consistem em uma sequência de etapas.\n",
    "from pyspark.ml.tuning import ParamGridBuilder    # Ferramentas para construção de grids de parâmetros.\n",
    "from pyspark.ml.tuning import CrossValidator      # Ferramentas para construção de validação cruzada.\n",
    "from pyspark.ml.tuning import CrossValidatorModel # Ferramentas para construção de validação cruzada.\n",
    "from pyspark.ml.feature import StandardScaler     # Normalização de dados para ter média zero e variância unitária.\n",
    "\n",
    "from pyspark.ml import Pipeline\n",
    "from sklearn.metrics import accuracy_score, classification_report, confusion_matrix\n",
    "import joblib\n",
    "from pyspark.ml import PipelineModel\n",
    "import zipfile\n",
    "\n",
    "from pyspark.sql.functions import udf, col\n",
    "from pyspark.sql.types import StringType\n",
    "import json\n",
    "from pyspark.ml.feature import IndexToString, StringIndexerModel"
   ]
  },
  {
   "cell_type": "code",
   "execution_count": 2,
   "id": "5d5bc86b",
   "metadata": {},
   "outputs": [],
   "source": [
    "## Formatação das saídas\n",
    "\n",
    "# Configura o Pandas para mostrar até 200 colunas ao exibir um DataFrame\n",
    "pd.set_option('display.max_columns', 200)\n",
    "\n",
    "# Configura o Pandas para mostrar até 400 caracteres por coluna ao exibir um DataFrame\n",
    "pd.set_option('display.max_colwidth', 400)\n",
    "\n",
    "# Configuramos matplotlib_axes_logger para exibir apenas mensagens de erro \n",
    "from matplotlib.axes._axes import _log as matplotlib_axes_logger\n",
    "matplotlib_axes_logger.setLevel('ERROR')"
   ]
  },
  {
   "cell_type": "code",
   "execution_count": 3,
   "id": "363e6ed5",
   "metadata": {},
   "outputs": [
    {
     "name": "stdout",
     "output_type": "stream",
     "text": [
      "Author: Data Science Academy\n",
      "\n",
      "findspark : 2.0.1\n",
      "pandas    : 1.3.5\n",
      "joblib    : 1.4.2\n",
      "pyspark   : 3.5.1\n",
      "matplotlib: 3.4.3\n",
      "sys       : 3.9.7 (default, Sep 16 2021, 13:09:58) \n",
      "[GCC 7.5.0]\n",
      "seaborn   : 0.11.2\n",
      "numpy     : 1.22.4\n",
      "decimal   : 1.70\n",
      "json      : 2.0.9\n",
      "\n"
     ]
    }
   ],
   "source": [
    "# Versões dos pacotes usados neste jupyter notebook\n",
    "%reload_ext watermark\n",
    "%watermark -a \"Data Science Academy\" --iversions"
   ]
  },
  {
   "cell_type": "markdown",
   "id": "3e57e789",
   "metadata": {},
   "source": [
    "<br> <br>\n",
    "\n",
    "# <span style=\"color: green; font-size: 38px; font-weight: bold;\">Preparando o Ambiente Spark</span>"
   ]
  },
  {
   "cell_type": "code",
   "execution_count": 4,
   "id": "bedfd843",
   "metadata": {},
   "outputs": [
    {
     "name": "stderr",
     "output_type": "stream",
     "text": [
      "24/07/22 15:46:03 WARN Utils: Your hostname, eduardo-Inspiron-15-3520 resolves to a loopback address: 127.0.1.1; using 192.168.0.13 instead (on interface wlp0s20f3)\n",
      "24/07/22 15:46:03 WARN Utils: Set SPARK_LOCAL_IP if you need to bind to another address\n",
      "Setting default log level to \"WARN\".\n",
      "To adjust logging level use sc.setLogLevel(newLevel). For SparkR, use setLogLevel(newLevel).\n",
      "24/07/22 15:46:03 WARN NativeCodeLoader: Unable to load native-hadoop library for your platform... using builtin-java classes where applicable\n"
     ]
    },
    {
     "data": {
      "text/html": [
       "\n",
       "            <div>\n",
       "                <p><b>SparkSession - in-memory</b></p>\n",
       "                \n",
       "        <div>\n",
       "            <p><b>SparkContext</b></p>\n",
       "\n",
       "            <p><a href=\"http://192.168.0.13:4040\">Spark UI</a></p>\n",
       "\n",
       "            <dl>\n",
       "              <dt>Version</dt>\n",
       "                <dd><code>v3.5.1</code></dd>\n",
       "              <dt>Master</dt>\n",
       "                <dd><code>local[*]</code></dd>\n",
       "              <dt>AppName</dt>\n",
       "                <dd><code>Mini-Projeto3</code></dd>\n",
       "            </dl>\n",
       "        </div>\n",
       "        \n",
       "            </div>\n",
       "        "
      ],
      "text/plain": [
       "<pyspark.sql.session.SparkSession at 0x7fdffc20b340>"
      ]
     },
     "execution_count": 4,
     "metadata": {},
     "output_type": "execute_result"
    }
   ],
   "source": [
    "# Definindo semente aleatória (seed) para reprodutibilidade do notebook\n",
    "rnd_seed = 23\n",
    "np.random.seed = rnd_seed\n",
    "np.random.set_state = rnd_seed\n",
    "\n",
    "# Criando o Spark Context\n",
    "conf = SparkConf().setAppName(\"Mini-Projeto3\") \\\n",
    "                  .set(\"spark.ui.showConsoleProgress\", \"false\") \\\n",
    "                  .set(\"spark.executor.heartbeatInterval\", \"20s\") \\\n",
    "                  .set(\"spark.eventLog.enabled\", \"false\") \\\n",
    "                  .set(\"spark.sql.shuffle.partitions\", \"2\") \\\n",
    "                  .set(\"spark.sql.debug.maxToStringFields\", \"100\") \\\n",
    "                  .set(\"spark.executor.memory\", \"4g\") \\\n",
    "                  .set(\"spark.driver.memory\", \"4g\") \\\n",
    "                  .set(\"spark.driver.maxResultSize\", \"2g\")  # Configuração adicional para limitar o tamanho do resultado\n",
    "\n",
    "# Criar o Spark Context e a Spark Session\n",
    "sc = SparkContext(conf=conf)\n",
    "spark_session = SparkSession.builder.config(conf=conf).getOrCreate()\n",
    "\n",
    "# Ajustar o nível de log para ERROR\n",
    "sc.setLogLevel(\"ERROR\")\n",
    "\n",
    "# Configurar log4j para suprimir avisos (deixar como comentário e volta ao normal)\n",
    "log4j_logger = sc._jvm.org.apache.log4j\n",
    "log4j_logger.LogManager.getLogger(\"org\").setLevel(log4j_logger.Level.ERROR)\n",
    "log4j_logger.LogManager.getLogger(\"akka\").setLevel(log4j_logger.Level.ERROR)\n",
    "\n",
    "# Visualizar o objeto spark_session\n",
    "spark_session"
   ]
  },
  {
   "cell_type": "markdown",
   "id": "17529816",
   "metadata": {},
   "source": [
    "<br><br>\n",
    "\n",
    "# <span style=\"color: green; font-size: 38px; font-weight: bold;\">Carregando os Dados</span>"
   ]
  },
  {
   "cell_type": "code",
   "execution_count": 5,
   "id": "7fbc40bb",
   "metadata": {},
   "outputs": [],
   "source": [
    "# Carrega os dados a partir da sessão Spark\n",
    "df_spark = spark_session.read.csv('dados/cryptonews.csv', header = 'true', inferSchema = 'true')"
   ]
  },
  {
   "cell_type": "code",
   "execution_count": 6,
   "id": "7a152e60",
   "metadata": {},
   "outputs": [
    {
     "name": "stdout",
     "output_type": "stream",
     "text": [
      "+-------------------+--------------------+-------------+----------+--------------------+--------------------+--------------------+\n",
      "|               date|           sentiment|       source|   subject|                text|               title|                 url|\n",
      "+-------------------+--------------------+-------------+----------+--------------------+--------------------+--------------------+\n",
      "|2023-12-19 06:40:41|{'class': 'negati...|   CryptoNews|   altcoin|Grayscale CEO Mic...|Grayscale CEO Cal...|https://cryptonew...|\n",
      "|2023-12-19 06:03:24|{'class': 'neutra...|   CryptoNews|blockchain|In an exclusive i...|Indian Government...|https://cryptonew...|\n",
      "|2023-12-19 05:55:14|{'class': 'positi...|   CryptoNews|blockchain|According to the ...|Judge Approves Se...|https://cryptonew...|\n",
      "|2023-12-19 05:35:26|{'class': 'positi...|CoinTelegraph|blockchain|Some suggest EVM ...|Why a gold rush f...|https://cointeleg...|\n",
      "|2023-12-19 05:31:08|{'class': 'neutra...|CoinTelegraph|  ethereum|A decision by blo...|‘Concerning prece...|https://cointeleg...|\n",
      "+-------------------+--------------------+-------------+----------+--------------------+--------------------+--------------------+\n",
      "only showing top 5 rows\n",
      "\n"
     ]
    },
    {
     "data": {
      "text/plain": [
       "31037"
      ]
     },
     "execution_count": 6,
     "metadata": {},
     "output_type": "execute_result"
    }
   ],
   "source": [
    "# Visualiza as 5 primeiras linhas dos dados\n",
    "df_spark.show(5)\n",
    "\n",
    "# Visualiza total de linhas\n",
    "df_spark.count()"
   ]
  },
  {
   "cell_type": "code",
   "execution_count": 7,
   "id": "10f3a8f8",
   "metadata": {},
   "outputs": [
    {
     "name": "stdout",
     "output_type": "stream",
     "text": [
      "root\n",
      " |-- date: timestamp (nullable = true)\n",
      " |-- sentiment: string (nullable = true)\n",
      " |-- source: string (nullable = true)\n",
      " |-- subject: string (nullable = true)\n",
      " |-- text: string (nullable = true)\n",
      " |-- title: string (nullable = true)\n",
      " |-- url: string (nullable = true)\n",
      "\n"
     ]
    }
   ],
   "source": [
    "# Visualiza os metadados (schema) - similar ao info()\n",
    "df_spark.printSchema()"
   ]
  },
  {
   "cell_type": "markdown",
   "id": "a5539ffc",
   "metadata": {},
   "source": [
    "<br>\n",
    "\n",
    "## Renomeando Colunas"
   ]
  },
  {
   "cell_type": "code",
   "execution_count": 8,
   "id": "e970b415",
   "metadata": {},
   "outputs": [],
   "source": [
    "# Vamos renomear algumas colunas para facilitar a manipulação dos dados\n",
    "df_spark = df_spark.withColumnRenamed(\"date\", \"datetime\")"
   ]
  },
  {
   "cell_type": "markdown",
   "id": "bc7328d1",
   "metadata": {},
   "source": [
    "<br><br><br>\n",
    "\n",
    "# <span style=\"color: green; font-size: 38px; font-weight: bold;\"> Análise Exploratória Inicial dos Dados </span>\n",
    "\n",
    "<br>\n",
    "\n",
    "### Função Para Análise Inicial"
   ]
  },
  {
   "cell_type": "code",
   "execution_count": 9,
   "id": "b1d337cc",
   "metadata": {},
   "outputs": [
    {
     "name": "stdout",
     "output_type": "stream",
     "text": [
      "\n",
      "\n",
      " INFO (schema)\n",
      "\n",
      "\n",
      "root\n",
      " |-- datetime: timestamp (nullable = true)\n",
      " |-- sentiment: string (nullable = true)\n",
      " |-- source: string (nullable = true)\n",
      " |-- subject: string (nullable = true)\n",
      " |-- text: string (nullable = true)\n",
      " |-- title: string (nullable = true)\n",
      " |-- url: string (nullable = true)\n",
      "\n",
      "\n",
      "\n",
      " ------------------------------------------------------------------------------------------ \n",
      "\n",
      "\n",
      "Número de Linhas: 31037\n",
      "\n",
      "\n",
      " TOTAL DE VALORES NaN por Coluna \n",
      "\n",
      "+--------+---------+------+-------+----+-----+---+\n",
      "|datetime|sentiment|source|subject|text|title|url|\n",
      "+--------+---------+------+-------+----+-----+---+\n",
      "|       0|        0|     0|      0|   0|    0|  0|\n",
      "+--------+---------+------+-------+----+-----+---+\n",
      "\n",
      "\n",
      "\n",
      "Existem valores ausentes: False\n",
      "\n",
      "Nenhuma variável possui valores ausentes.\n",
      "\n",
      "\n",
      "\n",
      "Existem valores duplicados: False\n",
      "\n",
      "Nenhuma variável possui valores duplicados.\n",
      "\n"
     ]
    }
   ],
   "source": [
    "# Função Para Análise Inicial\n",
    "def analise_inicial(df):\n",
    "    # Exibir o schema do DataFrame\n",
    "    print('\\n\\n INFO (schema)\\n\\n')\n",
    "    df.printSchema()\n",
    "    \n",
    "    print('\\n\\n ------------------------------------------------------------------------------------------ \\n\\n')\n",
    "    \n",
    "    # Número de linhas\n",
    "    print(\"Número de Linhas:\", df.count())\n",
    "    \n",
    "    # Verificar valores ausentes em cada coluna\n",
    "    print('\\n\\n TOTAL DE VALORES NaN por Coluna \\n')\n",
    "    \n",
    "    # Verifica os valores nulos em cada coluna\n",
    "    valores_ausentes = df.select([count(when(col(c).isNull(), c)).alias(c) for c in df.columns])\n",
    "    valores_ausentes.show()\n",
    "\n",
    "    # Verificar se existe alguma variável com valores ausentes\n",
    "    valores_ausentes_boolean = any(row[c] > 0 for row in valores_ausentes.collect() for c in df.columns)\n",
    "\n",
    "    # Nomes das variáveis com valores ausentes\n",
    "    variaveis_ausentes = [c for c in df.columns if df.filter(col(c).isNull()).count() > 0]\n",
    "\n",
    "    # Número de linhas duplicadas\n",
    "    num_linhas_total = df.count()\n",
    "    num_linhas_distintas = df.distinct().count()\n",
    "    num_linhas_duplicadas = num_linhas_total - num_linhas_distintas\n",
    "\n",
    "    # Porcentagem de linhas duplicadas\n",
    "    porcentagem_linhas_duplicadas = (num_linhas_duplicadas / num_linhas_total) * 100\n",
    "\n",
    "    # Total de linhas com pelo menos um valor ausente\n",
    "    total_linhas_ausentes = df.filter(\n",
    "        \" OR \".join([f\"(`{c}` IS NULL)\" for c in df.columns])\n",
    "    ).count()\n",
    "\n",
    "    # Porcentagem de linhas com pelo menos um valor ausente\n",
    "    porcentagem_linhas_ausentes = (total_linhas_ausentes / num_linhas_total) * 100\n",
    "\n",
    "    # Exibe o resultado\n",
    "    print(\"\\n\\nExistem valores ausentes:\", valores_ausentes_boolean)\n",
    "    \n",
    "    if valores_ausentes_boolean:\n",
    "        print(\"\\nVariáveis com valores ausentes:\", variaveis_ausentes)\n",
    "        print(\"\\nTotal de Linhas com Valores Ausentes:\", total_linhas_ausentes)\n",
    "        print(\"\\nPorcentagem de Linhas Com Valor Ausente: {:.2f}%\".format(porcentagem_linhas_ausentes))\n",
    "    else:\n",
    "        print(\"\\nNenhuma variável possui valores ausentes.\")\n",
    "    \n",
    "    print(\"\\n\\n\\nExistem valores duplicados:\", num_linhas_duplicadas > 0)\n",
    "    \n",
    "    if num_linhas_duplicadas > 0:\n",
    "        print(\"\\nNúmero de Linhas Duplicadas:\", num_linhas_duplicadas)\n",
    "        print(\"\\nPorcentagem de Linhas Duplicadas: {:.2f}%\\n\".format(porcentagem_linhas_duplicadas))\n",
    "    else:\n",
    "        print(\"\\nNenhuma variável possui valores duplicados.\\n\")\n",
    "\n",
    "# Exemplo de uso da função com o DataFrame df_spark\n",
    "analise_inicial(df_spark)"
   ]
  },
  {
   "cell_type": "markdown",
   "id": "8d48c461",
   "metadata": {},
   "source": [
    "<br><br>\n",
    "\n",
    "# Visualizando os Tipos dos Dados Separadamente\n",
    "\n",
    "<br>\n",
    "\n",
    "#### Visualizando Variáveis Categóricas e Numéricas\n",
    "\n",
    "- Todas as variáveis são categóricas neste dataframe."
   ]
  },
  {
   "cell_type": "markdown",
   "id": "54c9336e",
   "metadata": {},
   "source": [
    "<br><br>\n",
    "\n",
    "## Analisando Todas as Variáveis\n",
    "\n",
    "#### Resumo Estatístico"
   ]
  },
  {
   "cell_type": "code",
   "execution_count": 10,
   "id": "cc9ca69a",
   "metadata": {},
   "outputs": [
    {
     "name": "stdout",
     "output_type": "stream",
     "text": [
      "\n",
      "Resumo Estatístico para a Coluna: datetime\n",
      "\n",
      "Número de valores únicos: 30496\n",
      "+-------------------+-----+\n",
      "|           datetime|count|\n",
      "+-------------------+-----+\n",
      "|2022-01-14 00:00:00|   26|\n",
      "|2023-05-25 00:00:00|   15|\n",
      "|2022-01-12 00:00:00|   14|\n",
      "|2022-01-13 00:00:00|   12|\n",
      "|2023-05-22 00:00:00|   11|\n",
      "+-------------------+-----+\n",
      "only showing top 5 rows\n",
      "\n",
      "Moda: 2022-01-14 00:00:00 (ocorrências: 26)\n",
      "\n",
      "Resumo Estatístico para a Coluna: sentiment\n",
      "\n",
      "Número de valores únicos: 3931\n",
      "+--------------------+-----+\n",
      "|           sentiment|count|\n",
      "+--------------------+-----+\n",
      "|{'class': 'neutra...| 6916|\n",
      "|{'class': 'positi...|  655|\n",
      "|{'class': 'positi...|  498|\n",
      "|{'class': 'neutra...|  484|\n",
      "|{'class': 'neutra...|  380|\n",
      "+--------------------+-----+\n",
      "only showing top 5 rows\n",
      "\n",
      "Moda: {'class': 'neutral', 'polarity': 0.0, 'subjectivity': 0.0} (ocorrências: 6916)\n",
      "\n",
      "Resumo Estatístico para a Coluna: source\n",
      "\n",
      "Número de valores únicos: 3\n",
      "+-------------+-----+\n",
      "|       source|count|\n",
      "+-------------+-----+\n",
      "|CoinTelegraph|13010|\n",
      "|   CryptoNews|10459|\n",
      "| CryptoPotato| 7568|\n",
      "+-------------+-----+\n",
      "\n",
      "Moda: CoinTelegraph (ocorrências: 13010)\n",
      "\n",
      "Resumo Estatístico para a Coluna: subject\n",
      "\n",
      "Número de valores únicos: 6\n",
      "+----------+-----+\n",
      "|   subject|count|\n",
      "+----------+-----+\n",
      "|   bitcoin| 9968|\n",
      "|   altcoin| 9278|\n",
      "|blockchain| 6947|\n",
      "|  ethereum| 2274|\n",
      "|       nft| 1533|\n",
      "+----------+-----+\n",
      "only showing top 5 rows\n",
      "\n",
      "Moda: bitcoin (ocorrências: 9968)\n",
      "\n",
      "Resumo Estatístico para a Coluna: text\n",
      "\n",
      "Número de valores únicos: 30423\n",
      "+--------------------+-----+\n",
      "|                text|count|\n",
      "+--------------------+-----+\n",
      "|Get your daily, b...|  447|\n",
      "|Here is our weekl...|   57|\n",
      "|Here is our weekl...|   24|\n",
      "|Get your daily, b...|   17|\n",
      "|Here is our weekl...|   15|\n",
      "+--------------------+-----+\n",
      "only showing top 5 rows\n",
      "\n",
      "Moda: Get your daily, bite-sized digest of cryptoasset and blockchain-related news. (ocorrências: 447)\n",
      "\n",
      "Resumo Estatístico para a Coluna: title\n",
      "\n",
      "Número de valores únicos: 30964\n",
      "+--------------------+-----+\n",
      "|               title|count|\n",
      "+--------------------+-----+\n",
      "|Is it Too Late to...|    4|\n",
      "|El Salvador Partn...|    2|\n",
      "|Triple-A Raises $...|    2|\n",
      "|             Bitcoin|    2|\n",
      "|       Bitcoin price|    2|\n",
      "+--------------------+-----+\n",
      "only showing top 5 rows\n",
      "\n",
      "Moda: Is it Too Late to Buy Shiba Inu? Crypto Experts Give Their SHIB Price Predictions (ocorrências: 4)\n",
      "\n",
      "Resumo Estatístico para a Coluna: url\n",
      "\n",
      "Número de valores únicos: 31037\n",
      "+--------------------+-----+\n",
      "|                 url|count|\n",
      "+--------------------+-----+\n",
      "|https://cryptonew...|    1|\n",
      "|https://cryptonew...|    1|\n",
      "|https://cointeleg...|    1|\n",
      "|https://cryptonew...|    1|\n",
      "|https://cryptopot...|    1|\n",
      "+--------------------+-----+\n",
      "only showing top 5 rows\n",
      "\n",
      "Moda: https://cryptonews.comhttps://cryptonews.com/news/grayscale-ceo-calls-for-simultaneous-approval-of-spot-products-to-level-the-field.htm (ocorrências: 1)\n"
     ]
    }
   ],
   "source": [
    "def resumo_estatistico_categorico(df):\n",
    "    # Para cada coluna, contar o número de valores únicos e a moda\n",
    "    for column in df.columns:\n",
    "        print(f\"\\nResumo Estatístico para a Coluna: {column}\\n\")\n",
    "        \n",
    "        # Contar o número de valores únicos\n",
    "        unique_count = df.select(column).distinct().count()\n",
    "        print(f\"Número de valores únicos: {unique_count}\")\n",
    "        \n",
    "        # Contar as ocorrências de cada valor\n",
    "        value_counts = df.groupBy(column).count().orderBy(F.desc(\"count\"))\n",
    "        value_counts.show(5)\n",
    "        \n",
    "        # Encontrar a moda\n",
    "        moda = value_counts.first()\n",
    "        print(f\"Moda: {moda[column]} (ocorrências: {moda['count']})\")\n",
    "\n",
    "# Exemplo de uso da função com o DataFrame df_spark\n",
    "resumo_estatistico_categorico(df_spark)"
   ]
  },
  {
   "cell_type": "markdown",
   "id": "091f794c",
   "metadata": {},
   "source": [
    "<br> <br> <br>\n",
    "# <span style=\"color: green; font-size: 38px; font-weight: bold;\"> Criando Tabela Temporária </span>\n",
    "\n",
    "- As tabelas temporárias são úteis quando você deseja que o conjunto de resultados fique visível para todas as outras sessões Spark"
   ]
  },
  {
   "cell_type": "code",
   "execution_count": 11,
   "id": "59d2de78",
   "metadata": {},
   "outputs": [
    {
     "name": "stdout",
     "output_type": "stream",
     "text": [
      "+-------------------+--------------------+-------------+----------+--------------------+--------------------+--------------------+\n",
      "|           datetime|           sentiment|       source|   subject|                text|               title|                 url|\n",
      "+-------------------+--------------------+-------------+----------+--------------------+--------------------+--------------------+\n",
      "|2023-12-19 06:40:41|{'class': 'negati...|   CryptoNews|   altcoin|Grayscale CEO Mic...|Grayscale CEO Cal...|https://cryptonew...|\n",
      "|2023-12-19 06:03:24|{'class': 'neutra...|   CryptoNews|blockchain|In an exclusive i...|Indian Government...|https://cryptonew...|\n",
      "|2023-12-19 05:55:14|{'class': 'positi...|   CryptoNews|blockchain|According to the ...|Judge Approves Se...|https://cryptonew...|\n",
      "|2023-12-19 05:35:26|{'class': 'positi...|CoinTelegraph|blockchain|Some suggest EVM ...|Why a gold rush f...|https://cointeleg...|\n",
      "|2023-12-19 05:31:08|{'class': 'neutra...|CoinTelegraph|  ethereum|A decision by blo...|‘Concerning prece...|https://cointeleg...|\n",
      "+-------------------+--------------------+-------------+----------+--------------------+--------------------+--------------------+\n",
      "only showing top 5 rows\n",
      "\n",
      "None\n"
     ]
    }
   ],
   "source": [
    "# Cria uma tabela temporária a partir do dataframe (se não existir, ele cria)\n",
    "df_spark.createOrReplaceTempView('dados_crypto')\n",
    "\n",
    "# Executa a Consulta SQL e Cria um Novo DataFrame\n",
    "dados = spark_session.sql(\"SELECT * FROM dados_crypto\")\n",
    "\n",
    "print(dados.show(5))"
   ]
  },
  {
   "cell_type": "markdown",
   "id": "437923fb",
   "metadata": {},
   "source": [
    "<br> <br>\n",
    "\n",
    "# <span style=\"color: green; font-size: 38px; font-weight: bold;\">Limpeza nos Dados</span>\n",
    "\n",
    "<br>\n",
    "\n",
    "### Tratando Valores Ausentes\n",
    "\n",
    "- Iremos remover todas as linhas com valores ausentes (não faz sentido qualquer tratamento aqui, pois todas as colunas de cotações estão como NaN)"
   ]
  },
  {
   "cell_type": "code",
   "execution_count": 12,
   "id": "7726c1e2",
   "metadata": {},
   "outputs": [
    {
     "name": "stdout",
     "output_type": "stream",
     "text": [
      "31037\n",
      "31037\n"
     ]
    }
   ],
   "source": [
    "# Quantidade de Linha\n",
    "print(dados.count())\n",
    "\n",
    "# Remove valores NA \n",
    "dados = dados.dropna('any')\n",
    "\n",
    "# Quantidade de Linha\n",
    "print(dados.count())"
   ]
  },
  {
   "cell_type": "markdown",
   "id": "d9fc0b63",
   "metadata": {},
   "source": [
    "<br><br>\n",
    "\n",
    "# <span style=\"color: green; font-size: 38px; font-weight: bold;\">Features Engineering</span>\n",
    "\n",
    "<br> <br>\n",
    "\n",
    "### Criando nova variável: sentiment_class\n",
    "\n",
    "- Criada a partir da transformação da coluna <i>sentiment</i>, apenas com os Sentimentos."
   ]
  },
  {
   "cell_type": "code",
   "execution_count": 13,
   "id": "6eba6f4a",
   "metadata": {},
   "outputs": [
    {
     "name": "stdout",
     "output_type": "stream",
     "text": [
      "+-------------------+--------------------+----------+----------+--------------------+--------------------+--------------------+---------------+\n",
      "|           datetime|           sentiment|    source|   subject|                text|               title|                 url|sentiment_class|\n",
      "+-------------------+--------------------+----------+----------+--------------------+--------------------+--------------------+---------------+\n",
      "|2023-12-19 06:40:41|{'class': 'negati...|CryptoNews|   altcoin|Grayscale CEO Mic...|Grayscale CEO Cal...|https://cryptonew...|       negative|\n",
      "|2023-12-19 06:03:24|{'class': 'neutra...|CryptoNews|blockchain|In an exclusive i...|Indian Government...|https://cryptonew...|        neutral|\n",
      "+-------------------+--------------------+----------+----------+--------------------+--------------------+--------------------+---------------+\n",
      "only showing top 2 rows\n",
      "\n"
     ]
    }
   ],
   "source": [
    "# Definir uma função para validar e extrair a classe de sentimento\n",
    "def get_sentiment_class(sentiment):\n",
    "    try:\n",
    "        sentiment_json = json.loads(sentiment.replace(\"'\", \"\\\"\"))\n",
    "        return sentiment_json['class']\n",
    "    except json.JSONDecodeError:\n",
    "        return None\n",
    "\n",
    "# Registrar a UDF\n",
    "get_sentiment_class_udf = udf(get_sentiment_class, StringType())\n",
    "\n",
    "# Aplicar a UDF para criar uma nova coluna 'sentiment_class'\n",
    "dados = dados.withColumn('sentiment_class', get_sentiment_class_udf(col('sentiment')))\n",
    "\n",
    "# Mostrar as primeiras linhas para verificar a nova coluna\n",
    "dados.show(2)"
   ]
  },
  {
   "cell_type": "markdown",
   "id": "5a8ef64e",
   "metadata": {},
   "source": [
    "### Criando nova variável: polarity\n",
    "\n",
    "- Criada a partir da transformação da coluna <i>sentiment</i>, com um valor numérico que representa a intensidade do sentimento. Pode variar de -1 (extremamente negativo) a 1 (extremamente positivo)."
   ]
  },
  {
   "cell_type": "code",
   "execution_count": 14,
   "id": "6ed063fa",
   "metadata": {},
   "outputs": [
    {
     "name": "stdout",
     "output_type": "stream",
     "text": [
      "+-------------------+--------------------+----------+----------+--------------------+--------------------+--------------------+---------------+--------+\n",
      "|           datetime|           sentiment|    source|   subject|                text|               title|                 url|sentiment_class|polarity|\n",
      "+-------------------+--------------------+----------+----------+--------------------+--------------------+--------------------+---------------+--------+\n",
      "|2023-12-19 06:40:41|{'class': 'negati...|CryptoNews|   altcoin|Grayscale CEO Mic...|Grayscale CEO Cal...|https://cryptonew...|       negative|    -0.1|\n",
      "|2023-12-19 06:03:24|{'class': 'neutra...|CryptoNews|blockchain|In an exclusive i...|Indian Government...|https://cryptonew...|        neutral|     0.0|\n",
      "+-------------------+--------------------+----------+----------+--------------------+--------------------+--------------------+---------------+--------+\n",
      "only showing top 2 rows\n",
      "\n"
     ]
    }
   ],
   "source": [
    "# Definir uma função para extrair a polaridade\n",
    "def get_sentiment_polarity(sentiment):\n",
    "    try:\n",
    "        sentiment_json = json.loads(sentiment.replace(\"'\", \"\\\"\"))\n",
    "        return sentiment_json['polarity']\n",
    "    except json.JSONDecodeError:\n",
    "        return None\n",
    "\n",
    "# Registrar a UDF\n",
    "get_sentiment_polarity_udf = udf(get_sentiment_polarity, StringType())\n",
    "\n",
    "# Aplicar a UDF para criar uma nova coluna 'polarity'\n",
    "dados = dados.withColumn('polarity', get_sentiment_polarity_udf(col('sentiment')))\n",
    "\n",
    "# Mostrar as primeiras linhas para verificar a nova coluna\n",
    "dados.show(2)"
   ]
  },
  {
   "cell_type": "markdown",
   "id": "6da31945",
   "metadata": {},
   "source": [
    "### Criando nova variável: subjectivity\n",
    "\n",
    "- Criada a partir da transformação da coluna <i>sentiment</i>,valor numérico que indica quão subjetiva é a notícia. Pode variar de 0 (completamente objetiva) a 1 (completamente subjetiva).\n",
    "\n",
    " "
   ]
  },
  {
   "cell_type": "code",
   "execution_count": 15,
   "id": "8b46ce85",
   "metadata": {},
   "outputs": [
    {
     "name": "stdout",
     "output_type": "stream",
     "text": [
      "+-------------------+--------------------+----------+----------+--------------------+--------------------+--------------------+---------------+--------+------------+\n",
      "|           datetime|           sentiment|    source|   subject|                text|               title|                 url|sentiment_class|polarity|subjectivity|\n",
      "+-------------------+--------------------+----------+----------+--------------------+--------------------+--------------------+---------------+--------+------------+\n",
      "|2023-12-19 06:40:41|{'class': 'negati...|CryptoNews|   altcoin|Grayscale CEO Mic...|Grayscale CEO Cal...|https://cryptonew...|       negative|    -0.1|         0.6|\n",
      "|2023-12-19 06:03:24|{'class': 'neutra...|CryptoNews|blockchain|In an exclusive i...|Indian Government...|https://cryptonew...|        neutral|     0.0|         0.0|\n",
      "+-------------------+--------------------+----------+----------+--------------------+--------------------+--------------------+---------------+--------+------------+\n",
      "only showing top 2 rows\n",
      "\n"
     ]
    }
   ],
   "source": [
    "# Definir uma função para extrair a subjetividade\n",
    "def get_sentiment_subjectivity(sentiment):\n",
    "    try:\n",
    "        sentiment_json = json.loads(sentiment.replace(\"'\", \"\\\"\"))\n",
    "        return sentiment_json['subjectivity']\n",
    "    except json.JSONDecodeError:\n",
    "        return None\n",
    "\n",
    "# Registrar a UDF\n",
    "get_sentiment_subjectivity_udf = udf(get_sentiment_subjectivity, StringType())\n",
    "\n",
    "# Aplicar a UDF para criar uma nova coluna 'subjectivity'\n",
    "dados = dados.withColumn('subjectivity', get_sentiment_subjectivity_udf(col('sentiment')))\n",
    "\n",
    "# Mostrar as primeiras linhas para verificar as novas colunas\n",
    "dados.show(2)"
   ]
  },
  {
   "cell_type": "markdown",
   "id": "f075d9e7",
   "metadata": {},
   "source": [
    "<br>\n",
    "\n",
    "### Criando nova variável: date\n",
    "\n",
    "- Criada a partir da transformação da coluna <i>datetime</i>, extraindo a parte da data."
   ]
  },
  {
   "cell_type": "code",
   "execution_count": 16,
   "id": "b9c46e9b",
   "metadata": {},
   "outputs": [
    {
     "name": "stdout",
     "output_type": "stream",
     "text": [
      "+-------------------+--------------------+----------+----------+--------------------+--------------------+--------------------+---------------+--------+------------+----------+\n",
      "|           datetime|           sentiment|    source|   subject|                text|               title|                 url|sentiment_class|polarity|subjectivity|      date|\n",
      "+-------------------+--------------------+----------+----------+--------------------+--------------------+--------------------+---------------+--------+------------+----------+\n",
      "|2023-12-19 06:40:41|{'class': 'negati...|CryptoNews|   altcoin|Grayscale CEO Mic...|Grayscale CEO Cal...|https://cryptonew...|       negative|    -0.1|         0.6|2023-12-19|\n",
      "|2023-12-19 06:03:24|{'class': 'neutra...|CryptoNews|blockchain|In an exclusive i...|Indian Government...|https://cryptonew...|        neutral|     0.0|         0.0|2023-12-19|\n",
      "+-------------------+--------------------+----------+----------+--------------------+--------------------+--------------------+---------------+--------+------------+----------+\n",
      "only showing top 2 rows\n",
      "\n",
      "None\n"
     ]
    }
   ],
   "source": [
    "# Adicionar uma nova coluna 'date'\n",
    "dados = dados.withColumn(\"date\", split(col(\"dateTime\"), \" \").getItem(0))\n",
    "\n",
    "print(dados.show(2))"
   ]
  },
  {
   "cell_type": "markdown",
   "id": "e17b399f",
   "metadata": {},
   "source": [
    "<br>\n",
    "\n",
    "### Criando nova variável: time\n",
    "\n",
    "- Criada a partir da transformação da coluna <i>dateTime</i>, extraindo a parte do tempo."
   ]
  },
  {
   "cell_type": "code",
   "execution_count": 17,
   "id": "20b35eae",
   "metadata": {},
   "outputs": [
    {
     "name": "stdout",
     "output_type": "stream",
     "text": [
      "+-------------------+--------------------+----------+----------+--------------------+--------------------+--------------------+---------------+--------+------------+----------+--------+\n",
      "|           datetime|           sentiment|    source|   subject|                text|               title|                 url|sentiment_class|polarity|subjectivity|      date|    time|\n",
      "+-------------------+--------------------+----------+----------+--------------------+--------------------+--------------------+---------------+--------+------------+----------+--------+\n",
      "|2023-12-19 06:40:41|{'class': 'negati...|CryptoNews|   altcoin|Grayscale CEO Mic...|Grayscale CEO Cal...|https://cryptonew...|       negative|    -0.1|         0.6|2023-12-19|06:40:41|\n",
      "|2023-12-19 06:03:24|{'class': 'neutra...|CryptoNews|blockchain|In an exclusive i...|Indian Government...|https://cryptonew...|        neutral|     0.0|         0.0|2023-12-19|06:03:24|\n",
      "+-------------------+--------------------+----------+----------+--------------------+--------------------+--------------------+---------------+--------+------------+----------+--------+\n",
      "only showing top 2 rows\n",
      "\n",
      "None\n"
     ]
    }
   ],
   "source": [
    "# Adicionar uma nova coluna 'time'\n",
    "dados = dados.withColumn(\"time\", split(col(\"dateTime\"), \" \").getItem(1))\n",
    "\n",
    "print(dados.show(2))"
   ]
  },
  {
   "cell_type": "markdown",
   "id": "5f3cbddb",
   "metadata": {},
   "source": [
    "<br>\n",
    "\n",
    "### Criando nova variável: hour\n",
    "\n",
    "- Criada a partir da transformação da coluna <i>time</i>, extraindo a hora."
   ]
  },
  {
   "cell_type": "code",
   "execution_count": 18,
   "id": "0a13181e",
   "metadata": {},
   "outputs": [
    {
     "name": "stdout",
     "output_type": "stream",
     "text": [
      "+-------------------+--------------------+----------+----------+--------------------+--------------------+--------------------+---------------+--------+------------+----------+--------+----+\n",
      "|           datetime|           sentiment|    source|   subject|                text|               title|                 url|sentiment_class|polarity|subjectivity|      date|    time|hour|\n",
      "+-------------------+--------------------+----------+----------+--------------------+--------------------+--------------------+---------------+--------+------------+----------+--------+----+\n",
      "|2023-12-19 06:40:41|{'class': 'negati...|CryptoNews|   altcoin|Grayscale CEO Mic...|Grayscale CEO Cal...|https://cryptonew...|       negative|    -0.1|         0.6|2023-12-19|06:40:41|  06|\n",
      "|2023-12-19 06:03:24|{'class': 'neutra...|CryptoNews|blockchain|In an exclusive i...|Indian Government...|https://cryptonew...|        neutral|     0.0|         0.0|2023-12-19|06:03:24|  06|\n",
      "+-------------------+--------------------+----------+----------+--------------------+--------------------+--------------------+---------------+--------+------------+----------+--------+----+\n",
      "only showing top 2 rows\n",
      "\n",
      "None\n"
     ]
    }
   ],
   "source": [
    "# Adicionar uma nova coluna 'hour'\n",
    "dados = dados.withColumn(\"hour\", split(col(\"time\"), \":\").getItem(0))\n",
    "\n",
    "print(dados.show(2))"
   ]
  },
  {
   "cell_type": "markdown",
   "id": "266e80b1",
   "metadata": {},
   "source": [
    "<br>\n",
    "\n",
    "### Criando nova variável: day_of_week\n",
    "\n",
    "- Criada a partir do ajuste do formato das colunas data e extrai o dia da semana (está convertendo o tipo de dados de três colunas: \"date\", \"hour\" e \"dateTime\")."
   ]
  },
  {
   "cell_type": "code",
   "execution_count": 19,
   "id": "b223d8f7",
   "metadata": {},
   "outputs": [
    {
     "name": "stdout",
     "output_type": "stream",
     "text": [
      "+----------+--------------------+----------+----------+--------------------+--------------------+--------------------+---------------+--------+------------+----------+--------+----+-----------+\n",
      "|  dateTime|           sentiment|    source|   subject|                text|               title|                 url|sentiment_class|polarity|subjectivity|      date|    time|hour|day_of_week|\n",
      "+----------+--------------------+----------+----------+--------------------+--------------------+--------------------+---------------+--------+------------+----------+--------+----+-----------+\n",
      "|2023-12-19|{'class': 'negati...|CryptoNews|   altcoin|Grayscale CEO Mic...|Grayscale CEO Cal...|https://cryptonew...|       negative|    -0.1|         0.6|2023-12-19|06:40:41| 6.0|          3|\n",
      "|2023-12-19|{'class': 'neutra...|CryptoNews|blockchain|In an exclusive i...|Indian Government...|https://cryptonew...|        neutral|     0.0|         0.0|2023-12-19|06:03:24| 6.0|          3|\n",
      "+----------+--------------------+----------+----------+--------------------+--------------------+--------------------+---------------+--------+------------+----------+--------+----+-----------+\n",
      "only showing top 2 rows\n",
      "\n",
      "None\n"
     ]
    }
   ],
   "source": [
    "# Vamos ajustar o formato da data para extrair o dia da semana\n",
    "dados = dados.withColumn(\"date\", dados[\"date\"].cast(DateType())).withColumn(\"hour\", dados[\"hour\"].cast(DoubleType())).withColumn(\"dateTime\", dados[\"dateTime\"].cast(DateType()))\n",
    "\n",
    "# Vamos extrair o dia da semana\n",
    "dados = dados.withColumn('day_of_week', dayofweek(dados['date']))\n",
    "\n",
    "print(dados.show(2))"
   ]
  },
  {
   "cell_type": "markdown",
   "id": "f899d552",
   "metadata": {},
   "source": [
    "<br>\n",
    "\n",
    "### Criando nova variável: year\n",
    "\n",
    "- Representa o ano da cotação"
   ]
  },
  {
   "cell_type": "code",
   "execution_count": 20,
   "id": "04bc1bad",
   "metadata": {},
   "outputs": [
    {
     "name": "stdout",
     "output_type": "stream",
     "text": [
      "+----------+--------------------+-------------+----------+--------------------+--------------------+--------------------+---------------+--------+------------+----------+--------+----+-----------+----+\n",
      "|  dateTime|           sentiment|       source|   subject|                text|               title|                 url|sentiment_class|polarity|subjectivity|      date|    time|hour|day_of_week|year|\n",
      "+----------+--------------------+-------------+----------+--------------------+--------------------+--------------------+---------------+--------+------------+----------+--------+----+-----------+----+\n",
      "|2023-12-19|{'class': 'negati...|   CryptoNews|   altcoin|Grayscale CEO Mic...|Grayscale CEO Cal...|https://cryptonew...|       negative|    -0.1|         0.6|2023-12-19|06:40:41| 6.0|          3|2023|\n",
      "|2023-12-19|{'class': 'neutra...|   CryptoNews|blockchain|In an exclusive i...|Indian Government...|https://cryptonew...|        neutral|     0.0|         0.0|2023-12-19|06:03:24| 6.0|          3|2023|\n",
      "|2023-12-19|{'class': 'positi...|   CryptoNews|blockchain|According to the ...|Judge Approves Se...|https://cryptonew...|       positive|    0.05|        0.05|2023-12-19|05:55:14| 5.0|          3|2023|\n",
      "|2023-12-19|{'class': 'positi...|CoinTelegraph|blockchain|Some suggest EVM ...|Why a gold rush f...|https://cointeleg...|       positive|     0.5|         0.9|2023-12-19|05:35:26| 5.0|          3|2023|\n",
      "|2023-12-19|{'class': 'neutra...|CoinTelegraph|  ethereum|A decision by blo...|‘Concerning prece...|https://cointeleg...|        neutral|     0.0|         0.0|2023-12-19|05:31:08| 5.0|          3|2023|\n",
      "+----------+--------------------+-------------+----------+--------------------+--------------------+--------------------+---------------+--------+------------+----------+--------+----+-----------+----+\n",
      "only showing top 5 rows\n",
      "\n",
      "None\n"
     ]
    }
   ],
   "source": [
    "# Vamos extrair o ano da cotação\n",
    "dados = dados.withColumn(\"year\", split(col(\"date\"),\"-\").getItem(0))\n",
    "\n",
    "print(dados.show(5))"
   ]
  },
  {
   "cell_type": "code",
   "execution_count": 21,
   "id": "3226e2db",
   "metadata": {},
   "outputs": [
    {
     "name": "stdout",
     "output_type": "stream",
     "text": [
      "root\n",
      " |-- dateTime: date (nullable = true)\n",
      " |-- sentiment: string (nullable = true)\n",
      " |-- source: string (nullable = true)\n",
      " |-- subject: string (nullable = true)\n",
      " |-- text: string (nullable = true)\n",
      " |-- title: string (nullable = true)\n",
      " |-- url: string (nullable = true)\n",
      " |-- sentiment_class: string (nullable = true)\n",
      " |-- polarity: string (nullable = true)\n",
      " |-- subjectivity: string (nullable = true)\n",
      " |-- date: date (nullable = true)\n",
      " |-- time: string (nullable = true)\n",
      " |-- hour: double (nullable = true)\n",
      " |-- day_of_week: integer (nullable = true)\n",
      " |-- year: string (nullable = true)\n",
      "\n",
      "None\n"
     ]
    }
   ],
   "source": [
    "# Verificando colunas\n",
    "print(dados.printSchema())"
   ]
  },
  {
   "cell_type": "markdown",
   "id": "5ecb4c1e",
   "metadata": {},
   "source": [
    "<br> <br> <br>\n",
    "\n",
    "# Convertendo o dataframe do <i>Spark</i> para o <i>Pandas</i>\n",
    "\n",
    "- Isso é feito para facilitar a análise."
   ]
  },
  {
   "cell_type": "code",
   "execution_count": 22,
   "id": "028efdd1",
   "metadata": {},
   "outputs": [
    {
     "data": {
      "text/html": [
       "<div>\n",
       "<style scoped>\n",
       "    .dataframe tbody tr th:only-of-type {\n",
       "        vertical-align: middle;\n",
       "    }\n",
       "\n",
       "    .dataframe tbody tr th {\n",
       "        vertical-align: top;\n",
       "    }\n",
       "\n",
       "    .dataframe thead th {\n",
       "        text-align: right;\n",
       "    }\n",
       "</style>\n",
       "<table border=\"1\" class=\"dataframe\">\n",
       "  <thead>\n",
       "    <tr style=\"text-align: right;\">\n",
       "      <th></th>\n",
       "      <th>dateTime</th>\n",
       "      <th>sentiment</th>\n",
       "      <th>source</th>\n",
       "      <th>subject</th>\n",
       "      <th>text</th>\n",
       "      <th>title</th>\n",
       "      <th>url</th>\n",
       "      <th>sentiment_class</th>\n",
       "      <th>polarity</th>\n",
       "      <th>subjectivity</th>\n",
       "      <th>date</th>\n",
       "      <th>time</th>\n",
       "      <th>hour</th>\n",
       "      <th>day_of_week</th>\n",
       "      <th>year</th>\n",
       "    </tr>\n",
       "  </thead>\n",
       "  <tbody>\n",
       "    <tr>\n",
       "      <th>0</th>\n",
       "      <td>2023-12-19</td>\n",
       "      <td>{'class': 'negative', 'polarity': -0.1, 'subjectivity': 0.6}</td>\n",
       "      <td>CryptoNews</td>\n",
       "      <td>altcoin</td>\n",
       "      <td>Grayscale CEO Michael Sonnenshein believes the SEC needs to approve spot Bitcoin exchange-traded funds (ETFs) simultaneously.</td>\n",
       "      <td>Grayscale CEO Calls for Simultaneous Approval of Spot Products to Level the Field</td>\n",
       "      <td>https://cryptonews.comhttps://cryptonews.com/news/grayscale-ceo-calls-for-simultaneous-approval-of-spot-products-to-level-the-field.htm</td>\n",
       "      <td>negative</td>\n",
       "      <td>-0.1</td>\n",
       "      <td>0.6</td>\n",
       "      <td>2023-12-19</td>\n",
       "      <td>06:40:41</td>\n",
       "      <td>6.0</td>\n",
       "      <td>3</td>\n",
       "      <td>2023</td>\n",
       "    </tr>\n",
       "    <tr>\n",
       "      <th>1</th>\n",
       "      <td>2023-12-19</td>\n",
       "      <td>{'class': 'neutral', 'polarity': 0.0, 'subjectivity': 0.0}</td>\n",
       "      <td>CryptoNews</td>\n",
       "      <td>blockchain</td>\n",
       "      <td>In an exclusive interview with CryptoNews, Manhar Garegrat, the Country Head for India and Global Partnerships of Liminal Custody, shares insights into crypto industry's collaborations with India government.</td>\n",
       "      <td>Indian Government is Actively Collaborating With Crypto Industry: Liminal Custody’s Country Head</td>\n",
       "      <td>https://cryptonews.comhttps://cryptonews.com/news/indian-government-is-actively-collaborating-with-crypto-industry.htm</td>\n",
       "      <td>neutral</td>\n",
       "      <td>0.0</td>\n",
       "      <td>0.0</td>\n",
       "      <td>2023-12-19</td>\n",
       "      <td>06:03:24</td>\n",
       "      <td>6.0</td>\n",
       "      <td>3</td>\n",
       "      <td>2023</td>\n",
       "    </tr>\n",
       "    <tr>\n",
       "      <th>2</th>\n",
       "      <td>2023-12-19</td>\n",
       "      <td>{'class': 'positive', 'polarity': 0.05, 'subjectivity': 0.05}</td>\n",
       "      <td>CryptoNews</td>\n",
       "      <td>blockchain</td>\n",
       "      <td>According to the Federal Court ruling on December 18, former Binance CEO Changpeng 'CZ' Zhao has been ordered to pay $150 million, while Binance will pay $2.7 billion to conclude the CFTC enforcement action.</td>\n",
       "      <td>Judge Approves Settlement: Binance to Pay $1.5 Billion to CFTC, CZ to Pay $150 Million Fine</td>\n",
       "      <td>https://cryptonews.comhttps://cryptonews.com/news/judge-approves-settlement-binance-to-pay-1-5-billion-to-cftc-cz-to-pay-150-million-fine.htm</td>\n",
       "      <td>positive</td>\n",
       "      <td>0.05</td>\n",
       "      <td>0.05</td>\n",
       "      <td>2023-12-19</td>\n",
       "      <td>05:55:14</td>\n",
       "      <td>5.0</td>\n",
       "      <td>3</td>\n",
       "      <td>2023</td>\n",
       "    </tr>\n",
       "    <tr>\n",
       "      <th>3</th>\n",
       "      <td>2023-12-19</td>\n",
       "      <td>{'class': 'positive', 'polarity': 0.5, 'subjectivity': 0.9}</td>\n",
       "      <td>CoinTelegraph</td>\n",
       "      <td>blockchain</td>\n",
       "      <td>Some suggest EVM inscriptions are the latest way for retail to access low-cap coins, while others argue it’s an over-hyped fad. Whatever it is, it’s clogging up the blockchain.</td>\n",
       "      <td>Why a gold rush for inscriptions has broken half a dozen blockchains</td>\n",
       "      <td>https://cointelegraph.com/news/inscriptions-evm-frenzy-clogs-up-blockchains</td>\n",
       "      <td>positive</td>\n",
       "      <td>0.5</td>\n",
       "      <td>0.9</td>\n",
       "      <td>2023-12-19</td>\n",
       "      <td>05:35:26</td>\n",
       "      <td>5.0</td>\n",
       "      <td>3</td>\n",
       "      <td>2023</td>\n",
       "    </tr>\n",
       "    <tr>\n",
       "      <th>4</th>\n",
       "      <td>2023-12-19</td>\n",
       "      <td>{'class': 'neutral', 'polarity': 0.0, 'subjectivity': 0.0}</td>\n",
       "      <td>CoinTelegraph</td>\n",
       "      <td>ethereum</td>\n",
       "      <td>A decision by bloXroute Labs to start censoring OFAC-sanctioned blocks has been seen as a loss for Ethereum censorship resistance.</td>\n",
       "      <td>‘Concerning precedent’ — bloXroute Labs' MEV relays to reject OFAC blocks</td>\n",
       "      <td>https://cointelegraph.com/news/concerning-precedent-bloxroute-labs-mev-relays-to-reject-ofac-blocks</td>\n",
       "      <td>neutral</td>\n",
       "      <td>0.0</td>\n",
       "      <td>0.0</td>\n",
       "      <td>2023-12-19</td>\n",
       "      <td>05:31:08</td>\n",
       "      <td>5.0</td>\n",
       "      <td>3</td>\n",
       "      <td>2023</td>\n",
       "    </tr>\n",
       "    <tr>\n",
       "      <th>...</th>\n",
       "      <td>...</td>\n",
       "      <td>...</td>\n",
       "      <td>...</td>\n",
       "      <td>...</td>\n",
       "      <td>...</td>\n",
       "      <td>...</td>\n",
       "      <td>...</td>\n",
       "      <td>...</td>\n",
       "      <td>...</td>\n",
       "      <td>...</td>\n",
       "      <td>...</td>\n",
       "      <td>...</td>\n",
       "      <td>...</td>\n",
       "      <td>...</td>\n",
       "      <td>...</td>\n",
       "    </tr>\n",
       "    <tr>\n",
       "      <th>31032</th>\n",
       "      <td>2021-10-27</td>\n",
       "      <td>{'class': 'neutral', 'polarity': 0.0, 'subjectivity': 0.0}</td>\n",
       "      <td>CryptoNews</td>\n",
       "      <td>defi</td>\n",
       "      <td>Cream Finance (CREAM) suffered another flash loan attack.</td>\n",
       "      <td>Cream Finance Suffers Another Exploit as Attacker Runs Away With USD 100M+</td>\n",
       "      <td>https://cryptonews.com/news/cream-finance-suffers-another-exploit-as-attacker-runs-away-with-usd-130m.htm</td>\n",
       "      <td>neutral</td>\n",
       "      <td>0.0</td>\n",
       "      <td>0.0</td>\n",
       "      <td>2021-10-27</td>\n",
       "      <td>15:17:00</td>\n",
       "      <td>15.0</td>\n",
       "      <td>4</td>\n",
       "      <td>2021</td>\n",
       "    </tr>\n",
       "    <tr>\n",
       "      <th>31033</th>\n",
       "      <td>2021-10-19</td>\n",
       "      <td>{'class': 'positive', 'polarity': 0.1, 'subjectivity': 0.4}</td>\n",
       "      <td>CryptoNews</td>\n",
       "      <td>blockchain</td>\n",
       "      <td>Banque de France disclosed the results of its experimental program to use CBDC to exchange and settle tokenised government bonds.</td>\n",
       "      <td>French Central Bank's Blockchain Bond Trial Brings First Results</td>\n",
       "      <td>https://cryptonews.com/news/french-central-banks-blockchain-bond-trial-bringsfirst-results.htm</td>\n",
       "      <td>positive</td>\n",
       "      <td>0.1</td>\n",
       "      <td>0.4</td>\n",
       "      <td>2021-10-19</td>\n",
       "      <td>13:39:00</td>\n",
       "      <td>13.0</td>\n",
       "      <td>3</td>\n",
       "      <td>2021</td>\n",
       "    </tr>\n",
       "    <tr>\n",
       "      <th>31034</th>\n",
       "      <td>2021-10-18</td>\n",
       "      <td>{'class': 'positive', 'polarity': 0.14, 'subjectivity': 0.45}</td>\n",
       "      <td>CryptoNews</td>\n",
       "      <td>blockchain</td>\n",
       "      <td>Advancing its project to become \\x9caÂ\\xa0metaverseÂ\\xa0company,\\x9dÂ\\xa0 Facebook unveiled a plan to rollout some 10,000 new high-skilled jobs.</td>\n",
       "      <td>Facebook To Add 10,000 Jobs In EU For Metaverse Project</td>\n",
       "      <td>https://cryptonews.com/news/facebook-to-add-10000-jobs-in-eu-for-metaverse-project.htm</td>\n",
       "      <td>positive</td>\n",
       "      <td>0.14</td>\n",
       "      <td>0.45</td>\n",
       "      <td>2021-10-18</td>\n",
       "      <td>13:58:00</td>\n",
       "      <td>13.0</td>\n",
       "      <td>2</td>\n",
       "      <td>2021</td>\n",
       "    </tr>\n",
       "    <tr>\n",
       "      <th>31035</th>\n",
       "      <td>2021-10-15</td>\n",
       "      <td>{'class': 'neutral', 'polarity': 0.0, 'subjectivity': 0.0}</td>\n",
       "      <td>CryptoNews</td>\n",
       "      <td>blockchain</td>\n",
       "      <td>Chinese companies are still topping the blockchain patents charts.</td>\n",
       "      <td>Tech Crackdown Hasn't Halted Chinese Firms' Blockchain R&amp;D Progress</td>\n",
       "      <td>https://cryptonews.com/news/tech-crackdown-hasnt-halted-chinese-firms-blockchain-rd-progress.htm</td>\n",
       "      <td>neutral</td>\n",
       "      <td>0.0</td>\n",
       "      <td>0.0</td>\n",
       "      <td>2021-10-15</td>\n",
       "      <td>00:00:00</td>\n",
       "      <td>0.0</td>\n",
       "      <td>6</td>\n",
       "      <td>2021</td>\n",
       "    </tr>\n",
       "    <tr>\n",
       "      <th>31036</th>\n",
       "      <td>2021-10-12</td>\n",
       "      <td>{'class': 'positive', 'polarity': 0.16, 'subjectivity': 0.5}</td>\n",
       "      <td>CryptoNews</td>\n",
       "      <td>blockchain</td>\n",
       "      <td>Within a little more than a year, Celo aims to become the fastest among EVM-compatible chains.</td>\n",
       "      <td>Celo to Be Fastest EVM Chain by End of 2022, Co-Founder Says</td>\n",
       "      <td>https://cryptonews.com/news/celo-to-be-fastest-evm-chain-by-end-of-2022-co-founder-says.htm</td>\n",
       "      <td>positive</td>\n",
       "      <td>0.16</td>\n",
       "      <td>0.5</td>\n",
       "      <td>2021-10-12</td>\n",
       "      <td>20:00:00</td>\n",
       "      <td>20.0</td>\n",
       "      <td>3</td>\n",
       "      <td>2021</td>\n",
       "    </tr>\n",
       "  </tbody>\n",
       "</table>\n",
       "<p>31037 rows × 15 columns</p>\n",
       "</div>"
      ],
      "text/plain": [
       "         dateTime  \\\n",
       "0      2023-12-19   \n",
       "1      2023-12-19   \n",
       "2      2023-12-19   \n",
       "3      2023-12-19   \n",
       "4      2023-12-19   \n",
       "...           ...   \n",
       "31032  2021-10-27   \n",
       "31033  2021-10-19   \n",
       "31034  2021-10-18   \n",
       "31035  2021-10-15   \n",
       "31036  2021-10-12   \n",
       "\n",
       "                                                           sentiment  \\\n",
       "0       {'class': 'negative', 'polarity': -0.1, 'subjectivity': 0.6}   \n",
       "1         {'class': 'neutral', 'polarity': 0.0, 'subjectivity': 0.0}   \n",
       "2      {'class': 'positive', 'polarity': 0.05, 'subjectivity': 0.05}   \n",
       "3        {'class': 'positive', 'polarity': 0.5, 'subjectivity': 0.9}   \n",
       "4         {'class': 'neutral', 'polarity': 0.0, 'subjectivity': 0.0}   \n",
       "...                                                              ...   \n",
       "31032     {'class': 'neutral', 'polarity': 0.0, 'subjectivity': 0.0}   \n",
       "31033    {'class': 'positive', 'polarity': 0.1, 'subjectivity': 0.4}   \n",
       "31034  {'class': 'positive', 'polarity': 0.14, 'subjectivity': 0.45}   \n",
       "31035     {'class': 'neutral', 'polarity': 0.0, 'subjectivity': 0.0}   \n",
       "31036   {'class': 'positive', 'polarity': 0.16, 'subjectivity': 0.5}   \n",
       "\n",
       "              source     subject  \\\n",
       "0         CryptoNews     altcoin   \n",
       "1         CryptoNews  blockchain   \n",
       "2         CryptoNews  blockchain   \n",
       "3      CoinTelegraph  blockchain   \n",
       "4      CoinTelegraph    ethereum   \n",
       "...              ...         ...   \n",
       "31032     CryptoNews        defi   \n",
       "31033     CryptoNews  blockchain   \n",
       "31034     CryptoNews  blockchain   \n",
       "31035     CryptoNews  blockchain   \n",
       "31036     CryptoNews  blockchain   \n",
       "\n",
       "                                                                                                                                                                                                                  text  \\\n",
       "0                                                                                        Grayscale CEO Michael Sonnenshein believes the SEC needs to approve spot Bitcoin exchange-traded funds (ETFs) simultaneously.   \n",
       "1      In an exclusive interview with CryptoNews, Manhar Garegrat, the Country Head for India and Global Partnerships of Liminal Custody, shares insights into crypto industry's collaborations with India government.   \n",
       "2      According to the Federal Court ruling on December 18, former Binance CEO Changpeng 'CZ' Zhao has been ordered to pay $150 million, while Binance will pay $2.7 billion to conclude the CFTC enforcement action.   \n",
       "3                                     Some suggest EVM inscriptions are the latest way for retail to access low-cap coins, while others argue it’s an over-hyped fad. Whatever it is, it’s clogging up the blockchain.   \n",
       "4                                                                                   A decision by bloXroute Labs to start censoring OFAC-sanctioned blocks has been seen as a loss for Ethereum censorship resistance.   \n",
       "...                                                                                                                                                                                                                ...   \n",
       "31032                                                                                                                                                        Cream Finance (CREAM) suffered another flash loan attack.   \n",
       "31033                                                                                Banque de France disclosed the results of its experimental program to use CBDC to exchange and settle tokenised government bonds.   \n",
       "31034                                                                 Advancing its project to become \\x9caÂ\\xa0metaverseÂ\\xa0company,\\x9dÂ\\xa0 Facebook unveiled a plan to rollout some 10,000 new high-skilled jobs.   \n",
       "31035                                                                                                                                               Chinese companies are still topping the blockchain patents charts.   \n",
       "31036                                                                                                                   Within a little more than a year, Celo aims to become the fastest among EVM-compatible chains.   \n",
       "\n",
       "                                                                                                  title  \\\n",
       "0                     Grayscale CEO Calls for Simultaneous Approval of Spot Products to Level the Field   \n",
       "1      Indian Government is Actively Collaborating With Crypto Industry: Liminal Custody’s Country Head   \n",
       "2           Judge Approves Settlement: Binance to Pay $1.5 Billion to CFTC, CZ to Pay $150 Million Fine   \n",
       "3                                  Why a gold rush for inscriptions has broken half a dozen blockchains   \n",
       "4                             ‘Concerning precedent’ — bloXroute Labs' MEV relays to reject OFAC blocks   \n",
       "...                                                                                                 ...   \n",
       "31032                        Cream Finance Suffers Another Exploit as Attacker Runs Away With USD 100M+   \n",
       "31033                                  French Central Bank's Blockchain Bond Trial Brings First Results   \n",
       "31034                                           Facebook To Add 10,000 Jobs In EU For Metaverse Project   \n",
       "31035                               Tech Crackdown Hasn't Halted Chinese Firms' Blockchain R&D Progress   \n",
       "31036                                      Celo to Be Fastest EVM Chain by End of 2022, Co-Founder Says   \n",
       "\n",
       "                                                                                                                                                 url  \\\n",
       "0            https://cryptonews.comhttps://cryptonews.com/news/grayscale-ceo-calls-for-simultaneous-approval-of-spot-products-to-level-the-field.htm   \n",
       "1                             https://cryptonews.comhttps://cryptonews.com/news/indian-government-is-actively-collaborating-with-crypto-industry.htm   \n",
       "2      https://cryptonews.comhttps://cryptonews.com/news/judge-approves-settlement-binance-to-pay-1-5-billion-to-cftc-cz-to-pay-150-million-fine.htm   \n",
       "3                                                                        https://cointelegraph.com/news/inscriptions-evm-frenzy-clogs-up-blockchains   \n",
       "4                                                https://cointelegraph.com/news/concerning-precedent-bloxroute-labs-mev-relays-to-reject-ofac-blocks   \n",
       "...                                                                                                                                              ...   \n",
       "31032                                      https://cryptonews.com/news/cream-finance-suffers-another-exploit-as-attacker-runs-away-with-usd-130m.htm   \n",
       "31033                                                 https://cryptonews.com/news/french-central-banks-blockchain-bond-trial-bringsfirst-results.htm   \n",
       "31034                                                         https://cryptonews.com/news/facebook-to-add-10000-jobs-in-eu-for-metaverse-project.htm   \n",
       "31035                                               https://cryptonews.com/news/tech-crackdown-hasnt-halted-chinese-firms-blockchain-rd-progress.htm   \n",
       "31036                                                    https://cryptonews.com/news/celo-to-be-fastest-evm-chain-by-end-of-2022-co-founder-says.htm   \n",
       "\n",
       "      sentiment_class polarity subjectivity        date      time  hour  \\\n",
       "0            negative     -0.1          0.6  2023-12-19  06:40:41   6.0   \n",
       "1             neutral      0.0          0.0  2023-12-19  06:03:24   6.0   \n",
       "2            positive     0.05         0.05  2023-12-19  05:55:14   5.0   \n",
       "3            positive      0.5          0.9  2023-12-19  05:35:26   5.0   \n",
       "4             neutral      0.0          0.0  2023-12-19  05:31:08   5.0   \n",
       "...               ...      ...          ...         ...       ...   ...   \n",
       "31032         neutral      0.0          0.0  2021-10-27  15:17:00  15.0   \n",
       "31033        positive      0.1          0.4  2021-10-19  13:39:00  13.0   \n",
       "31034        positive     0.14         0.45  2021-10-18  13:58:00  13.0   \n",
       "31035         neutral      0.0          0.0  2021-10-15  00:00:00   0.0   \n",
       "31036        positive     0.16          0.5  2021-10-12  20:00:00  20.0   \n",
       "\n",
       "       day_of_week  year  \n",
       "0                3  2023  \n",
       "1                3  2023  \n",
       "2                3  2023  \n",
       "3                3  2023  \n",
       "4                3  2023  \n",
       "...            ...   ...  \n",
       "31032            4  2021  \n",
       "31033            3  2021  \n",
       "31034            2  2021  \n",
       "31035            6  2021  \n",
       "31036            3  2021  \n",
       "\n",
       "[31037 rows x 15 columns]"
      ]
     },
     "metadata": {},
     "output_type": "display_data"
    }
   ],
   "source": [
    "# Convertendo\n",
    "df_pandas = dados.toPandas()\n",
    "\n",
    "display(df_pandas)"
   ]
  },
  {
   "cell_type": "markdown",
   "id": "dae3ed7b",
   "metadata": {},
   "source": [
    "<br><br><br>\n",
    "\n",
    "# <span style=\"color: green; font-size: 38px; font-weight: bold;\">Análise Exploratória com Gráficos</span>\n",
    "\n",
    "<br><br>\n",
    "\n",
    "### Distribuição dos Sentimentos"
   ]
  },
  {
   "cell_type": "code",
   "execution_count": 23,
   "id": "e62024a5",
   "metadata": {},
   "outputs": [
    {
     "data": {
      "image/png": "[encoded data removed]",
      "text/plain": [
       "<Figure size 720x432 with 1 Axes>"
      ]
     },
     "metadata": {
      "needs_background": "light"
     },
     "output_type": "display_data"
    }
   ],
   "source": [
    "# Contagem de cada classe de sentimento\n",
    "plt.figure(figsize=(10, 6))\n",
    "sns.countplot(x='sentiment_class', data=df_pandas, palette='viridis')\n",
    "plt.title('Distribuição das Classes de Sentimento')\n",
    "plt.xlabel('Classe de Sentimento')\n",
    "plt.ylabel('Contagem')\n",
    "plt.show()"
   ]
  },
  {
   "cell_type": "markdown",
   "id": "c6fffbc5",
   "metadata": {},
   "source": [
    "<br>\n",
    "\n",
    "### Distribuição dos Polaridade"
   ]
  },
  {
   "cell_type": "code",
   "execution_count": 24,
   "id": "78417265",
   "metadata": {},
   "outputs": [
    {
     "data": {
      "image/png": "[encoded data removed]",
      "text/plain": [
       "<Figure size 720x432 with 1 Axes>"
      ]
     },
     "metadata": {
      "needs_background": "light"
     },
     "output_type": "display_data"
    }
   ],
   "source": [
    "plt.figure(figsize=(10, 6))\n",
    "sns.histplot(df_pandas['polarity'].astype(float), bins=30, kde=True, color='blue')\n",
    "plt.title('Distribuição da Polaridade dos Sentimentos')\n",
    "plt.xlabel('Polaridade')\n",
    "plt.ylabel('Frequência')\n",
    "plt.show()"
   ]
  },
  {
   "cell_type": "markdown",
   "id": "84192bb1",
   "metadata": {},
   "source": [
    "<br>\n",
    "\n",
    "### Distribuição dos Subjetividade"
   ]
  },
  {
   "cell_type": "code",
   "execution_count": 25,
   "id": "3ca36af5",
   "metadata": {},
   "outputs": [
    {
     "data": {
      "image/png": "[encoded data removed]",
      "text/plain": [
       "<Figure size 720x432 with 1 Axes>"
      ]
     },
     "metadata": {
      "needs_background": "light"
     },
     "output_type": "display_data"
    }
   ],
   "source": [
    "plt.figure(figsize=(10, 6))\n",
    "sns.histplot(df_pandas['subjectivity'].astype(float), bins=30, kde=True, color='green')\n",
    "plt.title('Distribuição da Subjetividade dos Sentimentos')\n",
    "plt.xlabel('Subjetividade')\n",
    "plt.ylabel('Frequência')\n",
    "plt.show()"
   ]
  },
  {
   "cell_type": "markdown",
   "id": "4b29ca65",
   "metadata": {},
   "source": [
    "<br>\n",
    "\n",
    "### Análise Temporal dos Sentimentos"
   ]
  },
  {
   "cell_type": "code",
   "execution_count": 26,
   "id": "25e7a7f4",
   "metadata": {},
   "outputs": [
    {
     "data": {
      "image/png": "[encoded data removed]",
      "text/plain": [
       "<Figure size 1008x576 with 1 Axes>"
      ]
     },
     "metadata": {
      "needs_background": "light"
     },
     "output_type": "display_data"
    }
   ],
   "source": [
    "# Contagem de sentimentos por ano\n",
    "plt.figure(figsize=(14, 8))\n",
    "sns.countplot(x='year', hue='sentiment_class', data=df_pandas, palette='viridis')\n",
    "plt.title('Distribuição dos Sentimentos por Ano')\n",
    "plt.xlabel('Ano')\n",
    "plt.ylabel('Contagem')\n",
    "plt.legend(title='Sentimento')\n",
    "plt.show()"
   ]
  },
  {
   "cell_type": "markdown",
   "id": "e619b88b",
   "metadata": {},
   "source": [
    "<br>\n",
    "\n",
    "### Sentimento por Fonte de Notícias"
   ]
  },
  {
   "cell_type": "code",
   "execution_count": 27,
   "id": "23ef0d37",
   "metadata": {},
   "outputs": [
    {
     "data": {
      "image/png": "[encoded data removed]",
      "text/plain": [
       "<Figure size 1008x576 with 1 Axes>"
      ]
     },
     "metadata": {
      "needs_background": "light"
     },
     "output_type": "display_data"
    }
   ],
   "source": [
    "# Contagem de sentimentos por fonte de notícia\n",
    "plt.figure(figsize=(14, 8))\n",
    "sns.countplot(y='source', hue='sentiment_class', data=df_pandas, palette='viridis', order=df_pandas['source'].value_counts().index)\n",
    "plt.title('Distribuição dos Sentimentos por Fonte de Notícias')\n",
    "plt.xlabel('Contagem')\n",
    "plt.ylabel('Fonte de Notícias')\n",
    "plt.legend(title='Sentimento')\n",
    "plt.show()"
   ]
  },
  {
   "cell_type": "markdown",
   "id": "85fff5db",
   "metadata": {},
   "source": [
    "<br>\n",
    "\n",
    "### Sentimento ao Longo do Dia"
   ]
  },
  {
   "cell_type": "code",
   "execution_count": 28,
   "id": "9bde6f5a",
   "metadata": {},
   "outputs": [
    {
     "data": {
      "image/png": "[encoded data removed]",
      "text/plain": [
       "<Figure size 1008x576 with 1 Axes>"
      ]
     },
     "metadata": {
      "needs_background": "light"
     },
     "output_type": "display_data"
    }
   ],
   "source": [
    "# Contagem de sentimentos por hora do dia\n",
    "plt.figure(figsize=(14, 8))\n",
    "sns.countplot(x='hour', hue='sentiment_class', data=df_pandas, palette='viridis')\n",
    "plt.title('Distribuição dos Sentimentos por Hora do Dia')\n",
    "plt.xlabel('Hora do Dia')\n",
    "plt.ylabel('Contagem')\n",
    "plt.legend(title='Sentimento')\n",
    "plt.show()"
   ]
  },
  {
   "cell_type": "markdown",
   "id": "13e62141",
   "metadata": {},
   "source": [
    "<br>\n",
    "\n",
    "### Distribuição da Fonte de Notícia"
   ]
  },
  {
   "cell_type": "code",
   "execution_count": 29,
   "id": "e84ea06b",
   "metadata": {},
   "outputs": [
    {
     "data": {
      "image/png": "[encoded data removed]",
      "text/plain": [
       "<Figure size 432x288 with 1 Axes>"
      ]
     },
     "metadata": {
      "needs_background": "light"
     },
     "output_type": "display_data"
    }
   ],
   "source": [
    "# Contar a frequência de cada fonte de notícias\n",
    "source_counts = df_pandas['source'].value_counts()\n",
    "\n",
    "# Criar o gráfico de barras\n",
    "sns.barplot(x=source_counts.index, y=source_counts.values, palette='viridis')\n",
    "\n",
    "# Adicionar títulos e rótulos\n",
    "plt.title('Distribuição das Fontes de Notícias')\n",
    "plt.xlabel('Fonte de Notícias')\n",
    "plt.ylabel('Contagem')\n",
    "plt.xticks(rotation=45, ha='right')\n",
    "\n",
    "# Exibir o gráfico\n",
    "plt.show()"
   ]
  },
  {
   "cell_type": "markdown",
   "id": "596759dc",
   "metadata": {},
   "source": [
    "<br>\n",
    "\n",
    "### Distribuição da Frequência de Cada Assunto"
   ]
  },
  {
   "cell_type": "code",
   "execution_count": 30,
   "id": "7c7b5ea8",
   "metadata": {},
   "outputs": [
    {
     "data": {
      "image/png": "[encoded data removed]",
      "text/plain": [
       "<Figure size 432x288 with 1 Axes>"
      ]
     },
     "metadata": {
      "needs_background": "light"
     },
     "output_type": "display_data"
    }
   ],
   "source": [
    "# Contar a frequência de cada assunto\n",
    "subject_counts = df_pandas['subject'].value_counts()\n",
    "\n",
    "# Criar o gráfico de barras\n",
    "sns.barplot(x=subject_counts.index, y=subject_counts.values, palette='viridis')\n",
    "\n",
    "# Adicionar títulos e rótulos\n",
    "plt.title('Distribuição dos Assuntos nas Notícias de Criptomoedas')\n",
    "plt.xlabel('Assunto')\n",
    "plt.ylabel('Contagem')\n",
    "plt.xticks(rotation=45, ha='right')\n",
    "\n",
    "# Exibir o gráfico\n",
    "plt.show()"
   ]
  },
  {
   "cell_type": "markdown",
   "id": "fc4a0faa",
   "metadata": {},
   "source": [
    "<br> <br>\n",
    "\n",
    "# Label Encoding para Correlação"
   ]
  },
  {
   "cell_type": "code",
   "execution_count": 31,
   "id": "1288b2ef",
   "metadata": {},
   "outputs": [
    {
     "name": "stdout",
     "output_type": "stream",
     "text": [
      "   source  subject  sentiment_class polarity subjectivity  hour  day_of_week  \\\n",
      "0       1        0                0     -0.1          0.6   6.0            3   \n",
      "1       1        2                1      0.0          0.0   6.0            3   \n",
      "2       1        2                2     0.05         0.05   5.0            3   \n",
      "3       0        2                2      0.5          0.9   5.0            3   \n",
      "4       0        4                1      0.0          0.0   5.0            3   \n",
      "\n",
      "   year  \n",
      "0     2  \n",
      "1     2  \n",
      "2     2  \n",
      "3     2  \n",
      "4     2  \n"
     ]
    }
   ],
   "source": [
    "# Removendo as colunas irrelevantes\n",
    "df_pandas = df_pandas.drop(columns=['dateTime', 'sentiment', 'text', 'title', 'time', 'url', 'date'])\n",
    "\n",
    "from sklearn.preprocessing import LabelEncoder\n",
    "\n",
    "# Colunas categóricas que precisam de label encoding\n",
    "categorical_columns = ['source', 'subject', 'sentiment_class', 'year']\n",
    "\n",
    "# Aplicando Label Encoding\n",
    "label_encoders = {}\n",
    "for column in categorical_columns:\n",
    "    le = LabelEncoder()\n",
    "    df_pandas[column] = le.fit_transform(df_pandas[column])\n",
    "    label_encoders[column] = le\n",
    "\n",
    "# Verificando as primeiras linhas do dataframe para garantir que a codificação foi aplicada\n",
    "print(df_pandas.head())"
   ]
  },
  {
   "cell_type": "markdown",
   "id": "78afb693",
   "metadata": {},
   "source": [
    "<br>\n",
    "\n",
    "#### Correlação"
   ]
  },
  {
   "cell_type": "code",
   "execution_count": 32,
   "id": "b4765df4",
   "metadata": {},
   "outputs": [
    {
     "data": {
      "image/png": "[encoded data removed]",
      "text/plain": [
       "<Figure size 864x576 with 2 Axes>"
      ]
     },
     "metadata": {
      "needs_background": "light"
     },
     "output_type": "display_data"
    }
   ],
   "source": [
    "# Convertendo as colunas 'polarity' e 'subjectivity' para numéricas\n",
    "df_pandas['polarity'] = pd.to_numeric(df_pandas['polarity'])\n",
    "df_pandas['subjectivity'] = pd.to_numeric(df_pandas['subjectivity'])\n",
    "\n",
    "# Calculando a correlação\n",
    "correlation_matrix = df_pandas.corr()\n",
    "\n",
    "# Exibindo a matriz de correlação\n",
    "plt.figure(figsize=(12, 8))\n",
    "sns.heatmap(correlation_matrix, annot=True, cmap='coolwarm', linewidths=0.5)\n",
    "plt.title('Matriz de Correlação')\n",
    "plt.show()"
   ]
  },
  {
   "cell_type": "markdown",
   "id": "b61b565b",
   "metadata": {},
   "source": [
    "<br> <br> <br>\n",
    "\n",
    "# <span style=\"color: green; font-size: 38px; font-weight: bold;\">Engenharia de Atributos</span>\n",
    "\n",
    "- Nesta etapa aplicaremos iremos **remover colunas** não relevantes e iremos **aplicar Label Encoding** e também **aplicar a função VectorAssembler** que é um transformador que combina uma determinada lista de colunas em uma única coluna de vetor e ao final faremos **tratamento de escala**. \n",
    "\n",
    "<br>\n",
    "\n",
    "### Removendo Colunas\n",
    "\n",
    "- Como vimos anteriormente as colunas 'dateTime', 'sentiment', 'text', 'title', 'time', 'url' e 'date' não são relevantes ou não aparesentam correlação significativa com a variável alvo **sentiment_class**."
   ]
  },
  {
   "cell_type": "code",
   "execution_count": 33,
   "id": "68b00eb3",
   "metadata": {},
   "outputs": [
    {
     "name": "stdout",
     "output_type": "stream",
     "text": [
      "root\n",
      " |-- source: string (nullable = true)\n",
      " |-- subject: string (nullable = true)\n",
      " |-- sentiment_class: string (nullable = true)\n",
      " |-- polarity: string (nullable = true)\n",
      " |-- subjectivity: string (nullable = true)\n",
      " |-- hour: double (nullable = true)\n",
      " |-- day_of_week: integer (nullable = true)\n",
      " |-- year: string (nullable = true)\n",
      "\n"
     ]
    }
   ],
   "source": [
    "# Removendo as colunas irrelevantes\n",
    "colunas_para_remover = ['dateTime', 'sentiment', 'text', 'title', 'time', 'url', 'date']\n",
    "dados = dados.drop(*colunas_para_remover)\n",
    "\n",
    "# Exibindo o esquema para verificar as alterações\n",
    "dados.printSchema()"
   ]
  },
  {
   "cell_type": "code",
   "execution_count": 34,
   "id": "7eb33752",
   "metadata": {},
   "outputs": [
    {
     "name": "stdout",
     "output_type": "stream",
     "text": [
      "+----------+----------+---------------+--------+------------+----+-----------+----+\n",
      "|    source|   subject|sentiment_class|polarity|subjectivity|hour|day_of_week|year|\n",
      "+----------+----------+---------------+--------+------------+----+-----------+----+\n",
      "|CryptoNews|   altcoin|       negative|    -0.1|         0.6| 6.0|          3|2023|\n",
      "|CryptoNews|blockchain|        neutral|     0.0|         0.0| 6.0|          3|2023|\n",
      "+----------+----------+---------------+--------+------------+----+-----------+----+\n",
      "only showing top 2 rows\n",
      "\n"
     ]
    }
   ],
   "source": [
    "dados.show(2)"
   ]
  },
  {
   "cell_type": "markdown",
   "id": "fdf85df3",
   "metadata": {},
   "source": [
    "<br>\n",
    "\n",
    "### Aplicando Label Encoding e Vector Assemble"
   ]
  },
  {
   "cell_type": "code",
   "execution_count": 35,
   "id": "7d827377",
   "metadata": {},
   "outputs": [
    {
     "name": "stdout",
     "output_type": "stream",
     "text": [
      "root\n",
      " |-- source: string (nullable = true)\n",
      " |-- subject: string (nullable = true)\n",
      " |-- sentiment_class: string (nullable = true)\n",
      " |-- polarity: string (nullable = true)\n",
      " |-- subjectivity: string (nullable = true)\n",
      " |-- hour: double (nullable = true)\n",
      " |-- day_of_week: integer (nullable = true)\n",
      " |-- year: string (nullable = true)\n",
      " |-- source_index: double (nullable = false)\n",
      " |-- subject_index: double (nullable = false)\n",
      " |-- polarity_index: double (nullable = false)\n",
      " |-- subjectivity_index: double (nullable = false)\n",
      " |-- year_index: double (nullable = false)\n",
      " |-- sentiment_class_index: double (nullable = false)\n",
      " |-- features: vector (nullable = true)\n",
      "\n",
      "+----------+----------+---------------+--------+------------+----+-----------+----+------------+-------------+--------------+------------------+----------+---------------------+--------------------+\n",
      "|    source|   subject|sentiment_class|polarity|subjectivity|hour|day_of_week|year|source_index|subject_index|polarity_index|subjectivity_index|year_index|sentiment_class_index|            features|\n",
      "+----------+----------+---------------+--------+------------+----+-----------+----+------------+-------------+--------------+------------------+----------+---------------------+--------------------+\n",
      "|CryptoNews|   altcoin|       negative|    -0.1|         0.6| 6.0|          3|2023|         1.0|          1.0|           4.0|              11.0|       0.0|                  2.0|[1.0,1.0,4.0,11.0...|\n",
      "|CryptoNews|blockchain|        neutral|     0.0|         0.0| 6.0|          3|2023|         1.0|          2.0|           0.0|               0.0|       0.0|                  1.0|[1.0,2.0,0.0,0.0,...|\n",
      "+----------+----------+---------------+--------+------------+----+-----------+----+------------+-------------+--------------+------------------+----------+---------------------+--------------------+\n",
      "only showing top 2 rows\n",
      "\n"
     ]
    }
   ],
   "source": [
    "# StringIndexer para colunas categóricas (incluindo a variável alvo)\n",
    "categorical_columns = ['source', 'subject', 'polarity', 'subjectivity', 'year', 'sentiment_class']\n",
    "indexers = [StringIndexer(inputCol=col, outputCol=f\"{col}_index\") for col in categorical_columns]\n",
    "\n",
    "# VectorAssembler para combinar todas as colunas de recursos em uma única coluna de vetor (exceto a variável alvo indexada)\n",
    "assembler = VectorAssembler(\n",
    "    inputCols=[f\"{col}_index\" for col in categorical_columns[:-1]] + ['hour', 'day_of_week'],\n",
    "    outputCol=\"features\"\n",
    ")\n",
    "\n",
    "# Pipeline para aplicar StringIndexer e VectorAssembler\n",
    "pipeline_preprocessing = Pipeline(stages=indexers + [assembler])\n",
    "\n",
    "# Ajustar e transformar os dados com o pipeline de pré-processamento\n",
    "pipeline_model_preprocessing = pipeline_preprocessing.fit(dados)\n",
    "dados_transformados = pipeline_model_preprocessing.transform(dados)\n",
    "\n",
    "# Exibir o esquema dos dados transformados\n",
    "dados_transformados.printSchema()\n",
    "\n",
    "# Mostrar uma amostra dos dados transformados\n",
    "dados_transformados.show(2)"
   ]
  },
  {
   "cell_type": "code",
   "execution_count": 36,
   "id": "697ed88f",
   "metadata": {},
   "outputs": [],
   "source": [
    "# Salvar o pipeline de pré-processamento\n",
    "pipeline_model_preprocessing.write().overwrite().save(\"pipeline_e_modelo/pipeline_preprocessing\")"
   ]
  },
  {
   "cell_type": "markdown",
   "id": "3afb56ad",
   "metadata": {},
   "source": [
    "<br><br><br><br>\n",
    "\n",
    "# Pré-Processamento de Dados Para Construção de Modelos de Machine Learning\n",
    "\n",
    "<br><br>\n",
    "\n",
    "\n",
    "## Dividindo os dados em Dados de Treino e Dados de Teste\n",
    "- Nós **treinamos** o modelo com **dados de treino** e **avaliamos** o modelo com **dados de teste**.\n",
    "\n",
    "<br>"
   ]
  },
  {
   "cell_type": "code",
   "execution_count": 37,
   "id": "d9e66f58",
   "metadata": {},
   "outputs": [],
   "source": [
    "# Dividir os dados em treino e teste\n",
    "train_data, test_data = dados_transformados.randomSplit([0.8, 0.2], seed=42)\n",
    "\n",
    "# StandardScaler para padronizar as características\n",
    "scaler = StandardScaler(inputCol=\"features\", outputCol=\"scaled_features\")\n",
    "\n",
    "# Pipeline para padronização\n",
    "pipeline_scaling = Pipeline(stages=[scaler])\n",
    "\n",
    "# Ajustar e transformar os dados de treino com o pipeline de padronização\n",
    "pipeline_model_scaling = pipeline_scaling.fit(train_data)\n",
    "train_data_scaled = pipeline_model_scaling.transform(train_data)\n",
    "test_data_scaled = pipeline_model_scaling.transform(test_data)\n",
    "\n",
    "# Salvar o pipeline de padronização\n",
    "pipeline_model_scaling.write().overwrite().save(\"pipeline_e_modelo/pipeline_scaling\")"
   ]
  },
  {
   "cell_type": "markdown",
   "id": "48b96cfa",
   "metadata": {},
   "source": [
    "<br><br><br><br><br>\n",
    "\n",
    "<span style=\"color: green; font-size: 40px; font-weight: bold;\">Construindo Modelos de Machine Learning</span>\n",
    "\n",
    "\n",
    "<br><br><br>\n",
    "\n",
    "## Criando Dataframe para salvar métricas de cada Modelo"
   ]
  },
  {
   "cell_type": "code",
   "execution_count": 38,
   "id": "830f5074",
   "metadata": {},
   "outputs": [],
   "source": [
    "# Cria um dataframe para receber as métricas de cada modelo\n",
    "df_modelos = pd.DataFrame()"
   ]
  },
  {
   "cell_type": "markdown",
   "id": "7d9275f4",
   "metadata": {},
   "source": [
    "<br><br><br>\n",
    "\n",
    "# <span style=\"color: green; font-weight: bold;\">Modelo 1 com Regressão Logística (Benchmark)</span>\n",
    "\n",
    "<br>\n",
    "\n",
    "> # Versão 1\n",
    "\n",
    "- Sem Ajuste de Hiperparâmetros\n",
    "\n",
    "\n",
    "<br>\n",
    "\n",
    "### Criação, Treinamento, Previsão e Avaliação do Modelo"
   ]
  },
  {
   "cell_type": "code",
   "execution_count": 39,
   "id": "42bff8f7",
   "metadata": {},
   "outputs": [
    {
     "name": "stdout",
     "output_type": "stream",
     "text": [
      "Acurácia: 0.7406\n",
      "Precisão: 0.7041\n",
      "Recall: 0.7406\n",
      "F1-Score: 0.7118\n",
      "\n",
      "---------------------------------------------------------------------------------------------------\n",
      "\n"
     ]
    },
    {
     "data": {
      "text/html": [
       "<div>\n",
       "<style scoped>\n",
       "    .dataframe tbody tr th:only-of-type {\n",
       "        vertical-align: middle;\n",
       "    }\n",
       "\n",
       "    .dataframe tbody tr th {\n",
       "        vertical-align: top;\n",
       "    }\n",
       "\n",
       "    .dataframe thead th {\n",
       "        text-align: right;\n",
       "    }\n",
       "</style>\n",
       "<table border=\"1\" class=\"dataframe\">\n",
       "  <thead>\n",
       "    <tr style=\"text-align: right;\">\n",
       "      <th></th>\n",
       "      <th>Nome do Modelo</th>\n",
       "      <th>Versao</th>\n",
       "      <th>Tipo de Dados</th>\n",
       "      <th>Tipo de Modelo</th>\n",
       "      <th>Acurácia</th>\n",
       "      <th>Precisão</th>\n",
       "      <th>Recall</th>\n",
       "      <th>F1-Score</th>\n",
       "    </tr>\n",
       "  </thead>\n",
       "  <tbody>\n",
       "    <tr>\n",
       "      <th>0</th>\n",
       "      <td>Regressão Logística</td>\n",
       "      <td>1</td>\n",
       "      <td>Original</td>\n",
       "      <td>Sem Ajuste de Hiperparâmetros</td>\n",
       "      <td>0.7406</td>\n",
       "      <td>0.7041</td>\n",
       "      <td>0.7406</td>\n",
       "      <td>0.7118</td>\n",
       "    </tr>\n",
       "  </tbody>\n",
       "</table>\n",
       "</div>"
      ],
      "text/plain": [
       "        Nome do Modelo Versao Tipo de Dados                 Tipo de Modelo  \\\n",
       "0  Regressão Logística      1      Original  Sem Ajuste de Hiperparâmetros   \n",
       "\n",
       "  Acurácia Precisão  Recall F1-Score  \n",
       "0   0.7406   0.7041  0.7406   0.7118  "
      ]
     },
     "metadata": {},
     "output_type": "display_data"
    },
    {
     "name": "stdout",
     "output_type": "stream",
     "text": [
      "\n",
      "\n",
      "\n"
     ]
    }
   ],
   "source": [
    "## Criação e Treinamento do Modelo\n",
    "\n",
    "# Criar o modelo de regressão logística\n",
    "lr = LogisticRegression(labelCol=\"sentiment_class_index\", featuresCol=\"scaled_features\", maxIter=10)\n",
    "\n",
    "# Treinar o modelo com os dados de treino escalados\n",
    "lr_model = lr.fit(train_data_scaled)\n",
    "\n",
    "\n",
    "## Previsão\n",
    "\n",
    "# Realizar previsões com os dados de teste\n",
    "predictions = lr_model.transform(test_data_scaled)\n",
    "\n",
    "\n",
    "## Avaliação\n",
    "\n",
    "# Avaliar o modelo\n",
    "evaluator = MulticlassClassificationEvaluator(labelCol=\"sentiment_class_index\", predictionCol=\"prediction\")\n",
    "\n",
    "accuracy = evaluator.evaluate(predictions, {evaluator.metricName: \"accuracy\"})\n",
    "precision = evaluator.evaluate(predictions, {evaluator.metricName: \"weightedPrecision\"})\n",
    "recall = evaluator.evaluate(predictions, {evaluator.metricName: \"weightedRecall\"})\n",
    "f1 = evaluator.evaluate(predictions, {evaluator.metricName: \"f1\"})\n",
    "\n",
    "# Print the metrics\n",
    "print(f\"Acurácia: {accuracy:.4f}\")\n",
    "print(f\"Precisão: {precision:.4f}\")\n",
    "print(f\"Recall: {recall:.4f}\")\n",
    "print(f\"F1-Score: {f1:.4f}\")\n",
    "\n",
    "print('\\n---------------------------------------------------------------------------------------------------\\n')\n",
    "\n",
    "# Criar um DataFrame para salvar as métricas\n",
    "modelo_v1_metrics = pd.DataFrame({\n",
    "    'Nome do Modelo': ['Regressão Logística'],\n",
    "    'Versao': ['1'],\n",
    "    'Tipo de Dados': ['Original'],\n",
    "    'Tipo de Modelo': ['Sem Ajuste de Hiperparâmetros'], \n",
    "    'Acurácia': [f\"{accuracy:.4f}\"],\n",
    "    'Precisão': [f\"{precision:.4f}\"],\n",
    "    'Recall': [f\"{recall:.4f}\"],\n",
    "    'F1-Score': [f\"{f1:.4f}\"]\n",
    "})\n",
    "\n",
    "# Concatenando com o DataFrame existente\n",
    "df_modelos = pd.concat([df_modelos, modelo_v1_metrics], ignore_index=True)\n",
    "\n",
    "# Visualizando DataFrame\n",
    "display(df_modelos)\n",
    "print('\\n\\n')"
   ]
  },
  {
   "cell_type": "markdown",
   "id": "80626863",
   "metadata": {},
   "source": [
    "<br>\n",
    "\n",
    "> # Versão 2\n",
    "\n",
    "- Com Ajuste de Hiperparâmetros\n",
    "\n",
    "<br>\n",
    "\n",
    "\n",
    "### Configurando Hiperparâmetros"
   ]
  },
  {
   "cell_type": "code",
   "execution_count": 40,
   "id": "3684f82b",
   "metadata": {},
   "outputs": [
    {
     "name": "stdout",
     "output_type": "stream",
     "text": [
      "Acurácia: 0.7107\n",
      "Precisão: 0.6656\n",
      "Recall: 0.7107\n",
      "F1-Score: 0.6564\n"
     ]
    },
    {
     "data": {
      "text/html": [
       "<div>\n",
       "<style scoped>\n",
       "    .dataframe tbody tr th:only-of-type {\n",
       "        vertical-align: middle;\n",
       "    }\n",
       "\n",
       "    .dataframe tbody tr th {\n",
       "        vertical-align: top;\n",
       "    }\n",
       "\n",
       "    .dataframe thead th {\n",
       "        text-align: right;\n",
       "    }\n",
       "</style>\n",
       "<table border=\"1\" class=\"dataframe\">\n",
       "  <thead>\n",
       "    <tr style=\"text-align: right;\">\n",
       "      <th></th>\n",
       "      <th>Nome do Modelo</th>\n",
       "      <th>Versao</th>\n",
       "      <th>Tipo de Dados</th>\n",
       "      <th>Tipo de Modelo</th>\n",
       "      <th>Acurácia</th>\n",
       "      <th>Precisão</th>\n",
       "      <th>Recall</th>\n",
       "      <th>F1-Score</th>\n",
       "    </tr>\n",
       "  </thead>\n",
       "  <tbody>\n",
       "    <tr>\n",
       "      <th>0</th>\n",
       "      <td>Regressão Logística</td>\n",
       "      <td>1</td>\n",
       "      <td>Original</td>\n",
       "      <td>Sem Ajuste de Hiperparâmetros</td>\n",
       "      <td>0.7406</td>\n",
       "      <td>0.7041</td>\n",
       "      <td>0.7406</td>\n",
       "      <td>0.7118</td>\n",
       "    </tr>\n",
       "    <tr>\n",
       "      <th>1</th>\n",
       "      <td>Regressão Logística</td>\n",
       "      <td>2</td>\n",
       "      <td>Original</td>\n",
       "      <td>Com Ajuste de Hiperparâmetros</td>\n",
       "      <td>0.7107</td>\n",
       "      <td>0.6656</td>\n",
       "      <td>0.7107</td>\n",
       "      <td>0.6564</td>\n",
       "    </tr>\n",
       "  </tbody>\n",
       "</table>\n",
       "</div>"
      ],
      "text/plain": [
       "        Nome do Modelo Versao Tipo de Dados                 Tipo de Modelo  \\\n",
       "0  Regressão Logística      1      Original  Sem Ajuste de Hiperparâmetros   \n",
       "1  Regressão Logística      2      Original  Com Ajuste de Hiperparâmetros   \n",
       "\n",
       "  Acurácia Precisão  Recall F1-Score  \n",
       "0   0.7406   0.7041  0.7406   0.7118  \n",
       "1   0.7107   0.6656  0.7107   0.6564  "
      ]
     },
     "metadata": {},
     "output_type": "display_data"
    }
   ],
   "source": [
    "# Criar o modelo de regressão logística com ajuste de hiperparâmetros\n",
    "lr = LogisticRegression(labelCol=\"sentiment_class_index\", featuresCol=\"scaled_features\")\n",
    "\n",
    "# Definir a grade de parâmetros\n",
    "paramGrid = (ParamGridBuilder()\n",
    "             .addGrid(lr.regParam, [0.1, 0.01])\n",
    "             .addGrid(lr.elasticNetParam, [0.0, 0.5, 1.0])\n",
    "             .build())\n",
    "\n",
    "# Definir o cross-validator\n",
    "crossval = CrossValidator(estimator=lr,\n",
    "                          estimatorParamMaps=paramGrid,\n",
    "                          evaluator=MulticlassClassificationEvaluator(labelCol=\"sentiment_class_index\"),\n",
    "                          numFolds=5)\n",
    "\n",
    "# Treinar o modelo com os dados de treino escalados\n",
    "lr_model_v2 = crossval.fit(train_data_scaled)\n",
    "\n",
    "# Realizar previsões com os dados de teste\n",
    "predictions = lr_model_v2.transform(test_data_scaled)\n",
    "\n",
    "# Avaliar o modelo\n",
    "accuracy = evaluator.evaluate(predictions, {evaluator.metricName: \"accuracy\"})\n",
    "precision = evaluator.evaluate(predictions, {evaluator.metricName: \"weightedPrecision\"})\n",
    "recall = evaluator.evaluate(predictions, {evaluator.metricName: \"weightedRecall\"})\n",
    "f1 = evaluator.evaluate(predictions, {evaluator.metricName: \"f1\"})\n",
    "\n",
    "# Print the metrics\n",
    "print(f\"Acurácia: {accuracy:.4f}\")\n",
    "print(f\"Precisão: {precision:.4f}\")\n",
    "print(f\"Recall: {recall:.4f}\")\n",
    "print(f\"F1-Score: {f1:.4f}\")\n",
    "\n",
    "# Criar um DataFrame para salvar as métricas\n",
    "modelo_v2_metrics = pd.DataFrame({\n",
    "    'Nome do Modelo': ['Regressão Logística'],\n",
    "    'Versao': ['2'],\n",
    "    'Tipo de Dados': ['Original'],\n",
    "    'Tipo de Modelo': ['Com Ajuste de Hiperparâmetros'], \n",
    "    'Acurácia': [f\"{accuracy:.4f}\"],\n",
    "    'Precisão': [f\"{precision:.4f}\"],\n",
    "    'Recall': [f\"{recall:.4f}\"],\n",
    "    'F1-Score': [f\"{f1:.4f}\"]\n",
    "})\n",
    "\n",
    "# Concatenando com o DataFrame existente\n",
    "df_modelos = pd.concat([df_modelos, modelo_v2_metrics], ignore_index=True)\n",
    "\n",
    "# Visualizando DataFrame\n",
    "display(df_modelos)"
   ]
  },
  {
   "cell_type": "markdown",
   "id": "5b00aad4",
   "metadata": {},
   "source": [
    "<br><br><br>\n",
    "\n",
    "# <span style=\"color: green; font-weight: bold;\">Modelo 2 com DecisionTreeClassifier</span>\n",
    "\n",
    "<br>\n",
    "\n",
    "> # Versão 1\n",
    "\n",
    "- Sem Ajuste de Hiperparâmetros\n",
    "\n",
    "\n",
    "<br>\n",
    "\n",
    "### Criação, Treinamento, Previsão e Avaliação do Modelo"
   ]
  },
  {
   "cell_type": "code",
   "execution_count": 41,
   "id": "edbf17b1",
   "metadata": {},
   "outputs": [
    {
     "name": "stdout",
     "output_type": "stream",
     "text": [
      "Acurácia: 0.8449\n",
      "Precisão: 0.8830\n",
      "Recall: 0.8449\n",
      "F1-Score: 0.8115\n"
     ]
    },
    {
     "data": {
      "text/html": [
       "<div>\n",
       "<style scoped>\n",
       "    .dataframe tbody tr th:only-of-type {\n",
       "        vertical-align: middle;\n",
       "    }\n",
       "\n",
       "    .dataframe tbody tr th {\n",
       "        vertical-align: top;\n",
       "    }\n",
       "\n",
       "    .dataframe thead th {\n",
       "        text-align: right;\n",
       "    }\n",
       "</style>\n",
       "<table border=\"1\" class=\"dataframe\">\n",
       "  <thead>\n",
       "    <tr style=\"text-align: right;\">\n",
       "      <th></th>\n",
       "      <th>Nome do Modelo</th>\n",
       "      <th>Versao</th>\n",
       "      <th>Tipo de Dados</th>\n",
       "      <th>Tipo de Modelo</th>\n",
       "      <th>Acurácia</th>\n",
       "      <th>Precisão</th>\n",
       "      <th>Recall</th>\n",
       "      <th>F1-Score</th>\n",
       "    </tr>\n",
       "  </thead>\n",
       "  <tbody>\n",
       "    <tr>\n",
       "      <th>0</th>\n",
       "      <td>Regressão Logística</td>\n",
       "      <td>1</td>\n",
       "      <td>Original</td>\n",
       "      <td>Sem Ajuste de Hiperparâmetros</td>\n",
       "      <td>0.7406</td>\n",
       "      <td>0.7041</td>\n",
       "      <td>0.7406</td>\n",
       "      <td>0.7118</td>\n",
       "    </tr>\n",
       "    <tr>\n",
       "      <th>1</th>\n",
       "      <td>Regressão Logística</td>\n",
       "      <td>2</td>\n",
       "      <td>Original</td>\n",
       "      <td>Com Ajuste de Hiperparâmetros</td>\n",
       "      <td>0.7107</td>\n",
       "      <td>0.6656</td>\n",
       "      <td>0.7107</td>\n",
       "      <td>0.6564</td>\n",
       "    </tr>\n",
       "    <tr>\n",
       "      <th>2</th>\n",
       "      <td>Decision Tree Classifier</td>\n",
       "      <td>1</td>\n",
       "      <td>Original</td>\n",
       "      <td>Sem Ajuste de Hiperparâmetros</td>\n",
       "      <td>0.8449</td>\n",
       "      <td>0.8830</td>\n",
       "      <td>0.8449</td>\n",
       "      <td>0.8115</td>\n",
       "    </tr>\n",
       "  </tbody>\n",
       "</table>\n",
       "</div>"
      ],
      "text/plain": [
       "             Nome do Modelo Versao Tipo de Dados  \\\n",
       "0       Regressão Logística      1      Original   \n",
       "1       Regressão Logística      2      Original   \n",
       "2  Decision Tree Classifier      1      Original   \n",
       "\n",
       "                  Tipo de Modelo Acurácia Precisão  Recall F1-Score  \n",
       "0  Sem Ajuste de Hiperparâmetros   0.7406   0.7041  0.7406   0.7118  \n",
       "1  Com Ajuste de Hiperparâmetros   0.7107   0.6656  0.7107   0.6564  \n",
       "2  Sem Ajuste de Hiperparâmetros   0.8449   0.8830  0.8449   0.8115  "
      ]
     },
     "metadata": {},
     "output_type": "display_data"
    }
   ],
   "source": [
    "# Criar o modelo de Decision Tree Classifier\n",
    "dt = DecisionTreeClassifier(labelCol=\"sentiment_class_index\", featuresCol=\"scaled_features\")\n",
    "\n",
    "# Treinar o modelo com os dados de treino escalados\n",
    "dt_model = dt.fit(train_data_scaled)\n",
    "\n",
    "# Realizar previsões com os dados de teste\n",
    "predictions = dt_model.transform(test_data_scaled)\n",
    "\n",
    "# Avaliar o modelo\n",
    "accuracy = evaluator.evaluate(predictions, {evaluator.metricName: \"accuracy\"})\n",
    "precision = evaluator.evaluate(predictions, {evaluator.metricName: \"weightedPrecision\"})\n",
    "recall = evaluator.evaluate(predictions, {evaluator.metricName: \"weightedRecall\"})\n",
    "f1 = evaluator.evaluate(predictions, {evaluator.metricName: \"f1\"})\n",
    "\n",
    "# Print the metrics\n",
    "print(f\"Acurácia: {accuracy:.4f}\")\n",
    "print(f\"Precisão: {precision:.4f}\")\n",
    "print(f\"Recall: {recall:.4f}\")\n",
    "print(f\"F1-Score: {f1:.4f}\")\n",
    "\n",
    "# Criar um DataFrame para salvar as métricas\n",
    "modelo_v1_dt_metrics = pd.DataFrame({\n",
    "    'Nome do Modelo': ['Decision Tree Classifier'],\n",
    "    'Versao': ['1'],\n",
    "    'Tipo de Dados': ['Original'],\n",
    "    'Tipo de Modelo': ['Sem Ajuste de Hiperparâmetros'], \n",
    "    'Acurácia': [f\"{accuracy:.4f}\"],\n",
    "    'Precisão': [f\"{precision:.4f}\"],\n",
    "    'Recall': [f\"{recall:.4f}\"],\n",
    "    'F1-Score': [f\"{f1:.4f}\"]\n",
    "})\n",
    "\n",
    "# Concatenando com o DataFrame existente\n",
    "df_modelos = pd.concat([df_modelos, modelo_v1_dt_metrics], ignore_index=True)\n",
    "\n",
    "# Visualizando DataFrame\n",
    "display(df_modelos)"
   ]
  },
  {
   "cell_type": "markdown",
   "id": "96ab3374",
   "metadata": {},
   "source": [
    "<br>\n",
    "\n",
    "> # Versão 2\n",
    "\n",
    "- Com Ajuste de Hiperparâmetros\n",
    "\n",
    "<br>\n",
    "\n",
    "\n",
    "### Configurando Hiperparâmetros"
   ]
  },
  {
   "cell_type": "code",
   "execution_count": 42,
   "id": "c74877a8",
   "metadata": {},
   "outputs": [
    {
     "name": "stdout",
     "output_type": "stream",
     "text": [
      "Acurácia: 0.9492\n",
      "Precisão: 0.9492\n",
      "Recall: 0.9492\n",
      "F1-Score: 0.9485\n"
     ]
    },
    {
     "data": {
      "text/html": [
       "<div>\n",
       "<style scoped>\n",
       "    .dataframe tbody tr th:only-of-type {\n",
       "        vertical-align: middle;\n",
       "    }\n",
       "\n",
       "    .dataframe tbody tr th {\n",
       "        vertical-align: top;\n",
       "    }\n",
       "\n",
       "    .dataframe thead th {\n",
       "        text-align: right;\n",
       "    }\n",
       "</style>\n",
       "<table border=\"1\" class=\"dataframe\">\n",
       "  <thead>\n",
       "    <tr style=\"text-align: right;\">\n",
       "      <th></th>\n",
       "      <th>Nome do Modelo</th>\n",
       "      <th>Versao</th>\n",
       "      <th>Tipo de Dados</th>\n",
       "      <th>Tipo de Modelo</th>\n",
       "      <th>Acurácia</th>\n",
       "      <th>Precisão</th>\n",
       "      <th>Recall</th>\n",
       "      <th>F1-Score</th>\n",
       "    </tr>\n",
       "  </thead>\n",
       "  <tbody>\n",
       "    <tr>\n",
       "      <th>0</th>\n",
       "      <td>Regressão Logística</td>\n",
       "      <td>1</td>\n",
       "      <td>Original</td>\n",
       "      <td>Sem Ajuste de Hiperparâmetros</td>\n",
       "      <td>0.7406</td>\n",
       "      <td>0.7041</td>\n",
       "      <td>0.7406</td>\n",
       "      <td>0.7118</td>\n",
       "    </tr>\n",
       "    <tr>\n",
       "      <th>1</th>\n",
       "      <td>Regressão Logística</td>\n",
       "      <td>2</td>\n",
       "      <td>Original</td>\n",
       "      <td>Com Ajuste de Hiperparâmetros</td>\n",
       "      <td>0.7107</td>\n",
       "      <td>0.6656</td>\n",
       "      <td>0.7107</td>\n",
       "      <td>0.6564</td>\n",
       "    </tr>\n",
       "    <tr>\n",
       "      <th>2</th>\n",
       "      <td>Decision Tree Classifier</td>\n",
       "      <td>1</td>\n",
       "      <td>Original</td>\n",
       "      <td>Sem Ajuste de Hiperparâmetros</td>\n",
       "      <td>0.8449</td>\n",
       "      <td>0.8830</td>\n",
       "      <td>0.8449</td>\n",
       "      <td>0.8115</td>\n",
       "    </tr>\n",
       "    <tr>\n",
       "      <th>3</th>\n",
       "      <td>Decision Tree Classifier</td>\n",
       "      <td>2</td>\n",
       "      <td>Original</td>\n",
       "      <td>Com Ajuste de Hiperparâmetros</td>\n",
       "      <td>0.9492</td>\n",
       "      <td>0.9492</td>\n",
       "      <td>0.9492</td>\n",
       "      <td>0.9485</td>\n",
       "    </tr>\n",
       "  </tbody>\n",
       "</table>\n",
       "</div>"
      ],
      "text/plain": [
       "             Nome do Modelo Versao Tipo de Dados  \\\n",
       "0       Regressão Logística      1      Original   \n",
       "1       Regressão Logística      2      Original   \n",
       "2  Decision Tree Classifier      1      Original   \n",
       "3  Decision Tree Classifier      2      Original   \n",
       "\n",
       "                  Tipo de Modelo Acurácia Precisão  Recall F1-Score  \n",
       "0  Sem Ajuste de Hiperparâmetros   0.7406   0.7041  0.7406   0.7118  \n",
       "1  Com Ajuste de Hiperparâmetros   0.7107   0.6656  0.7107   0.6564  \n",
       "2  Sem Ajuste de Hiperparâmetros   0.8449   0.8830  0.8449   0.8115  \n",
       "3  Com Ajuste de Hiperparâmetros   0.9492   0.9492  0.9492   0.9485  "
      ]
     },
     "metadata": {},
     "output_type": "display_data"
    }
   ],
   "source": [
    "# Definir a grade de parâmetros\n",
    "paramGrid = (ParamGridBuilder()\n",
    "             .addGrid(dt.maxDepth, [5, 10, 15])\n",
    "             .addGrid(dt.maxBins, [32, 64])\n",
    "             .build())\n",
    "\n",
    "# Definir o cross-validator\n",
    "crossval = CrossValidator(estimator=dt,\n",
    "                          estimatorParamMaps=paramGrid,\n",
    "                          evaluator=MulticlassClassificationEvaluator(labelCol=\"sentiment_class_index\"),\n",
    "                          numFolds=5)\n",
    "\n",
    "# Treinar o modelo com os dados de treino escalados\n",
    "dt_model_v2 = crossval.fit(train_data_scaled)\n",
    "\n",
    "# Realizar previsões com os dados de teste\n",
    "predictions = dt_model_v2.transform(test_data_scaled)\n",
    "\n",
    "# Avaliar o modelo\n",
    "accuracy = evaluator.evaluate(predictions, {evaluator.metricName: \"accuracy\"})\n",
    "precision = evaluator.evaluate(predictions, {evaluator.metricName: \"weightedPrecision\"})\n",
    "recall = evaluator.evaluate(predictions, {evaluator.metricName: \"weightedRecall\"})\n",
    "f1 = evaluator.evaluate(predictions, {evaluator.metricName: \"f1\"})\n",
    "\n",
    "# Print the metrics\n",
    "print(f\"Acurácia: {accuracy:.4f}\")\n",
    "print(f\"Precisão: {precision:.4f}\")\n",
    "print(f\"Recall: {recall:.4f}\")\n",
    "print(f\"F1-Score: {f1:.4f}\")\n",
    "\n",
    "# Criar um DataFrame para salvar as métricas\n",
    "modelo_v2_dt_metrics = pd.DataFrame({\n",
    "    'Nome do Modelo': ['Decision Tree Classifier'],\n",
    "    'Versao': ['2'],\n",
    "    'Tipo de Dados': ['Original'],\n",
    "    'Tipo de Modelo': ['Com Ajuste de Hiperparâmetros'], \n",
    "    'Acurácia': [f\"{accuracy:.4f}\"],\n",
    "    'Precisão': [f\"{precision:.4f}\"],\n",
    "    'Recall': [f\"{recall:.4f}\"],\n",
    "    'F1-Score': [f\"{f1:.4f}\"]\n",
    "})\n",
    "\n",
    "# Concatenando com o DataFrame existente\n",
    "df_modelos = pd.concat([df_modelos, modelo_v2_dt_metrics], ignore_index=True)\n",
    "\n",
    "# Visualizando DataFrame\n",
    "display(df_modelos)"
   ]
  },
  {
   "cell_type": "markdown",
   "id": "48b4c996",
   "metadata": {},
   "source": [
    "<br><br><br>\n",
    "\n",
    "# <span style=\"color: green; font-weight: bold;\">Modelo 3 com RandomForestClassifier</span>\n",
    "\n",
    "<br>\n",
    "\n",
    "> # Versão 1\n",
    "\n",
    "- Sem Ajuste de Hiperparâmetros\n",
    "\n",
    "\n",
    "<br>\n",
    "\n",
    "### Criação, Treinamento, Previsão e Avaliação do Modelo"
   ]
  },
  {
   "cell_type": "code",
   "execution_count": 43,
   "id": "281cb9fb",
   "metadata": {},
   "outputs": [
    {
     "name": "stdout",
     "output_type": "stream",
     "text": [
      "Acurácia: 0.8057\n",
      "Precisão: 0.8582\n",
      "Recall: 0.8057\n",
      "F1-Score: 0.7403\n"
     ]
    },
    {
     "data": {
      "text/html": [
       "<div>\n",
       "<style scoped>\n",
       "    .dataframe tbody tr th:only-of-type {\n",
       "        vertical-align: middle;\n",
       "    }\n",
       "\n",
       "    .dataframe tbody tr th {\n",
       "        vertical-align: top;\n",
       "    }\n",
       "\n",
       "    .dataframe thead th {\n",
       "        text-align: right;\n",
       "    }\n",
       "</style>\n",
       "<table border=\"1\" class=\"dataframe\">\n",
       "  <thead>\n",
       "    <tr style=\"text-align: right;\">\n",
       "      <th></th>\n",
       "      <th>Nome do Modelo</th>\n",
       "      <th>Versao</th>\n",
       "      <th>Tipo de Dados</th>\n",
       "      <th>Tipo de Modelo</th>\n",
       "      <th>Acurácia</th>\n",
       "      <th>Precisão</th>\n",
       "      <th>Recall</th>\n",
       "      <th>F1-Score</th>\n",
       "    </tr>\n",
       "  </thead>\n",
       "  <tbody>\n",
       "    <tr>\n",
       "      <th>0</th>\n",
       "      <td>Regressão Logística</td>\n",
       "      <td>1</td>\n",
       "      <td>Original</td>\n",
       "      <td>Sem Ajuste de Hiperparâmetros</td>\n",
       "      <td>0.7406</td>\n",
       "      <td>0.7041</td>\n",
       "      <td>0.7406</td>\n",
       "      <td>0.7118</td>\n",
       "    </tr>\n",
       "    <tr>\n",
       "      <th>1</th>\n",
       "      <td>Regressão Logística</td>\n",
       "      <td>2</td>\n",
       "      <td>Original</td>\n",
       "      <td>Com Ajuste de Hiperparâmetros</td>\n",
       "      <td>0.7107</td>\n",
       "      <td>0.6656</td>\n",
       "      <td>0.7107</td>\n",
       "      <td>0.6564</td>\n",
       "    </tr>\n",
       "    <tr>\n",
       "      <th>2</th>\n",
       "      <td>Decision Tree Classifier</td>\n",
       "      <td>1</td>\n",
       "      <td>Original</td>\n",
       "      <td>Sem Ajuste de Hiperparâmetros</td>\n",
       "      <td>0.8449</td>\n",
       "      <td>0.8830</td>\n",
       "      <td>0.8449</td>\n",
       "      <td>0.8115</td>\n",
       "    </tr>\n",
       "    <tr>\n",
       "      <th>3</th>\n",
       "      <td>Decision Tree Classifier</td>\n",
       "      <td>2</td>\n",
       "      <td>Original</td>\n",
       "      <td>Com Ajuste de Hiperparâmetros</td>\n",
       "      <td>0.9492</td>\n",
       "      <td>0.9492</td>\n",
       "      <td>0.9492</td>\n",
       "      <td>0.9485</td>\n",
       "    </tr>\n",
       "    <tr>\n",
       "      <th>4</th>\n",
       "      <td>Random Forest Classifier</td>\n",
       "      <td>1</td>\n",
       "      <td>Original</td>\n",
       "      <td>Sem Ajuste de Hiperparâmetros</td>\n",
       "      <td>0.8057</td>\n",
       "      <td>0.8582</td>\n",
       "      <td>0.8057</td>\n",
       "      <td>0.7403</td>\n",
       "    </tr>\n",
       "  </tbody>\n",
       "</table>\n",
       "</div>"
      ],
      "text/plain": [
       "             Nome do Modelo Versao Tipo de Dados  \\\n",
       "0       Regressão Logística      1      Original   \n",
       "1       Regressão Logística      2      Original   \n",
       "2  Decision Tree Classifier      1      Original   \n",
       "3  Decision Tree Classifier      2      Original   \n",
       "4  Random Forest Classifier      1      Original   \n",
       "\n",
       "                  Tipo de Modelo Acurácia Precisão  Recall F1-Score  \n",
       "0  Sem Ajuste de Hiperparâmetros   0.7406   0.7041  0.7406   0.7118  \n",
       "1  Com Ajuste de Hiperparâmetros   0.7107   0.6656  0.7107   0.6564  \n",
       "2  Sem Ajuste de Hiperparâmetros   0.8449   0.8830  0.8449   0.8115  \n",
       "3  Com Ajuste de Hiperparâmetros   0.9492   0.9492  0.9492   0.9485  \n",
       "4  Sem Ajuste de Hiperparâmetros   0.8057   0.8582  0.8057   0.7403  "
      ]
     },
     "metadata": {},
     "output_type": "display_data"
    }
   ],
   "source": [
    "# Criar o modelo de Random Forest Classifier\n",
    "rf = RandomForestClassifier(labelCol=\"sentiment_class_index\", featuresCol=\"scaled_features\")\n",
    "\n",
    "# Treinar o modelo com os dados de treino escalados\n",
    "rf_model = rf.fit(train_data_scaled)\n",
    "\n",
    "# Realizar previsões com os dados de teste\n",
    "predictions = rf_model.transform(test_data_scaled)\n",
    "\n",
    "# Avaliar o modelo\n",
    "accuracy = evaluator.evaluate(predictions, {evaluator.metricName: \"accuracy\"})\n",
    "precision = evaluator.evaluate(predictions, {evaluator.metricName: \"weightedPrecision\"})\n",
    "recall = evaluator.evaluate(predictions, {evaluator.metricName: \"weightedRecall\"})\n",
    "f1 = evaluator.evaluate(predictions, {evaluator.metricName: \"f1\"})\n",
    "\n",
    "# Print the metrics\n",
    "print(f\"Acurácia: {accuracy:.4f}\")\n",
    "print(f\"Precisão: {precision:.4f}\")\n",
    "print(f\"Recall: {recall:.4f}\")\n",
    "print(f\"F1-Score: {f1:.4f}\")\n",
    "\n",
    "# Criar um DataFrame para salvar as métricas\n",
    "modelo_v1_rf_metrics = pd.DataFrame({\n",
    "    'Nome do Modelo': ['Random Forest Classifier'],\n",
    "    'Versao': ['1'],\n",
    "    'Tipo de Dados': ['Original'],\n",
    "    'Tipo de Modelo': ['Sem Ajuste de Hiperparâmetros'], \n",
    "    'Acurácia': [f\"{accuracy:.4f}\"],\n",
    "    'Precisão': [f\"{precision:.4f}\"],\n",
    "    'Recall': [f\"{recall:.4f}\"],\n",
    "    'F1-Score': [f\"{f1:.4f}\"]\n",
    "})\n",
    "\n",
    "# Concatenando com o DataFrame existente\n",
    "df_modelos = pd.concat([df_modelos, modelo_v1_rf_metrics], ignore_index=True)\n",
    "\n",
    "# Visualizando DataFrame\n",
    "display(df_modelos)"
   ]
  },
  {
   "cell_type": "markdown",
   "id": "eef599b5",
   "metadata": {},
   "source": [
    "<br>\n",
    "\n",
    "> # Versão 2\n",
    "\n",
    "- Com Ajuste de Hiperparâmetros\n",
    "\n",
    "<br>\n",
    "\n",
    "\n",
    "### Configurando Hiperparâmetros"
   ]
  },
  {
   "cell_type": "code",
   "execution_count": 44,
   "id": "8d0b076b",
   "metadata": {},
   "outputs": [
    {
     "name": "stdout",
     "output_type": "stream",
     "text": [
      "Acurácia: 0.8696\n",
      "Precisão: 0.8730\n",
      "Recall: 0.8696\n",
      "F1-Score: 0.8574\n"
     ]
    },
    {
     "data": {
      "text/html": [
       "<div>\n",
       "<style scoped>\n",
       "    .dataframe tbody tr th:only-of-type {\n",
       "        vertical-align: middle;\n",
       "    }\n",
       "\n",
       "    .dataframe tbody tr th {\n",
       "        vertical-align: top;\n",
       "    }\n",
       "\n",
       "    .dataframe thead th {\n",
       "        text-align: right;\n",
       "    }\n",
       "</style>\n",
       "<table border=\"1\" class=\"dataframe\">\n",
       "  <thead>\n",
       "    <tr style=\"text-align: right;\">\n",
       "      <th></th>\n",
       "      <th>Nome do Modelo</th>\n",
       "      <th>Versao</th>\n",
       "      <th>Tipo de Dados</th>\n",
       "      <th>Tipo de Modelo</th>\n",
       "      <th>Acurácia</th>\n",
       "      <th>Precisão</th>\n",
       "      <th>Recall</th>\n",
       "      <th>F1-Score</th>\n",
       "    </tr>\n",
       "  </thead>\n",
       "  <tbody>\n",
       "    <tr>\n",
       "      <th>0</th>\n",
       "      <td>Regressão Logística</td>\n",
       "      <td>1</td>\n",
       "      <td>Original</td>\n",
       "      <td>Sem Ajuste de Hiperparâmetros</td>\n",
       "      <td>0.7406</td>\n",
       "      <td>0.7041</td>\n",
       "      <td>0.7406</td>\n",
       "      <td>0.7118</td>\n",
       "    </tr>\n",
       "    <tr>\n",
       "      <th>1</th>\n",
       "      <td>Regressão Logística</td>\n",
       "      <td>2</td>\n",
       "      <td>Original</td>\n",
       "      <td>Com Ajuste de Hiperparâmetros</td>\n",
       "      <td>0.7107</td>\n",
       "      <td>0.6656</td>\n",
       "      <td>0.7107</td>\n",
       "      <td>0.6564</td>\n",
       "    </tr>\n",
       "    <tr>\n",
       "      <th>2</th>\n",
       "      <td>Decision Tree Classifier</td>\n",
       "      <td>1</td>\n",
       "      <td>Original</td>\n",
       "      <td>Sem Ajuste de Hiperparâmetros</td>\n",
       "      <td>0.8449</td>\n",
       "      <td>0.8830</td>\n",
       "      <td>0.8449</td>\n",
       "      <td>0.8115</td>\n",
       "    </tr>\n",
       "    <tr>\n",
       "      <th>3</th>\n",
       "      <td>Decision Tree Classifier</td>\n",
       "      <td>2</td>\n",
       "      <td>Original</td>\n",
       "      <td>Com Ajuste de Hiperparâmetros</td>\n",
       "      <td>0.9492</td>\n",
       "      <td>0.9492</td>\n",
       "      <td>0.9492</td>\n",
       "      <td>0.9485</td>\n",
       "    </tr>\n",
       "    <tr>\n",
       "      <th>4</th>\n",
       "      <td>Random Forest Classifier</td>\n",
       "      <td>1</td>\n",
       "      <td>Original</td>\n",
       "      <td>Sem Ajuste de Hiperparâmetros</td>\n",
       "      <td>0.8057</td>\n",
       "      <td>0.8582</td>\n",
       "      <td>0.8057</td>\n",
       "      <td>0.7403</td>\n",
       "    </tr>\n",
       "    <tr>\n",
       "      <th>5</th>\n",
       "      <td>Random Forest Classifier</td>\n",
       "      <td>2</td>\n",
       "      <td>Original</td>\n",
       "      <td>Com Ajuste de Hiperparâmetros</td>\n",
       "      <td>0.8696</td>\n",
       "      <td>0.8730</td>\n",
       "      <td>0.8696</td>\n",
       "      <td>0.8574</td>\n",
       "    </tr>\n",
       "  </tbody>\n",
       "</table>\n",
       "</div>"
      ],
      "text/plain": [
       "             Nome do Modelo Versao Tipo de Dados  \\\n",
       "0       Regressão Logística      1      Original   \n",
       "1       Regressão Logística      2      Original   \n",
       "2  Decision Tree Classifier      1      Original   \n",
       "3  Decision Tree Classifier      2      Original   \n",
       "4  Random Forest Classifier      1      Original   \n",
       "5  Random Forest Classifier      2      Original   \n",
       "\n",
       "                  Tipo de Modelo Acurácia Precisão  Recall F1-Score  \n",
       "0  Sem Ajuste de Hiperparâmetros   0.7406   0.7041  0.7406   0.7118  \n",
       "1  Com Ajuste de Hiperparâmetros   0.7107   0.6656  0.7107   0.6564  \n",
       "2  Sem Ajuste de Hiperparâmetros   0.8449   0.8830  0.8449   0.8115  \n",
       "3  Com Ajuste de Hiperparâmetros   0.9492   0.9492  0.9492   0.9485  \n",
       "4  Sem Ajuste de Hiperparâmetros   0.8057   0.8582  0.8057   0.7403  \n",
       "5  Com Ajuste de Hiperparâmetros   0.8696   0.8730  0.8696   0.8574  "
      ]
     },
     "metadata": {},
     "output_type": "display_data"
    }
   ],
   "source": [
    "# Definir a grade de parâmetros\n",
    "paramGrid = (ParamGridBuilder()\n",
    "             .addGrid(rf.numTrees, [10, 20])\n",
    "             .addGrid(rf.maxDepth, [5, 10])\n",
    "             .build())\n",
    "\n",
    "# Definir o cross-validator\n",
    "crossval = CrossValidator(estimator=rf,\n",
    "                          estimatorParamMaps=paramGrid,\n",
    "                          evaluator=MulticlassClassificationEvaluator(labelCol=\"sentiment_class_index\"),\n",
    "                          numFolds=5)\n",
    "\n",
    "# Treinar o modelo com os dados de treino escalados\n",
    "rf_model_v2 = crossval.fit(train_data_scaled)\n",
    "\n",
    "# Realizar previsões com os dados de teste\n",
    "predictions = rf_model_v2.transform(test_data_scaled)\n",
    "\n",
    "# Avaliar o modelo\n",
    "accuracy = evaluator.evaluate(predictions, {evaluator.metricName: \"accuracy\"})\n",
    "precision = evaluator.evaluate(predictions, {evaluator.metricName: \"weightedPrecision\"})\n",
    "recall = evaluator.evaluate(predictions, {evaluator.metricName: \"weightedRecall\"})\n",
    "f1 = evaluator.evaluate(predictions, {evaluator.metricName: \"f1\"})\n",
    "\n",
    "# Print the metrics\n",
    "print(f\"Acurácia: {accuracy:.4f}\")\n",
    "print(f\"Precisão: {precision:.4f}\")\n",
    "print(f\"Recall: {recall:.4f}\")\n",
    "print(f\"F1-Score: {f1:.4f}\")\n",
    "\n",
    "# Criar um DataFrame para salvar as métricas\n",
    "modelo_v2_rf_metrics = pd.DataFrame({\n",
    "    'Nome do Modelo': ['Random Forest Classifier'],\n",
    "    'Versao': ['2'],\n",
    "    'Tipo de Dados': ['Original'],\n",
    "    'Tipo de Modelo': ['Com Ajuste de Hiperparâmetros'], \n",
    "    'Acurácia': [f\"{accuracy:.4f}\"],\n",
    "    'Precisão': [f\"{precision:.4f}\"],\n",
    "    'Recall': [f\"{recall:.4f}\"],\n",
    "    'F1-Score': [f\"{f1:.4f}\"]\n",
    "})\n",
    "\n",
    "# Concatenando com o DataFrame existente\n",
    "df_modelos = pd.concat([df_modelos, modelo_v2_rf_metrics], ignore_index=True)\n",
    "\n",
    "# Visualizando DataFrame\n",
    "display(df_modelos)"
   ]
  },
  {
   "cell_type": "markdown",
   "id": "167eb3fd-97f9-4b05-8fcf-90004a30223e",
   "metadata": {},
   "source": [
    "<br><br>\n",
    "\n",
    "# SELECIONANDO O MELHOR MODELO\n",
    "\n",
    "- Usaremos o modelo com melhor Acurácia.\n",
    "\n",
    "<br>\n",
    "\n",
    "#### Visualizando Dataframe Ordenado"
   ]
  },
  {
   "cell_type": "code",
   "execution_count": 45,
   "id": "f58df541",
   "metadata": {},
   "outputs": [
    {
     "data": {
      "text/html": [
       "<div>\n",
       "<style scoped>\n",
       "    .dataframe tbody tr th:only-of-type {\n",
       "        vertical-align: middle;\n",
       "    }\n",
       "\n",
       "    .dataframe tbody tr th {\n",
       "        vertical-align: top;\n",
       "    }\n",
       "\n",
       "    .dataframe thead th {\n",
       "        text-align: right;\n",
       "    }\n",
       "</style>\n",
       "<table border=\"1\" class=\"dataframe\">\n",
       "  <thead>\n",
       "    <tr style=\"text-align: right;\">\n",
       "      <th></th>\n",
       "      <th>Nome do Modelo</th>\n",
       "      <th>Versao</th>\n",
       "      <th>Tipo de Dados</th>\n",
       "      <th>Tipo de Modelo</th>\n",
       "      <th>Acurácia</th>\n",
       "      <th>Precisão</th>\n",
       "      <th>Recall</th>\n",
       "      <th>F1-Score</th>\n",
       "    </tr>\n",
       "  </thead>\n",
       "  <tbody>\n",
       "    <tr>\n",
       "      <th>0</th>\n",
       "      <td>Decision Tree Classifier</td>\n",
       "      <td>2</td>\n",
       "      <td>Original</td>\n",
       "      <td>Com Ajuste de Hiperparâmetros</td>\n",
       "      <td>0.9492</td>\n",
       "      <td>0.9492</td>\n",
       "      <td>0.9492</td>\n",
       "      <td>0.9485</td>\n",
       "    </tr>\n",
       "    <tr>\n",
       "      <th>1</th>\n",
       "      <td>Random Forest Classifier</td>\n",
       "      <td>2</td>\n",
       "      <td>Original</td>\n",
       "      <td>Com Ajuste de Hiperparâmetros</td>\n",
       "      <td>0.8696</td>\n",
       "      <td>0.8730</td>\n",
       "      <td>0.8696</td>\n",
       "      <td>0.8574</td>\n",
       "    </tr>\n",
       "    <tr>\n",
       "      <th>2</th>\n",
       "      <td>Decision Tree Classifier</td>\n",
       "      <td>1</td>\n",
       "      <td>Original</td>\n",
       "      <td>Sem Ajuste de Hiperparâmetros</td>\n",
       "      <td>0.8449</td>\n",
       "      <td>0.8830</td>\n",
       "      <td>0.8449</td>\n",
       "      <td>0.8115</td>\n",
       "    </tr>\n",
       "    <tr>\n",
       "      <th>3</th>\n",
       "      <td>Random Forest Classifier</td>\n",
       "      <td>1</td>\n",
       "      <td>Original</td>\n",
       "      <td>Sem Ajuste de Hiperparâmetros</td>\n",
       "      <td>0.8057</td>\n",
       "      <td>0.8582</td>\n",
       "      <td>0.8057</td>\n",
       "      <td>0.7403</td>\n",
       "    </tr>\n",
       "    <tr>\n",
       "      <th>4</th>\n",
       "      <td>Regressão Logística</td>\n",
       "      <td>1</td>\n",
       "      <td>Original</td>\n",
       "      <td>Sem Ajuste de Hiperparâmetros</td>\n",
       "      <td>0.7406</td>\n",
       "      <td>0.7041</td>\n",
       "      <td>0.7406</td>\n",
       "      <td>0.7118</td>\n",
       "    </tr>\n",
       "    <tr>\n",
       "      <th>5</th>\n",
       "      <td>Regressão Logística</td>\n",
       "      <td>2</td>\n",
       "      <td>Original</td>\n",
       "      <td>Com Ajuste de Hiperparâmetros</td>\n",
       "      <td>0.7107</td>\n",
       "      <td>0.6656</td>\n",
       "      <td>0.7107</td>\n",
       "      <td>0.6564</td>\n",
       "    </tr>\n",
       "  </tbody>\n",
       "</table>\n",
       "</div>"
      ],
      "text/plain": [
       "             Nome do Modelo Versao Tipo de Dados  \\\n",
       "0  Decision Tree Classifier      2      Original   \n",
       "1  Random Forest Classifier      2      Original   \n",
       "2  Decision Tree Classifier      1      Original   \n",
       "3  Random Forest Classifier      1      Original   \n",
       "4       Regressão Logística      1      Original   \n",
       "5       Regressão Logística      2      Original   \n",
       "\n",
       "                  Tipo de Modelo Acurácia Precisão  Recall F1-Score  \n",
       "0  Com Ajuste de Hiperparâmetros   0.9492   0.9492  0.9492   0.9485  \n",
       "1  Com Ajuste de Hiperparâmetros   0.8696   0.8730  0.8696   0.8574  \n",
       "2  Sem Ajuste de Hiperparâmetros   0.8449   0.8830  0.8449   0.8115  \n",
       "3  Sem Ajuste de Hiperparâmetros   0.8057   0.8582  0.8057   0.7403  \n",
       "4  Sem Ajuste de Hiperparâmetros   0.7406   0.7041  0.7406   0.7118  \n",
       "5  Com Ajuste de Hiperparâmetros   0.7107   0.6656  0.7107   0.6564  "
      ]
     },
     "metadata": {},
     "output_type": "display_data"
    }
   ],
   "source": [
    "# Ordenando o DataFrame pelo (modificar sort_values)\n",
    "df_modelos_sorted = df_modelos.sort_values(by='Acurácia', ascending=False).reset_index(drop=True)\n",
    "\n",
    "# Visualizando Daframe\n",
    "display(df_modelos_sorted)"
   ]
  },
  {
   "cell_type": "markdown",
   "id": "e6e88845",
   "metadata": {},
   "source": [
    "<br>\n",
    "\n",
    "### Salvando Melhor Modelo"
   ]
  },
  {
   "cell_type": "code",
   "execution_count": 46,
   "id": "f276a8fd",
   "metadata": {},
   "outputs": [
    {
     "name": "stdout",
     "output_type": "stream",
     "text": [
      "\n",
      "\n",
      "Modelo salvo com sucesso.\n"
     ]
    }
   ],
   "source": [
    "# Salvar o modelo treinado\n",
    "dt_model_v2.write().overwrite().save(\"pipeline_e_modelo/dt_model_v2\")\n",
    "\n",
    "print('\\n\\nModelo salvo com sucesso.')"
   ]
  },
  {
   "cell_type": "markdown",
   "id": "8a83696d",
   "metadata": {},
   "source": [
    "<br><br>\n",
    "\n",
    "# Testando Modelo com Novos Dados\n",
    "\n",
    "<br>\n",
    "\n",
    "### Carregando Modelo e Pipeline Salvos"
   ]
  },
  {
   "cell_type": "code",
   "execution_count": 47,
   "id": "f5bddb51",
   "metadata": {},
   "outputs": [
    {
     "name": "stdout",
     "output_type": "stream",
     "text": [
      "Colunas usadas no modelo:\n",
      "['source_index', 'subject_index', 'polarity_index', 'subjectivity_index', 'year_index', 'hour', 'day_of_week']\n",
      "\n",
      "Tipos das colunas originais:\n",
      "source: string\n",
      "subject: string\n",
      "sentiment_class: string\n",
      "polarity: string\n",
      "subjectivity: string\n",
      "hour: double\n",
      "day_of_week: int\n",
      "year: string\n"
     ]
    }
   ],
   "source": [
    "## Carregar e Verificar as Colunas e Tipos Usados no Modelo\n",
    "\n",
    "# Carregar os pipelines e o modelo salvo\n",
    "pipeline_preprocessing_loaded = PipelineModel.load(\"pipeline_e_modelo/pipeline_preprocessing\")\n",
    "pipeline_scaling_loaded = PipelineModel.load(\"pipeline_e_modelo/pipeline_scaling\")\n",
    "model_loaded = CrossValidatorModel.load(\"pipeline_e_modelo/dt_model_v2\")\n",
    "\n",
    "# Verificar as colunas e tipos usados no modelo\n",
    "input_cols = pipeline_preprocessing_loaded.stages[-1].getInputCols()\n",
    "print(\"Colunas usadas no modelo:\")\n",
    "print(input_cols)\n",
    "\n",
    "# Obter os tipos das colunas originais\n",
    "print(\"\\nTipos das colunas originais:\")\n",
    "original_schema = dados.schema\n",
    "for field in original_schema:\n",
    "    print(f\"{field.name}: {field.dataType.simpleString()}\")"
   ]
  },
  {
   "cell_type": "markdown",
   "id": "cae7c122",
   "metadata": {},
   "source": [
    "<br>\n",
    "\n",
    "### Criando Novos Dados e Realizando as Previsões"
   ]
  },
  {
   "cell_type": "code",
   "execution_count": 48,
   "id": "7db5c925",
   "metadata": {},
   "outputs": [
    {
     "name": "stdout",
     "output_type": "stream",
     "text": [
      "root\n",
      " |-- source: string (nullable = true)\n",
      " |-- subject: string (nullable = true)\n",
      " |-- polarity: string (nullable = true)\n",
      " |-- subjectivity: string (nullable = true)\n",
      " |-- hour: double (nullable = true)\n",
      " |-- day_of_week: long (nullable = true)\n",
      " |-- year: string (nullable = true)\n",
      "\n",
      "root\n",
      " |-- source: string (nullable = true)\n",
      " |-- subject: string (nullable = true)\n",
      " |-- polarity: string (nullable = true)\n",
      " |-- subjectivity: string (nullable = true)\n",
      " |-- hour: double (nullable = true)\n",
      " |-- day_of_week: long (nullable = true)\n",
      " |-- year: string (nullable = true)\n",
      " |-- source_index: double (nullable = false)\n",
      " |-- subject_index: double (nullable = false)\n",
      " |-- polarity_index: double (nullable = false)\n",
      " |-- subjectivity_index: double (nullable = false)\n",
      " |-- year_index: double (nullable = false)\n",
      " |-- features: vector (nullable = true)\n",
      " |-- scaled_features: vector (nullable = true)\n",
      "\n",
      "+------------+----------+--------+------------+----+-----------+----+----------+\n",
      "|      source|   subject|polarity|subjectivity|hour|day_of_week|year|prediction|\n",
      "+------------+----------+--------+------------+----+-----------+----+----------+\n",
      "|  CryptoNews|   altcoin|    -0.1|         0.6| 6.0|          3|2023|       2.0|\n",
      "|  CryptoNews|blockchain|     0.0|         0.0| 6.0|          3|2023|       1.0|\n",
      "|CryptoPotato|   bitcoin|   -0.01|        0.38| 5.0|          3|2023|       2.0|\n",
      "|CryptoPotato|blockchain|     0.5|         0.9| 5.0|          3|2023|       0.0|\n",
      "+------------+----------+--------+------------+----+-----------+----+----------+\n",
      "\n"
     ]
    }
   ],
   "source": [
    "## Previsões\n",
    "\n",
    "# Criar um novo dataset com novos dados (sem a variável alvo)\n",
    "novos_dados = [\n",
    "    (\"CryptoNews\", \"altcoin\", \"-0.1\", \"0.6\", 6.0, 3, \"2023\"),\n",
    "    (\"CryptoNews\", \"blockchain\", \"0.0\", \"0.0\", 6.0, 3, \"2023\"),\n",
    "    (\"CryptoPotato\", \"bitcoin\", \"-0.01\", \"0.38\", 5.0, 3, \"2023\"),\n",
    "    (\"CryptoPotato\", \"blockchain\", \"0.5\", \"0.9\", 5.0, 3, \"2023\")\n",
    "]\n",
    "colunas_novos_dados = [\"source\", \"subject\", \"polarity\", \"subjectivity\", \"hour\", \"day_of_week\", \"year\"]\n",
    "\n",
    "df_novos_dados = spark_session.createDataFrame(novos_dados, colunas_novos_dados)\n",
    "df_novos_dados.printSchema()\n",
    "\n",
    "## Transformações\n",
    "\n",
    "# Aplicar transformações necessárias com o pipeline carregado\n",
    "df_novos_dados_transformados = pipeline_preprocessing_loaded.transform(df_novos_dados)\n",
    "df_novos_dados_escalados = pipeline_scaling_loaded.transform(df_novos_dados_transformados)\n",
    "df_novos_dados_escalados.printSchema()\n",
    "\n",
    "## Realizar Previsões\n",
    "\n",
    "# Realizar previsões com o modelo carregado\n",
    "previsoes = model_loaded.transform(df_novos_dados_escalados)\n",
    "\n",
    "# Exibir previsões na forma numérica\n",
    "previsoes.select(\"source\", \"subject\", \"polarity\", \"subjectivity\", \"hour\", \"day_of_week\", \"year\", \"prediction\").show()"
   ]
  },
  {
   "cell_type": "markdown",
   "id": "5dc52c8f",
   "metadata": {},
   "source": [
    "<br> \n",
    "\n",
    "### Visualizando Previsões no Formato Original"
   ]
  },
  {
   "cell_type": "code",
   "execution_count": 49,
   "id": "7d0e1a7c",
   "metadata": {},
   "outputs": [
    {
     "name": "stdout",
     "output_type": "stream",
     "text": [
      "StringIndexerModel: uid=StringIndexer_28d10f2a9339, handleInvalid=error\n",
      "StringIndexerModel: uid=StringIndexer_c9f02cab2222, handleInvalid=error\n",
      "StringIndexerModel: uid=StringIndexer_1ed8faf53458, handleInvalid=error\n",
      "StringIndexerModel: uid=StringIndexer_87d61d95df42, handleInvalid=error\n",
      "StringIndexerModel: uid=StringIndexer_420a5ed70870, handleInvalid=error\n",
      "StringIndexerModel: uid=StringIndexer_10065b733314, handleInvalid=error\n",
      "VectorAssembler_042f2505624a\n",
      "\n",
      "\n",
      "Colunas de entrada e saída de cada StringIndexerModel:\n",
      "\n",
      "Input column: source, Output column: source_index\n",
      "Input column: subject, Output column: subject_index\n",
      "Input column: polarity, Output column: polarity_index\n",
      "Input column: subjectivity, Output column: subjectivity_index\n",
      "Input column: year, Output column: year_index\n",
      "Input column: sentiment_class, Output column: sentiment_class_index\n",
      "\n",
      "\n",
      "Sentiment class indexer encontrado: StringIndexerModel: uid=StringIndexer_10065b733314, handleInvalid=error\n"
     ]
    }
   ],
   "source": [
    "# Verificar os estágios no pipeline carregado\n",
    "for stage in pipeline_preprocessing_loaded.stages:\n",
    "    print(stage)\n",
    "    \n",
    "# Verificar as colunas de entrada e saída de cada StringIndexerModel\n",
    "print(\"\\n\\nColunas de entrada e saída de cada StringIndexerModel:\\n\")\n",
    "for stage in pipeline_preprocessing_loaded.stages:\n",
    "    if isinstance(stage, StringIndexerModel):\n",
    "        input_col = stage.getInputCol()\n",
    "        output_col = stage.getOutputCol()\n",
    "        print(f\"Input column: {input_col}, Output column: {output_col}\")\n",
    "\n",
    "# Acessar o StringIndexerModel correto do pipeline de pré-processamento\n",
    "sentiment_indexer = None\n",
    "for stage in pipeline_preprocessing_loaded.stages:\n",
    "    if isinstance(stage, StringIndexerModel) and stage.getOutputCol() == \"sentiment_class_index\":\n",
    "        sentiment_indexer = stage\n",
    "        break\n",
    "\n",
    "# Verificar se encontramos o indexador\n",
    "if sentiment_indexer is None:\n",
    "    raise ValueError(\"\\n\\nSentiment class indexer não encontrado no pipeline.\")\n",
    "else:\n",
    "    print(\"\\n\\nSentiment class indexer encontrado:\", sentiment_indexer)"
   ]
  },
  {
   "cell_type": "code",
   "execution_count": 50,
   "id": "7137c045",
   "metadata": {},
   "outputs": [
    {
     "name": "stdout",
     "output_type": "stream",
     "text": [
      "+------------+----------+--------+------------+----+-----------+----+-------------------+\n",
      "|      source|   subject|polarity|subjectivity|hour|day_of_week|year|predicted_sentiment|\n",
      "+------------+----------+--------+------------+----+-----------+----+-------------------+\n",
      "|  CryptoNews|   altcoin|    -0.1|         0.6| 6.0|          3|2023|           negative|\n",
      "|  CryptoNews|blockchain|     0.0|         0.0| 6.0|          3|2023|            neutral|\n",
      "|CryptoPotato|   bitcoin|   -0.01|        0.38| 5.0|          3|2023|           negative|\n",
      "|CryptoPotato|blockchain|     0.5|         0.9| 5.0|          3|2023|           positive|\n",
      "+------------+----------+--------+------------+----+-----------+----+-------------------+\n",
      "\n"
     ]
    }
   ],
   "source": [
    "## Visualizando as Previsões\n",
    "\n",
    "# IndexToString para converter o índice de volta para a string original\n",
    "label_converter = IndexToString(inputCol=\"prediction\", outputCol=\"predicted_sentiment\",\n",
    "                                labels=sentiment_indexer.labels)\n",
    "\n",
    "# Transformar o conjunto de previsões\n",
    "previsoes_com_label = label_converter.transform(previsoes)\n",
    "\n",
    "# Exibir previsões com rótulos originais\n",
    "previsoes_com_label.select(\"source\", \"subject\", \"polarity\", \"subjectivity\", \"hour\", \"day_of_week\", \"year\",\n",
    "                           \"predicted_sentiment\").show()"
   ]
  },
  {
   "cell_type": "code",
   "execution_count": null,
   "id": "203af515",
   "metadata": {},
   "outputs": [],
   "source": []
  },
  {
   "cell_type": "code",
   "execution_count": null,
   "id": "0fd87395",
   "metadata": {},
   "outputs": [],
   "source": []
  },
  {
   "cell_type": "code",
   "execution_count": null,
   "id": "f44fd7f9",
   "metadata": {},
   "outputs": [],
   "source": []
  },
  {
   "cell_type": "code",
   "execution_count": null,
   "id": "4537833c",
   "metadata": {},
   "outputs": [],
   "source": []
  },
  {
   "cell_type": "code",
   "execution_count": null,
   "id": "3da03569",
   "metadata": {},
   "outputs": [],
   "source": []
  },
  {
   "cell_type": "code",
   "execution_count": null,
   "id": "41347d9e",
   "metadata": {},
   "outputs": [],
   "source": []
  },
  {
   "cell_type": "code",
   "execution_count": null,
   "id": "11578d9e",
   "metadata": {},
   "outputs": [],
   "source": []
  },
  {
   "cell_type": "code",
   "execution_count": null,
   "id": "981ccf9b",
   "metadata": {},
   "outputs": [],
   "source": []
  },
  {
   "cell_type": "code",
   "execution_count": null,
   "id": "edd6705f",
   "metadata": {},
   "outputs": [],
   "source": []
  },
  {
   "cell_type": "code",
   "execution_count": null,
   "id": "c6678d09",
   "metadata": {},
   "outputs": [],
   "source": []
  },
  {
   "cell_type": "code",
   "execution_count": null,
   "id": "89814ba7",
   "metadata": {},
   "outputs": [],
   "source": []
  },
  {
   "cell_type": "code",
   "execution_count": null,
   "id": "1c1805f1",
   "metadata": {},
   "outputs": [],
   "source": []
  },
  {
   "cell_type": "code",
   "execution_count": null,
   "id": "2494b86c",
   "metadata": {},
   "outputs": [],
   "source": []
  },
  {
   "cell_type": "code",
   "execution_count": null,
   "id": "ba81c01b",
   "metadata": {},
   "outputs": [],
   "source": []
  },
  {
   "cell_type": "code",
   "execution_count": null,
   "id": "d59794f1",
   "metadata": {},
   "outputs": [],
   "source": []
  },
  {
   "cell_type": "code",
   "execution_count": null,
   "id": "ffd108cb",
   "metadata": {},
   "outputs": [],
   "source": []
  }
 ],
 "metadata": {
  "kernelspec": {
   "display_name": "Python 3 (ipykernel)",
   "language": "python",
   "name": "python3"
  },
  "language_info": {
   "codemirror_mode": {
    "name": "ipython",
    "version": 3
   },
   "file_extension": ".py",
   "mimetype": "text/x-python",
   "name": "python",
   "nbconvert_exporter": "python",
   "pygments_lexer": "ipython3",
   "version": "3.9.7"
  }
 },
 "nbformat": 4,
 "nbformat_minor": 5
}
